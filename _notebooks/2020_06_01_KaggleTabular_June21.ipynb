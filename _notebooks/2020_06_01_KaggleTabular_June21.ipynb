{
  "nbformat": 4,
  "nbformat_minor": 0,
  "metadata": {
    "colab": {
      "name": "2020-06-01-KaggleTabular-June21.ipynb",
      "provenance": [],
      "collapsed_sections": []
    },
    "kernelspec": {
      "name": "python3",
      "display_name": "Python 3"
    },
    "language_info": {
      "name": "python"
    },
    "accelerator": "GPU",
    "widgets": {
      "application/vnd.jupyter.widget-state+json": {
        "4bae5b46de924e5083f92478577e69de": {
          "model_module": "@jupyter-widgets/controls",
          "model_name": "VBoxModel",
          "state": {
            "_view_name": "VBoxView",
            "_dom_classes": [],
            "_model_name": "VBoxModel",
            "_view_module": "@jupyter-widgets/controls",
            "_model_module_version": "1.5.0",
            "_view_count": null,
            "_view_module_version": "1.5.0",
            "box_style": "",
            "layout": "IPY_MODEL_e7408e3b09d04ffa95d9a2cc7505bac4",
            "_model_module": "@jupyter-widgets/controls",
            "children": [
              "IPY_MODEL_cd53787fe07b4294bf23d469e1b193fe",
              "IPY_MODEL_e64cfa6946b34e9ca1dc2daf46671986"
            ]
          }
        },
        "e7408e3b09d04ffa95d9a2cc7505bac4": {
          "model_module": "@jupyter-widgets/base",
          "model_name": "LayoutModel",
          "state": {
            "_view_name": "LayoutView",
            "grid_template_rows": null,
            "right": null,
            "justify_content": null,
            "_view_module": "@jupyter-widgets/base",
            "overflow": null,
            "_model_module_version": "1.2.0",
            "_view_count": null,
            "flex_flow": null,
            "width": null,
            "min_width": null,
            "border": null,
            "align_items": null,
            "bottom": null,
            "_model_module": "@jupyter-widgets/base",
            "top": null,
            "grid_column": null,
            "overflow_y": null,
            "overflow_x": null,
            "grid_auto_flow": null,
            "grid_area": null,
            "grid_template_columns": null,
            "flex": null,
            "_model_name": "LayoutModel",
            "justify_items": null,
            "grid_row": null,
            "max_height": null,
            "align_content": null,
            "visibility": null,
            "align_self": null,
            "height": null,
            "min_height": null,
            "padding": null,
            "grid_auto_rows": null,
            "grid_gap": null,
            "max_width": null,
            "order": null,
            "_view_module_version": "1.2.0",
            "grid_template_areas": null,
            "object_position": null,
            "object_fit": null,
            "grid_auto_columns": null,
            "margin": null,
            "display": null,
            "left": null
          }
        },
        "cd53787fe07b4294bf23d469e1b193fe": {
          "model_module": "@jupyter-widgets/controls",
          "model_name": "LabelModel",
          "state": {
            "_view_name": "LabelView",
            "style": "IPY_MODEL_f82cb8b3fbb84a7e843f98b4892df0d8",
            "_dom_classes": [],
            "description": "",
            "_model_name": "LabelModel",
            "placeholder": "​",
            "_view_module": "@jupyter-widgets/controls",
            "_model_module_version": "1.5.0",
            "value": " 0.01MB of 0.01MB uploaded (0.00MB deduped)\r",
            "_view_count": null,
            "_view_module_version": "1.5.0",
            "description_tooltip": null,
            "_model_module": "@jupyter-widgets/controls",
            "layout": "IPY_MODEL_bc84b3cb13444a058b1e0e149ba3b75d"
          }
        },
        "e64cfa6946b34e9ca1dc2daf46671986": {
          "model_module": "@jupyter-widgets/controls",
          "model_name": "FloatProgressModel",
          "state": {
            "_view_name": "ProgressView",
            "style": "IPY_MODEL_d3d8bfe2d35242ffa484a805b978dafc",
            "_dom_classes": [],
            "description": "",
            "_model_name": "FloatProgressModel",
            "bar_style": "",
            "max": 1,
            "_view_module": "@jupyter-widgets/controls",
            "_model_module_version": "1.5.0",
            "value": 1,
            "_view_count": null,
            "_view_module_version": "1.5.0",
            "orientation": "horizontal",
            "min": 0,
            "description_tooltip": null,
            "_model_module": "@jupyter-widgets/controls",
            "layout": "IPY_MODEL_1adaf66b1dee4d62bee541da8f6cfff1"
          }
        },
        "f82cb8b3fbb84a7e843f98b4892df0d8": {
          "model_module": "@jupyter-widgets/controls",
          "model_name": "DescriptionStyleModel",
          "state": {
            "_view_name": "StyleView",
            "_model_name": "DescriptionStyleModel",
            "description_width": "",
            "_view_module": "@jupyter-widgets/base",
            "_model_module_version": "1.5.0",
            "_view_count": null,
            "_view_module_version": "1.2.0",
            "_model_module": "@jupyter-widgets/controls"
          }
        },
        "bc84b3cb13444a058b1e0e149ba3b75d": {
          "model_module": "@jupyter-widgets/base",
          "model_name": "LayoutModel",
          "state": {
            "_view_name": "LayoutView",
            "grid_template_rows": null,
            "right": null,
            "justify_content": null,
            "_view_module": "@jupyter-widgets/base",
            "overflow": null,
            "_model_module_version": "1.2.0",
            "_view_count": null,
            "flex_flow": null,
            "width": null,
            "min_width": null,
            "border": null,
            "align_items": null,
            "bottom": null,
            "_model_module": "@jupyter-widgets/base",
            "top": null,
            "grid_column": null,
            "overflow_y": null,
            "overflow_x": null,
            "grid_auto_flow": null,
            "grid_area": null,
            "grid_template_columns": null,
            "flex": null,
            "_model_name": "LayoutModel",
            "justify_items": null,
            "grid_row": null,
            "max_height": null,
            "align_content": null,
            "visibility": null,
            "align_self": null,
            "height": null,
            "min_height": null,
            "padding": null,
            "grid_auto_rows": null,
            "grid_gap": null,
            "max_width": null,
            "order": null,
            "_view_module_version": "1.2.0",
            "grid_template_areas": null,
            "object_position": null,
            "object_fit": null,
            "grid_auto_columns": null,
            "margin": null,
            "display": null,
            "left": null
          }
        },
        "d3d8bfe2d35242ffa484a805b978dafc": {
          "model_module": "@jupyter-widgets/controls",
          "model_name": "ProgressStyleModel",
          "state": {
            "_view_name": "StyleView",
            "_model_name": "ProgressStyleModel",
            "description_width": "",
            "_view_module": "@jupyter-widgets/base",
            "_model_module_version": "1.5.0",
            "_view_count": null,
            "_view_module_version": "1.2.0",
            "bar_color": null,
            "_model_module": "@jupyter-widgets/controls"
          }
        },
        "1adaf66b1dee4d62bee541da8f6cfff1": {
          "model_module": "@jupyter-widgets/base",
          "model_name": "LayoutModel",
          "state": {
            "_view_name": "LayoutView",
            "grid_template_rows": null,
            "right": null,
            "justify_content": null,
            "_view_module": "@jupyter-widgets/base",
            "overflow": null,
            "_model_module_version": "1.2.0",
            "_view_count": null,
            "flex_flow": null,
            "width": null,
            "min_width": null,
            "border": null,
            "align_items": null,
            "bottom": null,
            "_model_module": "@jupyter-widgets/base",
            "top": null,
            "grid_column": null,
            "overflow_y": null,
            "overflow_x": null,
            "grid_auto_flow": null,
            "grid_area": null,
            "grid_template_columns": null,
            "flex": null,
            "_model_name": "LayoutModel",
            "justify_items": null,
            "grid_row": null,
            "max_height": null,
            "align_content": null,
            "visibility": null,
            "align_self": null,
            "height": null,
            "min_height": null,
            "padding": null,
            "grid_auto_rows": null,
            "grid_gap": null,
            "max_width": null,
            "order": null,
            "_view_module_version": "1.2.0",
            "grid_template_areas": null,
            "object_position": null,
            "object_fit": null,
            "grid_auto_columns": null,
            "margin": null,
            "display": null,
            "left": null
          }
        }
      }
    }
  },
  "cells": [
    {
      "cell_type": "code",
      "metadata": {
        "colab": {
          "base_uri": "https://localhost:8080/"
        },
        "id": "OOvxEIuNcNV0",
        "outputId": "d4054064-d87d-4f59-8219-aaaa55edebbb"
      },
      "source": [
        "#hide\n",
        "!mkdir ~/.kaggle\n",
        "!touch ~/.kaggle/kaggle.json\n",
        " \n",
        "import json\n",
        " \n",
        "api_token = {\"username\":\"nitinkashyap\",\"key\":\"b0a54ce5183e803af6428bfa11d5c539\"}\n",
        "with open('/root/.kaggle/kaggle.json', 'w') as file:\n",
        "    json.dump(api_token, file)\n",
        " \n",
        "!chmod 600 ~/.kaggle/kaggle.json\n",
        "!kaggle competitions download -c tabular-playground-series-jun-2021"
      ],
      "execution_count": null,
      "outputs": [
        {
          "output_type": "stream",
          "text": [
            "Warning: Looks like you're using an outdated API Version, please consider updating (server 1.5.12 / client 1.5.4)\n",
            "Downloading test.csv.zip to /content\n",
            "  0% 0.00/3.14M [00:00<?, ?B/s]\n",
            "100% 3.14M/3.14M [00:00<00:00, 106MB/s]\n",
            "Downloading train.csv.zip to /content\n",
            " 77% 5.00M/6.49M [00:00<00:00, 43.3MB/s]\n",
            "100% 6.49M/6.49M [00:00<00:00, 41.5MB/s]\n",
            "Downloading sample_submission.csv.zip to /content\n",
            "  0% 0.00/264k [00:00<?, ?B/s]\n",
            "100% 264k/264k [00:00<00:00, 81.9MB/s]\n"
          ],
          "name": "stdout"
        }
      ]
    },
    {
      "cell_type": "code",
      "metadata": {
        "id": "-7g4oznXDe3z"
      },
      "source": [
        "from sklearn.model_selection import StratifiedKFold\n",
        "\n",
        "import pandas as pd\n",
        "from sklearn.model_selection import train_test_split\n",
        "from sklearn.metrics import log_loss\n",
        "\n",
        "import numpy as np\n",
        "import seaborn as sns"
      ],
      "execution_count": null,
      "outputs": []
    },
    {
      "cell_type": "code",
      "metadata": {
        "id": "BeNMnfxacUwr"
      },
      "source": [
        "train = pd.read_csv('train.csv.zip')\n",
        "test = pd.read_csv('test.csv.zip') \n",
        "sample_submission = pd.read_csv('sample_submission.csv.zip')\n",
        "\n",
        "train.target = pd.Categorical(train.target)\n",
        "train['target'] = train.target.cat.codes\n",
        "\n",
        "indep_vars = ['feature_' + str(i) for i in range(75)]\n",
        "dep_var = ['target']"
      ],
      "execution_count": null,
      "outputs": []
    },
    {
      "cell_type": "code",
      "metadata": {
        "colab": {
          "base_uri": "https://localhost:8080/"
        },
        "id": "6RCUmgv7e-kG",
        "outputId": "1a7b7247-82b7-4e42-e7ab-0f46d58cf1c1"
      },
      "source": [
        "\n",
        "!pip install optuna\n",
        "!pip install catboost\n",
        "\n",
        "!pip install shap\n",
        "\n",
        "from catboost import Pool, CatBoostClassifier\n",
        "\n",
        "import catboost\n",
        "import optuna\n",
        "import shap"
      ],
      "execution_count": null,
      "outputs": [
        {
          "output_type": "stream",
          "text": [
            "Collecting optuna\n",
            "\u001b[?25l  Downloading https://files.pythonhosted.org/packages/1a/18/b49ca91cf592747e19f2d333c2a86cd7c81895b922a5a09adf6335471576/optuna-2.8.0-py3-none-any.whl (301kB)\n",
            "\r\u001b[K     |█                               | 10kB 23.5MB/s eta 0:00:01\r\u001b[K     |██▏                             | 20kB 15.0MB/s eta 0:00:01\r\u001b[K     |███▎                            | 30kB 13.4MB/s eta 0:00:01\r\u001b[K     |████▍                           | 40kB 12.6MB/s eta 0:00:01\r\u001b[K     |█████▍                          | 51kB 7.4MB/s eta 0:00:01\r\u001b[K     |██████▌                         | 61kB 8.7MB/s eta 0:00:01\r\u001b[K     |███████▋                        | 71kB 8.2MB/s eta 0:00:01\r\u001b[K     |████████▊                       | 81kB 9.0MB/s eta 0:00:01\r\u001b[K     |█████████▊                      | 92kB 8.7MB/s eta 0:00:01\r\u001b[K     |██████████▉                     | 102kB 7.3MB/s eta 0:00:01\r\u001b[K     |████████████                    | 112kB 7.3MB/s eta 0:00:01\r\u001b[K     |█████████████                   | 122kB 7.3MB/s eta 0:00:01\r\u001b[K     |██████████████                  | 133kB 7.3MB/s eta 0:00:01\r\u001b[K     |███████████████▏                | 143kB 7.3MB/s eta 0:00:01\r\u001b[K     |████████████████▎               | 153kB 7.3MB/s eta 0:00:01\r\u001b[K     |█████████████████▍              | 163kB 7.3MB/s eta 0:00:01\r\u001b[K     |██████████████████▌             | 174kB 7.3MB/s eta 0:00:01\r\u001b[K     |███████████████████▌            | 184kB 7.3MB/s eta 0:00:01\r\u001b[K     |████████████████████▋           | 194kB 7.3MB/s eta 0:00:01\r\u001b[K     |█████████████████████▊          | 204kB 7.3MB/s eta 0:00:01\r\u001b[K     |██████████████████████▉         | 215kB 7.3MB/s eta 0:00:01\r\u001b[K     |███████████████████████▉        | 225kB 7.3MB/s eta 0:00:01\r\u001b[K     |█████████████████████████       | 235kB 7.3MB/s eta 0:00:01\r\u001b[K     |██████████████████████████      | 245kB 7.3MB/s eta 0:00:01\r\u001b[K     |███████████████████████████▏    | 256kB 7.3MB/s eta 0:00:01\r\u001b[K     |████████████████████████████▏   | 266kB 7.3MB/s eta 0:00:01\r\u001b[K     |█████████████████████████████▎  | 276kB 7.3MB/s eta 0:00:01\r\u001b[K     |██████████████████████████████▍ | 286kB 7.3MB/s eta 0:00:01\r\u001b[K     |███████████████████████████████▌| 296kB 7.3MB/s eta 0:00:01\r\u001b[K     |████████████████████████████████| 307kB 7.3MB/s \n",
            "\u001b[?25hRequirement already satisfied: tqdm in /usr/local/lib/python3.7/dist-packages (from optuna) (4.41.1)\n",
            "Requirement already satisfied: sqlalchemy>=1.1.0 in /usr/local/lib/python3.7/dist-packages (from optuna) (1.4.18)\n",
            "Collecting colorlog\n",
            "  Downloading https://files.pythonhosted.org/packages/32/e6/e9ddc6fa1104fda718338b341e4b3dc31cd8039ab29e52fc73b508515361/colorlog-5.0.1-py2.py3-none-any.whl\n",
            "Collecting cliff\n",
            "\u001b[?25l  Downloading https://files.pythonhosted.org/packages/87/11/aea1cacbd4cf8262809c4d6f95dcb3f2802594de1f51c5bd454d69bf15c5/cliff-3.8.0-py3-none-any.whl (80kB)\n",
            "\u001b[K     |████████████████████████████████| 81kB 9.9MB/s \n",
            "\u001b[?25hCollecting alembic\n",
            "\u001b[?25l  Downloading https://files.pythonhosted.org/packages/d5/80/ef186e599a57d0e4cb78fc76e0bfc2e6953fa9716b2a5cf2de0117ed8eb5/alembic-1.6.5-py2.py3-none-any.whl (164kB)\n",
            "\u001b[K     |████████████████████████████████| 174kB 21.2MB/s \n",
            "\u001b[?25hRequirement already satisfied: numpy in /usr/local/lib/python3.7/dist-packages (from optuna) (1.19.5)\n",
            "Collecting cmaes>=0.8.2\n",
            "  Downloading https://files.pythonhosted.org/packages/01/1f/43b01223a0366171f474320c6e966c39a11587287f098a5f09809b45e05f/cmaes-0.8.2-py3-none-any.whl\n",
            "Requirement already satisfied: scipy!=1.4.0 in /usr/local/lib/python3.7/dist-packages (from optuna) (1.4.1)\n",
            "Requirement already satisfied: packaging>=20.0 in /usr/local/lib/python3.7/dist-packages (from optuna) (20.9)\n",
            "Requirement already satisfied: greenlet!=0.4.17; python_version >= \"3\" in /usr/local/lib/python3.7/dist-packages (from sqlalchemy>=1.1.0->optuna) (1.1.0)\n",
            "Requirement already satisfied: importlib-metadata; python_version < \"3.8\" in /usr/local/lib/python3.7/dist-packages (from sqlalchemy>=1.1.0->optuna) (4.5.0)\n",
            "Collecting cmd2>=1.0.0\n",
            "\u001b[?25l  Downloading https://files.pythonhosted.org/packages/e3/6a/e929ec70ca05c5962f6541ef29fb9c207dd41f0f2333680fa39f44fa4357/cmd2-2.1.1-py3-none-any.whl (140kB)\n",
            "\u001b[K     |████████████████████████████████| 143kB 25.9MB/s \n",
            "\u001b[?25hRequirement already satisfied: PrettyTable>=0.7.2 in /usr/local/lib/python3.7/dist-packages (from cliff->optuna) (2.1.0)\n",
            "Collecting stevedore>=2.0.1\n",
            "\u001b[?25l  Downloading https://files.pythonhosted.org/packages/d4/49/b602307aeac3df3384ff1fcd05da9c0376c622a6c48bb5325f28ab165b57/stevedore-3.3.0-py3-none-any.whl (49kB)\n",
            "\u001b[K     |████████████████████████████████| 51kB 8.7MB/s \n",
            "\u001b[?25hRequirement already satisfied: PyYAML>=3.12 in /usr/local/lib/python3.7/dist-packages (from cliff->optuna) (3.13)\n",
            "Collecting pbr!=2.1.0,>=2.0.0\n",
            "\u001b[?25l  Downloading https://files.pythonhosted.org/packages/18/e0/1d4702dd81121d04a477c272d47ee5b6bc970d1a0990b11befa275c55cf2/pbr-5.6.0-py2.py3-none-any.whl (111kB)\n",
            "\u001b[K     |████████████████████████████████| 112kB 27.4MB/s \n",
            "\u001b[?25hRequirement already satisfied: pyparsing>=2.1.0 in /usr/local/lib/python3.7/dist-packages (from cliff->optuna) (2.4.7)\n",
            "Collecting Mako\n",
            "\u001b[?25l  Downloading https://files.pythonhosted.org/packages/f3/54/dbc07fbb20865d3b78fdb7cf7fa713e2cba4f87f71100074ef2dc9f9d1f7/Mako-1.1.4-py2.py3-none-any.whl (75kB)\n",
            "\u001b[K     |████████████████████████████████| 81kB 10.3MB/s \n",
            "\u001b[?25hCollecting python-editor>=0.3\n",
            "  Downloading https://files.pythonhosted.org/packages/c6/d3/201fc3abe391bbae6606e6f1d598c15d367033332bd54352b12f35513717/python_editor-1.0.4-py3-none-any.whl\n",
            "Requirement already satisfied: python-dateutil in /usr/local/lib/python3.7/dist-packages (from alembic->optuna) (2.8.1)\n",
            "Requirement already satisfied: zipp>=0.5 in /usr/local/lib/python3.7/dist-packages (from importlib-metadata; python_version < \"3.8\"->sqlalchemy>=1.1.0->optuna) (3.4.1)\n",
            "Requirement already satisfied: typing-extensions>=3.6.4; python_version < \"3.8\" in /usr/local/lib/python3.7/dist-packages (from importlib-metadata; python_version < \"3.8\"->sqlalchemy>=1.1.0->optuna) (3.7.4.3)\n",
            "Requirement already satisfied: wcwidth>=0.1.7 in /usr/local/lib/python3.7/dist-packages (from cmd2>=1.0.0->cliff->optuna) (0.2.5)\n",
            "Requirement already satisfied: attrs>=16.3.0 in /usr/local/lib/python3.7/dist-packages (from cmd2>=1.0.0->cliff->optuna) (21.2.0)\n",
            "Collecting colorama>=0.3.7\n",
            "  Downloading https://files.pythonhosted.org/packages/44/98/5b86278fbbf250d239ae0ecb724f8572af1c91f4a11edf4d36a206189440/colorama-0.4.4-py2.py3-none-any.whl\n",
            "Collecting pyperclip>=1.6\n",
            "  Downloading https://files.pythonhosted.org/packages/a7/2c/4c64579f847bd5d539803c8b909e54ba087a79d01bb3aba433a95879a6c5/pyperclip-1.8.2.tar.gz\n",
            "Requirement already satisfied: MarkupSafe>=0.9.2 in /usr/local/lib/python3.7/dist-packages (from Mako->alembic->optuna) (2.0.1)\n",
            "Requirement already satisfied: six>=1.5 in /usr/local/lib/python3.7/dist-packages (from python-dateutil->alembic->optuna) (1.15.0)\n",
            "Building wheels for collected packages: pyperclip\n",
            "  Building wheel for pyperclip (setup.py) ... \u001b[?25l\u001b[?25hdone\n",
            "  Created wheel for pyperclip: filename=pyperclip-1.8.2-cp37-none-any.whl size=11136 sha256=25736bd654d36a09e93fd30cb6c095cfb875f32371c32cd94952e9f6e71de56e\n",
            "  Stored in directory: /root/.cache/pip/wheels/25/af/b8/3407109267803f4015e1ee2ff23be0c8c19ce4008665931ee1\n",
            "Successfully built pyperclip\n",
            "Installing collected packages: colorlog, colorama, pyperclip, cmd2, pbr, stevedore, cliff, Mako, python-editor, alembic, cmaes, optuna\n",
            "Successfully installed Mako-1.1.4 alembic-1.6.5 cliff-3.8.0 cmaes-0.8.2 cmd2-2.1.1 colorama-0.4.4 colorlog-5.0.1 optuna-2.8.0 pbr-5.6.0 pyperclip-1.8.2 python-editor-1.0.4 stevedore-3.3.0\n",
            "Collecting catboost\n",
            "\u001b[?25l  Downloading https://files.pythonhosted.org/packages/5a/41/24e14322b9986cf72a8763e0a0a69cc256cf963cf9502c8f0044a62c1ae8/catboost-0.26-cp37-none-manylinux1_x86_64.whl (69.2MB)\n",
            "\u001b[K     |████████████████████████████████| 69.2MB 38kB/s \n",
            "\u001b[?25hRequirement already satisfied: scipy in /usr/local/lib/python3.7/dist-packages (from catboost) (1.4.1)\n",
            "Requirement already satisfied: six in /usr/local/lib/python3.7/dist-packages (from catboost) (1.15.0)\n",
            "Requirement already satisfied: pandas>=0.24.0 in /usr/local/lib/python3.7/dist-packages (from catboost) (1.1.5)\n",
            "Requirement already satisfied: graphviz in /usr/local/lib/python3.7/dist-packages (from catboost) (0.10.1)\n",
            "Requirement already satisfied: matplotlib in /usr/local/lib/python3.7/dist-packages (from catboost) (3.2.2)\n",
            "Requirement already satisfied: numpy>=1.16.0 in /usr/local/lib/python3.7/dist-packages (from catboost) (1.19.5)\n",
            "Requirement already satisfied: plotly in /usr/local/lib/python3.7/dist-packages (from catboost) (4.4.1)\n",
            "Requirement already satisfied: python-dateutil>=2.7.3 in /usr/local/lib/python3.7/dist-packages (from pandas>=0.24.0->catboost) (2.8.1)\n",
            "Requirement already satisfied: pytz>=2017.2 in /usr/local/lib/python3.7/dist-packages (from pandas>=0.24.0->catboost) (2018.9)\n",
            "Requirement already satisfied: pyparsing!=2.0.4,!=2.1.2,!=2.1.6,>=2.0.1 in /usr/local/lib/python3.7/dist-packages (from matplotlib->catboost) (2.4.7)\n",
            "Requirement already satisfied: kiwisolver>=1.0.1 in /usr/local/lib/python3.7/dist-packages (from matplotlib->catboost) (1.3.1)\n",
            "Requirement already satisfied: cycler>=0.10 in /usr/local/lib/python3.7/dist-packages (from matplotlib->catboost) (0.10.0)\n",
            "Requirement already satisfied: retrying>=1.3.3 in /usr/local/lib/python3.7/dist-packages (from plotly->catboost) (1.3.3)\n",
            "Installing collected packages: catboost\n",
            "Successfully installed catboost-0.26\n",
            "Collecting shap\n",
            "\u001b[?25l  Downloading https://files.pythonhosted.org/packages/b9/f4/c5b95cddae15be80f8e58b25edceca105aa83c0b8c86a1edad24a6af80d3/shap-0.39.0.tar.gz (356kB)\n",
            "\u001b[K     |████████████████████████████████| 358kB 8.1MB/s \n",
            "\u001b[?25hRequirement already satisfied: numpy in /usr/local/lib/python3.7/dist-packages (from shap) (1.19.5)\n",
            "Requirement already satisfied: scipy in /usr/local/lib/python3.7/dist-packages (from shap) (1.4.1)\n",
            "Requirement already satisfied: scikit-learn in /usr/local/lib/python3.7/dist-packages (from shap) (0.22.2.post1)\n",
            "Requirement already satisfied: pandas in /usr/local/lib/python3.7/dist-packages (from shap) (1.1.5)\n",
            "Requirement already satisfied: tqdm>4.25.0 in /usr/local/lib/python3.7/dist-packages (from shap) (4.41.1)\n",
            "Collecting slicer==0.0.7\n",
            "  Downloading https://files.pythonhosted.org/packages/78/c2/b3f55dfdb8af9812fdb9baf70cacf3b9e82e505b2bd4324d588888b81202/slicer-0.0.7-py3-none-any.whl\n",
            "Requirement already satisfied: numba in /usr/local/lib/python3.7/dist-packages (from shap) (0.51.2)\n",
            "Requirement already satisfied: cloudpickle in /usr/local/lib/python3.7/dist-packages (from shap) (1.3.0)\n",
            "Requirement already satisfied: joblib>=0.11 in /usr/local/lib/python3.7/dist-packages (from scikit-learn->shap) (1.0.1)\n",
            "Requirement already satisfied: pytz>=2017.2 in /usr/local/lib/python3.7/dist-packages (from pandas->shap) (2018.9)\n",
            "Requirement already satisfied: python-dateutil>=2.7.3 in /usr/local/lib/python3.7/dist-packages (from pandas->shap) (2.8.1)\n",
            "Requirement already satisfied: llvmlite<0.35,>=0.34.0.dev0 in /usr/local/lib/python3.7/dist-packages (from numba->shap) (0.34.0)\n",
            "Requirement already satisfied: setuptools in /usr/local/lib/python3.7/dist-packages (from numba->shap) (57.0.0)\n",
            "Requirement already satisfied: six>=1.5 in /usr/local/lib/python3.7/dist-packages (from python-dateutil>=2.7.3->pandas->shap) (1.15.0)\n",
            "Building wheels for collected packages: shap\n",
            "  Building wheel for shap (setup.py) ... \u001b[?25l\u001b[?25hdone\n",
            "  Created wheel for shap: filename=shap-0.39.0-cp37-cp37m-linux_x86_64.whl size=491624 sha256=8a08a0f333a477e798fadfceb652d10f8a38b8849b9354c5125b5ed004b99867\n",
            "  Stored in directory: /root/.cache/pip/wheels/15/27/f5/a8ab9da52fd159aae6477b5ede6eaaec69fd130fa0fa59f283\n",
            "Successfully built shap\n",
            "Installing collected packages: slicer, shap\n",
            "Successfully installed shap-0.39.0 slicer-0.0.7\n"
          ],
          "name": "stdout"
        }
      ]
    },
    {
      "cell_type": "code",
      "metadata": {
        "colab": {
          "base_uri": "https://localhost:8080/"
        },
        "id": "2Pj4loBmDho6",
        "outputId": "e0552485-fa51-413b-d537-8155988ff03c"
      },
      "source": [
        "train.shape, test.shape"
      ],
      "execution_count": null,
      "outputs": [
        {
          "output_type": "execute_result",
          "data": {
            "text/plain": [
              "((200000, 77), (100000, 76))"
            ]
          },
          "metadata": {
            "tags": []
          },
          "execution_count": 17
        }
      ]
    },
    {
      "cell_type": "code",
      "metadata": {
        "colab": {
          "base_uri": "https://localhost:8080/",
          "height": 296
        },
        "id": "kb-QcMQ9d9t0",
        "outputId": "1840fd2a-ff66-45c9-fd87-83b50189ebe5"
      },
      "source": [
        "sns.countplot(x='target', data=train)"
      ],
      "execution_count": null,
      "outputs": [
        {
          "output_type": "execute_result",
          "data": {
            "text/plain": [
              "<matplotlib.axes._subplots.AxesSubplot at 0x7f040cd56390>"
            ]
          },
          "metadata": {
            "tags": []
          },
          "execution_count": 4
        },
        {
          "output_type": "display_data",
          "data": {
            "image/png": "[encoded data removed]",
            "text/plain": [
              "<Figure size 432x288 with 1 Axes>"
            ]
          },
          "metadata": {
            "tags": [],
            "needs_background": "light"
          }
        }
      ]
    },
    {
      "cell_type": "code",
      "metadata": {
        "id": "EtqWNrgSdfOp"
      },
      "source": [
        "def train_models(df, columns, cat_features, random_state, n_splits):\n",
        "\n",
        "    models = []\n",
        "    folds = StratifiedKFold(n_splits=n_splits, shuffle=True,\n",
        "                            random_state=random_state)  # create folds\n",
        "    X_train = df[columns]\n",
        "    y_train = df['target']\n",
        "    for n_fold, (train_idx, valid_idx) in enumerate(folds.split(X_train,  y_train)):\n",
        "        print('Fold {}/{}'.format(n_fold, n_splits))\n",
        "        train_X, train_y = X_train.iloc[train_idx], y_train.iloc[train_idx]\n",
        "        valid_X, valid_y = X_train.iloc[valid_idx], y_train.iloc[valid_idx]\n",
        "        dataset = Pool(train_X, train_y, cat_features)\n",
        "        evalset = Pool(valid_X, valid_y, cat_features)\n",
        "        model = CatBoostClassifier(\n",
        "            task_type=\"GPU\",\n",
        "            depth=4,\n",
        "            max_ctr_complexity=15,\n",
        "            # border_count=1024,\n",
        "            iterations=50000,\n",
        "            od_wait=1000, od_type='Iter',\n",
        "            # l2_leaf_reg=0.01,\n",
        "            learning_rate=0.01,\n",
        "            min_data_in_leaf=1,\n",
        "            use_best_model=True,\n",
        "            loss_function='MultiClass'\n",
        "\n",
        "        )\n",
        "        model.fit(dataset, plot=False, verbose=500, eval_set=evalset)        \n",
        "        _record = {\n",
        "            'model': model,\n",
        "        }\n",
        "        models.append(_record)\n",
        "\n",
        "    return models"
      ],
      "execution_count": null,
      "outputs": []
    },
    {
      "cell_type": "code",
      "metadata": {
        "colab": {
          "base_uri": "https://localhost:8080/"
        },
        "id": "7B5LGzi1mSwA",
        "outputId": "4d34a20a-e61a-4937-8976-57577933b652"
      },
      "source": [
        "train.shape[0]/10"
      ],
      "execution_count": null,
      "outputs": [
        {
          "output_type": "execute_result",
          "data": {
            "text/plain": [
              "20000.0"
            ]
          },
          "metadata": {
            "tags": []
          },
          "execution_count": 7
        }
      ]
    },
    {
      "cell_type": "code",
      "metadata": {
        "id": "6ZJ8uCIAdlry"
      },
      "source": [
        "models = train_models(df=train, columns=indep_vars, cat_features=indep_vars, random_state=43, n_splits=20)"
      ],
      "execution_count": null,
      "outputs": []
    },
    {
      "cell_type": "code",
      "metadata": {
        "colab": {
          "base_uri": "https://localhost:8080/"
        },
        "id": "Nx6eSvNCk92X",
        "outputId": "aa929bc8-d141-453b-dac9-3ec66b811763"
      },
      "source": [
        "train.groupby('target').count()['id']*100/train.shape[0]"
      ],
      "execution_count": null,
      "outputs": [
        {
          "output_type": "execute_result",
          "data": {
            "text/plain": [
              "target\n",
              "Class_1     4.5590\n",
              "Class_2    12.2155\n",
              "Class_3     7.3990\n",
              "Class_4     2.3520\n",
              "Class_5     1.5320\n",
              "Class_6    25.9055\n",
              "Class_7     7.3845\n",
              "Class_8    25.8815\n",
              "Class_9    12.7710\n",
              "Name: id, dtype: float64"
            ]
          },
          "metadata": {
            "tags": []
          },
          "execution_count": 9
        }
      ]
    },
    {
      "cell_type": "code",
      "metadata": {
        "id": "T5AOTK4mk0ow"
      },
      "source": [
        "X_test = test[indep_vars]"
      ],
      "execution_count": null,
      "outputs": []
    },
    {
      "cell_type": "code",
      "metadata": {
        "id": "TstWwJcUdljt"
      },
      "source": [
        "def submissionFile(modelZ, generate_csv=True):   \n",
        "    probabilities = pd.DataFrame(modelZ.predict_proba(X_test), columns=['Class_1','Class_2','Class_3','Class_4', 'Class_5', 'Class_6', 'Class_7', 'Class_8', 'Class_9'])\n",
        "    mySubmission = pd.DataFrame()\n",
        "    mySubmission['id'] = test['id']\n",
        "    mySubmission['Class_1'] = probabilities['Class_1']\n",
        "    mySubmission['Class_2'] = probabilities['Class_2']\n",
        "    mySubmission['Class_3'] = probabilities['Class_3']\n",
        "    mySubmission['Class_4'] = probabilities['Class_4']\n",
        "    mySubmission['Class_5'] = probabilities['Class_5']\n",
        "    mySubmission['Class_6'] = probabilities['Class_6']\n",
        "    mySubmission['Class_7'] = probabilities['Class_7']\n",
        "    mySubmission['Class_8'] = probabilities['Class_8']\n",
        "    mySubmission['Class_9'] = probabilities['Class_9']\n",
        "    \n",
        "    if generate_csv:\n",
        "        mySubmission.to_csv('submission.csv', index=False)\n",
        "    return mySubmission"
      ],
      "execution_count": null,
      "outputs": []
    },
    {
      "cell_type": "code",
      "metadata": {
        "colab": {
          "base_uri": "https://localhost:8080/"
        },
        "id": "T9zU7nMwdlet",
        "outputId": "47e30075-1617-4b11-b7d4-0154a817b9b8"
      },
      "source": [
        "#models[2]['model'].predict_proba(X_train)\n",
        "submissionFile(models[3]['model'])\n",
        "!kaggle competitions submit -c tabular-playground-series-jun-2021 -f submission.csv -m \"Sample-May-Pipeline\""
      ],
      "execution_count": null,
      "outputs": [
        {
          "output_type": "stream",
          "text": [
            "Warning: Looks like you're using an outdated API Version, please consider updating (server 1.5.12 / client 1.5.4)\n",
            "100% 17.9M/17.9M [00:00<00:00, 36.3MB/s]\n",
            "Successfully submitted to Tabular Playground Series - Jun 2021"
          ],
          "name": "stdout"
        }
      ]
    },
    {
      "cell_type": "markdown",
      "metadata": {
        "id": "tWayh5aRRRJF"
      },
      "source": [
        "### Hyper parameter tuning using Optuna"
      ]
    },
    {
      "cell_type": "code",
      "metadata": {
        "colab": {
          "base_uri": "https://localhost:8080/"
        },
        "id": "NuzmR8giS0hv",
        "outputId": "1027d5a6-0c61-4e3a-a1a1-25ed7bee4bf7"
      },
      "source": [
        "train.columns"
      ],
      "execution_count": null,
      "outputs": [
        {
          "output_type": "execute_result",
          "data": {
            "text/plain": [
              "Index(['id', 'feature_0', 'feature_1', 'feature_2', 'feature_3', 'feature_4',\n",
              "       'feature_5', 'feature_6', 'feature_7', 'feature_8', 'feature_9',\n",
              "       'feature_10', 'feature_11', 'feature_12', 'feature_13', 'feature_14',\n",
              "       'feature_15', 'feature_16', 'feature_17', 'feature_18', 'feature_19',\n",
              "       'feature_20', 'feature_21', 'feature_22', 'feature_23', 'feature_24',\n",
              "       'feature_25', 'feature_26', 'feature_27', 'feature_28', 'feature_29',\n",
              "       'feature_30', 'feature_31', 'feature_32', 'feature_33', 'feature_34',\n",
              "       'feature_35', 'feature_36', 'feature_37', 'feature_38', 'feature_39',\n",
              "       'feature_40', 'feature_41', 'feature_42', 'feature_43', 'feature_44',\n",
              "       'feature_45', 'feature_46', 'feature_47', 'feature_48', 'feature_49',\n",
              "       'feature_50', 'feature_51', 'feature_52', 'feature_53', 'feature_54',\n",
              "       'feature_55', 'feature_56', 'feature_57', 'feature_58', 'feature_59',\n",
              "       'feature_60', 'feature_61', 'feature_62', 'feature_63', 'feature_64',\n",
              "       'feature_65', 'feature_66', 'feature_67', 'feature_68', 'feature_69',\n",
              "       'feature_70', 'feature_71', 'feature_72', 'feature_73', 'feature_74',\n",
              "       'target'],\n",
              "      dtype='object')"
            ]
          },
          "metadata": {
            "tags": []
          },
          "execution_count": 6
        }
      ]
    },
    {
      "cell_type": "code",
      "metadata": {
        "id": "oiqCjqID-6Wc"
      },
      "source": [
        "#X=train.drop(['target','id'],axis=1)\n",
        "X = train\n",
        "#Y=train['target']\n",
        "Y = y"
      ],
      "execution_count": null,
      "outputs": []
    },
    {
      "cell_type": "code",
      "metadata": {
        "id": "yYQozqcC-AZr"
      },
      "source": [
        "def objective(trial,data=X,target=Y):\n",
        "    X_train, X_test, y_train, y_test = train_test_split(data, target, test_size=0.3,random_state=42)\n",
        "    params = {'iterations':trial.suggest_int(\"iterations\", 7000, 25000),\n",
        "            'od_wait':trial.suggest_int('od_wait', 1500, 3000),\n",
        "            'loss_function':'MultiClass',\n",
        "            'task_type':\"GPU\",\n",
        "            'eval_metric':'MultiClass',\n",
        "            'leaf_estimation_method':'Newton',\n",
        "            'bootstrap_type': 'Bernoulli',\n",
        "            'learning_rate' : trial.suggest_uniform('learning_rate',0.001,0.1),\n",
        "            'reg_lambda': trial.suggest_uniform('reg_lambda',50,100),\n",
        "            'subsample': trial.suggest_uniform('subsample',0,1),\n",
        "            'random_strength': trial.suggest_uniform('random_strength',18,30),\n",
        "            'depth': trial.suggest_int('depth',3,6),\n",
        "            'min_data_in_leaf': trial.suggest_int('min_data_in_leaf',10,30),\n",
        "            'leaf_estimation_iterations': trial.suggest_int('leaf_estimation_iterations',2,6),\n",
        "                }\n",
        "    model = CatBoostClassifier(**params)  \n",
        "    model.fit(X_train,y_train,eval_set=[(X_test,y_test)], early_stopping_rounds=150, verbose=False)\n",
        "        \n",
        "    y_preds = model.predict_proba(X_test)\n",
        "\n",
        "\n",
        "    log_loss_multi = log_loss(y_test, y_preds)\n",
        "    \n",
        "    return log_loss_multi"
      ],
      "execution_count": null,
      "outputs": []
    },
    {
      "cell_type": "code",
      "metadata": {
        "colab": {
          "base_uri": "https://localhost:8080/"
        },
        "id": "HOK_2hqO-cL9",
        "outputId": "f946f617-7e8d-44df-a2e3-e2d5a39a05de"
      },
      "source": [
        "OPTUNA_OPTIMIZATION = True\n",
        "\n",
        "\n",
        "study = optuna.create_study(direction='minimize')\n",
        "study.optimize(objective, n_trials=25)\n",
        "print('Number of finished trials:', len(study.trials))\n",
        "print('Best trial: score {}, params {}'.format(study.best_trial.value, study.best_trial.params))"
      ],
      "execution_count": null,
      "outputs": [
        {
          "output_type": "stream",
          "text": [
            "\u001b[32m[I 2021-06-24 11:31:52,715]\u001b[0m A new study created in memory with name: no-name-51ea7dd7-c8d2-4705-942e-90c8d8c2297b\u001b[0m\n",
            "Custom logger is already specified. Specify more than one logger at same time is not thread safe.\u001b[32m[I 2021-06-24 11:32:06,212]\u001b[0m Trial 0 finished with value: 1.7475517290197657 and parameters: {'iterations': 22081, 'od_wait': 2890, 'learning_rate': 0.0523585535392492, 'reg_lambda': 53.30046637750339, 'subsample': 0.8322426285324465, 'random_strength': 25.383248292425595, 'depth': 3, 'min_data_in_leaf': 17, 'leaf_estimation_iterations': 4}. Best is trial 0 with value: 1.7475517290197657.\u001b[0m\n",
            "\u001b[32m[I 2021-06-24 11:32:32,838]\u001b[0m Trial 1 finished with value: 1.746530009869069 and parameters: {'iterations': 16107, 'od_wait': 1934, 'learning_rate': 0.020694951401143857, 'reg_lambda': 76.40295318744504, 'subsample': 0.5779226659582111, 'random_strength': 18.674100622696255, 'depth': 4, 'min_data_in_leaf': 17, 'leaf_estimation_iterations': 3}. Best is trial 1 with value: 1.746530009869069.\u001b[0m\n",
            "\u001b[32m[I 2021-06-24 11:33:11,831]\u001b[0m Trial 2 finished with value: 1.746400371649169 and parameters: {'iterations': 23051, 'od_wait': 2708, 'learning_rate': 0.013266322205507153, 'reg_lambda': 68.80768412391788, 'subsample': 0.5917359474274496, 'random_strength': 25.9671120082771, 'depth': 4, 'min_data_in_leaf': 20, 'leaf_estimation_iterations': 3}. Best is trial 2 with value: 1.746400371649169.\u001b[0m\n",
            "\u001b[32m[I 2021-06-24 11:33:20,339]\u001b[0m Trial 3 finished with value: 1.748109944775364 and parameters: {'iterations': 7837, 'od_wait': 2024, 'learning_rate': 0.08940487435096595, 'reg_lambda': 94.49408043431762, 'subsample': 0.033697771735656246, 'random_strength': 21.96373022691814, 'depth': 5, 'min_data_in_leaf': 10, 'leaf_estimation_iterations': 5}. Best is trial 2 with value: 1.746400371649169.\u001b[0m\n",
            "\u001b[32m[I 2021-06-24 11:33:31,814]\u001b[0m Trial 4 finished with value: 1.7465947826600974 and parameters: {'iterations': 8561, 'od_wait': 2482, 'learning_rate': 0.051847639930613254, 'reg_lambda': 88.8265560299443, 'subsample': 0.8561444452479751, 'random_strength': 27.327853362663912, 'depth': 5, 'min_data_in_leaf': 28, 'leaf_estimation_iterations': 3}. Best is trial 2 with value: 1.746400371649169.\u001b[0m\n",
            "\u001b[32m[I 2021-06-24 11:33:50,273]\u001b[0m Trial 5 finished with value: 1.7474099656786515 and parameters: {'iterations': 10633, 'od_wait': 2781, 'learning_rate': 0.03558483877482585, 'reg_lambda': 98.29738704750187, 'subsample': 0.0016725576626520633, 'random_strength': 25.28373658367917, 'depth': 5, 'min_data_in_leaf': 30, 'leaf_estimation_iterations': 6}. Best is trial 2 with value: 1.746400371649169.\u001b[0m\n",
            "\u001b[32m[I 2021-06-24 11:34:55,381]\u001b[0m Trial 6 finished with value: 1.7458479262869728 and parameters: {'iterations': 21137, 'od_wait': 1612, 'learning_rate': 0.009700927493295129, 'reg_lambda': 75.30243026925147, 'subsample': 0.6106777045552494, 'random_strength': 21.22381681406639, 'depth': 5, 'min_data_in_leaf': 27, 'leaf_estimation_iterations': 6}. Best is trial 6 with value: 1.7458479262869728.\u001b[0m\n",
            "\u001b[32m[I 2021-06-24 11:35:06,131]\u001b[0m Trial 7 finished with value: 1.7473726389629178 and parameters: {'iterations': 12020, 'od_wait': 1538, 'learning_rate': 0.05846745451734049, 'reg_lambda': 66.74096285230748, 'subsample': 0.5152141740529858, 'random_strength': 18.086700126519453, 'depth': 3, 'min_data_in_leaf': 13, 'leaf_estimation_iterations': 2}. Best is trial 6 with value: 1.7458479262869728.\u001b[0m\n",
            "\u001b[32m[I 2021-06-24 11:35:13,600]\u001b[0m Trial 8 finished with value: 1.7473827678729799 and parameters: {'iterations': 12637, 'od_wait': 2891, 'learning_rate': 0.08608747207630392, 'reg_lambda': 52.33175708629835, 'subsample': 0.8333242356914867, 'random_strength': 25.501737215394584, 'depth': 4, 'min_data_in_leaf': 28, 'leaf_estimation_iterations': 4}. Best is trial 6 with value: 1.7458479262869728.\u001b[0m\n",
            "\u001b[32m[I 2021-06-24 11:35:55,916]\u001b[0m Trial 9 finished with value: 1.7452546603418322 and parameters: {'iterations': 17673, 'od_wait': 2363, 'learning_rate': 0.014174736490140817, 'reg_lambda': 63.91819499977507, 'subsample': 0.15103934369387173, 'random_strength': 20.629442387538404, 'depth': 6, 'min_data_in_leaf': 20, 'leaf_estimation_iterations': 2}. Best is trial 9 with value: 1.7452546603418322.\u001b[0m\n",
            "\u001b[32m[I 2021-06-24 11:39:28,423]\u001b[0m Trial 10 finished with value: 1.7454383570512968 and parameters: {'iterations': 17665, 'od_wait': 2344, 'learning_rate': 0.0016874297825336618, 'reg_lambda': 61.262675395241985, 'subsample': 0.22562898282554636, 'random_strength': 29.61502819684977, 'depth': 6, 'min_data_in_leaf': 23, 'leaf_estimation_iterations': 2}. Best is trial 9 with value: 1.7452546603418322.\u001b[0m\n",
            "\u001b[32m[I 2021-06-24 11:42:54,192]\u001b[0m Trial 11 finished with value: 1.7462246417016778 and parameters: {'iterations': 17865, 'od_wait': 2324, 'learning_rate': 0.001201978817991051, 'reg_lambda': 60.981201516164674, 'subsample': 0.2182601017873742, 'random_strength': 28.885486735161823, 'depth': 6, 'min_data_in_leaf': 22, 'leaf_estimation_iterations': 2}. Best is trial 9 with value: 1.7452546603418322.\u001b[0m\n",
            "\u001b[32m[I 2021-06-24 11:43:12,604]\u001b[0m Trial 12 finished with value: 1.7458295896690477 and parameters: {'iterations': 18732, 'od_wait': 2465, 'learning_rate': 0.03347786451108715, 'reg_lambda': 59.97450248914125, 'subsample': 0.25423345497514366, 'random_strength': 21.59810311874977, 'depth': 6, 'min_data_in_leaf': 23, 'leaf_estimation_iterations': 2}. Best is trial 9 with value: 1.7452546603418322.\u001b[0m\n",
            "\u001b[32m[I 2021-06-24 11:46:13,476]\u001b[0m Trial 13 finished with value: 1.7451314700338245 and parameters: {'iterations': 15303, 'od_wait': 2091, 'learning_rate': 0.0025553641829274155, 'reg_lambda': 58.90581768346291, 'subsample': 0.2803752477508894, 'random_strength': 29.811834598299864, 'depth': 6, 'min_data_in_leaf': 24, 'leaf_estimation_iterations': 2}. Best is trial 13 with value: 1.7451314700338245.\u001b[0m\n",
            "\u001b[32m[I 2021-06-24 11:46:35,473]\u001b[0m Trial 14 finished with value: 1.745619726766246 and parameters: {'iterations': 14608, 'od_wait': 1988, 'learning_rate': 0.024430072222760557, 'reg_lambda': 83.54033041422643, 'subsample': 0.33529647924209044, 'random_strength': 19.85206927527221, 'depth': 6, 'min_data_in_leaf': 25, 'leaf_estimation_iterations': 3}. Best is trial 13 with value: 1.7451314700338245.\u001b[0m\n",
            "\u001b[32m[I 2021-06-24 11:46:43,946]\u001b[0m Trial 15 finished with value: 1.7469002864780332 and parameters: {'iterations': 14612, 'od_wait': 2112, 'learning_rate': 0.07113034816909905, 'reg_lambda': 50.64443897027989, 'subsample': 0.09743289130986188, 'random_strength': 23.235789931897173, 'depth': 6, 'min_data_in_leaf': 17, 'leaf_estimation_iterations': 2}. Best is trial 13 with value: 1.7451314700338245.\u001b[0m\n",
            "\u001b[32m[I 2021-06-24 11:46:59,410]\u001b[0m Trial 16 finished with value: 1.746074161484668 and parameters: {'iterations': 24879, 'od_wait': 1795, 'learning_rate': 0.03823712498063181, 'reg_lambda': 68.81591565015204, 'subsample': 0.39378640203502946, 'random_strength': 22.900672433164914, 'depth': 6, 'min_data_in_leaf': 20, 'leaf_estimation_iterations': 3}. Best is trial 13 with value: 1.7451314700338245.\u001b[0m\n",
            "\u001b[32m[I 2021-06-24 11:49:59,929]\u001b[0m Trial 17 finished with value: 1.7461189704019306 and parameters: {'iterations': 20820, 'od_wait': 2192, 'learning_rate': 0.0030749668653478617, 'reg_lambda': 56.90191741891942, 'subsample': 0.1319154631507808, 'random_strength': 20.345579982546628, 'depth': 5, 'min_data_in_leaf': 14, 'leaf_estimation_iterations': 5}. Best is trial 13 with value: 1.7451314700338245.\u001b[0m\n",
            "\u001b[32m[I 2021-06-24 11:50:35,601]\u001b[0m Trial 18 finished with value: 1.7453019832535064 and parameters: {'iterations': 19400, 'od_wait': 2588, 'learning_rate': 0.015569833679796617, 'reg_lambda': 64.9867731346661, 'subsample': 0.4119976109071702, 'random_strength': 27.670942758083612, 'depth': 6, 'min_data_in_leaf': 25, 'leaf_estimation_iterations': 2}. Best is trial 13 with value: 1.7451314700338245.\u001b[0m\n",
            "\u001b[32m[I 2021-06-24 11:50:56,732]\u001b[0m Trial 19 finished with value: 1.7462970137394513 and parameters: {'iterations': 16079, 'od_wait': 1740, 'learning_rate': 0.025921600027612537, 'reg_lambda': 79.94197587917978, 'subsample': 0.11726613064624752, 'random_strength': 19.33862638199317, 'depth': 5, 'min_data_in_leaf': 19, 'leaf_estimation_iterations': 4}. Best is trial 13 with value: 1.7451314700338245.\u001b[0m\n",
            "\u001b[32m[I 2021-06-24 11:54:20,731]\u001b[0m Trial 20 finished with value: 1.745902916234771 and parameters: {'iterations': 14047, 'od_wait': 2176, 'learning_rate': 0.0014635190053216935, 'reg_lambda': 56.304435706979824, 'subsample': 0.7050889136259979, 'random_strength': 24.269567100494108, 'depth': 6, 'min_data_in_leaf': 25, 'leaf_estimation_iterations': 3}. Best is trial 13 with value: 1.7451314700338245.\u001b[0m\n",
            "\u001b[32m[I 2021-06-24 11:54:58,325]\u001b[0m Trial 21 finished with value: 1.7452692941624655 and parameters: {'iterations': 19379, 'od_wait': 2501, 'learning_rate': 0.01731967973088596, 'reg_lambda': 67.02388276657074, 'subsample': 0.41017468074284225, 'random_strength': 28.425587015156562, 'depth': 6, 'min_data_in_leaf': 26, 'leaf_estimation_iterations': 2}. Best is trial 13 with value: 1.7451314700338245.\u001b[0m\n",
            "\u001b[32m[I 2021-06-24 11:55:53,988]\u001b[0m Trial 22 finished with value: 1.7451029696916622 and parameters: {'iterations': 19581, 'od_wait': 2429, 'learning_rate': 0.009876655991126419, 'reg_lambda': 71.53117835425219, 'subsample': 0.33074164017922814, 'random_strength': 29.442332429053916, 'depth': 6, 'min_data_in_leaf': 22, 'leaf_estimation_iterations': 2}. Best is trial 22 with value: 1.7451029696916622.\u001b[0m\n",
            "\u001b[32m[I 2021-06-24 11:56:56,652]\u001b[0m Trial 23 finished with value: 1.7451228273737278 and parameters: {'iterations': 17343, 'od_wait': 2333, 'learning_rate': 0.007933666929867488, 'reg_lambda': 72.32861753721613, 'subsample': 0.33426802877805567, 'random_strength': 29.827205971007093, 'depth': 6, 'min_data_in_leaf': 22, 'leaf_estimation_iterations': 2}. Best is trial 22 with value: 1.7451029696916622.\u001b[0m\n",
            "\u001b[32m[I 2021-06-24 11:58:10,102]\u001b[0m Trial 24 finished with value: 1.7458064565335587 and parameters: {'iterations': 16625, 'od_wait': 2283, 'learning_rate': 0.007837776980504339, 'reg_lambda': 72.71900246937989, 'subsample': 0.31289940592330956, 'random_strength': 29.965419880406152, 'depth': 5, 'min_data_in_leaf': 22, 'leaf_estimation_iterations': 3}. Best is trial 22 with value: 1.7451029696916622.\u001b[0m\n"
          ],
          "name": "stderr"
        },
        {
          "output_type": "stream",
          "text": [
            "Number of finished trials: 25\n",
            "Best trial: score 1.7451029696916622, params {'iterations': 19581, 'od_wait': 2429, 'learning_rate': 0.009876655991126419, 'reg_lambda': 71.53117835425219, 'subsample': 0.33074164017922814, 'random_strength': 29.442332429053916, 'depth': 6, 'min_data_in_leaf': 22, 'leaf_estimation_iterations': 2}\n"
          ],
          "name": "stdout"
        }
      ]
    },
    {
      "cell_type": "code",
      "metadata": {
        "colab": {
          "base_uri": "https://localhost:8080/",
          "height": 1000
        },
        "id": "WJlaT9Au_K0X",
        "outputId": "ad3e9aa4-3d83-415b-d348-9e1852080d85"
      },
      "source": [
        "if OPTUNA_OPTIMIZATION:\n",
        "    display(optuna.visualization.plot_optimization_history(study))\n",
        "    display(optuna.visualization.plot_slice(study))\n",
        "    display(optuna.visualization.plot_parallel_coordinate(study))"
      ],
      "execution_count": null,
      "outputs": [
        {
          "output_type": "display_data",
          "data": {
            "text/html": [
              "<html>\n",
              "<head><meta charset=\"utf-8\" /></head>\n",
              "<body>\n",
              "    <div>\n",
              "            <script src=\"https://cdnjs.cloudflare.com/ajax/libs/mathjax/2.7.5/MathJax.js?config=TeX-AMS-MML_SVG\"></script><script type=\"text/javascript\">if (window.MathJax) {MathJax.Hub.Config({SVG: {font: \"STIX-Web\"}});}</script>\n",
              "                <script type=\"text/javascript\">window.PlotlyConfig = {MathJaxConfig: 'local'};</script>\n",
              "        <script src=\"https://cdn.plot.ly/plotly-latest.min.js\"></script>    \n",
              "            <div id=\"d20d0706-f9ed-422d-9c77-63dc405ba616\" class=\"plotly-graph-div\" style=\"height:525px; width:100%;\"></div>\n",
              "            <script type=\"text/javascript\">\n",
              "                \n",
              "                    window.PLOTLYENV=window.PLOTLYENV || {};\n",
              "                    \n",
              "                if (document.getElementById(\"d20d0706-f9ed-422d-9c77-63dc405ba616\")) {\n",
              "                    Plotly.newPlot(\n",
              "                        'd20d0706-f9ed-422d-9c77-63dc405ba616',\n",
              "                        [{\"mode\": \"markers\", \"name\": \"Objective Value\", \"type\": \"scatter\", \"x\": [0, 1, 2, 3, 4, 5, 6, 7, 8, 9, 10, 11, 12, 13, 14, 15, 16, 17, 18, 19, 20, 21, 22, 23, 24], \"y\": [1.7475517290197657, 1.746530009869069, 1.746400371649169, 1.748109944775364, 1.7465947826600974, 1.7474099656786515, 1.7458479262869728, 1.7473726389629178, 1.7473827678729799, 1.7452546603418322, 1.7454383570512968, 1.7462246417016778, 1.7458295896690477, 1.7451314700338245, 1.745619726766246, 1.7469002864780332, 1.746074161484668, 1.7461189704019306, 1.7453019832535064, 1.7462970137394513, 1.745902916234771, 1.7452692941624655, 1.7451029696916622, 1.7451228273737278, 1.7458064565335587]}, {\"name\": \"Best Value\", \"type\": \"scatter\", \"x\": [0, 1, 2, 3, 4, 5, 6, 7, 8, 9, 10, 11, 12, 13, 14, 15, 16, 17, 18, 19, 20, 21, 22, 23, 24], \"y\": [1.7475517290197657, 1.746530009869069, 1.746400371649169, 1.746400371649169, 1.746400371649169, 1.746400371649169, 1.7458479262869728, 1.7458479262869728, 1.7458479262869728, 1.7452546603418322, 1.7452546603418322, 1.7452546603418322, 1.7452546603418322, 1.7451314700338245, 1.7451314700338245, 1.7451314700338245, 1.7451314700338245, 1.7451314700338245, 1.7451314700338245, 1.7451314700338245, 1.7451314700338245, 1.7451314700338245, 1.7451029696916622, 1.7451029696916622, 1.7451029696916622]}],\n",
              "                        {\"template\": {\"data\": {\"bar\": [{\"error_x\": {\"color\": \"#2a3f5f\"}, \"error_y\": {\"color\": \"#2a3f5f\"}, \"marker\": {\"line\": {\"color\": \"#E5ECF6\", \"width\": 0.5}}, \"type\": \"bar\"}], \"barpolar\": [{\"marker\": {\"line\": {\"color\": \"#E5ECF6\", \"width\": 0.5}}, \"type\": \"barpolar\"}], \"carpet\": [{\"aaxis\": {\"endlinecolor\": \"#2a3f5f\", \"gridcolor\": \"white\", \"linecolor\": \"white\", \"minorgridcolor\": \"white\", \"startlinecolor\": \"#2a3f5f\"}, \"baxis\": {\"endlinecolor\": \"#2a3f5f\", \"gridcolor\": \"white\", \"linecolor\": \"white\", \"minorgridcolor\": \"white\", \"startlinecolor\": \"#2a3f5f\"}, \"type\": \"carpet\"}], \"choropleth\": [{\"colorbar\": {\"outlinewidth\": 0, \"ticks\": \"\"}, \"type\": \"choropleth\"}], \"contour\": [{\"colorbar\": {\"outlinewidth\": 0, \"ticks\": \"\"}, \"colorscale\": [[0.0, \"#0d0887\"], [0.1111111111111111, \"#46039f\"], [0.2222222222222222, \"#7201a8\"], [0.3333333333333333, \"#9c179e\"], [0.4444444444444444, \"#bd3786\"], [0.5555555555555556, \"#d8576b\"], [0.6666666666666666, \"#ed7953\"], [0.7777777777777778, \"#fb9f3a\"], [0.8888888888888888, \"#fdca26\"], [1.0, \"#f0f921\"]], \"type\": \"contour\"}], \"contourcarpet\": [{\"colorbar\": {\"outlinewidth\": 0, \"ticks\": \"\"}, \"type\": \"contourcarpet\"}], \"heatmap\": [{\"colorbar\": {\"outlinewidth\": 0, \"ticks\": \"\"}, \"colorscale\": [[0.0, \"#0d0887\"], [0.1111111111111111, \"#46039f\"], [0.2222222222222222, \"#7201a8\"], [0.3333333333333333, \"#9c179e\"], [0.4444444444444444, \"#bd3786\"], [0.5555555555555556, \"#d8576b\"], [0.6666666666666666, \"#ed7953\"], [0.7777777777777778, \"#fb9f3a\"], [0.8888888888888888, \"#fdca26\"], [1.0, \"#f0f921\"]], \"type\": \"heatmap\"}], \"heatmapgl\": [{\"colorbar\": {\"outlinewidth\": 0, \"ticks\": \"\"}, \"colorscale\": [[0.0, \"#0d0887\"], [0.1111111111111111, \"#46039f\"], [0.2222222222222222, \"#7201a8\"], [0.3333333333333333, \"#9c179e\"], [0.4444444444444444, \"#bd3786\"], [0.5555555555555556, \"#d8576b\"], [0.6666666666666666, \"#ed7953\"], [0.7777777777777778, \"#fb9f3a\"], [0.8888888888888888, \"#fdca26\"], [1.0, \"#f0f921\"]], \"type\": \"heatmapgl\"}], \"histogram\": [{\"marker\": {\"colorbar\": {\"outlinewidth\": 0, \"ticks\": \"\"}}, \"type\": \"histogram\"}], \"histogram2d\": [{\"colorbar\": {\"outlinewidth\": 0, \"ticks\": \"\"}, \"colorscale\": [[0.0, \"#0d0887\"], [0.1111111111111111, \"#46039f\"], [0.2222222222222222, \"#7201a8\"], [0.3333333333333333, \"#9c179e\"], [0.4444444444444444, \"#bd3786\"], [0.5555555555555556, \"#d8576b\"], [0.6666666666666666, \"#ed7953\"], [0.7777777777777778, \"#fb9f3a\"], [0.8888888888888888, \"#fdca26\"], [1.0, \"#f0f921\"]], \"type\": \"histogram2d\"}], \"histogram2dcontour\": [{\"colorbar\": {\"outlinewidth\": 0, \"ticks\": \"\"}, \"colorscale\": [[0.0, \"#0d0887\"], [0.1111111111111111, \"#46039f\"], [0.2222222222222222, \"#7201a8\"], [0.3333333333333333, \"#9c179e\"], [0.4444444444444444, \"#bd3786\"], [0.5555555555555556, \"#d8576b\"], [0.6666666666666666, \"#ed7953\"], [0.7777777777777778, \"#fb9f3a\"], [0.8888888888888888, \"#fdca26\"], [1.0, \"#f0f921\"]], \"type\": \"histogram2dcontour\"}], \"mesh3d\": [{\"colorbar\": {\"outlinewidth\": 0, \"ticks\": \"\"}, \"type\": \"mesh3d\"}], \"parcoords\": [{\"line\": {\"colorbar\": {\"outlinewidth\": 0, \"ticks\": \"\"}}, \"type\": \"parcoords\"}], \"pie\": [{\"automargin\": true, \"type\": \"pie\"}], \"scatter\": [{\"marker\": {\"colorbar\": {\"outlinewidth\": 0, \"ticks\": \"\"}}, \"type\": \"scatter\"}], \"scatter3d\": [{\"line\": {\"colorbar\": {\"outlinewidth\": 0, \"ticks\": \"\"}}, \"marker\": {\"colorbar\": {\"outlinewidth\": 0, \"ticks\": \"\"}}, \"type\": \"scatter3d\"}], \"scattercarpet\": [{\"marker\": {\"colorbar\": {\"outlinewidth\": 0, \"ticks\": \"\"}}, \"type\": \"scattercarpet\"}], \"scattergeo\": [{\"marker\": {\"colorbar\": {\"outlinewidth\": 0, \"ticks\": \"\"}}, \"type\": \"scattergeo\"}], \"scattergl\": [{\"marker\": {\"colorbar\": {\"outlinewidth\": 0, \"ticks\": \"\"}}, \"type\": \"scattergl\"}], \"scattermapbox\": [{\"marker\": {\"colorbar\": {\"outlinewidth\": 0, \"ticks\": \"\"}}, \"type\": \"scattermapbox\"}], \"scatterpolar\": [{\"marker\": {\"colorbar\": {\"outlinewidth\": 0, \"ticks\": \"\"}}, \"type\": \"scatterpolar\"}], \"scatterpolargl\": [{\"marker\": {\"colorbar\": {\"outlinewidth\": 0, \"ticks\": \"\"}}, \"type\": \"scatterpolargl\"}], \"scatterternary\": [{\"marker\": {\"colorbar\": {\"outlinewidth\": 0, \"ticks\": \"\"}}, \"type\": \"scatterternary\"}], \"surface\": [{\"colorbar\": {\"outlinewidth\": 0, \"ticks\": \"\"}, \"colorscale\": [[0.0, \"#0d0887\"], [0.1111111111111111, \"#46039f\"], [0.2222222222222222, \"#7201a8\"], [0.3333333333333333, \"#9c179e\"], [0.4444444444444444, \"#bd3786\"], [0.5555555555555556, \"#d8576b\"], [0.6666666666666666, \"#ed7953\"], [0.7777777777777778, \"#fb9f3a\"], [0.8888888888888888, \"#fdca26\"], [1.0, \"#f0f921\"]], \"type\": \"surface\"}], \"table\": [{\"cells\": {\"fill\": {\"color\": \"#EBF0F8\"}, \"line\": {\"color\": \"white\"}}, \"header\": {\"fill\": {\"color\": \"#C8D4E3\"}, \"line\": {\"color\": \"white\"}}, \"type\": \"table\"}]}, \"layout\": {\"annotationdefaults\": {\"arrowcolor\": \"#2a3f5f\", \"arrowhead\": 0, \"arrowwidth\": 1}, \"coloraxis\": {\"colorbar\": {\"outlinewidth\": 0, \"ticks\": \"\"}}, \"colorscale\": {\"diverging\": [[0, \"#8e0152\"], [0.1, \"#c51b7d\"], [0.2, \"#de77ae\"], [0.3, \"#f1b6da\"], [0.4, \"#fde0ef\"], [0.5, \"#f7f7f7\"], [0.6, \"#e6f5d0\"], [0.7, \"#b8e186\"], [0.8, \"#7fbc41\"], [0.9, \"#4d9221\"], [1, \"#276419\"]], \"sequential\": [[0.0, \"#0d0887\"], [0.1111111111111111, \"#46039f\"], [0.2222222222222222, \"#7201a8\"], [0.3333333333333333, \"#9c179e\"], [0.4444444444444444, \"#bd3786\"], [0.5555555555555556, \"#d8576b\"], [0.6666666666666666, \"#ed7953\"], [0.7777777777777778, \"#fb9f3a\"], [0.8888888888888888, \"#fdca26\"], [1.0, \"#f0f921\"]], \"sequentialminus\": [[0.0, \"#0d0887\"], [0.1111111111111111, \"#46039f\"], [0.2222222222222222, \"#7201a8\"], [0.3333333333333333, \"#9c179e\"], [0.4444444444444444, \"#bd3786\"], [0.5555555555555556, \"#d8576b\"], [0.6666666666666666, \"#ed7953\"], [0.7777777777777778, \"#fb9f3a\"], [0.8888888888888888, \"#fdca26\"], [1.0, \"#f0f921\"]]}, \"colorway\": [\"#636efa\", \"#EF553B\", \"#00cc96\", \"#ab63fa\", \"#FFA15A\", \"#19d3f3\", \"#FF6692\", \"#B6E880\", \"#FF97FF\", \"#FECB52\"], \"font\": {\"color\": \"#2a3f5f\"}, \"geo\": {\"bgcolor\": \"white\", \"lakecolor\": \"white\", \"landcolor\": \"#E5ECF6\", \"showlakes\": true, \"showland\": true, \"subunitcolor\": \"white\"}, \"hoverlabel\": {\"align\": \"left\"}, \"hovermode\": \"closest\", \"mapbox\": {\"style\": \"light\"}, \"paper_bgcolor\": \"white\", \"plot_bgcolor\": \"#E5ECF6\", \"polar\": {\"angularaxis\": {\"gridcolor\": \"white\", \"linecolor\": \"white\", \"ticks\": \"\"}, \"bgcolor\": \"#E5ECF6\", \"radialaxis\": {\"gridcolor\": \"white\", \"linecolor\": \"white\", \"ticks\": \"\"}}, \"scene\": {\"xaxis\": {\"backgroundcolor\": \"#E5ECF6\", \"gridcolor\": \"white\", \"gridwidth\": 2, \"linecolor\": \"white\", \"showbackground\": true, \"ticks\": \"\", \"zerolinecolor\": \"white\"}, \"yaxis\": {\"backgroundcolor\": \"#E5ECF6\", \"gridcolor\": \"white\", \"gridwidth\": 2, \"linecolor\": \"white\", \"showbackground\": true, \"ticks\": \"\", \"zerolinecolor\": \"white\"}, \"zaxis\": {\"backgroundcolor\": \"#E5ECF6\", \"gridcolor\": \"white\", \"gridwidth\": 2, \"linecolor\": \"white\", \"showbackground\": true, \"ticks\": \"\", \"zerolinecolor\": \"white\"}}, \"shapedefaults\": {\"line\": {\"color\": \"#2a3f5f\"}}, \"ternary\": {\"aaxis\": {\"gridcolor\": \"white\", \"linecolor\": \"white\", \"ticks\": \"\"}, \"baxis\": {\"gridcolor\": \"white\", \"linecolor\": \"white\", \"ticks\": \"\"}, \"bgcolor\": \"#E5ECF6\", \"caxis\": {\"gridcolor\": \"white\", \"linecolor\": \"white\", \"ticks\": \"\"}}, \"title\": {\"x\": 0.05}, \"xaxis\": {\"automargin\": true, \"gridcolor\": \"white\", \"linecolor\": \"white\", \"ticks\": \"\", \"title\": {\"standoff\": 15}, \"zerolinecolor\": \"white\", \"zerolinewidth\": 2}, \"yaxis\": {\"automargin\": true, \"gridcolor\": \"white\", \"linecolor\": \"white\", \"ticks\": \"\", \"title\": {\"standoff\": 15}, \"zerolinecolor\": \"white\", \"zerolinewidth\": 2}}}, \"title\": {\"text\": \"Optimization History Plot\"}, \"xaxis\": {\"title\": {\"text\": \"#Trials\"}}, \"yaxis\": {\"title\": {\"text\": \"Objective Value\"}}},\n",
              "                        {\"responsive\": true}\n",
              "                    ).then(function(){\n",
              "                            \n",
              "var gd = document.getElementById('d20d0706-f9ed-422d-9c77-63dc405ba616');\n",
              "var x = new MutationObserver(function (mutations, observer) {{\n",
              "        var display = window.getComputedStyle(gd).display;\n",
              "        if (!display || display === 'none') {{\n",
              "            console.log([gd, 'removed!']);\n",
              "            Plotly.purge(gd);\n",
              "            observer.disconnect();\n",
              "        }}\n",
              "}});\n",
              "\n",
              "// Listen for the removal of the full notebook cells\n",
              "var notebookContainer = gd.closest('#notebook-container');\n",
              "if (notebookContainer) {{\n",
              "    x.observe(notebookContainer, {childList: true});\n",
              "}}\n",
              "\n",
              "// Listen for the clearing of the current output cell\n",
              "var outputEl = gd.closest('.output');\n",
              "if (outputEl) {{\n",
              "    x.observe(outputEl, {childList: true});\n",
              "}}\n",
              "\n",
              "                        })\n",
              "                };\n",
              "                \n",
              "            </script>\n",
              "        </div>\n",
              "</body>\n",
              "</html>"
            ]
          },
          "metadata": {
            "tags": []
          }
        },
        {
          "output_type": "display_data",
          "data": {
            "text/html": [
              "<html>\n",
              "<head><meta charset=\"utf-8\" /></head>\n",
              "<body>\n",
              "    <div>\n",
              "            <script src=\"https://cdnjs.cloudflare.com/ajax/libs/mathjax/2.7.5/MathJax.js?config=TeX-AMS-MML_SVG\"></script><script type=\"text/javascript\">if (window.MathJax) {MathJax.Hub.Config({SVG: {font: \"STIX-Web\"}});}</script>\n",
              "                <script type=\"text/javascript\">window.PlotlyConfig = {MathJaxConfig: 'local'};</script>\n",
              "        <script src=\"https://cdn.plot.ly/plotly-latest.min.js\"></script>    \n",
              "            <div id=\"c22053e8-4e13-4c09-a846-bf312d813ae5\" class=\"plotly-graph-div\" style=\"height:525px; width:2700px;\"></div>\n",
              "            <script type=\"text/javascript\">\n",
              "                \n",
              "                    window.PLOTLYENV=window.PLOTLYENV || {};\n",
              "                    \n",
              "                if (document.getElementById(\"c22053e8-4e13-4c09-a846-bf312d813ae5\")) {\n",
              "                    Plotly.newPlot(\n",
              "                        'c22053e8-4e13-4c09-a846-bf312d813ae5',\n",
              "                        [{\"marker\": {\"color\": [0, 1, 2, 3, 4, 5, 6, 7, 8, 9, 10, 11, 12, 13, 14, 15, 16, 17, 18, 19, 20, 21, 22, 23, 24], \"colorbar\": {\"title\": {\"text\": \"#Trials\"}, \"x\": 1.0, \"xpad\": 40}, \"colorscale\": [[0.0, \"rgb(247,251,255)\"], [0.125, \"rgb(222,235,247)\"], [0.25, \"rgb(198,219,239)\"], [0.375, \"rgb(158,202,225)\"], [0.5, \"rgb(107,174,214)\"], [0.625, \"rgb(66,146,198)\"], [0.75, \"rgb(33,113,181)\"], [0.875, \"rgb(8,81,156)\"], [1.0, \"rgb(8,48,107)\"]], \"line\": {\"color\": \"Grey\", \"width\": 0.5}, \"showscale\": true}, \"mode\": \"markers\", \"showlegend\": false, \"type\": \"scatter\", \"x\": [3, 4, 4, 5, 5, 5, 5, 3, 4, 6, 6, 6, 6, 6, 6, 6, 6, 5, 6, 5, 6, 6, 6, 6, 5], \"xaxis\": \"x\", \"y\": [1.7475517290197657, 1.746530009869069, 1.746400371649169, 1.748109944775364, 1.7465947826600974, 1.7474099656786515, 1.7458479262869728, 1.7473726389629178, 1.7473827678729799, 1.7452546603418322, 1.7454383570512968, 1.7462246417016778, 1.7458295896690477, 1.7451314700338245, 1.745619726766246, 1.7469002864780332, 1.746074161484668, 1.7461189704019306, 1.7453019832535064, 1.7462970137394513, 1.745902916234771, 1.7452692941624655, 1.7451029696916622, 1.7451228273737278, 1.7458064565335587], \"yaxis\": \"y\"}, {\"marker\": {\"color\": [0, 1, 2, 3, 4, 5, 6, 7, 8, 9, 10, 11, 12, 13, 14, 15, 16, 17, 18, 19, 20, 21, 22, 23, 24], \"colorbar\": {\"title\": {\"text\": \"#Trials\"}, \"x\": 1.0, \"xpad\": 40}, \"colorscale\": [[0.0, \"rgb(247,251,255)\"], [0.125, \"rgb(222,235,247)\"], [0.25, \"rgb(198,219,239)\"], [0.375, \"rgb(158,202,225)\"], [0.5, \"rgb(107,174,214)\"], [0.625, \"rgb(66,146,198)\"], [0.75, \"rgb(33,113,181)\"], [0.875, \"rgb(8,81,156)\"], [1.0, \"rgb(8,48,107)\"]], \"line\": {\"color\": \"Grey\", \"width\": 0.5}, \"showscale\": false}, \"mode\": \"markers\", \"showlegend\": false, \"type\": \"scatter\", \"x\": [22081, 16107, 23051, 7837, 8561, 10633, 21137, 12020, 12637, 17673, 17665, 17865, 18732, 15303, 14608, 14612, 24879, 20820, 19400, 16079, 14047, 19379, 19581, 17343, 16625], \"xaxis\": \"x2\", \"y\": [1.7475517290197657, 1.746530009869069, 1.746400371649169, 1.748109944775364, 1.7465947826600974, 1.7474099656786515, 1.7458479262869728, 1.7473726389629178, 1.7473827678729799, 1.7452546603418322, 1.7454383570512968, 1.7462246417016778, 1.7458295896690477, 1.7451314700338245, 1.745619726766246, 1.7469002864780332, 1.746074161484668, 1.7461189704019306, 1.7453019832535064, 1.7462970137394513, 1.745902916234771, 1.7452692941624655, 1.7451029696916622, 1.7451228273737278, 1.7458064565335587], \"yaxis\": \"y2\"}, {\"marker\": {\"color\": [0, 1, 2, 3, 4, 5, 6, 7, 8, 9, 10, 11, 12, 13, 14, 15, 16, 17, 18, 19, 20, 21, 22, 23, 24], \"colorbar\": {\"title\": {\"text\": \"#Trials\"}, \"x\": 1.0, \"xpad\": 40}, \"colorscale\": [[0.0, \"rgb(247,251,255)\"], [0.125, \"rgb(222,235,247)\"], [0.25, \"rgb(198,219,239)\"], [0.375, \"rgb(158,202,225)\"], [0.5, \"rgb(107,174,214)\"], [0.625, \"rgb(66,146,198)\"], [0.75, \"rgb(33,113,181)\"], [0.875, \"rgb(8,81,156)\"], [1.0, \"rgb(8,48,107)\"]], \"line\": {\"color\": \"Grey\", \"width\": 0.5}, \"showscale\": false}, \"mode\": \"markers\", \"showlegend\": false, \"type\": \"scatter\", \"x\": [4, 3, 3, 5, 3, 6, 6, 2, 4, 2, 2, 2, 2, 2, 3, 2, 3, 5, 2, 4, 3, 2, 2, 2, 3], \"xaxis\": \"x3\", \"y\": [1.7475517290197657, 1.746530009869069, 1.746400371649169, 1.748109944775364, 1.7465947826600974, 1.7474099656786515, 1.7458479262869728, 1.7473726389629178, 1.7473827678729799, 1.7452546603418322, 1.7454383570512968, 1.7462246417016778, 1.7458295896690477, 1.7451314700338245, 1.745619726766246, 1.7469002864780332, 1.746074161484668, 1.7461189704019306, 1.7453019832535064, 1.7462970137394513, 1.745902916234771, 1.7452692941624655, 1.7451029696916622, 1.7451228273737278, 1.7458064565335587], \"yaxis\": \"y3\"}, {\"marker\": {\"color\": [0, 1, 2, 3, 4, 5, 6, 7, 8, 9, 10, 11, 12, 13, 14, 15, 16, 17, 18, 19, 20, 21, 22, 23, 24], \"colorbar\": {\"title\": {\"text\": \"#Trials\"}, \"x\": 1.0, \"xpad\": 40}, \"colorscale\": [[0.0, \"rgb(247,251,255)\"], [0.125, \"rgb(222,235,247)\"], [0.25, \"rgb(198,219,239)\"], [0.375, \"rgb(158,202,225)\"], [0.5, \"rgb(107,174,214)\"], [0.625, \"rgb(66,146,198)\"], [0.75, \"rgb(33,113,181)\"], [0.875, \"rgb(8,81,156)\"], [1.0, \"rgb(8,48,107)\"]], \"line\": {\"color\": \"Grey\", \"width\": 0.5}, \"showscale\": false}, \"mode\": \"markers\", \"showlegend\": false, \"type\": \"scatter\", \"x\": [0.0523585535392492, 0.020694951401143857, 0.013266322205507153, 0.08940487435096595, 0.051847639930613254, 0.03558483877482585, 0.009700927493295129, 0.05846745451734049, 0.08608747207630392, 0.014174736490140817, 0.0016874297825336618, 0.001201978817991051, 0.03347786451108715, 0.0025553641829274155, 0.024430072222760557, 0.07113034816909905, 0.03823712498063181, 0.0030749668653478617, 0.015569833679796617, 0.025921600027612537, 0.0014635190053216935, 0.01731967973088596, 0.009876655991126419, 0.007933666929867488, 0.007837776980504339], \"xaxis\": \"x4\", \"y\": [1.7475517290197657, 1.746530009869069, 1.746400371649169, 1.748109944775364, 1.7465947826600974, 1.7474099656786515, 1.7458479262869728, 1.7473726389629178, 1.7473827678729799, 1.7452546603418322, 1.7454383570512968, 1.7462246417016778, 1.7458295896690477, 1.7451314700338245, 1.745619726766246, 1.7469002864780332, 1.746074161484668, 1.7461189704019306, 1.7453019832535064, 1.7462970137394513, 1.745902916234771, 1.7452692941624655, 1.7451029696916622, 1.7451228273737278, 1.7458064565335587], \"yaxis\": \"y4\"}, {\"marker\": {\"color\": [0, 1, 2, 3, 4, 5, 6, 7, 8, 9, 10, 11, 12, 13, 14, 15, 16, 17, 18, 19, 20, 21, 22, 23, 24], \"colorbar\": {\"title\": {\"text\": \"#Trials\"}, \"x\": 1.0, \"xpad\": 40}, \"colorscale\": [[0.0, \"rgb(247,251,255)\"], [0.125, \"rgb(222,235,247)\"], [0.25, \"rgb(198,219,239)\"], [0.375, \"rgb(158,202,225)\"], [0.5, \"rgb(107,174,214)\"], [0.625, \"rgb(66,146,198)\"], [0.75, \"rgb(33,113,181)\"], [0.875, \"rgb(8,81,156)\"], [1.0, \"rgb(8,48,107)\"]], \"line\": {\"color\": \"Grey\", \"width\": 0.5}, \"showscale\": false}, \"mode\": \"markers\", \"showlegend\": false, \"type\": \"scatter\", \"x\": [17, 17, 20, 10, 28, 30, 27, 13, 28, 20, 23, 22, 23, 24, 25, 17, 20, 14, 25, 19, 25, 26, 22, 22, 22], \"xaxis\": \"x5\", \"y\": [1.7475517290197657, 1.746530009869069, 1.746400371649169, 1.748109944775364, 1.7465947826600974, 1.7474099656786515, 1.7458479262869728, 1.7473726389629178, 1.7473827678729799, 1.7452546603418322, 1.7454383570512968, 1.7462246417016778, 1.7458295896690477, 1.7451314700338245, 1.745619726766246, 1.7469002864780332, 1.746074161484668, 1.7461189704019306, 1.7453019832535064, 1.7462970137394513, 1.745902916234771, 1.7452692941624655, 1.7451029696916622, 1.7451228273737278, 1.7458064565335587], \"yaxis\": \"y5\"}, {\"marker\": {\"color\": [0, 1, 2, 3, 4, 5, 6, 7, 8, 9, 10, 11, 12, 13, 14, 15, 16, 17, 18, 19, 20, 21, 22, 23, 24], \"colorbar\": {\"title\": {\"text\": \"#Trials\"}, \"x\": 1.0, \"xpad\": 40}, \"colorscale\": [[0.0, \"rgb(247,251,255)\"], [0.125, \"rgb(222,235,247)\"], [0.25, \"rgb(198,219,239)\"], [0.375, \"rgb(158,202,225)\"], [0.5, \"rgb(107,174,214)\"], [0.625, \"rgb(66,146,198)\"], [0.75, \"rgb(33,113,181)\"], [0.875, \"rgb(8,81,156)\"], [1.0, \"rgb(8,48,107)\"]], \"line\": {\"color\": \"Grey\", \"width\": 0.5}, \"showscale\": false}, \"mode\": \"markers\", \"showlegend\": false, \"type\": \"scatter\", \"x\": [2890, 1934, 2708, 2024, 2482, 2781, 1612, 1538, 2891, 2363, 2344, 2324, 2465, 2091, 1988, 2112, 1795, 2192, 2588, 1740, 2176, 2501, 2429, 2333, 2283], \"xaxis\": \"x6\", \"y\": [1.7475517290197657, 1.746530009869069, 1.746400371649169, 1.748109944775364, 1.7465947826600974, 1.7474099656786515, 1.7458479262869728, 1.7473726389629178, 1.7473827678729799, 1.7452546603418322, 1.7454383570512968, 1.7462246417016778, 1.7458295896690477, 1.7451314700338245, 1.745619726766246, 1.7469002864780332, 1.746074161484668, 1.7461189704019306, 1.7453019832535064, 1.7462970137394513, 1.745902916234771, 1.7452692941624655, 1.7451029696916622, 1.7451228273737278, 1.7458064565335587], \"yaxis\": \"y6\"}, {\"marker\": {\"color\": [0, 1, 2, 3, 4, 5, 6, 7, 8, 9, 10, 11, 12, 13, 14, 15, 16, 17, 18, 19, 20, 21, 22, 23, 24], \"colorbar\": {\"title\": {\"text\": \"#Trials\"}, \"x\": 1.0, \"xpad\": 40}, \"colorscale\": [[0.0, \"rgb(247,251,255)\"], [0.125, \"rgb(222,235,247)\"], [0.25, \"rgb(198,219,239)\"], [0.375, \"rgb(158,202,225)\"], [0.5, \"rgb(107,174,214)\"], [0.625, \"rgb(66,146,198)\"], [0.75, \"rgb(33,113,181)\"], [0.875, \"rgb(8,81,156)\"], [1.0, \"rgb(8,48,107)\"]], \"line\": {\"color\": \"Grey\", \"width\": 0.5}, \"showscale\": false}, \"mode\": \"markers\", \"showlegend\": false, \"type\": \"scatter\", \"x\": [25.383248292425595, 18.674100622696255, 25.9671120082771, 21.96373022691814, 27.327853362663912, 25.28373658367917, 21.22381681406639, 18.086700126519453, 25.501737215394584, 20.629442387538404, 29.61502819684977, 28.885486735161823, 21.59810311874977, 29.811834598299864, 19.85206927527221, 23.235789931897173, 22.900672433164914, 20.345579982546628, 27.670942758083612, 19.33862638199317, 24.269567100494108, 28.425587015156562, 29.442332429053916, 29.827205971007093, 29.965419880406152], \"xaxis\": \"x7\", \"y\": [1.7475517290197657, 1.746530009869069, 1.746400371649169, 1.748109944775364, 1.7465947826600974, 1.7474099656786515, 1.7458479262869728, 1.7473726389629178, 1.7473827678729799, 1.7452546603418322, 1.7454383570512968, 1.7462246417016778, 1.7458295896690477, 1.7451314700338245, 1.745619726766246, 1.7469002864780332, 1.746074161484668, 1.7461189704019306, 1.7453019832535064, 1.7462970137394513, 1.745902916234771, 1.7452692941624655, 1.7451029696916622, 1.7451228273737278, 1.7458064565335587], \"yaxis\": \"y7\"}, {\"marker\": {\"color\": [0, 1, 2, 3, 4, 5, 6, 7, 8, 9, 10, 11, 12, 13, 14, 15, 16, 17, 18, 19, 20, 21, 22, 23, 24], \"colorbar\": {\"title\": {\"text\": \"#Trials\"}, \"x\": 1.0, \"xpad\": 40}, \"colorscale\": [[0.0, \"rgb(247,251,255)\"], [0.125, \"rgb(222,235,247)\"], [0.25, \"rgb(198,219,239)\"], [0.375, \"rgb(158,202,225)\"], [0.5, \"rgb(107,174,214)\"], [0.625, \"rgb(66,146,198)\"], [0.75, \"rgb(33,113,181)\"], [0.875, \"rgb(8,81,156)\"], [1.0, \"rgb(8,48,107)\"]], \"line\": {\"color\": \"Grey\", \"width\": 0.5}, \"showscale\": false}, \"mode\": \"markers\", \"showlegend\": false, \"type\": \"scatter\", \"x\": [53.30046637750339, 76.40295318744504, 68.80768412391788, 94.49408043431762, 88.8265560299443, 98.29738704750187, 75.30243026925147, 66.74096285230748, 52.33175708629835, 63.91819499977507, 61.262675395241985, 60.981201516164674, 59.97450248914125, 58.90581768346291, 83.54033041422643, 50.64443897027989, 68.81591565015204, 56.90191741891942, 64.9867731346661, 79.94197587917978, 56.304435706979824, 67.02388276657074, 71.53117835425219, 72.32861753721613, 72.71900246937989], \"xaxis\": \"x8\", \"y\": [1.7475517290197657, 1.746530009869069, 1.746400371649169, 1.748109944775364, 1.7465947826600974, 1.7474099656786515, 1.7458479262869728, 1.7473726389629178, 1.7473827678729799, 1.7452546603418322, 1.7454383570512968, 1.7462246417016778, 1.7458295896690477, 1.7451314700338245, 1.745619726766246, 1.7469002864780332, 1.746074161484668, 1.7461189704019306, 1.7453019832535064, 1.7462970137394513, 1.745902916234771, 1.7452692941624655, 1.7451029696916622, 1.7451228273737278, 1.7458064565335587], \"yaxis\": \"y8\"}, {\"marker\": {\"color\": [0, 1, 2, 3, 4, 5, 6, 7, 8, 9, 10, 11, 12, 13, 14, 15, 16, 17, 18, 19, 20, 21, 22, 23, 24], \"colorbar\": {\"title\": {\"text\": \"#Trials\"}, \"x\": 1.0, \"xpad\": 40}, \"colorscale\": [[0.0, \"rgb(247,251,255)\"], [0.125, \"rgb(222,235,247)\"], [0.25, \"rgb(198,219,239)\"], [0.375, \"rgb(158,202,225)\"], [0.5, \"rgb(107,174,214)\"], [0.625, \"rgb(66,146,198)\"], [0.75, \"rgb(33,113,181)\"], [0.875, \"rgb(8,81,156)\"], [1.0, \"rgb(8,48,107)\"]], \"line\": {\"color\": \"Grey\", \"width\": 0.5}, \"showscale\": false}, \"mode\": \"markers\", \"showlegend\": false, \"type\": \"scatter\", \"x\": [0.8322426285324465, 0.5779226659582111, 0.5917359474274496, 0.033697771735656246, 0.8561444452479751, 0.0016725576626520633, 0.6106777045552494, 0.5152141740529858, 0.8333242356914867, 0.15103934369387173, 0.22562898282554636, 0.2182601017873742, 0.25423345497514366, 0.2803752477508894, 0.33529647924209044, 0.09743289130986188, 0.39378640203502946, 0.1319154631507808, 0.4119976109071702, 0.11726613064624752, 0.7050889136259979, 0.41017468074284225, 0.33074164017922814, 0.33426802877805567, 0.31289940592330956], \"xaxis\": \"x9\", \"y\": [1.7475517290197657, 1.746530009869069, 1.746400371649169, 1.748109944775364, 1.7465947826600974, 1.7474099656786515, 1.7458479262869728, 1.7473726389629178, 1.7473827678729799, 1.7452546603418322, 1.7454383570512968, 1.7462246417016778, 1.7458295896690477, 1.7451314700338245, 1.745619726766246, 1.7469002864780332, 1.746074161484668, 1.7461189704019306, 1.7453019832535064, 1.7462970137394513, 1.745902916234771, 1.7452692941624655, 1.7451029696916622, 1.7451228273737278, 1.7458064565335587], \"yaxis\": \"y9\"}],\n",
              "                        {\"template\": {\"data\": {\"bar\": [{\"error_x\": {\"color\": \"#2a3f5f\"}, \"error_y\": {\"color\": \"#2a3f5f\"}, \"marker\": {\"line\": {\"color\": \"#E5ECF6\", \"width\": 0.5}}, \"type\": \"bar\"}], \"barpolar\": [{\"marker\": {\"line\": {\"color\": \"#E5ECF6\", \"width\": 0.5}}, \"type\": \"barpolar\"}], \"carpet\": [{\"aaxis\": {\"endlinecolor\": \"#2a3f5f\", \"gridcolor\": \"white\", \"linecolor\": \"white\", \"minorgridcolor\": \"white\", \"startlinecolor\": \"#2a3f5f\"}, \"baxis\": {\"endlinecolor\": \"#2a3f5f\", \"gridcolor\": \"white\", \"linecolor\": \"white\", \"minorgridcolor\": \"white\", \"startlinecolor\": \"#2a3f5f\"}, \"type\": \"carpet\"}], \"choropleth\": [{\"colorbar\": {\"outlinewidth\": 0, \"ticks\": \"\"}, \"type\": \"choropleth\"}], \"contour\": [{\"colorbar\": {\"outlinewidth\": 0, \"ticks\": \"\"}, \"colorscale\": [[0.0, \"#0d0887\"], [0.1111111111111111, \"#46039f\"], [0.2222222222222222, \"#7201a8\"], [0.3333333333333333, \"#9c179e\"], [0.4444444444444444, \"#bd3786\"], [0.5555555555555556, \"#d8576b\"], [0.6666666666666666, \"#ed7953\"], [0.7777777777777778, \"#fb9f3a\"], [0.8888888888888888, \"#fdca26\"], [1.0, \"#f0f921\"]], \"type\": \"contour\"}], \"contourcarpet\": [{\"colorbar\": {\"outlinewidth\": 0, \"ticks\": \"\"}, \"type\": \"contourcarpet\"}], \"heatmap\": [{\"colorbar\": {\"outlinewidth\": 0, \"ticks\": \"\"}, \"colorscale\": [[0.0, \"#0d0887\"], [0.1111111111111111, \"#46039f\"], [0.2222222222222222, \"#7201a8\"], [0.3333333333333333, \"#9c179e\"], [0.4444444444444444, \"#bd3786\"], [0.5555555555555556, \"#d8576b\"], [0.6666666666666666, \"#ed7953\"], [0.7777777777777778, \"#fb9f3a\"], [0.8888888888888888, \"#fdca26\"], [1.0, \"#f0f921\"]], \"type\": \"heatmap\"}], \"heatmapgl\": [{\"colorbar\": {\"outlinewidth\": 0, \"ticks\": \"\"}, \"colorscale\": [[0.0, \"#0d0887\"], [0.1111111111111111, \"#46039f\"], [0.2222222222222222, \"#7201a8\"], [0.3333333333333333, \"#9c179e\"], [0.4444444444444444, \"#bd3786\"], [0.5555555555555556, \"#d8576b\"], [0.6666666666666666, \"#ed7953\"], [0.7777777777777778, \"#fb9f3a\"], [0.8888888888888888, \"#fdca26\"], [1.0, \"#f0f921\"]], \"type\": \"heatmapgl\"}], \"histogram\": [{\"marker\": {\"colorbar\": {\"outlinewidth\": 0, \"ticks\": \"\"}}, \"type\": \"histogram\"}], \"histogram2d\": [{\"colorbar\": {\"outlinewidth\": 0, \"ticks\": \"\"}, \"colorscale\": [[0.0, \"#0d0887\"], [0.1111111111111111, \"#46039f\"], [0.2222222222222222, \"#7201a8\"], [0.3333333333333333, \"#9c179e\"], [0.4444444444444444, \"#bd3786\"], [0.5555555555555556, \"#d8576b\"], [0.6666666666666666, \"#ed7953\"], [0.7777777777777778, \"#fb9f3a\"], [0.8888888888888888, \"#fdca26\"], [1.0, \"#f0f921\"]], \"type\": \"histogram2d\"}], \"histogram2dcontour\": [{\"colorbar\": {\"outlinewidth\": 0, \"ticks\": \"\"}, \"colorscale\": [[0.0, \"#0d0887\"], [0.1111111111111111, \"#46039f\"], [0.2222222222222222, \"#7201a8\"], [0.3333333333333333, \"#9c179e\"], [0.4444444444444444, \"#bd3786\"], [0.5555555555555556, \"#d8576b\"], [0.6666666666666666, \"#ed7953\"], [0.7777777777777778, \"#fb9f3a\"], [0.8888888888888888, \"#fdca26\"], [1.0, \"#f0f921\"]], \"type\": \"histogram2dcontour\"}], \"mesh3d\": [{\"colorbar\": {\"outlinewidth\": 0, \"ticks\": \"\"}, \"type\": \"mesh3d\"}], \"parcoords\": [{\"line\": {\"colorbar\": {\"outlinewidth\": 0, \"ticks\": \"\"}}, \"type\": \"parcoords\"}], \"pie\": [{\"automargin\": true, \"type\": \"pie\"}], \"scatter\": [{\"marker\": {\"colorbar\": {\"outlinewidth\": 0, \"ticks\": \"\"}}, \"type\": \"scatter\"}], \"scatter3d\": [{\"line\": {\"colorbar\": {\"outlinewidth\": 0, \"ticks\": \"\"}}, \"marker\": {\"colorbar\": {\"outlinewidth\": 0, \"ticks\": \"\"}}, \"type\": \"scatter3d\"}], \"scattercarpet\": [{\"marker\": {\"colorbar\": {\"outlinewidth\": 0, \"ticks\": \"\"}}, \"type\": \"scattercarpet\"}], \"scattergeo\": [{\"marker\": {\"colorbar\": {\"outlinewidth\": 0, \"ticks\": \"\"}}, \"type\": \"scattergeo\"}], \"scattergl\": [{\"marker\": {\"colorbar\": {\"outlinewidth\": 0, \"ticks\": \"\"}}, \"type\": \"scattergl\"}], \"scattermapbox\": [{\"marker\": {\"colorbar\": {\"outlinewidth\": 0, \"ticks\": \"\"}}, \"type\": \"scattermapbox\"}], \"scatterpolar\": [{\"marker\": {\"colorbar\": {\"outlinewidth\": 0, \"ticks\": \"\"}}, \"type\": \"scatterpolar\"}], \"scatterpolargl\": [{\"marker\": {\"colorbar\": {\"outlinewidth\": 0, \"ticks\": \"\"}}, \"type\": \"scatterpolargl\"}], \"scatterternary\": [{\"marker\": {\"colorbar\": {\"outlinewidth\": 0, \"ticks\": \"\"}}, \"type\": \"scatterternary\"}], \"surface\": [{\"colorbar\": {\"outlinewidth\": 0, \"ticks\": \"\"}, \"colorscale\": [[0.0, \"#0d0887\"], [0.1111111111111111, \"#46039f\"], [0.2222222222222222, \"#7201a8\"], [0.3333333333333333, \"#9c179e\"], [0.4444444444444444, \"#bd3786\"], [0.5555555555555556, \"#d8576b\"], [0.6666666666666666, \"#ed7953\"], [0.7777777777777778, \"#fb9f3a\"], [0.8888888888888888, \"#fdca26\"], [1.0, \"#f0f921\"]], \"type\": \"surface\"}], \"table\": [{\"cells\": {\"fill\": {\"color\": \"#EBF0F8\"}, \"line\": {\"color\": \"white\"}}, \"header\": {\"fill\": {\"color\": \"#C8D4E3\"}, \"line\": {\"color\": \"white\"}}, \"type\": \"table\"}]}, \"layout\": {\"annotationdefaults\": {\"arrowcolor\": \"#2a3f5f\", \"arrowhead\": 0, \"arrowwidth\": 1}, \"coloraxis\": {\"colorbar\": {\"outlinewidth\": 0, \"ticks\": \"\"}}, \"colorscale\": {\"diverging\": [[0, \"#8e0152\"], [0.1, \"#c51b7d\"], [0.2, \"#de77ae\"], [0.3, \"#f1b6da\"], [0.4, \"#fde0ef\"], [0.5, \"#f7f7f7\"], [0.6, \"#e6f5d0\"], [0.7, \"#b8e186\"], [0.8, \"#7fbc41\"], [0.9, \"#4d9221\"], [1, \"#276419\"]], \"sequential\": [[0.0, \"#0d0887\"], [0.1111111111111111, \"#46039f\"], [0.2222222222222222, \"#7201a8\"], [0.3333333333333333, \"#9c179e\"], [0.4444444444444444, \"#bd3786\"], [0.5555555555555556, \"#d8576b\"], [0.6666666666666666, \"#ed7953\"], [0.7777777777777778, \"#fb9f3a\"], [0.8888888888888888, \"#fdca26\"], [1.0, \"#f0f921\"]], \"sequentialminus\": [[0.0, \"#0d0887\"], [0.1111111111111111, \"#46039f\"], [0.2222222222222222, \"#7201a8\"], [0.3333333333333333, \"#9c179e\"], [0.4444444444444444, \"#bd3786\"], [0.5555555555555556, \"#d8576b\"], [0.6666666666666666, \"#ed7953\"], [0.7777777777777778, \"#fb9f3a\"], [0.8888888888888888, \"#fdca26\"], [1.0, \"#f0f921\"]]}, \"colorway\": [\"#636efa\", \"#EF553B\", \"#00cc96\", \"#ab63fa\", \"#FFA15A\", \"#19d3f3\", \"#FF6692\", \"#B6E880\", \"#FF97FF\", \"#FECB52\"], \"font\": {\"color\": \"#2a3f5f\"}, \"geo\": {\"bgcolor\": \"white\", \"lakecolor\": \"white\", \"landcolor\": \"#E5ECF6\", \"showlakes\": true, \"showland\": true, \"subunitcolor\": \"white\"}, \"hoverlabel\": {\"align\": \"left\"}, \"hovermode\": \"closest\", \"mapbox\": {\"style\": \"light\"}, \"paper_bgcolor\": \"white\", \"plot_bgcolor\": \"#E5ECF6\", \"polar\": {\"angularaxis\": {\"gridcolor\": \"white\", \"linecolor\": \"white\", \"ticks\": \"\"}, \"bgcolor\": \"#E5ECF6\", \"radialaxis\": {\"gridcolor\": \"white\", \"linecolor\": \"white\", \"ticks\": \"\"}}, \"scene\": {\"xaxis\": {\"backgroundcolor\": \"#E5ECF6\", \"gridcolor\": \"white\", \"gridwidth\": 2, \"linecolor\": \"white\", \"showbackground\": true, \"ticks\": \"\", \"zerolinecolor\": \"white\"}, \"yaxis\": {\"backgroundcolor\": \"#E5ECF6\", \"gridcolor\": \"white\", \"gridwidth\": 2, \"linecolor\": \"white\", \"showbackground\": true, \"ticks\": \"\", \"zerolinecolor\": \"white\"}, \"zaxis\": {\"backgroundcolor\": \"#E5ECF6\", \"gridcolor\": \"white\", \"gridwidth\": 2, \"linecolor\": \"white\", \"showbackground\": true, \"ticks\": \"\", \"zerolinecolor\": \"white\"}}, \"shapedefaults\": {\"line\": {\"color\": \"#2a3f5f\"}}, \"ternary\": {\"aaxis\": {\"gridcolor\": \"white\", \"linecolor\": \"white\", \"ticks\": \"\"}, \"baxis\": {\"gridcolor\": \"white\", \"linecolor\": \"white\", \"ticks\": \"\"}, \"bgcolor\": \"#E5ECF6\", \"caxis\": {\"gridcolor\": \"white\", \"linecolor\": \"white\", \"ticks\": \"\"}}, \"title\": {\"x\": 0.05}, \"xaxis\": {\"automargin\": true, \"gridcolor\": \"white\", \"linecolor\": \"white\", \"ticks\": \"\", \"title\": {\"standoff\": 15}, \"zerolinecolor\": \"white\", \"zerolinewidth\": 2}, \"yaxis\": {\"automargin\": true, \"gridcolor\": \"white\", \"linecolor\": \"white\", \"ticks\": \"\", \"title\": {\"standoff\": 15}, \"zerolinecolor\": \"white\", \"zerolinewidth\": 2}}}, \"title\": {\"text\": \"Slice Plot\"}, \"width\": 2700, \"xaxis\": {\"anchor\": \"y\", \"domain\": [0.0, 0.09135802469135802], \"title\": {\"text\": \"depth\"}}, \"xaxis2\": {\"anchor\": \"y2\", \"domain\": [0.11358024691358025, 0.20493827160493827], \"title\": {\"text\": \"iterations\"}}, \"xaxis3\": {\"anchor\": \"y3\", \"domain\": [0.2271604938271605, 0.31851851851851853], \"title\": {\"text\": \"leaf_estimation_iterations\"}}, \"xaxis4\": {\"anchor\": \"y4\", \"domain\": [0.34074074074074073, 0.43209876543209874], \"title\": {\"text\": \"learning_rate\"}}, \"xaxis5\": {\"anchor\": \"y5\", \"domain\": [0.454320987654321, 0.5456790123456791], \"title\": {\"text\": \"min_data_in_leaf\"}}, \"xaxis6\": {\"anchor\": \"y6\", \"domain\": [0.5679012345679012, 0.6592592592592592], \"title\": {\"text\": \"od_wait\"}}, \"xaxis7\": {\"anchor\": \"y7\", \"domain\": [0.6814814814814815, 0.7728395061728395], \"title\": {\"text\": \"random_strength\"}}, \"xaxis8\": {\"anchor\": \"y8\", \"domain\": [0.7950617283950617, 0.8864197530864197], \"title\": {\"text\": \"reg_lambda\"}}, \"xaxis9\": {\"anchor\": \"y9\", \"domain\": [0.908641975308642, 1.0], \"title\": {\"text\": \"subsample\"}}, \"yaxis\": {\"anchor\": \"x\", \"domain\": [0.0, 1.0], \"title\": {\"text\": \"Objective Value\"}}, \"yaxis2\": {\"anchor\": \"x2\", \"domain\": [0.0, 1.0], \"matches\": \"y\", \"showticklabels\": false}, \"yaxis3\": {\"anchor\": \"x3\", \"domain\": [0.0, 1.0], \"matches\": \"y\", \"showticklabels\": false}, \"yaxis4\": {\"anchor\": \"x4\", \"domain\": [0.0, 1.0], \"matches\": \"y\", \"showticklabels\": false}, \"yaxis5\": {\"anchor\": \"x5\", \"domain\": [0.0, 1.0], \"matches\": \"y\", \"showticklabels\": false}, \"yaxis6\": {\"anchor\": \"x6\", \"domain\": [0.0, 1.0], \"matches\": \"y\", \"showticklabels\": false}, \"yaxis7\": {\"anchor\": \"x7\", \"domain\": [0.0, 1.0], \"matches\": \"y\", \"showticklabels\": false}, \"yaxis8\": {\"anchor\": \"x8\", \"domain\": [0.0, 1.0], \"matches\": \"y\", \"showticklabels\": false}, \"yaxis9\": {\"anchor\": \"x9\", \"domain\": [0.0, 1.0], \"matches\": \"y\", \"showticklabels\": false}},\n",
              "                        {\"responsive\": true}\n",
              "                    ).then(function(){\n",
              "                            \n",
              "var gd = document.getElementById('c22053e8-4e13-4c09-a846-bf312d813ae5');\n",
              "var x = new MutationObserver(function (mutations, observer) {{\n",
              "        var display = window.getComputedStyle(gd).display;\n",
              "        if (!display || display === 'none') {{\n",
              "            console.log([gd, 'removed!']);\n",
              "            Plotly.purge(gd);\n",
              "            observer.disconnect();\n",
              "        }}\n",
              "}});\n",
              "\n",
              "// Listen for the removal of the full notebook cells\n",
              "var notebookContainer = gd.closest('#notebook-container');\n",
              "if (notebookContainer) {{\n",
              "    x.observe(notebookContainer, {childList: true});\n",
              "}}\n",
              "\n",
              "// Listen for the clearing of the current output cell\n",
              "var outputEl = gd.closest('.output');\n",
              "if (outputEl) {{\n",
              "    x.observe(outputEl, {childList: true});\n",
              "}}\n",
              "\n",
              "                        })\n",
              "                };\n",
              "                \n",
              "            </script>\n",
              "        </div>\n",
              "</body>\n",
              "</html>"
            ]
          },
          "metadata": {
            "tags": []
          }
        },
        {
          "output_type": "display_data",
          "data": {
            "text/html": [
              "<html>\n",
              "<head><meta charset=\"utf-8\" /></head>\n",
              "<body>\n",
              "    <div>\n",
              "            <script src=\"https://cdnjs.cloudflare.com/ajax/libs/mathjax/2.7.5/MathJax.js?config=TeX-AMS-MML_SVG\"></script><script type=\"text/javascript\">if (window.MathJax) {MathJax.Hub.Config({SVG: {font: \"STIX-Web\"}});}</script>\n",
              "                <script type=\"text/javascript\">window.PlotlyConfig = {MathJaxConfig: 'local'};</script>\n",
              "        <script src=\"https://cdn.plot.ly/plotly-latest.min.js\"></script>    \n",
              "            <div id=\"0995cb3d-e950-40c5-a515-aa3eab7ad653\" class=\"plotly-graph-div\" style=\"height:525px; width:100%;\"></div>\n",
              "            <script type=\"text/javascript\">\n",
              "                \n",
              "                    window.PLOTLYENV=window.PLOTLYENV || {};\n",
              "                    \n",
              "                if (document.getElementById(\"0995cb3d-e950-40c5-a515-aa3eab7ad653\")) {\n",
              "                    Plotly.newPlot(\n",
              "                        '0995cb3d-e950-40c5-a515-aa3eab7ad653',\n",
              "                        [{\"dimensions\": [{\"label\": \"Objective Value\", \"range\": [1.7451029696916622, 1.748109944775364], \"values\": [1.7475517290197657, 1.746530009869069, 1.746400371649169, 1.748109944775364, 1.7465947826600974, 1.7474099656786515, 1.7458479262869728, 1.7473726389629178, 1.7473827678729799, 1.7452546603418322, 1.7454383570512968, 1.7462246417016778, 1.7458295896690477, 1.7451314700338245, 1.745619726766246, 1.7469002864780332, 1.746074161484668, 1.7461189704019306, 1.7453019832535064, 1.7462970137394513, 1.745902916234771, 1.7452692941624655, 1.7451029696916622, 1.7451228273737278, 1.7458064565335587]}, {\"label\": \"depth\", \"range\": [3, 6], \"values\": [3, 4, 4, 5, 5, 5, 5, 3, 4, 6, 6, 6, 6, 6, 6, 6, 6, 5, 6, 5, 6, 6, 6, 6, 5]}, {\"label\": \"iterations\", \"range\": [7837, 24879], \"values\": [22081, 16107, 23051, 7837, 8561, 10633, 21137, 12020, 12637, 17673, 17665, 17865, 18732, 15303, 14608, 14612, 24879, 20820, 19400, 16079, 14047, 19379, 19581, 17343, 16625]}, {\"label\": \"leaf_estimation_i...\", \"range\": [2, 6], \"values\": [4, 3, 3, 5, 3, 6, 6, 2, 4, 2, 2, 2, 2, 2, 3, 2, 3, 5, 2, 4, 3, 2, 2, 2, 3]}, {\"label\": \"learning_rate\", \"range\": [0.001201978817991051, 0.08940487435096595], \"values\": [0.0523585535392492, 0.020694951401143857, 0.013266322205507153, 0.08940487435096595, 0.051847639930613254, 0.03558483877482585, 0.009700927493295129, 0.05846745451734049, 0.08608747207630392, 0.014174736490140817, 0.0016874297825336618, 0.001201978817991051, 0.03347786451108715, 0.0025553641829274155, 0.024430072222760557, 0.07113034816909905, 0.03823712498063181, 0.0030749668653478617, 0.015569833679796617, 0.025921600027612537, 0.0014635190053216935, 0.01731967973088596, 0.009876655991126419, 0.007933666929867488, 0.007837776980504339]}, {\"label\": \"min_data_in_leaf\", \"range\": [10, 30], \"values\": [17, 17, 20, 10, 28, 30, 27, 13, 28, 20, 23, 22, 23, 24, 25, 17, 20, 14, 25, 19, 25, 26, 22, 22, 22]}, {\"label\": \"od_wait\", \"range\": [1538, 2891], \"values\": [2890, 1934, 2708, 2024, 2482, 2781, 1612, 1538, 2891, 2363, 2344, 2324, 2465, 2091, 1988, 2112, 1795, 2192, 2588, 1740, 2176, 2501, 2429, 2333, 2283]}, {\"label\": \"random_strength\", \"range\": [18.086700126519453, 29.965419880406152], \"values\": [25.383248292425595, 18.674100622696255, 25.9671120082771, 21.96373022691814, 27.327853362663912, 25.28373658367917, 21.22381681406639, 18.086700126519453, 25.501737215394584, 20.629442387538404, 29.61502819684977, 28.885486735161823, 21.59810311874977, 29.811834598299864, 19.85206927527221, 23.235789931897173, 22.900672433164914, 20.345579982546628, 27.670942758083612, 19.33862638199317, 24.269567100494108, 28.425587015156562, 29.442332429053916, 29.827205971007093, 29.965419880406152]}, {\"label\": \"reg_lambda\", \"range\": [50.64443897027989, 98.29738704750187], \"values\": [53.30046637750339, 76.40295318744504, 68.80768412391788, 94.49408043431762, 88.8265560299443, 98.29738704750187, 75.30243026925147, 66.74096285230748, 52.33175708629835, 63.91819499977507, 61.262675395241985, 60.981201516164674, 59.97450248914125, 58.90581768346291, 83.54033041422643, 50.64443897027989, 68.81591565015204, 56.90191741891942, 64.9867731346661, 79.94197587917978, 56.304435706979824, 67.02388276657074, 71.53117835425219, 72.32861753721613, 72.71900246937989]}, {\"label\": \"subsample\", \"range\": [0.0016725576626520633, 0.8561444452479751], \"values\": [0.8322426285324465, 0.5779226659582111, 0.5917359474274496, 0.033697771735656246, 0.8561444452479751, 0.0016725576626520633, 0.6106777045552494, 0.5152141740529858, 0.8333242356914867, 0.15103934369387173, 0.22562898282554636, 0.2182601017873742, 0.25423345497514366, 0.2803752477508894, 0.33529647924209044, 0.09743289130986188, 0.39378640203502946, 0.1319154631507808, 0.4119976109071702, 0.11726613064624752, 0.7050889136259979, 0.41017468074284225, 0.33074164017922814, 0.33426802877805567, 0.31289940592330956]}], \"labelangle\": 30, \"labelside\": \"bottom\", \"line\": {\"color\": [1.7475517290197657, 1.746530009869069, 1.746400371649169, 1.748109944775364, 1.7465947826600974, 1.7474099656786515, 1.7458479262869728, 1.7473726389629178, 1.7473827678729799, 1.7452546603418322, 1.7454383570512968, 1.7462246417016778, 1.7458295896690477, 1.7451314700338245, 1.745619726766246, 1.7469002864780332, 1.746074161484668, 1.7461189704019306, 1.7453019832535064, 1.7462970137394513, 1.745902916234771, 1.7452692941624655, 1.7451029696916622, 1.7451228273737278, 1.7458064565335587], \"colorbar\": {\"title\": {\"text\": \"Objective Value\"}}, \"colorscale\": [[0.0, \"rgb(247,251,255)\"], [0.125, \"rgb(222,235,247)\"], [0.25, \"rgb(198,219,239)\"], [0.375, \"rgb(158,202,225)\"], [0.5, \"rgb(107,174,214)\"], [0.625, \"rgb(66,146,198)\"], [0.75, \"rgb(33,113,181)\"], [0.875, \"rgb(8,81,156)\"], [1.0, \"rgb(8,48,107)\"]], \"reversescale\": true, \"showscale\": true}, \"type\": \"parcoords\"}],\n",
              "                        {\"template\": {\"data\": {\"bar\": [{\"error_x\": {\"color\": \"#2a3f5f\"}, \"error_y\": {\"color\": \"#2a3f5f\"}, \"marker\": {\"line\": {\"color\": \"#E5ECF6\", \"width\": 0.5}}, \"type\": \"bar\"}], \"barpolar\": [{\"marker\": {\"line\": {\"color\": \"#E5ECF6\", \"width\": 0.5}}, \"type\": \"barpolar\"}], \"carpet\": [{\"aaxis\": {\"endlinecolor\": \"#2a3f5f\", \"gridcolor\": \"white\", \"linecolor\": \"white\", \"minorgridcolor\": \"white\", \"startlinecolor\": \"#2a3f5f\"}, \"baxis\": {\"endlinecolor\": \"#2a3f5f\", \"gridcolor\": \"white\", \"linecolor\": \"white\", \"minorgridcolor\": \"white\", \"startlinecolor\": \"#2a3f5f\"}, \"type\": \"carpet\"}], \"choropleth\": [{\"colorbar\": {\"outlinewidth\": 0, \"ticks\": \"\"}, \"type\": \"choropleth\"}], \"contour\": [{\"colorbar\": {\"outlinewidth\": 0, \"ticks\": \"\"}, \"colorscale\": [[0.0, \"#0d0887\"], [0.1111111111111111, \"#46039f\"], [0.2222222222222222, \"#7201a8\"], [0.3333333333333333, \"#9c179e\"], [0.4444444444444444, \"#bd3786\"], [0.5555555555555556, \"#d8576b\"], [0.6666666666666666, \"#ed7953\"], [0.7777777777777778, \"#fb9f3a\"], [0.8888888888888888, \"#fdca26\"], [1.0, \"#f0f921\"]], \"type\": \"contour\"}], \"contourcarpet\": [{\"colorbar\": {\"outlinewidth\": 0, \"ticks\": \"\"}, \"type\": \"contourcarpet\"}], \"heatmap\": [{\"colorbar\": {\"outlinewidth\": 0, \"ticks\": \"\"}, \"colorscale\": [[0.0, \"#0d0887\"], [0.1111111111111111, \"#46039f\"], [0.2222222222222222, \"#7201a8\"], [0.3333333333333333, \"#9c179e\"], [0.4444444444444444, \"#bd3786\"], [0.5555555555555556, \"#d8576b\"], [0.6666666666666666, \"#ed7953\"], [0.7777777777777778, \"#fb9f3a\"], [0.8888888888888888, \"#fdca26\"], [1.0, \"#f0f921\"]], \"type\": \"heatmap\"}], \"heatmapgl\": [{\"colorbar\": {\"outlinewidth\": 0, \"ticks\": \"\"}, \"colorscale\": [[0.0, \"#0d0887\"], [0.1111111111111111, \"#46039f\"], [0.2222222222222222, \"#7201a8\"], [0.3333333333333333, \"#9c179e\"], [0.4444444444444444, \"#bd3786\"], [0.5555555555555556, \"#d8576b\"], [0.6666666666666666, \"#ed7953\"], [0.7777777777777778, \"#fb9f3a\"], [0.8888888888888888, \"#fdca26\"], [1.0, \"#f0f921\"]], \"type\": \"heatmapgl\"}], \"histogram\": [{\"marker\": {\"colorbar\": {\"outlinewidth\": 0, \"ticks\": \"\"}}, \"type\": \"histogram\"}], \"histogram2d\": [{\"colorbar\": {\"outlinewidth\": 0, \"ticks\": \"\"}, \"colorscale\": [[0.0, \"#0d0887\"], [0.1111111111111111, \"#46039f\"], [0.2222222222222222, \"#7201a8\"], [0.3333333333333333, \"#9c179e\"], [0.4444444444444444, \"#bd3786\"], [0.5555555555555556, \"#d8576b\"], [0.6666666666666666, \"#ed7953\"], [0.7777777777777778, \"#fb9f3a\"], [0.8888888888888888, \"#fdca26\"], [1.0, \"#f0f921\"]], \"type\": \"histogram2d\"}], \"histogram2dcontour\": [{\"colorbar\": {\"outlinewidth\": 0, \"ticks\": \"\"}, \"colorscale\": [[0.0, \"#0d0887\"], [0.1111111111111111, \"#46039f\"], [0.2222222222222222, \"#7201a8\"], [0.3333333333333333, \"#9c179e\"], [0.4444444444444444, \"#bd3786\"], [0.5555555555555556, \"#d8576b\"], [0.6666666666666666, \"#ed7953\"], [0.7777777777777778, \"#fb9f3a\"], [0.8888888888888888, \"#fdca26\"], [1.0, \"#f0f921\"]], \"type\": \"histogram2dcontour\"}], \"mesh3d\": [{\"colorbar\": {\"outlinewidth\": 0, \"ticks\": \"\"}, \"type\": \"mesh3d\"}], \"parcoords\": [{\"line\": {\"colorbar\": {\"outlinewidth\": 0, \"ticks\": \"\"}}, \"type\": \"parcoords\"}], \"pie\": [{\"automargin\": true, \"type\": \"pie\"}], \"scatter\": [{\"marker\": {\"colorbar\": {\"outlinewidth\": 0, \"ticks\": \"\"}}, \"type\": \"scatter\"}], \"scatter3d\": [{\"line\": {\"colorbar\": {\"outlinewidth\": 0, \"ticks\": \"\"}}, \"marker\": {\"colorbar\": {\"outlinewidth\": 0, \"ticks\": \"\"}}, \"type\": \"scatter3d\"}], \"scattercarpet\": [{\"marker\": {\"colorbar\": {\"outlinewidth\": 0, \"ticks\": \"\"}}, \"type\": \"scattercarpet\"}], \"scattergeo\": [{\"marker\": {\"colorbar\": {\"outlinewidth\": 0, \"ticks\": \"\"}}, \"type\": \"scattergeo\"}], \"scattergl\": [{\"marker\": {\"colorbar\": {\"outlinewidth\": 0, \"ticks\": \"\"}}, \"type\": \"scattergl\"}], \"scattermapbox\": [{\"marker\": {\"colorbar\": {\"outlinewidth\": 0, \"ticks\": \"\"}}, \"type\": \"scattermapbox\"}], \"scatterpolar\": [{\"marker\": {\"colorbar\": {\"outlinewidth\": 0, \"ticks\": \"\"}}, \"type\": \"scatterpolar\"}], \"scatterpolargl\": [{\"marker\": {\"colorbar\": {\"outlinewidth\": 0, \"ticks\": \"\"}}, \"type\": \"scatterpolargl\"}], \"scatterternary\": [{\"marker\": {\"colorbar\": {\"outlinewidth\": 0, \"ticks\": \"\"}}, \"type\": \"scatterternary\"}], \"surface\": [{\"colorbar\": {\"outlinewidth\": 0, \"ticks\": \"\"}, \"colorscale\": [[0.0, \"#0d0887\"], [0.1111111111111111, \"#46039f\"], [0.2222222222222222, \"#7201a8\"], [0.3333333333333333, \"#9c179e\"], [0.4444444444444444, \"#bd3786\"], [0.5555555555555556, \"#d8576b\"], [0.6666666666666666, \"#ed7953\"], [0.7777777777777778, \"#fb9f3a\"], [0.8888888888888888, \"#fdca26\"], [1.0, \"#f0f921\"]], \"type\": \"surface\"}], \"table\": [{\"cells\": {\"fill\": {\"color\": \"#EBF0F8\"}, \"line\": {\"color\": \"white\"}}, \"header\": {\"fill\": {\"color\": \"#C8D4E3\"}, \"line\": {\"color\": \"white\"}}, \"type\": \"table\"}]}, \"layout\": {\"annotationdefaults\": {\"arrowcolor\": \"#2a3f5f\", \"arrowhead\": 0, \"arrowwidth\": 1}, \"coloraxis\": {\"colorbar\": {\"outlinewidth\": 0, \"ticks\": \"\"}}, \"colorscale\": {\"diverging\": [[0, \"#8e0152\"], [0.1, \"#c51b7d\"], [0.2, \"#de77ae\"], [0.3, \"#f1b6da\"], [0.4, \"#fde0ef\"], [0.5, \"#f7f7f7\"], [0.6, \"#e6f5d0\"], [0.7, \"#b8e186\"], [0.8, \"#7fbc41\"], [0.9, \"#4d9221\"], [1, \"#276419\"]], \"sequential\": [[0.0, \"#0d0887\"], [0.1111111111111111, \"#46039f\"], [0.2222222222222222, \"#7201a8\"], [0.3333333333333333, \"#9c179e\"], [0.4444444444444444, \"#bd3786\"], [0.5555555555555556, \"#d8576b\"], [0.6666666666666666, \"#ed7953\"], [0.7777777777777778, \"#fb9f3a\"], [0.8888888888888888, \"#fdca26\"], [1.0, \"#f0f921\"]], \"sequentialminus\": [[0.0, \"#0d0887\"], [0.1111111111111111, \"#46039f\"], [0.2222222222222222, \"#7201a8\"], [0.3333333333333333, \"#9c179e\"], [0.4444444444444444, \"#bd3786\"], [0.5555555555555556, \"#d8576b\"], [0.6666666666666666, \"#ed7953\"], [0.7777777777777778, \"#fb9f3a\"], [0.8888888888888888, \"#fdca26\"], [1.0, \"#f0f921\"]]}, \"colorway\": [\"#636efa\", \"#EF553B\", \"#00cc96\", \"#ab63fa\", \"#FFA15A\", \"#19d3f3\", \"#FF6692\", \"#B6E880\", \"#FF97FF\", \"#FECB52\"], \"font\": {\"color\": \"#2a3f5f\"}, \"geo\": {\"bgcolor\": \"white\", \"lakecolor\": \"white\", \"landcolor\": \"#E5ECF6\", \"showlakes\": true, \"showland\": true, \"subunitcolor\": \"white\"}, \"hoverlabel\": {\"align\": \"left\"}, \"hovermode\": \"closest\", \"mapbox\": {\"style\": \"light\"}, \"paper_bgcolor\": \"white\", \"plot_bgcolor\": \"#E5ECF6\", \"polar\": {\"angularaxis\": {\"gridcolor\": \"white\", \"linecolor\": \"white\", \"ticks\": \"\"}, \"bgcolor\": \"#E5ECF6\", \"radialaxis\": {\"gridcolor\": \"white\", \"linecolor\": \"white\", \"ticks\": \"\"}}, \"scene\": {\"xaxis\": {\"backgroundcolor\": \"#E5ECF6\", \"gridcolor\": \"white\", \"gridwidth\": 2, \"linecolor\": \"white\", \"showbackground\": true, \"ticks\": \"\", \"zerolinecolor\": \"white\"}, \"yaxis\": {\"backgroundcolor\": \"#E5ECF6\", \"gridcolor\": \"white\", \"gridwidth\": 2, \"linecolor\": \"white\", \"showbackground\": true, \"ticks\": \"\", \"zerolinecolor\": \"white\"}, \"zaxis\": {\"backgroundcolor\": \"#E5ECF6\", \"gridcolor\": \"white\", \"gridwidth\": 2, \"linecolor\": \"white\", \"showbackground\": true, \"ticks\": \"\", \"zerolinecolor\": \"white\"}}, \"shapedefaults\": {\"line\": {\"color\": \"#2a3f5f\"}}, \"ternary\": {\"aaxis\": {\"gridcolor\": \"white\", \"linecolor\": \"white\", \"ticks\": \"\"}, \"baxis\": {\"gridcolor\": \"white\", \"linecolor\": \"white\", \"ticks\": \"\"}, \"bgcolor\": \"#E5ECF6\", \"caxis\": {\"gridcolor\": \"white\", \"linecolor\": \"white\", \"ticks\": \"\"}}, \"title\": {\"x\": 0.05}, \"xaxis\": {\"automargin\": true, \"gridcolor\": \"white\", \"linecolor\": \"white\", \"ticks\": \"\", \"title\": {\"standoff\": 15}, \"zerolinecolor\": \"white\", \"zerolinewidth\": 2}, \"yaxis\": {\"automargin\": true, \"gridcolor\": \"white\", \"linecolor\": \"white\", \"ticks\": \"\", \"title\": {\"standoff\": 15}, \"zerolinecolor\": \"white\", \"zerolinewidth\": 2}}}, \"title\": {\"text\": \"Parallel Coordinate Plot\"}},\n",
              "                        {\"responsive\": true}\n",
              "                    ).then(function(){\n",
              "                            \n",
              "var gd = document.getElementById('0995cb3d-e950-40c5-a515-aa3eab7ad653');\n",
              "var x = new MutationObserver(function (mutations, observer) {{\n",
              "        var display = window.getComputedStyle(gd).display;\n",
              "        if (!display || display === 'none') {{\n",
              "            console.log([gd, 'removed!']);\n",
              "            Plotly.purge(gd);\n",
              "            observer.disconnect();\n",
              "        }}\n",
              "}});\n",
              "\n",
              "// Listen for the removal of the full notebook cells\n",
              "var notebookContainer = gd.closest('#notebook-container');\n",
              "if (notebookContainer) {{\n",
              "    x.observe(notebookContainer, {childList: true});\n",
              "}}\n",
              "\n",
              "// Listen for the clearing of the current output cell\n",
              "var outputEl = gd.closest('.output');\n",
              "if (outputEl) {{\n",
              "    x.observe(outputEl, {childList: true});\n",
              "}}\n",
              "\n",
              "                        })\n",
              "                };\n",
              "                \n",
              "            </script>\n",
              "        </div>\n",
              "</body>\n",
              "</html>"
            ]
          },
          "metadata": {
            "tags": []
          }
        }
      ]
    },
    {
      "cell_type": "code",
      "metadata": {
        "colab": {
          "base_uri": "https://localhost:8080/"
        },
        "id": "8P867NFQA-zm",
        "outputId": "550b354a-0aa9-40bf-9e85-9af3d1332b89"
      },
      "source": [
        "from sklearn.model_selection import StratifiedKFold\n",
        "\n",
        "cat_params = study.best_trial.params\n",
        "cat_params['loss_function'] = 'MultiClass'\n",
        "cat_params['eval_metric'] = 'MultiClass'\n",
        "cat_params['bootstrap_type']= 'Bernoulli'\n",
        "cat_params['leaf_estimation_method'] = 'Newton'\n",
        "cat_params['random_state'] = 42\n",
        "cat_params['task_type']='GPU'\n",
        "test_preds= None\n",
        "\n",
        "splits_num = 25\n",
        "\n",
        "kf = StratifiedKFold(n_splits = splits_num , shuffle = True , random_state = 42)\n",
        "for fold, (tr_index , val_index) in enumerate(kf.split(X.values , Y.values)):\n",
        "    \n",
        "    print(\"-\" * 50)\n",
        "    print(f\"Fold {fold + 1}\")\n",
        "    \n",
        "    x_train,x_val = X.values[tr_index] , X.values[val_index]\n",
        "    y_train,y_val = Y.values[tr_index] , Y.values[val_index]\n",
        "        \n",
        "    eval_set = [(x_val, y_val)]\n",
        "    \n",
        "    model =CatBoostClassifier(**cat_params)\n",
        "    model.fit(x_train, y_train, eval_set = eval_set, verbose = False)\n",
        "    \n",
        "    train_preds = model.predict(x_train)    \n",
        "    val_preds = model.predict_proba(x_val)\n",
        "    \n",
        "    print(log_loss(y_val, val_preds))\n",
        "    \n",
        "    if test_preds is None:\n",
        "        test_preds = model.predict_proba(test[indep_vars].values)\n",
        "    else:\n",
        "        test_preds += model.predict_proba(test[indep_vars].values)\n",
        "\n",
        "print(\"-\" * 50)\n",
        "test_preds /= splits_num"
      ],
      "execution_count": null,
      "outputs": [
        {
          "output_type": "stream",
          "text": [
            "--------------------------------------------------\n",
            "Fold 1\n",
            "1.749131290962051\n",
            "--------------------------------------------------\n",
            "Fold 2\n",
            "1.7529425231280356\n",
            "--------------------------------------------------\n",
            "Fold 3\n",
            "1.7441613430391134\n",
            "--------------------------------------------------\n",
            "Fold 4\n",
            "1.7507247405855506\n",
            "--------------------------------------------------\n",
            "Fold 5\n",
            "1.749730703947867\n",
            "--------------------------------------------------\n",
            "Fold 6\n",
            "1.7416265027557527\n",
            "--------------------------------------------------\n",
            "Fold 7\n",
            "1.7389727740147918\n",
            "--------------------------------------------------\n",
            "Fold 8\n",
            "1.7461709330254438\n",
            "--------------------------------------------------\n",
            "Fold 9\n",
            "1.7471508960803261\n",
            "--------------------------------------------------\n",
            "Fold 10\n",
            "1.7329933410159393\n",
            "--------------------------------------------------\n",
            "Fold 11\n",
            "1.744993746290057\n",
            "--------------------------------------------------\n",
            "Fold 12\n",
            "1.7385173930583442\n",
            "--------------------------------------------------\n",
            "Fold 13\n",
            "1.7469541940063509\n",
            "--------------------------------------------------\n",
            "Fold 14\n",
            "1.7417066228071663\n",
            "--------------------------------------------------\n",
            "Fold 15\n",
            "1.7476072977082582\n",
            "--------------------------------------------------\n",
            "Fold 16\n",
            "1.7391476840534388\n",
            "--------------------------------------------------\n",
            "Fold 17\n",
            "1.743906119554551\n",
            "--------------------------------------------------\n",
            "Fold 18\n",
            "1.7485591143782357\n",
            "--------------------------------------------------\n",
            "Fold 19\n",
            "1.744438403016501\n",
            "--------------------------------------------------\n",
            "Fold 20\n",
            "1.7519072645447469\n",
            "--------------------------------------------------\n",
            "Fold 21\n",
            "1.7449992198432482\n",
            "--------------------------------------------------\n",
            "Fold 22\n",
            "1.7426330478083867\n",
            "--------------------------------------------------\n",
            "Fold 23\n",
            "1.743329307101937\n",
            "--------------------------------------------------\n",
            "Fold 24\n",
            "1.7427386418620936\n",
            "--------------------------------------------------\n",
            "Fold 25\n",
            "1.748528083535207\n",
            "--------------------------------------------------\n"
          ],
          "name": "stdout"
        }
      ]
    },
    {
      "cell_type": "code",
      "metadata": {
        "colab": {
          "base_uri": "https://localhost:8080/"
        },
        "id": "FOPzs5gbzivD",
        "outputId": "75a7059d-8e2e-4724-bf88-28591ba63588"
      },
      "source": [
        "y_train"
      ],
      "execution_count": null,
      "outputs": [
        {
          "output_type": "execute_result",
          "data": {
            "text/plain": [
              "['Class_6', 'Class_6', 'Class_2', 'Class_8', 'Class_2', ..., 'Class_6', 'Class_6', 'Class_8', 'Class_7', 'Class_8']\n",
              "Length: 199600\n",
              "Categories (9, object): ['Class_1', 'Class_2', 'Class_3', 'Class_4', ..., 'Class_6', 'Class_7',\n",
              "                         'Class_8', 'Class_9']"
            ]
          },
          "metadata": {
            "tags": []
          },
          "execution_count": 27
        }
      ]
    },
    {
      "cell_type": "code",
      "metadata": {
        "colab": {
          "base_uri": "https://localhost:8080/"
        },
        "id": "RiSliE-yBLGr",
        "outputId": "bb2bcd44-c8d7-40ef-d9ff-caec3bf815fc"
      },
      "source": [
        "submission = pd.read_csv(\"sample_submission.csv.zip\")\n",
        "submission['Class_1']=test_preds[:,0]\n",
        "submission['Class_2']=test_preds[:,1]\n",
        "submission['Class_3']=test_preds[:,2]\n",
        "submission['Class_4']=test_preds[:,3]\n",
        "submission['Class_5']=test_preds[:,4]\n",
        "submission['Class_6']=test_preds[:,5]\n",
        "submission['Class_7']=test_preds[:,6]\n",
        "submission['Class_8']=test_preds[:,7]\n",
        "submission['Class_9']=test_preds[:,8]\n",
        "\n",
        "\n",
        "submission.to_csv('submission.csv', index=False)\n",
        "!kaggle competitions submit -c tabular-playground-series-jun-2021 -f submission.csv -m \"Optimizing the hyperparameters using optuna -v2\""
      ],
      "execution_count": null,
      "outputs": [
        {
          "output_type": "stream",
          "text": [
            "Warning: Looks like you're using an outdated API Version, please consider updating (server 1.5.12 / client 1.5.4)\n",
            "100% 17.9M/17.9M [00:03<00:00, 5.83MB/s]\n",
            "Successfully submitted to Tabular Playground Series - Jun 2021"
          ],
          "name": "stdout"
        }
      ]
    },
    {
      "cell_type": "code",
      "metadata": {
        "id": "RPGHmMzROLBd"
      },
      "source": [
        "model.save_model('Catboost_optuna.model')"
      ],
      "execution_count": null,
      "outputs": []
    },
    {
      "cell_type": "markdown",
      "metadata": {
        "id": "xOUi69EOEwUM"
      },
      "source": [
        "That helped reduce the error a bit, but I think I need to do quite a bit more to end up doing better than May \n",
        "\n",
        "![image.png](data:image/png;base64,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)"
      ]
    },
    {
      "cell_type": "markdown",
      "metadata": {
        "id": "CCYq0aE8a3AE"
      },
      "source": [
        "Was able to crank up the model and reduce the error again.\n",
        "\n",
        "![image.png](data:image/png;base64,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)"
      ]
    },
    {
      "cell_type": "markdown",
      "metadata": {
        "id": "8mkoOP3Xer35"
      },
      "source": [
        "## Rerun the model and look at feature importances\n",
        "\n",
        "I am now planning to rerun a simpler model using catboost for some iteratiosn and get a sense of the features that are most important for our model. And then rerun the optuna with the reduced number of features to get the final result"
      ]
    },
    {
      "cell_type": "code",
      "metadata": {
        "id": "SCxDKQ-oEn4b"
      },
      "source": [
        "from sklearn.model_selection import train_test_split\n",
        "\n",
        "data = train_test_split(train[indep_vars], train[dep_var], test_size=0.2, random_state=0)\n",
        "X_train, X_validation, y_train, y_validation = data\n",
        "\n",
        "train_pool = Pool(\n",
        "    data=X_train, \n",
        "    label=y_train, \n",
        "    cat_features=indep_vars\n",
        ")\n",
        "\n",
        "validation_pool = Pool(\n",
        "    data=X_validation, \n",
        "    label=y_validation, \n",
        "    cat_features=indep_vars\n",
        ")\n"
      ],
      "execution_count": null,
      "outputs": []
    },
    {
      "cell_type": "code",
      "metadata": {
        "colab": {
          "base_uri": "https://localhost:8080/",
          "height": 377
        },
        "id": "oyPlssbyfynC",
        "outputId": "4c40dc9d-da19-4700-ea3b-be80b726cee6"
      },
      "source": [
        "model_prev = CatBoostClassifier()\n",
        "model_prev.load_model(\"/content/Catboost_optuna_Jun21.model\")"
      ],
      "execution_count": null,
      "outputs": [
        {
          "output_type": "error",
          "ename": "CatBoostError",
          "evalue": "ignored",
          "traceback": [
            "\u001b[0;31m---------------------------------------------------------------------------\u001b[0m",
            "\u001b[0;31mCatBoostError\u001b[0m                             Traceback (most recent call last)",
            "\u001b[0;32m<ipython-input-8-719e78ae1a88>\u001b[0m in \u001b[0;36m<module>\u001b[0;34m()\u001b[0m\n\u001b[1;32m      1\u001b[0m \u001b[0mmodel_prev\u001b[0m \u001b[0;34m=\u001b[0m \u001b[0mCatBoostClassifier\u001b[0m\u001b[0;34m(\u001b[0m\u001b[0;34m)\u001b[0m\u001b[0;34m\u001b[0m\u001b[0;34m\u001b[0m\u001b[0m\n\u001b[0;32m----> 2\u001b[0;31m \u001b[0mmodel_prev\u001b[0m\u001b[0;34m.\u001b[0m\u001b[0mload_model\u001b[0m\u001b[0;34m(\u001b[0m\u001b[0;34m\"/content/Catboost_optuna_Jun21.model\"\u001b[0m\u001b[0;34m)\u001b[0m\u001b[0;34m\u001b[0m\u001b[0;34m\u001b[0m\u001b[0m\n\u001b[0m",
            "\u001b[0;32m/usr/local/lib/python3.7/dist-packages/catboost/core.py\u001b[0m in \u001b[0;36mload_model\u001b[0;34m(self, fname, format, stream, blob)\u001b[0m\n\u001b[1;32m   2971\u001b[0m \u001b[0;34m\u001b[0m\u001b[0m\n\u001b[1;32m   2972\u001b[0m         \u001b[0;32mif\u001b[0m \u001b[0mfname\u001b[0m \u001b[0;32mis\u001b[0m \u001b[0;32mnot\u001b[0m \u001b[0;32mNone\u001b[0m\u001b[0;34m:\u001b[0m\u001b[0;34m\u001b[0m\u001b[0;34m\u001b[0m\u001b[0m\n\u001b[0;32m-> 2973\u001b[0;31m             \u001b[0mself\u001b[0m\u001b[0;34m.\u001b[0m\u001b[0m_load_model\u001b[0m\u001b[0;34m(\u001b[0m\u001b[0mfname\u001b[0m\u001b[0;34m,\u001b[0m \u001b[0mformat\u001b[0m\u001b[0;34m)\u001b[0m\u001b[0;34m\u001b[0m\u001b[0;34m\u001b[0m\u001b[0m\n\u001b[0m\u001b[1;32m   2974\u001b[0m         \u001b[0;32melif\u001b[0m \u001b[0mstream\u001b[0m \u001b[0;32mis\u001b[0m \u001b[0;32mnot\u001b[0m \u001b[0;32mNone\u001b[0m\u001b[0;34m:\u001b[0m\u001b[0;34m\u001b[0m\u001b[0;34m\u001b[0m\u001b[0m\n\u001b[1;32m   2975\u001b[0m             \u001b[0mself\u001b[0m\u001b[0;34m.\u001b[0m\u001b[0m_load_from_stream\u001b[0m\u001b[0;34m(\u001b[0m\u001b[0mstream\u001b[0m\u001b[0;34m)\u001b[0m\u001b[0;34m\u001b[0m\u001b[0;34m\u001b[0m\u001b[0m\n",
            "\u001b[0;32m/usr/local/lib/python3.7/dist-packages/catboost/core.py\u001b[0m in \u001b[0;36m_load_model\u001b[0;34m(self, model_file, format)\u001b[0m\n\u001b[1;32m   1519\u001b[0m             \u001b[0;32mraise\u001b[0m \u001b[0mCatBoostError\u001b[0m\u001b[0;34m(\u001b[0m\u001b[0;34m\"Invalid fname type={}: must be str() or pathlib.Path().\"\u001b[0m\u001b[0;34m.\u001b[0m\u001b[0mformat\u001b[0m\u001b[0;34m(\u001b[0m\u001b[0mtype\u001b[0m\u001b[0;34m(\u001b[0m\u001b[0mmodel_file\u001b[0m\u001b[0;34m)\u001b[0m\u001b[0;34m)\u001b[0m\u001b[0;34m)\u001b[0m\u001b[0;34m\u001b[0m\u001b[0;34m\u001b[0m\u001b[0m\n\u001b[1;32m   1520\u001b[0m \u001b[0;34m\u001b[0m\u001b[0m\n\u001b[0;32m-> 1521\u001b[0;31m         \u001b[0mself\u001b[0m\u001b[0;34m.\u001b[0m\u001b[0m_object\u001b[0m\u001b[0;34m.\u001b[0m\u001b[0m_load_model\u001b[0m\u001b[0;34m(\u001b[0m\u001b[0mmodel_file\u001b[0m\u001b[0;34m,\u001b[0m \u001b[0mformat\u001b[0m\u001b[0;34m)\u001b[0m\u001b[0;34m\u001b[0m\u001b[0;34m\u001b[0m\u001b[0m\n\u001b[0m\u001b[1;32m   1522\u001b[0m         \u001b[0mself\u001b[0m\u001b[0;34m.\u001b[0m\u001b[0m_set_trained_model_attributes\u001b[0m\u001b[0;34m(\u001b[0m\u001b[0;34m)\u001b[0m\u001b[0;34m\u001b[0m\u001b[0;34m\u001b[0m\u001b[0m\n\u001b[1;32m   1523\u001b[0m         \u001b[0;32mfor\u001b[0m \u001b[0mkey\u001b[0m\u001b[0;34m,\u001b[0m \u001b[0mvalue\u001b[0m \u001b[0;32min\u001b[0m \u001b[0miteritems\u001b[0m\u001b[0;34m(\u001b[0m\u001b[0mself\u001b[0m\u001b[0;34m.\u001b[0m\u001b[0m_get_params\u001b[0m\u001b[0;34m(\u001b[0m\u001b[0;34m)\u001b[0m\u001b[0;34m)\u001b[0m\u001b[0;34m:\u001b[0m\u001b[0;34m\u001b[0m\u001b[0;34m\u001b[0m\u001b[0m\n",
            "\u001b[0;32m_catboost.pyx\u001b[0m in \u001b[0;36m_catboost._CatBoost._load_model\u001b[0;34m()\u001b[0m\n",
            "\u001b[0;32m_catboost.pyx\u001b[0m in \u001b[0;36m_catboost._CatBoost._load_model\u001b[0;34m()\u001b[0m\n",
            "\u001b[0;31mCatBoostError\u001b[0m: catboost/libs/model/model_import_interface.h:19: Model file doesn't exist: /content/Catboost_optuna_Jun21.model"
          ]
        }
      ]
    },
    {
      "cell_type": "code",
      "metadata": {
        "colab": {
          "base_uri": "https://localhost:8080/"
        },
        "id": "YnzYE-uwoK75",
        "outputId": "8bac6c49-d47e-4826-8c1f-3e43f3c8b6e2"
      },
      "source": [
        "prev_params = model_prev.get_all_params()\n",
        "model_feature = CatBoostClassifier()\n",
        "\n",
        "model_feature.set_params(**prev_params)"
      ],
      "execution_count": null,
      "outputs": [
        {
          "output_type": "execute_result",
          "data": {
            "text/plain": [
              "<catboost.core.CatBoostClassifier at 0x7f7c16e0ff50>"
            ]
          },
          "metadata": {
            "tags": []
          },
          "execution_count": 53
        }
      ]
    },
    {
      "cell_type": "code",
      "metadata": {
        "colab": {
          "base_uri": "https://localhost:8080/",
          "height": 653
        },
        "id": "Zb4lk0xNrYRd",
        "outputId": "b01e369d-5bd0-4cc4-bef8-f5f363d4389e"
      },
      "source": [
        "model_feature.fit( ,  eval_set=validation_pool)"
      ],
      "execution_count": null,
      "outputs": [
        {
          "output_type": "error",
          "ename": "CatBoostError",
          "evalue": "ignored",
          "traceback": [
            "\u001b[0;31m---------------------------------------------------------------------------\u001b[0m",
            "\u001b[0;31mCatBoostError\u001b[0m                             Traceback (most recent call last)",
            "\u001b[0;32m<ipython-input-56-57581050d03d>\u001b[0m in \u001b[0;36m<module>\u001b[0;34m()\u001b[0m\n\u001b[1;32m      1\u001b[0m model_feature.fit(train_pool,\n\u001b[0;32m----> 2\u001b[0;31m     eval_set=validation_pool)\n\u001b[0m",
            "\u001b[0;32m/usr/local/lib/python3.7/dist-packages/catboost/core.py\u001b[0m in \u001b[0;36mfit\u001b[0;34m(self, X, y, cat_features, text_features, embedding_features, sample_weight, baseline, use_best_model, eval_set, verbose, logging_level, plot, column_description, verbose_eval, metric_period, silent, early_stopping_rounds, save_snapshot, snapshot_file, snapshot_interval, init_model, callbacks, log_cout, log_cerr)\u001b[0m\n\u001b[1;32m   4673\u001b[0m         self._fit(X, y, cat_features, text_features, embedding_features, None, sample_weight, None, None, None, None, baseline, use_best_model,\n\u001b[1;32m   4674\u001b[0m                   \u001b[0meval_set\u001b[0m\u001b[0;34m,\u001b[0m \u001b[0mverbose\u001b[0m\u001b[0;34m,\u001b[0m \u001b[0mlogging_level\u001b[0m\u001b[0;34m,\u001b[0m \u001b[0mplot\u001b[0m\u001b[0;34m,\u001b[0m \u001b[0mcolumn_description\u001b[0m\u001b[0;34m,\u001b[0m \u001b[0mverbose_eval\u001b[0m\u001b[0;34m,\u001b[0m \u001b[0mmetric_period\u001b[0m\u001b[0;34m,\u001b[0m\u001b[0;34m\u001b[0m\u001b[0;34m\u001b[0m\u001b[0m\n\u001b[0;32m-> 4675\u001b[0;31m                   silent, early_stopping_rounds, save_snapshot, snapshot_file, snapshot_interval, init_model, callbacks, log_cout, log_cerr)\n\u001b[0m\u001b[1;32m   4676\u001b[0m         \u001b[0;32mreturn\u001b[0m \u001b[0mself\u001b[0m\u001b[0;34m\u001b[0m\u001b[0;34m\u001b[0m\u001b[0m\n\u001b[1;32m   4677\u001b[0m \u001b[0;34m\u001b[0m\u001b[0m\n",
            "\u001b[0;32m/usr/local/lib/python3.7/dist-packages/catboost/core.py\u001b[0m in \u001b[0;36m_fit\u001b[0;34m(self, X, y, cat_features, text_features, embedding_features, pairs, sample_weight, group_id, group_weight, subgroup_id, pairs_weight, baseline, use_best_model, eval_set, verbose, logging_level, plot, column_description, verbose_eval, metric_period, silent, early_stopping_rounds, save_snapshot, snapshot_file, snapshot_interval, init_model, callbacks, log_cout, log_cerr)\u001b[0m\n\u001b[1;32m   1984\u001b[0m             \u001b[0msilent\u001b[0m\u001b[0;34m=\u001b[0m\u001b[0msilent\u001b[0m\u001b[0;34m,\u001b[0m \u001b[0mearly_stopping_rounds\u001b[0m\u001b[0;34m=\u001b[0m\u001b[0mearly_stopping_rounds\u001b[0m\u001b[0;34m,\u001b[0m \u001b[0msave_snapshot\u001b[0m\u001b[0;34m=\u001b[0m\u001b[0msave_snapshot\u001b[0m\u001b[0;34m,\u001b[0m\u001b[0;34m\u001b[0m\u001b[0;34m\u001b[0m\u001b[0m\n\u001b[1;32m   1985\u001b[0m             \u001b[0msnapshot_file\u001b[0m\u001b[0;34m=\u001b[0m\u001b[0msnapshot_file\u001b[0m\u001b[0;34m,\u001b[0m \u001b[0msnapshot_interval\u001b[0m\u001b[0;34m=\u001b[0m\u001b[0msnapshot_interval\u001b[0m\u001b[0;34m,\u001b[0m \u001b[0minit_model\u001b[0m\u001b[0;34m=\u001b[0m\u001b[0minit_model\u001b[0m\u001b[0;34m,\u001b[0m\u001b[0;34m\u001b[0m\u001b[0;34m\u001b[0m\u001b[0m\n\u001b[0;32m-> 1986\u001b[0;31m             \u001b[0mcallbacks\u001b[0m\u001b[0;34m=\u001b[0m\u001b[0mcallbacks\u001b[0m\u001b[0;34m\u001b[0m\u001b[0;34m\u001b[0m\u001b[0m\n\u001b[0m\u001b[1;32m   1987\u001b[0m         )\n\u001b[1;32m   1988\u001b[0m         \u001b[0mparams\u001b[0m \u001b[0;34m=\u001b[0m \u001b[0mtrain_params\u001b[0m\u001b[0;34m[\u001b[0m\u001b[0;34m\"params\"\u001b[0m\u001b[0;34m]\u001b[0m\u001b[0;34m\u001b[0m\u001b[0;34m\u001b[0m\u001b[0m\n",
            "\u001b[0;32m/usr/local/lib/python3.7/dist-packages/catboost/core.py\u001b[0m in \u001b[0;36m_prepare_train_params\u001b[0;34m(self, X, y, cat_features, text_features, embedding_features, pairs, sample_weight, group_id, group_weight, subgroup_id, pairs_weight, baseline, use_best_model, eval_set, verbose, logging_level, plot, column_description, verbose_eval, metric_period, silent, early_stopping_rounds, save_snapshot, snapshot_file, snapshot_interval, init_model, callbacks)\u001b[0m\n\u001b[1;32m   1908\u001b[0m         \u001b[0m_check_param_types\u001b[0m\u001b[0;34m(\u001b[0m\u001b[0mparams\u001b[0m\u001b[0;34m)\u001b[0m\u001b[0;34m\u001b[0m\u001b[0;34m\u001b[0m\u001b[0m\n\u001b[1;32m   1909\u001b[0m         \u001b[0mparams\u001b[0m \u001b[0;34m=\u001b[0m \u001b[0m_params_type_cast\u001b[0m\u001b[0;34m(\u001b[0m\u001b[0mparams\u001b[0m\u001b[0;34m)\u001b[0m\u001b[0;34m\u001b[0m\u001b[0;34m\u001b[0m\u001b[0m\n\u001b[0;32m-> 1910\u001b[0;31m         \u001b[0m_check_train_params\u001b[0m\u001b[0;34m(\u001b[0m\u001b[0mparams\u001b[0m\u001b[0;34m)\u001b[0m\u001b[0;34m\u001b[0m\u001b[0;34m\u001b[0m\u001b[0m\n\u001b[0m\u001b[1;32m   1911\u001b[0m \u001b[0;34m\u001b[0m\u001b[0m\n\u001b[1;32m   1912\u001b[0m         \u001b[0meval_set_list\u001b[0m \u001b[0;34m=\u001b[0m \u001b[0meval_set\u001b[0m \u001b[0;32mif\u001b[0m \u001b[0misinstance\u001b[0m\u001b[0;34m(\u001b[0m\u001b[0meval_set\u001b[0m\u001b[0;34m,\u001b[0m \u001b[0mlist\u001b[0m\u001b[0;34m)\u001b[0m \u001b[0;32melse\u001b[0m \u001b[0;34m[\u001b[0m\u001b[0meval_set\u001b[0m\u001b[0;34m]\u001b[0m\u001b[0;34m\u001b[0m\u001b[0;34m\u001b[0m\u001b[0m\n",
            "\u001b[0;32m_catboost.pyx\u001b[0m in \u001b[0;36m_catboost._check_train_params\u001b[0;34m()\u001b[0m\n",
            "\u001b[0;32m_catboost.pyx\u001b[0m in \u001b[0;36m_catboost._check_train_params\u001b[0;34m()\u001b[0m\n",
            "\u001b[0;31mCatBoostError\u001b[0m: catboost/private/libs/options/plain_options_helper.cpp:501: Unknown option {pinned_memory_bytes} with value \"104857600\""
          ]
        }
      ]
    },
    {
      "cell_type": "markdown",
      "metadata": {
        "id": "xr6gBvfBgxmE"
      },
      "source": [
        "USing Loss Function Change: This methodology meaures how much the loss function cahnges based on the fetaure changes. In this porcess we are training the model with the feature and then train the modle without the feature (This second precess is approximated by using we atre removing thsi feature from all the tress and avaraging the leaf values ad then saying that this would be the effect of dropping this feature from the prediction) This loss function change works well but is time-consuming. These feature importances is both positiove and negative and I will remove the features that affect the loss function negatively.\n"
      ]
    },
    {
      "cell_type": "code",
      "metadata": {
        "colab": {
          "base_uri": "https://localhost:8080/",
          "height": 377
        },
        "id": "oPwnZ7Z3kY_J",
        "outputId": "9d716cc5-6411-42ca-d6e4-b369a78ba41d"
      },
      "source": [
        "model_prev.get_feature_importance(train_pool, 'LossFunctionChange', prettified=True)"
      ],
      "execution_count": null,
      "outputs": [
        {
          "output_type": "stream",
          "text": [
            "Custom logger is already specified. Specify more than one logger at same time is not thread safe."
          ],
          "name": "stderr"
        },
        {
          "output_type": "error",
          "ename": "CatBoostError",
          "evalue": "ignored",
          "traceback": [
            "\u001b[0;31m---------------------------------------------------------------------------\u001b[0m",
            "\u001b[0;31mCatBoostError\u001b[0m                             Traceback (most recent call last)",
            "\u001b[0;32m<ipython-input-46-140a894ae461>\u001b[0m in \u001b[0;36m<module>\u001b[0;34m()\u001b[0m\n\u001b[0;32m----> 1\u001b[0;31m \u001b[0mmodel_prev\u001b[0m\u001b[0;34m.\u001b[0m\u001b[0mget_feature_importance\u001b[0m\u001b[0;34m(\u001b[0m\u001b[0mtrain_pool\u001b[0m\u001b[0;34m,\u001b[0m \u001b[0;34m'LossFunctionChange'\u001b[0m\u001b[0;34m,\u001b[0m \u001b[0mprettified\u001b[0m\u001b[0;34m=\u001b[0m\u001b[0;32mTrue\u001b[0m\u001b[0;34m)\u001b[0m\u001b[0;34m\u001b[0m\u001b[0;34m\u001b[0m\u001b[0m\n\u001b[0m",
            "\u001b[0;32m/usr/local/lib/python3.7/dist-packages/catboost/core.py\u001b[0m in \u001b[0;36mget_feature_importance\u001b[0;34m(self, data, type, prettified, thread_count, verbose, fstr_type, shap_mode, model_output, interaction_indices, shap_calc_type, reference_data, log_cout, log_cerr)\u001b[0m\n\u001b[1;32m   2772\u001b[0m             \u001b[0mshap_calc_type\u001b[0m \u001b[0;34m=\u001b[0m \u001b[0menum_from_enum_or_str\u001b[0m\u001b[0;34m(\u001b[0m\u001b[0mEShapCalcType\u001b[0m\u001b[0;34m,\u001b[0m \u001b[0mshap_calc_type\u001b[0m\u001b[0;34m)\u001b[0m\u001b[0;34m.\u001b[0m\u001b[0mvalue\u001b[0m\u001b[0;34m\u001b[0m\u001b[0;34m\u001b[0m\u001b[0m\n\u001b[1;32m   2773\u001b[0m             fstr, feature_names = self._calc_fstr(type, data, reference_data, thread_count, verbose, model_output, shap_mode, interaction_indices,\n\u001b[0;32m-> 2774\u001b[0;31m                                                   shap_calc_type)\n\u001b[0m\u001b[1;32m   2775\u001b[0m         \u001b[0;32mif\u001b[0m \u001b[0mtype\u001b[0m \u001b[0;32min\u001b[0m \u001b[0;34m(\u001b[0m\u001b[0mEFstrType\u001b[0m\u001b[0;34m.\u001b[0m\u001b[0mPredictionValuesChange\u001b[0m\u001b[0;34m,\u001b[0m \u001b[0mEFstrType\u001b[0m\u001b[0;34m.\u001b[0m\u001b[0mLossFunctionChange\u001b[0m\u001b[0;34m,\u001b[0m \u001b[0mEFstrType\u001b[0m\u001b[0;34m.\u001b[0m\u001b[0mPredictionDiff\u001b[0m\u001b[0;34m)\u001b[0m\u001b[0;34m:\u001b[0m\u001b[0;34m\u001b[0m\u001b[0;34m\u001b[0m\u001b[0m\n\u001b[1;32m   2776\u001b[0m             \u001b[0mfeature_importances\u001b[0m \u001b[0;34m=\u001b[0m \u001b[0;34m[\u001b[0m\u001b[0mvalue\u001b[0m\u001b[0;34m[\u001b[0m\u001b[0;36m0\u001b[0m\u001b[0;34m]\u001b[0m \u001b[0;32mfor\u001b[0m \u001b[0mvalue\u001b[0m \u001b[0;32min\u001b[0m \u001b[0mfstr\u001b[0m\u001b[0;34m]\u001b[0m\u001b[0;34m\u001b[0m\u001b[0;34m\u001b[0m\u001b[0m\n",
            "\u001b[0;32m/usr/local/lib/python3.7/dist-packages/catboost/core.py\u001b[0m in \u001b[0;36m_calc_fstr\u001b[0;34m(self, type, pool, reference_data, thread_count, verbose, model_output, shap_mode, interaction_indices, shap_calc_type)\u001b[0m\n\u001b[1;32m   1494\u001b[0m \u001b[0;34m\u001b[0m\u001b[0m\n\u001b[1;32m   1495\u001b[0m     \u001b[0;32mdef\u001b[0m \u001b[0m_calc_fstr\u001b[0m\u001b[0;34m(\u001b[0m\u001b[0mself\u001b[0m\u001b[0;34m,\u001b[0m \u001b[0mtype\u001b[0m\u001b[0;34m,\u001b[0m \u001b[0mpool\u001b[0m\u001b[0;34m,\u001b[0m \u001b[0mreference_data\u001b[0m\u001b[0;34m,\u001b[0m \u001b[0mthread_count\u001b[0m\u001b[0;34m,\u001b[0m \u001b[0mverbose\u001b[0m\u001b[0;34m,\u001b[0m \u001b[0mmodel_output\u001b[0m\u001b[0;34m,\u001b[0m \u001b[0mshap_mode\u001b[0m\u001b[0;34m,\u001b[0m \u001b[0minteraction_indices\u001b[0m\u001b[0;34m,\u001b[0m \u001b[0mshap_calc_type\u001b[0m\u001b[0;34m)\u001b[0m\u001b[0;34m:\u001b[0m\u001b[0;34m\u001b[0m\u001b[0;34m\u001b[0m\u001b[0m\n\u001b[0;32m-> 1496\u001b[0;31m         \u001b[0;32mreturn\u001b[0m \u001b[0mself\u001b[0m\u001b[0;34m.\u001b[0m\u001b[0m_object\u001b[0m\u001b[0;34m.\u001b[0m\u001b[0m_calc_fstr\u001b[0m\u001b[0;34m(\u001b[0m\u001b[0mtype\u001b[0m\u001b[0;34m.\u001b[0m\u001b[0mname\u001b[0m\u001b[0;34m,\u001b[0m \u001b[0mpool\u001b[0m\u001b[0;34m,\u001b[0m \u001b[0mreference_data\u001b[0m\u001b[0;34m,\u001b[0m \u001b[0mthread_count\u001b[0m\u001b[0;34m,\u001b[0m \u001b[0mverbose\u001b[0m\u001b[0;34m,\u001b[0m \u001b[0mmodel_output\u001b[0m\u001b[0;34m,\u001b[0m \u001b[0mshap_mode\u001b[0m\u001b[0;34m,\u001b[0m \u001b[0minteraction_indices\u001b[0m\u001b[0;34m,\u001b[0m \u001b[0mshap_calc_type\u001b[0m\u001b[0;34m)\u001b[0m\u001b[0;34m\u001b[0m\u001b[0;34m\u001b[0m\u001b[0m\n\u001b[0m\u001b[1;32m   1497\u001b[0m \u001b[0;34m\u001b[0m\u001b[0m\n\u001b[1;32m   1498\u001b[0m     \u001b[0;32mdef\u001b[0m \u001b[0m_calc_ostr\u001b[0m\u001b[0;34m(\u001b[0m\u001b[0mself\u001b[0m\u001b[0;34m,\u001b[0m \u001b[0mtrain_pool\u001b[0m\u001b[0;34m,\u001b[0m \u001b[0mtest_pool\u001b[0m\u001b[0;34m,\u001b[0m \u001b[0mtop_size\u001b[0m\u001b[0;34m,\u001b[0m \u001b[0mostr_type\u001b[0m\u001b[0;34m,\u001b[0m \u001b[0mupdate_method\u001b[0m\u001b[0;34m,\u001b[0m \u001b[0mimportance_values_sign\u001b[0m\u001b[0;34m,\u001b[0m \u001b[0mthread_count\u001b[0m\u001b[0;34m,\u001b[0m \u001b[0mverbose\u001b[0m\u001b[0;34m)\u001b[0m\u001b[0;34m:\u001b[0m\u001b[0;34m\u001b[0m\u001b[0;34m\u001b[0m\u001b[0m\n",
            "\u001b[0;32m_catboost.pyx\u001b[0m in \u001b[0;36m_catboost._CatBoost._calc_fstr\u001b[0;34m()\u001b[0m\n",
            "\u001b[0;32m_catboost.pyx\u001b[0m in \u001b[0;36m_catboost._CatBoost._calc_fstr\u001b[0;34m()\u001b[0m\n",
            "\u001b[0;31mCatBoostError\u001b[0m: catboost/libs/data/model_dataset_compatibility.cpp:93: Feature feature_0 from pool must be Float."
          ]
        }
      ]
    },
    {
      "cell_type": "markdown",
      "metadata": {
        "id": "Uj7kzqi_oVh4"
      },
      "source": [
        "## Using TensorFlow to develop a NN model"
      ]
    },
    {
      "cell_type": "code",
      "metadata": {
        "id": "rE9MlsM0pRmT"
      },
      "source": [
        "import numpy as np\n",
        "import pandas as pd\n",
        "\n",
        "import tensorflow as tf\n",
        "from tensorflow.keras import layers\n",
        "from tensorflow.keras.layers import Input, Dense, Activation, Reshape, BatchNormalization, Add,Dropout, Conv1D,AveragePooling1D,Concatenate, Average, Embedding, GlobalAveragePooling1D, Flatten, AlphaDropout\n",
        "\n",
        "from tensorflow.keras.models import Model\n",
        "from sklearn.model_selection import train_test_split\n",
        "from sklearn.preprocessing import StandardScaler, MinMaxScaler, RobustScaler\n",
        "from sklearn.decomposition import PCA\n",
        "from sklearn.utils import class_weight\n",
        "#from category_encoders.cat_boost import CatBoostEncoder\n",
        "from sklearn.model_selection import StratifiedKFold\n",
        "from tensorflow import keras\n",
        "from tensorflow.keras.utils import to_categorical\n",
        "from sklearn import metrics\n",
        "from keras.backend import int_shape"
      ],
      "execution_count": null,
      "outputs": []
    },
    {
      "cell_type": "code",
      "metadata": {
        "id": "6eyQsWZBsP75"
      },
      "source": [
        "train = pd.read_csv('/content/train.csv.zip')\n",
        "train['target'].unique()\n",
        "train['target']=train['target'].str[-1]\n",
        "train.pop('id')\n",
        "\n",
        "y = train['target']\n",
        "train.pop('target')\n",
        "X=train"
      ],
      "execution_count": null,
      "outputs": []
    },
    {
      "cell_type": "code",
      "metadata": {
        "id": "HW6TFIcNoUwR"
      },
      "source": [
        "def ClassModel(input_shape):\n",
        "\n",
        "    \n",
        "    X_input = Input(input_shape)\n",
        "    X = Embedding (input_dim=354, output_dim=8)(X_input)\n",
        "\n",
        "    X = Conv1D(64,1,padding='same',activation='relu')(X)\n",
        "    X = Conv1D(128,1,padding='same',activation='relu')(X)\n",
        "    #X = GlobalAveragePooling1D()(X)\n",
        "    X = Flatten()(X)\n",
        "    #X = Dropout(0.2)(X)\n",
        "    X2 = Dense(75, kernel_initializer=tf.keras.initializers.GlorotNormal(),name='lay1_a')(X)\n",
        "    #X2 = BatchNormalization()(X2)\n",
        "    #X2 = Dropout(0.2)(X2)\n",
        "    X2 = Activation('relu')(X2)\n",
        "    X3 = Dense(150, kernel_initializer=tf.keras.initializers.GlorotNormal(),name='lay1_b')(X)\n",
        "    #X3 = BatchNormalization()(X3)\n",
        "    #X3 = Dropout(0.2)(X3)\n",
        "    X3 = Activation('relu')(X3)\n",
        "    X4 = Dense(50, kernel_initializer=tf.keras.initializers.GlorotNormal(),name='lay1_c')(X)\n",
        "    #X4 = BatchNormalization()(X4)\n",
        "    #X4 = Dropout(0.2)(X4)\n",
        "    X4 = Activation('relu')(X4)\n",
        "    X = Concatenate()([X2,X3,X4])\n",
        "    X = Dense(100, name='lay1',kernel_initializer='glorot_uniform')(X)\n",
        "    #X = BatchNormalization(axis = -1, name = 'bn1')(X)\n",
        "    X = Dropout(0.2)(X)\n",
        "    X = Activation('relu')(X)\n",
        "#     X = Dense(300, name='lay2',kernel_initializer='glorot_uniform')(X)\n",
        "#     X = BatchNormalization(axis = -1, name = 'bn2')(X)\n",
        "#     X = Dropout(0.4)(X)\n",
        "#     X = Activation('relu')(X)\n",
        "#     X = Dense(100, name='lay3',kernel_initializer='glorot_uniform')(X)\n",
        "#     X = BatchNormalization(axis = -1, name = 'bn3')(X)\n",
        "#     X = Dropout(0.4)(X)\n",
        "#     X = Activation('relu')(X)\n",
        "    X = Dense(50, name='lay4',kernel_initializer='glorot_uniform')(X)\n",
        "#     X = BatchNormalization(axis = -1, name = 'bn4')(X)\n",
        "#     X = Dropout(0.4)(X)\n",
        "    X = Activation('relu')(X)\n",
        "\n",
        "    X = Dense(9, activation='softmax', name='output')(X)\n",
        "\n",
        "\n",
        "    model = Model(inputs = X_input, outputs = X, name='ClassModel')\n",
        "\n",
        "    \n",
        "    return model\n",
        "\n",
        "def ResModel(input_shape):\n",
        "\n",
        "    \n",
        "    X_input = Input(input_shape)\n",
        "    X = Embedding (input_dim=354, output_dim=9)(X_input)\n",
        "    X = Conv1D(16,1,activation='relu')(X)\n",
        "    X = Flatten()(X)\n",
        "    X2 = Dense(75, kernel_initializer=tf.keras.initializers.GlorotNormal(),name='lay1_a')(X)\n",
        "    #X2 = BatchNormalization()(X2)\n",
        "    #X2 = Dropout(0.2)(X2)\n",
        "    X2 = Activation(\"relu\")(X2)\n",
        "    X3 = Dense(150, kernel_initializer=tf.keras.initializers.GlorotNormal(),name='lay1_b')(X)\n",
        "    #X3 = BatchNormalization()(X3)\n",
        "    #X3 = Dropout(0.2)(X3)\n",
        "    X3 = Activation(\"relu\")(X3)\n",
        "    X4 = Dense(50, kernel_initializer=tf.keras.initializers.GlorotNormal(),name='lay1_c')(X)\n",
        "    #X4 = BatchNormalization()(X4)\n",
        "    #X4 = Dropout(0.2)(X4)\n",
        "    X4 = Activation(\"relu\")(X4)\n",
        "    X = Concatenate()([X2,X3,X4])\n",
        "#     X = Dropout(0.3)(X)\n",
        "    X = Dense(120, kernel_initializer=tf.keras.initializers.GlorotNormal(),name='lay1')(X)\n",
        "#     X = BatchNormalization()(X)\n",
        "#     X = Dropout(0.3)(X)\n",
        "    X1 = Activation(\"relu\")(X)\n",
        "    X = Dense(120, kernel_initializer=tf.keras.initializers.GlorotNormal(), name='lay2')(X1)\n",
        "    \n",
        "#     X = BatchNormalization()(X)\n",
        "#     X = Dropout(0.3)(X)\n",
        "    X = Activation(\"relu\")(X)\n",
        "    X = Dense(120, kernel_initializer=tf.keras.initializers.GlorotNormal(), name='lay3')(X)\n",
        "#     X = BatchNormalization()(X)\n",
        "#     X = Dropout(0.3)(X)\n",
        "    X = Activation(\"relu\")(X)\n",
        "    X = Add()([X1,X])\n",
        "    X = Dense(60, kernel_initializer=tf.keras.initializers.GlorotNormal(), name='lay1a')(X)\n",
        "#     X = BatchNormalization()(X)\n",
        "#     X = Dropout(0.3)(X)\n",
        "\n",
        "    X2 = Activation(\"relu\")(X)\n",
        "    X = Dense(60, kernel_initializer=tf.keras.initializers.GlorotNormal(), name='lay2a')(X1)\n",
        "#     X = BatchNormalization()(X)\n",
        "#     X = Dropout(0.3)(X)\n",
        "    X = Activation(\"relu\")(X)\n",
        "    X = Dense(60, kernel_initializer=tf.keras.initializers.GlorotNormal(), name='lay3a')(X)\n",
        "#     X = BatchNormalization()(X)\n",
        "#     X = Dropout(0.3)(X)\n",
        "    X = Activation(\"relu\")(X)\n",
        "    X = Concatenate()([X2,X])\n",
        "    X = Add()([X,X1])\n",
        "    X = Dense(30, kernel_initializer=tf.keras.initializers.GlorotNormal(), name='lay1b')(X)\n",
        "#     X = BatchNormalization()(X)\n",
        "#     X = Dropout(0.3)(X)\n",
        "    X3 = Activation(\"relu\")(X)\n",
        "    X = Dense(30, kernel_initializer=tf.keras.initializers.GlorotNormal(), name='lay2b')(X1)\n",
        "#     X = BatchNormalization()(X)\n",
        "#     X = Dropout(0.3)(X)\n",
        "    X = Activation(\"relu\")(X)\n",
        "    X = Dense(30, kernel_initializer=tf.keras.initializers.GlorotNormal(), name='lay3b')(X)\n",
        "#     X = BatchNormalization()(X)\n",
        "#     X = Dropout(0.3)(X)\n",
        "    X = Activation(\"relu\")(X)\n",
        "    X = Concatenate()([X3,X2,X])\n",
        "    X = Add()([X,X1])\n",
        "    X = Dense(20, kernel_initializer=tf.keras.initializers.GlorotNormal(), name='final')(X)\n",
        "    \n",
        "    X = Dense(9, activation='softmax', name='output')(X)\n",
        "\n",
        "\n",
        "    model = Model(inputs = X_input, outputs = X, name='ResModel')\n",
        "\n",
        "    \n",
        "    return model\n"
      ],
      "execution_count": null,
      "outputs": []
    },
    {
      "cell_type": "code",
      "metadata": {
        "id": "0MAXfzhuqTNX"
      },
      "source": [
        "\n",
        "def prediction (X_train, y_train, X_test):\n",
        "    \n",
        "    keras.backend.clear_session()\n",
        "\n",
        "    kfold = StratifiedKFold(n_splits = 10, shuffle=True)\n",
        "\n",
        "    y_pred = np.zeros((100000,9))\n",
        "    train_oof = np.zeros((200000,9))\n",
        "\n",
        "    for idx in kfold.split(X=X_train, y=y_train):\n",
        "        train_idx, val_idx = idx[0], idx[1]\n",
        "        xtrain = X_train.iloc[train_idx]\n",
        "        ytrain = y_train.iloc[train_idx]\n",
        "        xval = X_train.iloc[val_idx]\n",
        "        yval = y_train.iloc[val_idx]\n",
        "        ytrain = ytrain.astype('int')\n",
        "        yval = yval.astype('int')\n",
        "        ytrain-=1\n",
        "        yval-=1\n",
        "        ytrain = to_categorical(ytrain)\n",
        "        yval = to_categorical(yval)\n",
        "\n",
        "\n",
        "        \n",
        "        #checkpoint_filepath = '/kaggle/working/ckpt1'\n",
        "        \n",
        "        #model_checkpoint_callback = tf.keras.callbacks.ModelCheckpoint(\n",
        "        #            filepath=checkpoint_filepath,\n",
        "        #            save_weights_only=True,\n",
        "        #            monitor='val_loss',\n",
        "        #            mode='min',\n",
        "        #            save_best_only=True)\n",
        "        \n",
        "        keras.backend.clear_session()\n",
        "        # fit model for current fold\n",
        "        classmodel = ResModel(xtrain.shape[1:])\n",
        "        classmodel.compile(loss='categorical_crossentropy', optimizer = keras.optimizers.Adam(learning_rate=0.01), metrics=['accuracy'])\n",
        "        \n",
        "        classmodel.fit(xtrain, ytrain,\n",
        "        batch_size = 128, epochs = 100,\n",
        "        validation_data=(xval, yval)\n",
        "        #callbacks=[model_checkpoint_callback]\n",
        "        )\n",
        "        keras.backend.clear_session()\n",
        "        #classmodel.load_weights(checkpoint_filepath)\n",
        "        #create predictions\n",
        "        y_pred += classmodel.predict(X_test)/kfold.n_splits\n",
        "        #print(y_pred)\n",
        "               \n",
        "        val_pred = classmodel.predict(xval)\n",
        "        # getting out-of-fold predictions on training set\n",
        "        train_oof[val_idx] = val_pred\n",
        "        \n",
        "        # calculate and append logloss\n",
        "        fold_logloss = metrics.log_loss(yval,val_pred)\n",
        "        #print(classmodel.evaluate(xval,yval))\n",
        "        #classmodel.evaluate(xval,yval)\n",
        "        print(\"Logloss: {0:0.5f}\". format(fold_logloss))\n",
        "    \n",
        "    return y_pred, train_oof, classmodel"
      ],
      "execution_count": null,
      "outputs": []
    },
    {
      "cell_type": "code",
      "metadata": {
        "id": "ksy2g1u86p5N"
      },
      "source": [
        ""
      ],
      "execution_count": null,
      "outputs": []
    },
    {
      "cell_type": "code",
      "metadata": {
        "colab": {
          "base_uri": "https://localhost:8080/",
          "height": 1000
        },
        "id": "VzO2qFXapTA0",
        "outputId": "b5eb026e-bfde-4a59-abef-c3b3e6208779"
      },
      "source": [
        "X_test = pd.read_csv('/content/test.csv.zip')\n",
        "X_test=X_test.iloc[:,1:]\n",
        "main_pred, train_oof, classmodel = prediction(X, y, X_test)\n",
        "sub = pd.read_csv('/content/sample_submission.csv.zip')\n",
        "sub.iloc[:,1:]=main_pred\n",
        "sub=sub.set_index('id')\n",
        "sub.to_csv('embmodel.csv')\n",
        "tf.keras.utils.plot_model(classmodel,show_shapes=True) "
      ],
      "execution_count": null,
      "outputs": [
        {
          "output_type": "stream",
          "text": [
            "Epoch 1/100\n",
            "1407/1407 [==============================] - 10s 6ms/step - loss: 1.8119 - accuracy: 0.3328 - val_loss: 1.7867 - val_accuracy: 0.3453\n",
            "Epoch 2/100\n",
            "1407/1407 [==============================] - 8s 6ms/step - loss: 1.7939 - accuracy: 0.3428 - val_loss: 1.7794 - val_accuracy: 0.3504\n",
            "Epoch 3/100\n",
            "1407/1407 [==============================] - 8s 6ms/step - loss: 1.7730 - accuracy: 0.3519 - val_loss: 1.7491 - val_accuracy: 0.3620\n",
            "Epoch 4/100\n",
            "1407/1407 [==============================] - 8s 6ms/step - loss: 1.7570 - accuracy: 0.3596 - val_loss: 1.7472 - val_accuracy: 0.3609\n",
            "Epoch 5/100\n",
            "1407/1407 [==============================] - 8s 6ms/step - loss: 1.7558 - accuracy: 0.3594 - val_loss: 1.7490 - val_accuracy: 0.3513\n",
            "Epoch 6/100\n",
            "1407/1407 [==============================] - 8s 6ms/step - loss: 1.7545 - accuracy: 0.3589 - val_loss: 1.7472 - val_accuracy: 0.3528\n",
            "Epoch 7/100\n",
            "1407/1407 [==============================] - 8s 6ms/step - loss: 1.7537 - accuracy: 0.3598 - val_loss: 1.7520 - val_accuracy: 0.3560\n",
            "Epoch 8/100\n",
            "1407/1407 [==============================] - 8s 6ms/step - loss: 1.7542 - accuracy: 0.3604 - val_loss: 1.7427 - val_accuracy: 0.3634\n",
            "Epoch 9/100\n",
            "1407/1407 [==============================] - 8s 6ms/step - loss: 1.7533 - accuracy: 0.3607 - val_loss: 1.7466 - val_accuracy: 0.3632\n",
            "Epoch 10/100\n",
            "1407/1407 [==============================] - 8s 6ms/step - loss: 1.7529 - accuracy: 0.3608 - val_loss: 1.7546 - val_accuracy: 0.3614\n",
            "Epoch 11/100\n",
            "1407/1407 [==============================] - 8s 6ms/step - loss: 1.7511 - accuracy: 0.3613 - val_loss: 1.7470 - val_accuracy: 0.3644\n",
            "Epoch 12/100\n",
            "1407/1407 [==============================] - 8s 6ms/step - loss: 1.7532 - accuracy: 0.3611 - val_loss: 1.7574 - val_accuracy: 0.3589\n",
            "Epoch 13/100\n",
            "1407/1407 [==============================] - 8s 5ms/step - loss: 1.7505 - accuracy: 0.3611 - val_loss: 1.7530 - val_accuracy: 0.3614\n",
            "Epoch 14/100\n",
            "1407/1407 [==============================] - 8s 6ms/step - loss: 1.7491 - accuracy: 0.3621 - val_loss: 1.7482 - val_accuracy: 0.3593\n",
            "Epoch 15/100\n",
            "1407/1407 [==============================] - 8s 6ms/step - loss: 1.7474 - accuracy: 0.3637 - val_loss: 1.7488 - val_accuracy: 0.3618\n",
            "Epoch 16/100\n",
            "1407/1407 [==============================] - 8s 6ms/step - loss: 1.7484 - accuracy: 0.3623 - val_loss: 1.7516 - val_accuracy: 0.3640\n",
            "Epoch 17/100\n",
            "1407/1407 [==============================] - 8s 6ms/step - loss: 1.7463 - accuracy: 0.3636 - val_loss: 1.7535 - val_accuracy: 0.3616\n",
            "Epoch 18/100\n",
            "1407/1407 [==============================] - 8s 6ms/step - loss: 1.7458 - accuracy: 0.3633 - val_loss: 1.7742 - val_accuracy: 0.3553\n",
            "Epoch 19/100\n",
            "1407/1407 [==============================] - 8s 6ms/step - loss: 1.7524 - accuracy: 0.3594 - val_loss: 1.7555 - val_accuracy: 0.3602\n",
            "Epoch 20/100\n",
            "1407/1407 [==============================] - 8s 6ms/step - loss: 1.7441 - accuracy: 0.3635 - val_loss: 1.7621 - val_accuracy: 0.3593\n",
            "Epoch 21/100\n",
            "1407/1407 [==============================] - 8s 6ms/step - loss: 1.7432 - accuracy: 0.3644 - val_loss: 1.7762 - val_accuracy: 0.3584\n",
            "Epoch 22/100\n",
            "1407/1407 [==============================] - 8s 6ms/step - loss: 1.7426 - accuracy: 0.3652 - val_loss: 1.7618 - val_accuracy: 0.3602\n",
            "Epoch 23/100\n",
            "1407/1407 [==============================] - 8s 6ms/step - loss: 1.7434 - accuracy: 0.3641 - val_loss: 1.7620 - val_accuracy: 0.3601\n",
            "Epoch 24/100\n",
            "1407/1407 [==============================] - 8s 6ms/step - loss: 1.7408 - accuracy: 0.3652 - val_loss: 1.7675 - val_accuracy: 0.3595\n",
            "Epoch 25/100\n",
            "1407/1407 [==============================] - 8s 6ms/step - loss: 1.7399 - accuracy: 0.3659 - val_loss: 1.7613 - val_accuracy: 0.3576\n",
            "Epoch 26/100\n",
            "1407/1407 [==============================] - 8s 6ms/step - loss: 1.7398 - accuracy: 0.3654 - val_loss: 1.7615 - val_accuracy: 0.3575\n",
            "Epoch 27/100\n",
            "1407/1407 [==============================] - 8s 6ms/step - loss: 1.7399 - accuracy: 0.3661 - val_loss: 1.7580 - val_accuracy: 0.3603\n",
            "Epoch 28/100\n",
            "1407/1407 [==============================] - 8s 6ms/step - loss: 1.7379 - accuracy: 0.3671 - val_loss: 1.7609 - val_accuracy: 0.3611\n",
            "Epoch 29/100\n",
            "1407/1407 [==============================] - 8s 6ms/step - loss: 1.7369 - accuracy: 0.3672 - val_loss: 1.7621 - val_accuracy: 0.3609\n",
            "Epoch 30/100\n",
            "1407/1407 [==============================] - 8s 6ms/step - loss: 1.7399 - accuracy: 0.3670 - val_loss: 1.7670 - val_accuracy: 0.3584\n",
            "Epoch 31/100\n",
            "1407/1407 [==============================] - 8s 6ms/step - loss: 1.7348 - accuracy: 0.3677 - val_loss: 1.7603 - val_accuracy: 0.3583\n",
            "Epoch 32/100\n",
            "1407/1407 [==============================] - 8s 6ms/step - loss: 1.7356 - accuracy: 0.3688 - val_loss: 1.7653 - val_accuracy: 0.3593\n",
            "Epoch 33/100\n",
            "1407/1407 [==============================] - 8s 6ms/step - loss: 1.7340 - accuracy: 0.3686 - val_loss: 1.7761 - val_accuracy: 0.3559\n",
            "Epoch 34/100\n",
            "1407/1407 [==============================] - 8s 6ms/step - loss: 1.7331 - accuracy: 0.3686 - val_loss: 1.7569 - val_accuracy: 0.3614\n",
            "Epoch 35/100\n",
            "1407/1407 [==============================] - 8s 6ms/step - loss: 1.7329 - accuracy: 0.3684 - val_loss: 1.8834 - val_accuracy: 0.3478\n",
            "Epoch 36/100\n",
            "1407/1407 [==============================] - 8s 6ms/step - loss: 1.7342 - accuracy: 0.3677 - val_loss: 1.7696 - val_accuracy: 0.3604\n",
            "Epoch 37/100\n",
            "1407/1407 [==============================] - 8s 6ms/step - loss: 1.7315 - accuracy: 0.3703 - val_loss: 1.7713 - val_accuracy: 0.3564\n",
            "Epoch 38/100\n",
            "1407/1407 [==============================] - 8s 6ms/step - loss: 1.7331 - accuracy: 0.3690 - val_loss: 1.7691 - val_accuracy: 0.3576\n",
            "Epoch 39/100\n",
            "1407/1407 [==============================] - 8s 6ms/step - loss: 1.7306 - accuracy: 0.3693 - val_loss: 1.7691 - val_accuracy: 0.3579\n",
            "Epoch 40/100\n",
            "1407/1407 [==============================] - 8s 6ms/step - loss: 1.7313 - accuracy: 0.3692 - val_loss: 1.7754 - val_accuracy: 0.3538\n",
            "Epoch 41/100\n",
            "1407/1407 [==============================] - 8s 6ms/step - loss: 1.7317 - accuracy: 0.3690 - val_loss: 1.7773 - val_accuracy: 0.3555\n",
            "Epoch 42/100\n",
            "1407/1407 [==============================] - 8s 6ms/step - loss: 1.7292 - accuracy: 0.3703 - val_loss: 1.7684 - val_accuracy: 0.3607\n",
            "Epoch 43/100\n",
            "1407/1407 [==============================] - 8s 6ms/step - loss: 1.7334 - accuracy: 0.3698 - val_loss: 1.7721 - val_accuracy: 0.3564\n",
            "Epoch 44/100\n",
            "1407/1407 [==============================] - 8s 6ms/step - loss: 1.7312 - accuracy: 0.3690 - val_loss: 1.7765 - val_accuracy: 0.3501\n",
            "Epoch 45/100\n",
            "1407/1407 [==============================] - 8s 6ms/step - loss: 1.7287 - accuracy: 0.3706 - val_loss: 1.7750 - val_accuracy: 0.3587\n",
            "Epoch 46/100\n",
            "1407/1407 [==============================] - 8s 6ms/step - loss: 1.7272 - accuracy: 0.3719 - val_loss: 1.7906 - val_accuracy: 0.3528\n",
            "Epoch 47/100\n",
            "1407/1407 [==============================] - 8s 6ms/step - loss: 1.7274 - accuracy: 0.3710 - val_loss: 1.7915 - val_accuracy: 0.3456\n",
            "Epoch 48/100\n",
            "1407/1407 [==============================] - 8s 6ms/step - loss: 1.7261 - accuracy: 0.3720 - val_loss: 1.7853 - val_accuracy: 0.3576\n",
            "Epoch 49/100\n",
            "1407/1407 [==============================] - 8s 6ms/step - loss: 1.7281 - accuracy: 0.3715 - val_loss: 1.7844 - val_accuracy: 0.3554\n",
            "Epoch 50/100\n",
            "1407/1407 [==============================] - 8s 6ms/step - loss: 1.7255 - accuracy: 0.3726 - val_loss: 1.7985 - val_accuracy: 0.3541\n",
            "Epoch 51/100\n",
            "1407/1407 [==============================] - 8s 6ms/step - loss: 1.7261 - accuracy: 0.3718 - val_loss: 1.7867 - val_accuracy: 0.3552\n",
            "Epoch 52/100\n",
            "1407/1407 [==============================] - 8s 6ms/step - loss: 1.7276 - accuracy: 0.3720 - val_loss: 1.8046 - val_accuracy: 0.3564\n",
            "Epoch 53/100\n",
            "1407/1407 [==============================] - 8s 6ms/step - loss: 1.7242 - accuracy: 0.3728 - val_loss: 1.7814 - val_accuracy: 0.3543\n",
            "Epoch 54/100\n",
            "1407/1407 [==============================] - 8s 6ms/step - loss: 1.7278 - accuracy: 0.3715 - val_loss: 1.7797 - val_accuracy: 0.3562\n",
            "Epoch 55/100\n",
            "1407/1407 [==============================] - 8s 6ms/step - loss: 1.7230 - accuracy: 0.3721 - val_loss: 1.7871 - val_accuracy: 0.3558\n",
            "Epoch 56/100\n",
            "1407/1407 [==============================] - 8s 6ms/step - loss: 1.7244 - accuracy: 0.3722 - val_loss: 1.8158 - val_accuracy: 0.3525\n",
            "Epoch 57/100\n",
            "1407/1407 [==============================] - 8s 6ms/step - loss: 1.7258 - accuracy: 0.3723 - val_loss: 1.8018 - val_accuracy: 0.3456\n",
            "Epoch 58/100\n",
            "1407/1407 [==============================] - 8s 6ms/step - loss: 1.7225 - accuracy: 0.3733 - val_loss: 1.7970 - val_accuracy: 0.3537\n",
            "Epoch 59/100\n",
            "1407/1407 [==============================] - 8s 6ms/step - loss: 1.7245 - accuracy: 0.3724 - val_loss: 1.7730 - val_accuracy: 0.3580\n",
            "Epoch 60/100\n",
            "1407/1407 [==============================] - 8s 6ms/step - loss: 1.7214 - accuracy: 0.3731 - val_loss: 1.7817 - val_accuracy: 0.3550\n",
            "Epoch 61/100\n",
            "1407/1407 [==============================] - 8s 6ms/step - loss: 1.7211 - accuracy: 0.3731 - val_loss: 1.7908 - val_accuracy: 0.3559\n",
            "Epoch 62/100\n",
            "1407/1407 [==============================] - 8s 6ms/step - loss: 1.7209 - accuracy: 0.3735 - val_loss: 1.7898 - val_accuracy: 0.3577\n",
            "Epoch 63/100\n",
            "1407/1407 [==============================] - 8s 6ms/step - loss: 1.7220 - accuracy: 0.3729 - val_loss: 1.8026 - val_accuracy: 0.3525\n",
            "Epoch 64/100\n",
            "1407/1407 [==============================] - 8s 6ms/step - loss: 1.7215 - accuracy: 0.3725 - val_loss: 1.7850 - val_accuracy: 0.3569\n",
            "Epoch 65/100\n",
            "1407/1407 [==============================] - 8s 6ms/step - loss: 1.7192 - accuracy: 0.3735 - val_loss: 1.7912 - val_accuracy: 0.3548\n",
            "Epoch 66/100\n",
            "1407/1407 [==============================] - 8s 6ms/step - loss: 1.7189 - accuracy: 0.3738 - val_loss: 1.7926 - val_accuracy: 0.3508\n",
            "Epoch 67/100\n",
            "1407/1407 [==============================] - 8s 6ms/step - loss: 1.7189 - accuracy: 0.3739 - val_loss: 1.8214 - val_accuracy: 0.3556\n",
            "Epoch 68/100\n",
            "1407/1407 [==============================] - 8s 6ms/step - loss: 1.7192 - accuracy: 0.3746 - val_loss: 1.8049 - val_accuracy: 0.3539\n",
            "Epoch 69/100\n",
            "1407/1407 [==============================] - 8s 6ms/step - loss: 1.7177 - accuracy: 0.3751 - val_loss: 1.7732 - val_accuracy: 0.3586\n",
            "Epoch 70/100\n",
            "1407/1407 [==============================] - 8s 6ms/step - loss: 1.7176 - accuracy: 0.3749 - val_loss: 1.7920 - val_accuracy: 0.3518\n",
            "Epoch 71/100\n",
            "1407/1407 [==============================] - 8s 6ms/step - loss: 1.7163 - accuracy: 0.3757 - val_loss: 1.7954 - val_accuracy: 0.3560\n",
            "Epoch 72/100\n",
            "1407/1407 [==============================] - 8s 6ms/step - loss: 1.7179 - accuracy: 0.3742 - val_loss: 1.8405 - val_accuracy: 0.3525\n",
            "Epoch 73/100\n",
            "1407/1407 [==============================] - 8s 6ms/step - loss: 1.7159 - accuracy: 0.3750 - val_loss: 1.8232 - val_accuracy: 0.3525\n",
            "Epoch 74/100\n",
            "1407/1407 [==============================] - 8s 6ms/step - loss: 1.7152 - accuracy: 0.3743 - val_loss: 1.7864 - val_accuracy: 0.3577\n",
            "Epoch 75/100\n",
            "1407/1407 [==============================] - 8s 6ms/step - loss: 1.7177 - accuracy: 0.3742 - val_loss: 1.8018 - val_accuracy: 0.3590\n",
            "Epoch 76/100\n",
            "1407/1407 [==============================] - 8s 6ms/step - loss: 1.7173 - accuracy: 0.3748 - val_loss: 1.8259 - val_accuracy: 0.3519\n",
            "Epoch 77/100\n",
            "1407/1407 [==============================] - 8s 6ms/step - loss: 1.7146 - accuracy: 0.3751 - val_loss: 1.8029 - val_accuracy: 0.3516\n",
            "Epoch 78/100\n",
            "1407/1407 [==============================] - 8s 6ms/step - loss: 1.7159 - accuracy: 0.3747 - val_loss: 1.8008 - val_accuracy: 0.3582\n",
            "Epoch 79/100\n",
            "1407/1407 [==============================] - 8s 6ms/step - loss: 1.7164 - accuracy: 0.3755 - val_loss: 1.7991 - val_accuracy: 0.3517\n",
            "Epoch 80/100\n",
            "1407/1407 [==============================] - 8s 6ms/step - loss: 1.7244 - accuracy: 0.3728 - val_loss: 1.8075 - val_accuracy: 0.3500\n",
            "Epoch 81/100\n",
            "1407/1407 [==============================] - 8s 6ms/step - loss: 1.7164 - accuracy: 0.3746 - val_loss: 1.8180 - val_accuracy: 0.3516\n",
            "Epoch 82/100\n",
            "1407/1407 [==============================] - 8s 6ms/step - loss: 1.7143 - accuracy: 0.3757 - val_loss: 1.8191 - val_accuracy: 0.3530\n",
            "Epoch 83/100\n",
            "1407/1407 [==============================] - 8s 6ms/step - loss: 1.7143 - accuracy: 0.3760 - val_loss: 1.8143 - val_accuracy: 0.3539\n",
            "Epoch 84/100\n",
            "1407/1407 [==============================] - 8s 6ms/step - loss: 1.7136 - accuracy: 0.3754 - val_loss: 1.7971 - val_accuracy: 0.3550\n",
            "Epoch 85/100\n",
            "1407/1407 [==============================] - 8s 6ms/step - loss: 1.7149 - accuracy: 0.3762 - val_loss: 1.8126 - val_accuracy: 0.3537\n",
            "Epoch 86/100\n",
            "1407/1407 [==============================] - 8s 6ms/step - loss: 1.7124 - accuracy: 0.3765 - val_loss: 1.8053 - val_accuracy: 0.3566\n",
            "Epoch 87/100\n",
            "1407/1407 [==============================] - 8s 6ms/step - loss: 1.7170 - accuracy: 0.3747 - val_loss: 1.8132 - val_accuracy: 0.3559\n",
            "Epoch 88/100\n",
            "1407/1407 [==============================] - 8s 6ms/step - loss: 1.7114 - accuracy: 0.3758 - val_loss: 1.8188 - val_accuracy: 0.3547\n",
            "Epoch 89/100\n",
            "1407/1407 [==============================] - 8s 6ms/step - loss: 1.7130 - accuracy: 0.3760 - val_loss: 1.8057 - val_accuracy: 0.3544\n",
            "Epoch 90/100\n",
            "1407/1407 [==============================] - 8s 6ms/step - loss: 1.7127 - accuracy: 0.3768 - val_loss: 1.8257 - val_accuracy: 0.3531\n",
            "Epoch 91/100\n",
            "1407/1407 [==============================] - 8s 6ms/step - loss: 1.7117 - accuracy: 0.3761 - val_loss: 1.8142 - val_accuracy: 0.3558\n",
            "Epoch 92/100\n",
            "1407/1407 [==============================] - 8s 6ms/step - loss: 1.7181 - accuracy: 0.3748 - val_loss: 1.8673 - val_accuracy: 0.3418\n",
            "Epoch 93/100\n",
            "1407/1407 [==============================] - 8s 6ms/step - loss: 1.7149 - accuracy: 0.3763 - val_loss: 1.8313 - val_accuracy: 0.3546\n",
            "Epoch 94/100\n",
            "1407/1407 [==============================] - 8s 6ms/step - loss: 1.7120 - accuracy: 0.3756 - val_loss: 1.8237 - val_accuracy: 0.3554\n",
            "Epoch 95/100\n",
            "1407/1407 [==============================] - 8s 6ms/step - loss: 1.7283 - accuracy: 0.3701 - val_loss: 1.8336 - val_accuracy: 0.3232\n",
            "Epoch 96/100\n",
            "1407/1407 [==============================] - 8s 6ms/step - loss: 1.8054 - accuracy: 0.3367 - val_loss: 1.8036 - val_accuracy: 0.3481\n",
            "Epoch 97/100\n",
            " 100/1407 [=>............................] - ETA: 6s - loss: 1.7206 - accuracy: 0.3765"
          ],
          "name": "stdout"
        },
        {
          "output_type": "error",
          "ename": "KeyboardInterrupt",
          "evalue": "ignored",
          "traceback": [
            "\u001b[0;31m---------------------------------------------------------------------------\u001b[0m",
            "\u001b[0;31mKeyboardInterrupt\u001b[0m                         Traceback (most recent call last)",
            "\u001b[0;32m<ipython-input-10-c3f546bbe6d8>\u001b[0m in \u001b[0;36m<module>\u001b[0;34m()\u001b[0m\n\u001b[1;32m      1\u001b[0m \u001b[0mX_test\u001b[0m \u001b[0;34m=\u001b[0m \u001b[0mpd\u001b[0m\u001b[0;34m.\u001b[0m\u001b[0mread_csv\u001b[0m\u001b[0;34m(\u001b[0m\u001b[0;34m'/content/test.csv.zip'\u001b[0m\u001b[0;34m)\u001b[0m\u001b[0;34m\u001b[0m\u001b[0;34m\u001b[0m\u001b[0m\n\u001b[1;32m      2\u001b[0m \u001b[0mX_test\u001b[0m\u001b[0;34m=\u001b[0m\u001b[0mX_test\u001b[0m\u001b[0;34m.\u001b[0m\u001b[0miloc\u001b[0m\u001b[0;34m[\u001b[0m\u001b[0;34m:\u001b[0m\u001b[0;34m,\u001b[0m\u001b[0;36m1\u001b[0m\u001b[0;34m:\u001b[0m\u001b[0;34m]\u001b[0m\u001b[0;34m\u001b[0m\u001b[0;34m\u001b[0m\u001b[0m\n\u001b[0;32m----> 3\u001b[0;31m \u001b[0mmain_pred\u001b[0m\u001b[0;34m,\u001b[0m \u001b[0mtrain_oof\u001b[0m\u001b[0;34m,\u001b[0m \u001b[0mclassmodel\u001b[0m \u001b[0;34m=\u001b[0m \u001b[0mprediction\u001b[0m\u001b[0;34m(\u001b[0m\u001b[0mX\u001b[0m\u001b[0;34m,\u001b[0m \u001b[0my\u001b[0m\u001b[0;34m,\u001b[0m \u001b[0mX_test\u001b[0m\u001b[0;34m)\u001b[0m\u001b[0;34m\u001b[0m\u001b[0;34m\u001b[0m\u001b[0m\n\u001b[0m\u001b[1;32m      4\u001b[0m \u001b[0msub\u001b[0m \u001b[0;34m=\u001b[0m \u001b[0mpd\u001b[0m\u001b[0;34m.\u001b[0m\u001b[0mread_csv\u001b[0m\u001b[0;34m(\u001b[0m\u001b[0;34m'/content/sample_submission.csv.zip'\u001b[0m\u001b[0;34m)\u001b[0m\u001b[0;34m\u001b[0m\u001b[0;34m\u001b[0m\u001b[0m\n\u001b[1;32m      5\u001b[0m \u001b[0msub\u001b[0m\u001b[0;34m.\u001b[0m\u001b[0miloc\u001b[0m\u001b[0;34m[\u001b[0m\u001b[0;34m:\u001b[0m\u001b[0;34m,\u001b[0m\u001b[0;36m1\u001b[0m\u001b[0;34m:\u001b[0m\u001b[0;34m]\u001b[0m\u001b[0;34m=\u001b[0m\u001b[0mmain_pred\u001b[0m\u001b[0;34m\u001b[0m\u001b[0;34m\u001b[0m\u001b[0m\n",
            "\u001b[0;32m<ipython-input-9-53507cb58a3d>\u001b[0m in \u001b[0;36mprediction\u001b[0;34m(X_train, y_train, X_test)\u001b[0m\n\u001b[1;32m     40\u001b[0m         classmodel.fit(xtrain, ytrain,\n\u001b[1;32m     41\u001b[0m         \u001b[0mbatch_size\u001b[0m \u001b[0;34m=\u001b[0m \u001b[0;36m128\u001b[0m\u001b[0;34m,\u001b[0m \u001b[0mepochs\u001b[0m \u001b[0;34m=\u001b[0m \u001b[0;36m100\u001b[0m\u001b[0;34m,\u001b[0m\u001b[0;34m\u001b[0m\u001b[0;34m\u001b[0m\u001b[0m\n\u001b[0;32m---> 42\u001b[0;31m         \u001b[0mvalidation_data\u001b[0m\u001b[0;34m=\u001b[0m\u001b[0;34m(\u001b[0m\u001b[0mxval\u001b[0m\u001b[0;34m,\u001b[0m \u001b[0myval\u001b[0m\u001b[0;34m)\u001b[0m\u001b[0;34m\u001b[0m\u001b[0;34m\u001b[0m\u001b[0m\n\u001b[0m\u001b[1;32m     43\u001b[0m         \u001b[0;31m#callbacks=[model_checkpoint_callback]\u001b[0m\u001b[0;34m\u001b[0m\u001b[0;34m\u001b[0m\u001b[0;34m\u001b[0m\u001b[0m\n\u001b[1;32m     44\u001b[0m         )\n",
            "\u001b[0;32m/usr/local/lib/python3.7/dist-packages/tensorflow/python/keras/engine/training.py\u001b[0m in \u001b[0;36mfit\u001b[0;34m(self, x, y, batch_size, epochs, verbose, callbacks, validation_split, validation_data, shuffle, class_weight, sample_weight, initial_epoch, steps_per_epoch, validation_steps, validation_batch_size, validation_freq, max_queue_size, workers, use_multiprocessing)\u001b[0m\n\u001b[1;32m   1181\u001b[0m                 _r=1):\n\u001b[1;32m   1182\u001b[0m               \u001b[0mcallbacks\u001b[0m\u001b[0;34m.\u001b[0m\u001b[0mon_train_batch_begin\u001b[0m\u001b[0;34m(\u001b[0m\u001b[0mstep\u001b[0m\u001b[0;34m)\u001b[0m\u001b[0;34m\u001b[0m\u001b[0;34m\u001b[0m\u001b[0m\n\u001b[0;32m-> 1183\u001b[0;31m               \u001b[0mtmp_logs\u001b[0m \u001b[0;34m=\u001b[0m \u001b[0mself\u001b[0m\u001b[0;34m.\u001b[0m\u001b[0mtrain_function\u001b[0m\u001b[0;34m(\u001b[0m\u001b[0miterator\u001b[0m\u001b[0;34m)\u001b[0m\u001b[0;34m\u001b[0m\u001b[0;34m\u001b[0m\u001b[0m\n\u001b[0m\u001b[1;32m   1184\u001b[0m               \u001b[0;32mif\u001b[0m \u001b[0mdata_handler\u001b[0m\u001b[0;34m.\u001b[0m\u001b[0mshould_sync\u001b[0m\u001b[0;34m:\u001b[0m\u001b[0;34m\u001b[0m\u001b[0;34m\u001b[0m\u001b[0m\n\u001b[1;32m   1185\u001b[0m                 \u001b[0mcontext\u001b[0m\u001b[0;34m.\u001b[0m\u001b[0masync_wait\u001b[0m\u001b[0;34m(\u001b[0m\u001b[0;34m)\u001b[0m\u001b[0;34m\u001b[0m\u001b[0;34m\u001b[0m\u001b[0m\n",
            "\u001b[0;32m/usr/local/lib/python3.7/dist-packages/tensorflow/python/eager/def_function.py\u001b[0m in \u001b[0;36m__call__\u001b[0;34m(self, *args, **kwds)\u001b[0m\n\u001b[1;32m    887\u001b[0m \u001b[0;34m\u001b[0m\u001b[0m\n\u001b[1;32m    888\u001b[0m       \u001b[0;32mwith\u001b[0m \u001b[0mOptionalXlaContext\u001b[0m\u001b[0;34m(\u001b[0m\u001b[0mself\u001b[0m\u001b[0;34m.\u001b[0m\u001b[0m_jit_compile\u001b[0m\u001b[0;34m)\u001b[0m\u001b[0;34m:\u001b[0m\u001b[0;34m\u001b[0m\u001b[0;34m\u001b[0m\u001b[0m\n\u001b[0;32m--> 889\u001b[0;31m         \u001b[0mresult\u001b[0m \u001b[0;34m=\u001b[0m \u001b[0mself\u001b[0m\u001b[0;34m.\u001b[0m\u001b[0m_call\u001b[0m\u001b[0;34m(\u001b[0m\u001b[0;34m*\u001b[0m\u001b[0margs\u001b[0m\u001b[0;34m,\u001b[0m \u001b[0;34m**\u001b[0m\u001b[0mkwds\u001b[0m\u001b[0;34m)\u001b[0m\u001b[0;34m\u001b[0m\u001b[0;34m\u001b[0m\u001b[0m\n\u001b[0m\u001b[1;32m    890\u001b[0m \u001b[0;34m\u001b[0m\u001b[0m\n\u001b[1;32m    891\u001b[0m       \u001b[0mnew_tracing_count\u001b[0m \u001b[0;34m=\u001b[0m \u001b[0mself\u001b[0m\u001b[0;34m.\u001b[0m\u001b[0mexperimental_get_tracing_count\u001b[0m\u001b[0;34m(\u001b[0m\u001b[0;34m)\u001b[0m\u001b[0;34m\u001b[0m\u001b[0;34m\u001b[0m\u001b[0m\n",
            "\u001b[0;32m/usr/local/lib/python3.7/dist-packages/tensorflow/python/eager/def_function.py\u001b[0m in \u001b[0;36m_call\u001b[0;34m(self, *args, **kwds)\u001b[0m\n\u001b[1;32m    915\u001b[0m       \u001b[0;31m# In this case we have created variables on the first call, so we run the\u001b[0m\u001b[0;34m\u001b[0m\u001b[0;34m\u001b[0m\u001b[0;34m\u001b[0m\u001b[0m\n\u001b[1;32m    916\u001b[0m       \u001b[0;31m# defunned version which is guaranteed to never create variables.\u001b[0m\u001b[0;34m\u001b[0m\u001b[0;34m\u001b[0m\u001b[0;34m\u001b[0m\u001b[0m\n\u001b[0;32m--> 917\u001b[0;31m       \u001b[0;32mreturn\u001b[0m \u001b[0mself\u001b[0m\u001b[0;34m.\u001b[0m\u001b[0m_stateless_fn\u001b[0m\u001b[0;34m(\u001b[0m\u001b[0;34m*\u001b[0m\u001b[0margs\u001b[0m\u001b[0;34m,\u001b[0m \u001b[0;34m**\u001b[0m\u001b[0mkwds\u001b[0m\u001b[0;34m)\u001b[0m  \u001b[0;31m# pylint: disable=not-callable\u001b[0m\u001b[0;34m\u001b[0m\u001b[0;34m\u001b[0m\u001b[0m\n\u001b[0m\u001b[1;32m    918\u001b[0m     \u001b[0;32melif\u001b[0m \u001b[0mself\u001b[0m\u001b[0;34m.\u001b[0m\u001b[0m_stateful_fn\u001b[0m \u001b[0;32mis\u001b[0m \u001b[0;32mnot\u001b[0m \u001b[0;32mNone\u001b[0m\u001b[0;34m:\u001b[0m\u001b[0;34m\u001b[0m\u001b[0;34m\u001b[0m\u001b[0m\n\u001b[1;32m    919\u001b[0m       \u001b[0;31m# Release the lock early so that multiple threads can perform the call\u001b[0m\u001b[0;34m\u001b[0m\u001b[0;34m\u001b[0m\u001b[0;34m\u001b[0m\u001b[0m\n",
            "\u001b[0;32m/usr/local/lib/python3.7/dist-packages/tensorflow/python/eager/function.py\u001b[0m in \u001b[0;36m__call__\u001b[0;34m(self, *args, **kwargs)\u001b[0m\n\u001b[1;32m   3022\u001b[0m        filtered_flat_args) = self._maybe_define_function(args, kwargs)\n\u001b[1;32m   3023\u001b[0m     return graph_function._call_flat(\n\u001b[0;32m-> 3024\u001b[0;31m         filtered_flat_args, captured_inputs=graph_function.captured_inputs)  # pylint: disable=protected-access\n\u001b[0m\u001b[1;32m   3025\u001b[0m \u001b[0;34m\u001b[0m\u001b[0m\n\u001b[1;32m   3026\u001b[0m   \u001b[0;34m@\u001b[0m\u001b[0mproperty\u001b[0m\u001b[0;34m\u001b[0m\u001b[0;34m\u001b[0m\u001b[0m\n",
            "\u001b[0;32m/usr/local/lib/python3.7/dist-packages/tensorflow/python/eager/function.py\u001b[0m in \u001b[0;36m_call_flat\u001b[0;34m(self, args, captured_inputs, cancellation_manager)\u001b[0m\n\u001b[1;32m   1959\u001b[0m       \u001b[0;31m# No tape is watching; skip to running the function.\u001b[0m\u001b[0;34m\u001b[0m\u001b[0;34m\u001b[0m\u001b[0;34m\u001b[0m\u001b[0m\n\u001b[1;32m   1960\u001b[0m       return self._build_call_outputs(self._inference_function.call(\n\u001b[0;32m-> 1961\u001b[0;31m           ctx, args, cancellation_manager=cancellation_manager))\n\u001b[0m\u001b[1;32m   1962\u001b[0m     forward_backward = self._select_forward_and_backward_functions(\n\u001b[1;32m   1963\u001b[0m         \u001b[0margs\u001b[0m\u001b[0;34m,\u001b[0m\u001b[0;34m\u001b[0m\u001b[0;34m\u001b[0m\u001b[0m\n",
            "\u001b[0;32m/usr/local/lib/python3.7/dist-packages/tensorflow/python/eager/function.py\u001b[0m in \u001b[0;36mcall\u001b[0;34m(self, ctx, args, cancellation_manager)\u001b[0m\n\u001b[1;32m    594\u001b[0m               \u001b[0minputs\u001b[0m\u001b[0;34m=\u001b[0m\u001b[0margs\u001b[0m\u001b[0;34m,\u001b[0m\u001b[0;34m\u001b[0m\u001b[0;34m\u001b[0m\u001b[0m\n\u001b[1;32m    595\u001b[0m               \u001b[0mattrs\u001b[0m\u001b[0;34m=\u001b[0m\u001b[0mattrs\u001b[0m\u001b[0;34m,\u001b[0m\u001b[0;34m\u001b[0m\u001b[0;34m\u001b[0m\u001b[0m\n\u001b[0;32m--> 596\u001b[0;31m               ctx=ctx)\n\u001b[0m\u001b[1;32m    597\u001b[0m         \u001b[0;32melse\u001b[0m\u001b[0;34m:\u001b[0m\u001b[0;34m\u001b[0m\u001b[0;34m\u001b[0m\u001b[0m\n\u001b[1;32m    598\u001b[0m           outputs = execute.execute_with_cancellation(\n",
            "\u001b[0;32m/usr/local/lib/python3.7/dist-packages/tensorflow/python/eager/execute.py\u001b[0m in \u001b[0;36mquick_execute\u001b[0;34m(op_name, num_outputs, inputs, attrs, ctx, name)\u001b[0m\n\u001b[1;32m     58\u001b[0m     \u001b[0mctx\u001b[0m\u001b[0;34m.\u001b[0m\u001b[0mensure_initialized\u001b[0m\u001b[0;34m(\u001b[0m\u001b[0;34m)\u001b[0m\u001b[0;34m\u001b[0m\u001b[0;34m\u001b[0m\u001b[0m\n\u001b[1;32m     59\u001b[0m     tensors = pywrap_tfe.TFE_Py_Execute(ctx._handle, device_name, op_name,\n\u001b[0;32m---> 60\u001b[0;31m                                         inputs, attrs, num_outputs)\n\u001b[0m\u001b[1;32m     61\u001b[0m   \u001b[0;32mexcept\u001b[0m \u001b[0mcore\u001b[0m\u001b[0;34m.\u001b[0m\u001b[0m_NotOkStatusException\u001b[0m \u001b[0;32mas\u001b[0m \u001b[0me\u001b[0m\u001b[0;34m:\u001b[0m\u001b[0;34m\u001b[0m\u001b[0;34m\u001b[0m\u001b[0m\n\u001b[1;32m     62\u001b[0m     \u001b[0;32mif\u001b[0m \u001b[0mname\u001b[0m \u001b[0;32mis\u001b[0m \u001b[0;32mnot\u001b[0m \u001b[0;32mNone\u001b[0m\u001b[0;34m:\u001b[0m\u001b[0;34m\u001b[0m\u001b[0;34m\u001b[0m\u001b[0m\n",
            "\u001b[0;31mKeyboardInterrupt\u001b[0m: "
          ]
        }
      ]
    },
    {
      "cell_type": "code",
      "metadata": {
        "id": "xjf4pnvLsb15"
      },
      "source": [
        "!kaggle competitions submit -c tabular-playground-series-jun-2021 -f embmodel.csv -m \"Embedding Model TensorFlow\""
      ],
      "execution_count": null,
      "outputs": []
    },
    {
      "cell_type": "code",
      "metadata": {
        "colab": {
          "base_uri": "https://localhost:8080/"
        },
        "id": "oatohzhX4BjE",
        "outputId": "deb18a2e-9f0d-4e0e-89d3-dbf7daff9e2a"
      },
      "source": [
        "classmodel.layers"
      ],
      "execution_count": null,
      "outputs": [
        {
          "output_type": "execute_result",
          "data": {
            "text/plain": [
              "[<tensorflow.python.keras.engine.input_layer.InputLayer at 0x7f51fddea490>,\n",
              " <tensorflow.python.keras.layers.embeddings.Embedding at 0x7f51fdded650>,\n",
              " <tensorflow.python.keras.layers.convolutional.Conv1D at 0x7f51fb16fa50>,\n",
              " <tensorflow.python.keras.layers.core.Flatten at 0x7f51f7a1ced0>,\n",
              " <tensorflow.python.keras.layers.core.Dense at 0x7f51fddeb4d0>,\n",
              " <tensorflow.python.keras.layers.core.Dense at 0x7f51fddee1d0>,\n",
              " <tensorflow.python.keras.layers.core.Dense at 0x7f51fddf8250>,\n",
              " <tensorflow.python.keras.layers.core.Activation at 0x7f51fddee350>,\n",
              " <tensorflow.python.keras.layers.core.Activation at 0x7f51f7a1c410>,\n",
              " <tensorflow.python.keras.layers.core.Activation at 0x7f51fde1d4d0>,\n",
              " <tensorflow.python.keras.layers.merge.Concatenate at 0x7f51fddece90>,\n",
              " <tensorflow.python.keras.layers.core.Dense at 0x7f51fde0b410>,\n",
              " <tensorflow.python.keras.layers.core.Activation at 0x7f51fddf8390>,\n",
              " <tensorflow.python.keras.layers.core.Dense at 0x7f51fde06510>,\n",
              " <tensorflow.python.keras.layers.core.Activation at 0x7f51fe863b10>,\n",
              " <tensorflow.python.keras.layers.core.Dense at 0x7f51fe863a90>,\n",
              " <tensorflow.python.keras.layers.core.Activation at 0x7f51fe863a10>,\n",
              " <tensorflow.python.keras.layers.core.Dense at 0x7f51fe845fd0>,\n",
              " <tensorflow.python.keras.layers.merge.Add at 0x7f51fddec210>,\n",
              " <tensorflow.python.keras.layers.core.Activation at 0x7f51fe867050>,\n",
              " <tensorflow.python.keras.layers.core.Dense at 0x7f51fde06150>,\n",
              " <tensorflow.python.keras.layers.core.Dense at 0x7f51fddec490>,\n",
              " <tensorflow.python.keras.layers.core.Activation at 0x7f51fe845bd0>,\n",
              " <tensorflow.python.keras.layers.core.Activation at 0x7f51fb1d2310>,\n",
              " <tensorflow.python.keras.layers.merge.Concatenate at 0x7f51fb195a90>,\n",
              " <tensorflow.python.keras.layers.core.Dense at 0x7f51fdded550>,\n",
              " <tensorflow.python.keras.layers.merge.Add at 0x7f51fde10110>,\n",
              " <tensorflow.python.keras.layers.core.Activation at 0x7f51fde06790>,\n",
              " <tensorflow.python.keras.layers.core.Dense at 0x7f51fb12d7d0>,\n",
              " <tensorflow.python.keras.layers.core.Dense at 0x7f51f7a0cc50>,\n",
              " <tensorflow.python.keras.layers.core.Activation at 0x7f51fe8522d0>,\n",
              " <tensorflow.python.keras.layers.core.Activation at 0x7f51f7a1cf90>,\n",
              " <tensorflow.python.keras.layers.merge.Concatenate at 0x7f51fde10a10>,\n",
              " <tensorflow.python.keras.layers.merge.Add at 0x7f51f7a1ae10>,\n",
              " <tensorflow.python.keras.layers.core.Dense at 0x7f51fe849d10>,\n",
              " <tensorflow.python.keras.layers.core.Dense at 0x7f51fddec450>]"
            ]
          },
          "metadata": {
            "tags": []
          },
          "execution_count": 11
        }
      ]
    },
    {
      "cell_type": "markdown",
      "metadata": {
        "id": "VlZtc4sHBu2G"
      },
      "source": [
        "## Using Wandb and TensorFlow to build and improve an Embedding NN model\n"
      ]
    },
    {
      "cell_type": "code",
      "metadata": {
        "id": "ROqPTn9e4Gyp",
        "colab": {
          "base_uri": "https://localhost:8080/"
        },
        "outputId": "dec37e31-94ba-409d-baee-0469cb3a96c2"
      },
      "source": [
        "!pip install wandb\n",
        "!wandb login\n",
        "\n",
        "#APi KEy: b5e2b28dc352c4319dbbf0a0c8555d3f8056a259"
      ],
      "execution_count": null,
      "outputs": [
        {
          "output_type": "stream",
          "text": [
            "Collecting wandb\n",
            "\u001b[?25l  Downloading https://files.pythonhosted.org/packages/e0/b4/9d92953d8cddc8450c859be12e3dbdd4c7754fb8def94c28b3b351c6ee4e/wandb-0.10.32-py2.py3-none-any.whl (1.8MB)\n",
            "\r\u001b[K     |▏                               | 10kB 18.5MB/s eta 0:00:01\r\u001b[K     |▍                               | 20kB 25.7MB/s eta 0:00:01\r\u001b[K     |▌                               | 30kB 19.5MB/s eta 0:00:01\r\u001b[K     |▊                               | 40kB 16.1MB/s eta 0:00:01\r\u001b[K     |█                               | 51kB 8.6MB/s eta 0:00:01\r\u001b[K     |█                               | 61kB 8.7MB/s eta 0:00:01\r\u001b[K     |█▎                              | 71kB 8.9MB/s eta 0:00:01\r\u001b[K     |█▍                              | 81kB 9.9MB/s eta 0:00:01\r\u001b[K     |█▋                              | 92kB 10.3MB/s eta 0:00:01\r\u001b[K     |█▉                              | 102kB 8.3MB/s eta 0:00:01\r\u001b[K     |██                              | 112kB 8.3MB/s eta 0:00:01\r\u001b[K     |██▏                             | 122kB 8.3MB/s eta 0:00:01\r\u001b[K     |██▍                             | 133kB 8.3MB/s eta 0:00:01\r\u001b[K     |██▌                             | 143kB 8.3MB/s eta 0:00:01\r\u001b[K     |██▊                             | 153kB 8.3MB/s eta 0:00:01\r\u001b[K     |██▉                             | 163kB 8.3MB/s eta 0:00:01\r\u001b[K     |███                             | 174kB 8.3MB/s eta 0:00:01\r\u001b[K     |███▎                            | 184kB 8.3MB/s eta 0:00:01\r\u001b[K     |███▍                            | 194kB 8.3MB/s eta 0:00:01\r\u001b[K     |███▋                            | 204kB 8.3MB/s eta 0:00:01\r\u001b[K     |███▊                            | 215kB 8.3MB/s eta 0:00:01\r\u001b[K     |████                            | 225kB 8.3MB/s eta 0:00:01\r\u001b[K     |████▏                           | 235kB 8.3MB/s eta 0:00:01\r\u001b[K     |████▎                           | 245kB 8.3MB/s eta 0:00:01\r\u001b[K     |████▌                           | 256kB 8.3MB/s eta 0:00:01\r\u001b[K     |████▊                           | 266kB 8.3MB/s eta 0:00:01\r\u001b[K     |████▉                           | 276kB 8.3MB/s eta 0:00:01\r\u001b[K     |█████                           | 286kB 8.3MB/s eta 0:00:01\r\u001b[K     |█████▏                          | 296kB 8.3MB/s eta 0:00:01\r\u001b[K     |█████▍                          | 307kB 8.3MB/s eta 0:00:01\r\u001b[K     |█████▋                          | 317kB 8.3MB/s eta 0:00:01\r\u001b[K     |█████▊                          | 327kB 8.3MB/s eta 0:00:01\r\u001b[K     |██████                          | 337kB 8.3MB/s eta 0:00:01\r\u001b[K     |██████                          | 348kB 8.3MB/s eta 0:00:01\r\u001b[K     |██████▎                         | 358kB 8.3MB/s eta 0:00:01\r\u001b[K     |██████▌                         | 368kB 8.3MB/s eta 0:00:01\r\u001b[K     |██████▋                         | 378kB 8.3MB/s eta 0:00:01\r\u001b[K     |██████▉                         | 389kB 8.3MB/s eta 0:00:01\r\u001b[K     |███████                         | 399kB 8.3MB/s eta 0:00:01\r\u001b[K     |███████▏                        | 409kB 8.3MB/s eta 0:00:01\r\u001b[K     |███████▍                        | 419kB 8.3MB/s eta 0:00:01\r\u001b[K     |███████▌                        | 430kB 8.3MB/s eta 0:00:01\r\u001b[K     |███████▊                        | 440kB 8.3MB/s eta 0:00:01\r\u001b[K     |████████                        | 450kB 8.3MB/s eta 0:00:01\r\u001b[K     |████████                        | 460kB 8.3MB/s eta 0:00:01\r\u001b[K     |████████▎                       | 471kB 8.3MB/s eta 0:00:01\r\u001b[K     |████████▍                       | 481kB 8.3MB/s eta 0:00:01\r\u001b[K     |████████▋                       | 491kB 8.3MB/s eta 0:00:01\r\u001b[K     |████████▉                       | 501kB 8.3MB/s eta 0:00:01\r\u001b[K     |█████████                       | 512kB 8.3MB/s eta 0:00:01\r\u001b[K     |█████████▏                      | 522kB 8.3MB/s eta 0:00:01\r\u001b[K     |█████████▍                      | 532kB 8.3MB/s eta 0:00:01\r\u001b[K     |█████████▌                      | 542kB 8.3MB/s eta 0:00:01\r\u001b[K     |█████████▊                      | 552kB 8.3MB/s eta 0:00:01\r\u001b[K     |█████████▉                      | 563kB 8.3MB/s eta 0:00:01\r\u001b[K     |██████████                      | 573kB 8.3MB/s eta 0:00:01\r\u001b[K     |██████████▎                     | 583kB 8.3MB/s eta 0:00:01\r\u001b[K     |██████████▍                     | 593kB 8.3MB/s eta 0:00:01\r\u001b[K     |██████████▋                     | 604kB 8.3MB/s eta 0:00:01\r\u001b[K     |██████████▉                     | 614kB 8.3MB/s eta 0:00:01\r\u001b[K     |███████████                     | 624kB 8.3MB/s eta 0:00:01\r\u001b[K     |███████████▏                    | 634kB 8.3MB/s eta 0:00:01\r\u001b[K     |███████████▎                    | 645kB 8.3MB/s eta 0:00:01\r\u001b[K     |███████████▌                    | 655kB 8.3MB/s eta 0:00:01\r\u001b[K     |███████████▊                    | 665kB 8.3MB/s eta 0:00:01\r\u001b[K     |███████████▉                    | 675kB 8.3MB/s eta 0:00:01\r\u001b[K     |████████████                    | 686kB 8.3MB/s eta 0:00:01\r\u001b[K     |████████████▏                   | 696kB 8.3MB/s eta 0:00:01\r\u001b[K     |████████████▍                   | 706kB 8.3MB/s eta 0:00:01\r\u001b[K     |████████████▋                   | 716kB 8.3MB/s eta 0:00:01\r\u001b[K     |████████████▊                   | 727kB 8.3MB/s eta 0:00:01\r\u001b[K     |█████████████                   | 737kB 8.3MB/s eta 0:00:01\r\u001b[K     |█████████████▏                  | 747kB 8.3MB/s eta 0:00:01\r\u001b[K     |█████████████▎                  | 757kB 8.3MB/s eta 0:00:01\r\u001b[K     |█████████████▌                  | 768kB 8.3MB/s eta 0:00:01\r\u001b[K     |█████████████▋                  | 778kB 8.3MB/s eta 0:00:01\r\u001b[K     |█████████████▉                  | 788kB 8.3MB/s eta 0:00:01\r\u001b[K     |██████████████                  | 798kB 8.3MB/s eta 0:00:01\r\u001b[K     |██████████████▏                 | 808kB 8.3MB/s eta 0:00:01\r\u001b[K     |██████████████▍                 | 819kB 8.3MB/s eta 0:00:01\r\u001b[K     |██████████████▌                 | 829kB 8.3MB/s eta 0:00:01\r\u001b[K     |██████████████▊                 | 839kB 8.3MB/s eta 0:00:01\r\u001b[K     |███████████████                 | 849kB 8.3MB/s eta 0:00:01\r\u001b[K     |███████████████                 | 860kB 8.3MB/s eta 0:00:01\r\u001b[K     |███████████████▎                | 870kB 8.3MB/s eta 0:00:01\r\u001b[K     |███████████████▌                | 880kB 8.3MB/s eta 0:00:01\r\u001b[K     |███████████████▋                | 890kB 8.3MB/s eta 0:00:01\r\u001b[K     |███████████████▉                | 901kB 8.3MB/s eta 0:00:01\r\u001b[K     |████████████████                | 911kB 8.3MB/s eta 0:00:01\r\u001b[K     |████████████████▏               | 921kB 8.3MB/s eta 0:00:01\r\u001b[K     |████████████████▍               | 931kB 8.3MB/s eta 0:00:01\r\u001b[K     |████████████████▌               | 942kB 8.3MB/s eta 0:00:01\r\u001b[K     |████████████████▊               | 952kB 8.3MB/s eta 0:00:01\r\u001b[K     |████████████████▉               | 962kB 8.3MB/s eta 0:00:01\r\u001b[K     |█████████████████               | 972kB 8.3MB/s eta 0:00:01\r\u001b[K     |█████████████████▎              | 983kB 8.3MB/s eta 0:00:01\r\u001b[K     |█████████████████▍              | 993kB 8.3MB/s eta 0:00:01\r\u001b[K     |█████████████████▋              | 1.0MB 8.3MB/s eta 0:00:01\r\u001b[K     |█████████████████▉              | 1.0MB 8.3MB/s eta 0:00:01\r\u001b[K     |██████████████████              | 1.0MB 8.3MB/s eta 0:00:01\r\u001b[K     |██████████████████▏             | 1.0MB 8.3MB/s eta 0:00:01\r\u001b[K     |██████████████████▎             | 1.0MB 8.3MB/s eta 0:00:01\r\u001b[K     |██████████████████▌             | 1.1MB 8.3MB/s eta 0:00:01\r\u001b[K     |██████████████████▊             | 1.1MB 8.3MB/s eta 0:00:01\r\u001b[K     |██████████████████▉             | 1.1MB 8.3MB/s eta 0:00:01\r\u001b[K     |███████████████████             | 1.1MB 8.3MB/s eta 0:00:01\r\u001b[K     |███████████████████▏            | 1.1MB 8.3MB/s eta 0:00:01\r\u001b[K     |███████████████████▍            | 1.1MB 8.3MB/s eta 0:00:01\r\u001b[K     |███████████████████▋            | 1.1MB 8.3MB/s eta 0:00:01\r\u001b[K     |███████████████████▊            | 1.1MB 8.3MB/s eta 0:00:01\r\u001b[K     |████████████████████            | 1.1MB 8.3MB/s eta 0:00:01\r\u001b[K     |████████████████████▏           | 1.1MB 8.3MB/s eta 0:00:01\r\u001b[K     |████████████████████▎           | 1.2MB 8.3MB/s eta 0:00:01\r\u001b[K     |████████████████████▌           | 1.2MB 8.3MB/s eta 0:00:01\r\u001b[K     |████████████████████▋           | 1.2MB 8.3MB/s eta 0:00:01\r\u001b[K     |████████████████████▉           | 1.2MB 8.3MB/s eta 0:00:01\r\u001b[K     |█████████████████████           | 1.2MB 8.3MB/s eta 0:00:01\r\u001b[K     |█████████████████████▏          | 1.2MB 8.3MB/s eta 0:00:01\r\u001b[K     |█████████████████████▍          | 1.2MB 8.3MB/s eta 0:00:01\r\u001b[K     |█████████████████████▋          | 1.2MB 8.3MB/s eta 0:00:01\r\u001b[K     |█████████████████████▊          | 1.2MB 8.3MB/s eta 0:00:01\r\u001b[K     |██████████████████████          | 1.2MB 8.3MB/s eta 0:00:01\r\u001b[K     |██████████████████████          | 1.3MB 8.3MB/s eta 0:00:01\r\u001b[K     |██████████████████████▎         | 1.3MB 8.3MB/s eta 0:00:01\r\u001b[K     |██████████████████████▌         | 1.3MB 8.3MB/s eta 0:00:01\r\u001b[K     |██████████████████████▋         | 1.3MB 8.3MB/s eta 0:00:01\r\u001b[K     |██████████████████████▉         | 1.3MB 8.3MB/s eta 0:00:01\r\u001b[K     |███████████████████████         | 1.3MB 8.3MB/s eta 0:00:01\r\u001b[K     |███████████████████████▏        | 1.3MB 8.3MB/s eta 0:00:01\r\u001b[K     |███████████████████████▍        | 1.3MB 8.3MB/s eta 0:00:01\r\u001b[K     |███████████████████████▌        | 1.3MB 8.3MB/s eta 0:00:01\r\u001b[K     |███████████████████████▊        | 1.4MB 8.3MB/s eta 0:00:01\r\u001b[K     |████████████████████████        | 1.4MB 8.3MB/s eta 0:00:01\r\u001b[K     |████████████████████████        | 1.4MB 8.3MB/s eta 0:00:01\r\u001b[K     |████████████████████████▎       | 1.4MB 8.3MB/s eta 0:00:01\r\u001b[K     |████████████████████████▍       | 1.4MB 8.3MB/s eta 0:00:01\r\u001b[K     |████████████████████████▋       | 1.4MB 8.3MB/s eta 0:00:01\r\u001b[K     |████████████████████████▉       | 1.4MB 8.3MB/s eta 0:00:01\r\u001b[K     |█████████████████████████       | 1.4MB 8.3MB/s eta 0:00:01\r\u001b[K     |█████████████████████████▏      | 1.4MB 8.3MB/s eta 0:00:01\r\u001b[K     |█████████████████████████▎      | 1.4MB 8.3MB/s eta 0:00:01\r\u001b[K     |█████████████████████████▌      | 1.5MB 8.3MB/s eta 0:00:01\r\u001b[K     |█████████████████████████▊      | 1.5MB 8.3MB/s eta 0:00:01\r\u001b[K     |█████████████████████████▉      | 1.5MB 8.3MB/s eta 0:00:01\r\u001b[K     |██████████████████████████      | 1.5MB 8.3MB/s eta 0:00:01\r\u001b[K     |██████████████████████████▎     | 1.5MB 8.3MB/s eta 0:00:01\r\u001b[K     |██████████████████████████▍     | 1.5MB 8.3MB/s eta 0:00:01\r\u001b[K     |██████████████████████████▋     | 1.5MB 8.3MB/s eta 0:00:01\r\u001b[K     |██████████████████████████▊     | 1.5MB 8.3MB/s eta 0:00:01\r\u001b[K     |███████████████████████████     | 1.5MB 8.3MB/s eta 0:00:01\r\u001b[K     |███████████████████████████▏    | 1.5MB 8.3MB/s eta 0:00:01\r\u001b[K     |███████████████████████████▎    | 1.6MB 8.3MB/s eta 0:00:01\r\u001b[K     |███████████████████████████▌    | 1.6MB 8.3MB/s eta 0:00:01\r\u001b[K     |███████████████████████████▋    | 1.6MB 8.3MB/s eta 0:00:01\r\u001b[K     |███████████████████████████▉    | 1.6MB 8.3MB/s eta 0:00:01\r\u001b[K     |████████████████████████████    | 1.6MB 8.3MB/s eta 0:00:01\r\u001b[K     |████████████████████████████▏   | 1.6MB 8.3MB/s eta 0:00:01\r\u001b[K     |████████████████████████████▍   | 1.6MB 8.3MB/s eta 0:00:01\r\u001b[K     |████████████████████████████▋   | 1.6MB 8.3MB/s eta 0:00:01\r\u001b[K     |████████████████████████████▊   | 1.6MB 8.3MB/s eta 0:00:01\r\u001b[K     |█████████████████████████████   | 1.6MB 8.3MB/s eta 0:00:01\r\u001b[K     |█████████████████████████████   | 1.7MB 8.3MB/s eta 0:00:01\r\u001b[K     |█████████████████████████████▎  | 1.7MB 8.3MB/s eta 0:00:01\r\u001b[K     |█████████████████████████████▌  | 1.7MB 8.3MB/s eta 0:00:01\r\u001b[K     |█████████████████████████████▋  | 1.7MB 8.3MB/s eta 0:00:01\r\u001b[K     |█████████████████████████████▉  | 1.7MB 8.3MB/s eta 0:00:01\r\u001b[K     |██████████████████████████████  | 1.7MB 8.3MB/s eta 0:00:01\r\u001b[K     |██████████████████████████████▏ | 1.7MB 8.3MB/s eta 0:00:01\r\u001b[K     |██████████████████████████████▍ | 1.7MB 8.3MB/s eta 0:00:01\r\u001b[K     |██████████████████████████████▌ | 1.7MB 8.3MB/s eta 0:00:01\r\u001b[K     |██████████████████████████████▊ | 1.8MB 8.3MB/s eta 0:00:01\r\u001b[K     |███████████████████████████████ | 1.8MB 8.3MB/s eta 0:00:01\r\u001b[K     |███████████████████████████████ | 1.8MB 8.3MB/s eta 0:00:01\r\u001b[K     |███████████████████████████████▎| 1.8MB 8.3MB/s eta 0:00:01\r\u001b[K     |███████████████████████████████▍| 1.8MB 8.3MB/s eta 0:00:01\r\u001b[K     |███████████████████████████████▋| 1.8MB 8.3MB/s eta 0:00:01\r\u001b[K     |███████████████████████████████▉| 1.8MB 8.3MB/s eta 0:00:01\r\u001b[K     |████████████████████████████████| 1.8MB 8.3MB/s eta 0:00:01\r\u001b[K     |████████████████████████████████| 1.8MB 8.3MB/s \n",
            "\u001b[?25hCollecting configparser>=3.8.1\n",
            "  Downloading https://files.pythonhosted.org/packages/fd/01/ff260a18caaf4457eb028c96eeb405c4a230ca06c8ec9c1379f813caa52e/configparser-5.0.2-py3-none-any.whl\n",
            "Requirement already satisfied: Click!=8.0.0,>=7.0 in /usr/local/lib/python3.7/dist-packages (from wandb) (7.1.2)\n",
            "Requirement already satisfied: protobuf>=3.12.0 in /usr/local/lib/python3.7/dist-packages (from wandb) (3.12.4)\n",
            "Requirement already satisfied: six>=1.13.0 in /usr/local/lib/python3.7/dist-packages (from wandb) (1.15.0)\n",
            "Requirement already satisfied: python-dateutil>=2.6.1 in /usr/local/lib/python3.7/dist-packages (from wandb) (2.8.1)\n",
            "Collecting GitPython>=1.0.0\n",
            "\u001b[?25l  Downloading https://files.pythonhosted.org/packages/bc/91/b38c4fabb6e5092ab23492ded4f318ab7299b19263272b703478038c0fbc/GitPython-3.1.18-py3-none-any.whl (170kB)\n",
            "\u001b[K     |████████████████████████████████| 174kB 40.2MB/s \n",
            "\u001b[?25hCollecting pathtools\n",
            "  Downloading https://files.pythonhosted.org/packages/e7/7f/470d6fcdf23f9f3518f6b0b76be9df16dcc8630ad409947f8be2eb0ed13a/pathtools-0.1.2.tar.gz\n",
            "Collecting subprocess32>=3.5.3\n",
            "\u001b[?25l  Downloading https://files.pythonhosted.org/packages/32/c8/564be4d12629b912ea431f1a50eb8b3b9d00f1a0b1ceff17f266be190007/subprocess32-3.5.4.tar.gz (97kB)\n",
            "\u001b[K     |████████████████████████████████| 102kB 13.5MB/s \n",
            "\u001b[?25hCollecting docker-pycreds>=0.4.0\n",
            "  Downloading https://files.pythonhosted.org/packages/f5/e8/f6bd1eee09314e7e6dee49cbe2c5e22314ccdb38db16c9fc72d2fa80d054/docker_pycreds-0.4.0-py2.py3-none-any.whl\n",
            "Requirement already satisfied: requests<3,>=2.0.0 in /usr/local/lib/python3.7/dist-packages (from wandb) (2.23.0)\n",
            "Collecting sentry-sdk>=0.4.0\n",
            "\u001b[?25l  Downloading https://files.pythonhosted.org/packages/1c/4a/a54b254f67d8f4052338d54ebe90126f200693440a93ef76d254d581e3ec/sentry_sdk-1.1.0-py2.py3-none-any.whl (131kB)\n",
            "\u001b[K     |████████████████████████████████| 133kB 52.8MB/s \n",
            "\u001b[?25hRequirement already satisfied: psutil>=5.0.0 in /usr/local/lib/python3.7/dist-packages (from wandb) (5.4.8)\n",
            "Requirement already satisfied: promise<3,>=2.0 in /usr/local/lib/python3.7/dist-packages (from wandb) (2.3)\n",
            "Collecting shortuuid>=0.5.0\n",
            "  Downloading https://files.pythonhosted.org/packages/25/a6/2ecc1daa6a304e7f1b216f0896b26156b78e7c38e1211e9b798b4716c53d/shortuuid-1.0.1-py3-none-any.whl\n",
            "Requirement already satisfied: PyYAML in /usr/local/lib/python3.7/dist-packages (from wandb) (3.13)\n",
            "Requirement already satisfied: setuptools in /usr/local/lib/python3.7/dist-packages (from protobuf>=3.12.0->wandb) (57.0.0)\n",
            "Collecting gitdb<5,>=4.0.1\n",
            "\u001b[?25l  Downloading https://files.pythonhosted.org/packages/ea/e8/f414d1a4f0bbc668ed441f74f44c116d9816833a48bf81d22b697090dba8/gitdb-4.0.7-py3-none-any.whl (63kB)\n",
            "\u001b[K     |████████████████████████████████| 71kB 11.9MB/s \n",
            "\u001b[?25hRequirement already satisfied: typing-extensions>=3.7.4.0; python_version < \"3.8\" in /usr/local/lib/python3.7/dist-packages (from GitPython>=1.0.0->wandb) (3.7.4.3)\n",
            "Requirement already satisfied: chardet<4,>=3.0.2 in /usr/local/lib/python3.7/dist-packages (from requests<3,>=2.0.0->wandb) (3.0.4)\n",
            "Requirement already satisfied: certifi>=2017.4.17 in /usr/local/lib/python3.7/dist-packages (from requests<3,>=2.0.0->wandb) (2021.5.30)\n",
            "Requirement already satisfied: idna<3,>=2.5 in /usr/local/lib/python3.7/dist-packages (from requests<3,>=2.0.0->wandb) (2.10)\n",
            "Requirement already satisfied: urllib3!=1.25.0,!=1.25.1,<1.26,>=1.21.1 in /usr/local/lib/python3.7/dist-packages (from requests<3,>=2.0.0->wandb) (1.24.3)\n",
            "Collecting smmap<5,>=3.0.1\n",
            "  Downloading https://files.pythonhosted.org/packages/68/ee/d540eb5e5996eb81c26ceffac6ee49041d473bc5125f2aa995cf51ec1cf1/smmap-4.0.0-py2.py3-none-any.whl\n",
            "Building wheels for collected packages: pathtools, subprocess32\n",
            "  Building wheel for pathtools (setup.py) ... \u001b[?25l\u001b[?25hdone\n",
            "  Created wheel for pathtools: filename=pathtools-0.1.2-cp37-none-any.whl size=8807 sha256=5a5312db301ddc6081f58bf758bc6892fa54552553c49b3057bc72204510ac9e\n",
            "  Stored in directory: /root/.cache/pip/wheels/0b/04/79/c3b0c3a0266a3cb4376da31e5bfe8bba0c489246968a68e843\n",
            "  Building wheel for subprocess32 (setup.py) ... \u001b[?25l\u001b[?25hdone\n",
            "  Created wheel for subprocess32: filename=subprocess32-3.5.4-cp37-none-any.whl size=6502 sha256=e6b4cbd93c00090c0b36cb853a529048b0e0c996d65405c9c8bb0e8907202177\n",
            "  Stored in directory: /root/.cache/pip/wheels/68/39/1a/5e402bdfdf004af1786c8b853fd92f8c4a04f22aad179654d1\n",
            "Successfully built pathtools subprocess32\n",
            "Installing collected packages: configparser, smmap, gitdb, GitPython, pathtools, subprocess32, docker-pycreds, sentry-sdk, shortuuid, wandb\n",
            "Successfully installed GitPython-3.1.18 configparser-5.0.2 docker-pycreds-0.4.0 gitdb-4.0.7 pathtools-0.1.2 sentry-sdk-1.1.0 shortuuid-1.0.1 smmap-4.0.0 subprocess32-3.5.4 wandb-0.10.32\n",
            "\u001b[34m\u001b[1mwandb\u001b[0m: You can find your API key in your browser here: https://wandb.ai/authorize\n",
            "\u001b[34m\u001b[1mwandb\u001b[0m: Paste an API key from your profile and hit enter: \n",
            "\u001b[34m\u001b[1mwandb\u001b[0m: Appending key for api.wandb.ai to your netrc file: /root/.netrc\n"
          ],
          "name": "stdout"
        }
      ]
    },
    {
      "cell_type": "code",
      "metadata": {
        "id": "wMSD_sZaBrVN",
        "colab": {
          "base_uri": "https://localhost:8080/"
        },
        "outputId": "b5eef799-a55f-4c40-bbae-4c51ffe34f9c"
      },
      "source": [
        "import tensorflow as tf\n",
        "from tensorflow import keras\n",
        "from tensorflow.keras import layers\n",
        "#from tensorflow.keras.layers import Input, Dense, Activation, Reshape, BatchNormalization, Add,Dropout, Conv1D,AveragePooling1D,Concatenate, Average, Embedding, GlobalAveragePooling1D, Flatten, AlphaDropout\n",
        "\n",
        "from tensorflow.keras.models import Model\n",
        "\n",
        "import os\n",
        "import numpy as np\n",
        "import pandas as pd\n",
        "import matplotlib.pyplot as plt\n",
        "\n",
        "import wandb\n",
        "from wandb.keras import WandbCallback\n",
        "\n",
        "wandb.login()\n"
      ],
      "execution_count": null,
      "outputs": [
        {
          "output_type": "stream",
          "text": [
            "\u001b[34m\u001b[1mwandb\u001b[0m: Currently logged in as: \u001b[33mnitinkash\u001b[0m (use `wandb login --relogin` to force relogin)\n"
          ],
          "name": "stderr"
        },
        {
          "output_type": "execute_result",
          "data": {
            "text/plain": [
              "True"
            ]
          },
          "metadata": {
            "tags": []
          },
          "execution_count": 2
        }
      ]
    },
    {
      "cell_type": "code",
      "metadata": {
        "id": "a2D8dD3nvPXR"
      },
      "source": [
        "train = pd.read_csv('train.csv.zip')\n",
        "test = pd.read_csv('test.csv.zip') \n",
        "submission = pd.read_csv('sample_submission.csv.zip')\n",
        "submission = submission.set_index('id')\n",
        "\n",
        "train.target = pd.Categorical(train.target)\n",
        "train['target'] = train.target.cat.codes\n",
        "\n",
        "indep_vars = ['feature_' + str(i) for i in range(75)]\n",
        "dep_var = ['target']"
      ],
      "execution_count": null,
      "outputs": []
    },
    {
      "cell_type": "code",
      "metadata": {
        "id": "Dj0x4PcDFKX9"
      },
      "source": [
        "train.shape, test.shape\n",
        "train.pop('id')\n",
        "y = train.pop('target')"
      ],
      "execution_count": null,
      "outputs": []
    },
    {
      "cell_type": "code",
      "metadata": {
        "colab": {
          "base_uri": "https://localhost:8080/"
        },
        "id": "FvSchNRl-7Qg",
        "outputId": "60bd3bd5-9b51-4744-d9a6-1caa0dc7f3c1"
      },
      "source": [
        "y"
      ],
      "execution_count": null,
      "outputs": [
        {
          "output_type": "execute_result",
          "data": {
            "text/plain": [
              "0         5\n",
              "1         5\n",
              "2         1\n",
              "3         7\n",
              "4         1\n",
              "         ..\n",
              "199995    5\n",
              "199996    5\n",
              "199997    7\n",
              "199998    6\n",
              "199999    7\n",
              "Name: target, Length: 200000, dtype: int8"
            ]
          },
          "metadata": {
            "tags": []
          },
          "execution_count": 20
        }
      ]
    },
    {
      "cell_type": "code",
      "metadata": {
        "id": "ouPsb13CCrfZ"
      },
      "source": [
        "emb_sizes = train.max(axis=0)"
      ],
      "execution_count": null,
      "outputs": []
    },
    {
      "cell_type": "markdown",
      "metadata": {
        "id": "uhawSgzwKDrL"
      },
      "source": [
        "#### Building the NEural Network:"
      ]
    },
    {
      "cell_type": "code",
      "metadata": {
        "colab": {
          "base_uri": "https://localhost:8080/"
        },
        "id": "DGrVFTyH2X7f",
        "outputId": "4f616429-468b-4db0-c3c1-6b07ebd455ad"
      },
      "source": [
        "!pip install tensorflow_addons\n"
      ],
      "execution_count": null,
      "outputs": [
        {
          "output_type": "stream",
          "text": [
            "Collecting tensorflow_addons\n",
            "\u001b[?25l  Downloading https://files.pythonhosted.org/packages/66/4b/e893d194e626c24b3df2253066aa418f46a432fdb68250cde14bf9bb0700/tensorflow_addons-0.13.0-cp37-cp37m-manylinux2010_x86_64.whl (679kB)\n",
            "\r\u001b[K     |▌                               | 10kB 22.1MB/s eta 0:00:01\r\u001b[K     |█                               | 20kB 28.0MB/s eta 0:00:01\r\u001b[K     |█▌                              | 30kB 33.2MB/s eta 0:00:01\r\u001b[K     |██                              | 40kB 29.3MB/s eta 0:00:01\r\u001b[K     |██▍                             | 51kB 30.2MB/s eta 0:00:01\r\u001b[K     |███                             | 61kB 32.5MB/s eta 0:00:01\r\u001b[K     |███▍                            | 71kB 26.8MB/s eta 0:00:01\r\u001b[K     |███▉                            | 81kB 28.0MB/s eta 0:00:01\r\u001b[K     |████▍                           | 92kB 29.6MB/s eta 0:00:01\r\u001b[K     |████▉                           | 102kB 28.1MB/s eta 0:00:01\r\u001b[K     |█████▎                          | 112kB 28.1MB/s eta 0:00:01\r\u001b[K     |█████▉                          | 122kB 28.1MB/s eta 0:00:01\r\u001b[K     |██████▎                         | 133kB 28.1MB/s eta 0:00:01\r\u001b[K     |██████▊                         | 143kB 28.1MB/s eta 0:00:01\r\u001b[K     |███████▎                        | 153kB 28.1MB/s eta 0:00:01\r\u001b[K     |███████▊                        | 163kB 28.1MB/s eta 0:00:01\r\u001b[K     |████████▏                       | 174kB 28.1MB/s eta 0:00:01\r\u001b[K     |████████▊                       | 184kB 28.1MB/s eta 0:00:01\r\u001b[K     |█████████▏                      | 194kB 28.1MB/s eta 0:00:01\r\u001b[K     |█████████▋                      | 204kB 28.1MB/s eta 0:00:01\r\u001b[K     |██████████▏                     | 215kB 28.1MB/s eta 0:00:01\r\u001b[K     |██████████▋                     | 225kB 28.1MB/s eta 0:00:01\r\u001b[K     |███████████                     | 235kB 28.1MB/s eta 0:00:01\r\u001b[K     |███████████▋                    | 245kB 28.1MB/s eta 0:00:01\r\u001b[K     |████████████                    | 256kB 28.1MB/s eta 0:00:01\r\u001b[K     |████████████▌                   | 266kB 28.1MB/s eta 0:00:01\r\u001b[K     |█████████████                   | 276kB 28.1MB/s eta 0:00:01\r\u001b[K     |█████████████▌                  | 286kB 28.1MB/s eta 0:00:01\r\u001b[K     |██████████████                  | 296kB 28.1MB/s eta 0:00:01\r\u001b[K     |██████████████▌                 | 307kB 28.1MB/s eta 0:00:01\r\u001b[K     |███████████████                 | 317kB 28.1MB/s eta 0:00:01\r\u001b[K     |███████████████▍                | 327kB 28.1MB/s eta 0:00:01\r\u001b[K     |████████████████                | 337kB 28.1MB/s eta 0:00:01\r\u001b[K     |████████████████▍               | 348kB 28.1MB/s eta 0:00:01\r\u001b[K     |████████████████▉               | 358kB 28.1MB/s eta 0:00:01\r\u001b[K     |█████████████████▍              | 368kB 28.1MB/s eta 0:00:01\r\u001b[K     |█████████████████▉              | 378kB 28.1MB/s eta 0:00:01\r\u001b[K     |██████████████████▎             | 389kB 28.1MB/s eta 0:00:01\r\u001b[K     |██████████████████▉             | 399kB 28.1MB/s eta 0:00:01\r\u001b[K     |███████████████████▎            | 409kB 28.1MB/s eta 0:00:01\r\u001b[K     |███████████████████▊            | 419kB 28.1MB/s eta 0:00:01\r\u001b[K     |████████████████████▎           | 430kB 28.1MB/s eta 0:00:01\r\u001b[K     |████████████████████▊           | 440kB 28.1MB/s eta 0:00:01\r\u001b[K     |█████████████████████▏          | 450kB 28.1MB/s eta 0:00:01\r\u001b[K     |█████████████████████▊          | 460kB 28.1MB/s eta 0:00:01\r\u001b[K     |██████████████████████▏         | 471kB 28.1MB/s eta 0:00:01\r\u001b[K     |██████████████████████▋         | 481kB 28.1MB/s eta 0:00:01\r\u001b[K     |███████████████████████▏        | 491kB 28.1MB/s eta 0:00:01\r\u001b[K     |███████████████████████▋        | 501kB 28.1MB/s eta 0:00:01\r\u001b[K     |████████████████████████        | 512kB 28.1MB/s eta 0:00:01\r\u001b[K     |████████████████████████▋       | 522kB 28.1MB/s eta 0:00:01\r\u001b[K     |█████████████████████████       | 532kB 28.1MB/s eta 0:00:01\r\u001b[K     |█████████████████████████▌      | 542kB 28.1MB/s eta 0:00:01\r\u001b[K     |██████████████████████████      | 552kB 28.1MB/s eta 0:00:01\r\u001b[K     |██████████████████████████▌     | 563kB 28.1MB/s eta 0:00:01\r\u001b[K     |███████████████████████████     | 573kB 28.1MB/s eta 0:00:01\r\u001b[K     |███████████████████████████▌    | 583kB 28.1MB/s eta 0:00:01\r\u001b[K     |████████████████████████████    | 593kB 28.1MB/s eta 0:00:01\r\u001b[K     |████████████████████████████▍   | 604kB 28.1MB/s eta 0:00:01\r\u001b[K     |█████████████████████████████   | 614kB 28.1MB/s eta 0:00:01\r\u001b[K     |█████████████████████████████▍  | 624kB 28.1MB/s eta 0:00:01\r\u001b[K     |█████████████████████████████▉  | 634kB 28.1MB/s eta 0:00:01\r\u001b[K     |██████████████████████████████▍ | 645kB 28.1MB/s eta 0:00:01\r\u001b[K     |██████████████████████████████▉ | 655kB 28.1MB/s eta 0:00:01\r\u001b[K     |███████████████████████████████▎| 665kB 28.1MB/s eta 0:00:01\r\u001b[K     |███████████████████████████████▉| 675kB 28.1MB/s eta 0:00:01\r\u001b[K     |████████████████████████████████| 686kB 28.1MB/s \n",
            "\u001b[?25hRequirement already satisfied: typeguard>=2.7 in /usr/local/lib/python3.7/dist-packages (from tensorflow_addons) (2.7.1)\n",
            "Installing collected packages: tensorflow-addons\n",
            "Successfully installed tensorflow-addons-0.13.0\n"
          ],
          "name": "stdout"
        }
      ]
    },
    {
      "cell_type": "code",
      "metadata": {
        "id": "EGAU27PVRibw"
      },
      "source": [
        "\n",
        "import pandas as pd\n",
        "import numpy as np\n",
        "\n",
        "from sklearn.model_selection import StratifiedKFold\n",
        "from sklearn import preprocessing\n",
        "from sklearn.metrics import log_loss\n",
        "from sklearn.feature_selection import mutual_info_classif\n",
        "\n",
        "import gc\n",
        "\n",
        "import tensorflow as tf\n",
        "import tensorflow_addons as tfa\n",
        "import tensorflow.keras.backend as K\n",
        "from tensorflow import keras\n",
        "from tensorflow.keras import layers\n",
        "from tensorflow.keras import activations,callbacks\n",
        "from tensorflow.keras.optimizers import Adam\n",
        "from tensorflow.keras.metrics import categorical_crossentropy\n",
        "from tensorflow.keras.utils import to_categorical\n",
        "from tensorflow.keras import initializers\n",
        "\n",
        "from keras.models import Model\n"
      ],
      "execution_count": null,
      "outputs": []
    },
    {
      "cell_type": "code",
      "metadata": {
        "id": "UOkPXCBn2vCe"
      },
      "source": [
        "def custom_metric(y_true, y_pred):\n",
        "    y_pred = K.clip(y_pred, 1e-15, 1-1e-15)\n",
        "    loss = K.mean(cce(y_true, y_pred))\n",
        "    return loss\n",
        "\n",
        "cce = tf.keras.losses.CategoricalCrossentropy()\n",
        "\n",
        "es = tf.keras.callbacks.EarlyStopping(\n",
        "    monitor='val_custom_metric', min_delta=1e-05, patience=4, verbose=0,\n",
        "    mode='min', baseline=None, restore_best_weights=True)\n",
        "\n",
        "plateau = tf.keras.callbacks.ReduceLROnPlateau(\n",
        "    monitor='val_custom_metric', factor=0.7, patience=2, verbose=0,\n",
        "    mode='min')"
      ],
      "execution_count": null,
      "outputs": []
    },
    {
      "cell_type": "code",
      "metadata": {
        "id": "nZYtmpi010MD"
      },
      "source": [
        "def conv_model1():\n",
        "\n",
        "    conv_inputs = layers.Input(shape = (75))\n",
        "    embed = layers.Embedding (input_dim = 354, \n",
        "                              output_dim = 6,\n",
        "                              embeddings_regularizer='l2')(conv_inputs)\n",
        "    embed = layers.Conv1D(12,1,activation = 'relu')(embed)        \n",
        "    embed = layers.Flatten()(embed)\n",
        "    hidden = layers.Dropout(0.3)(embed)\n",
        "    \n",
        "    hidden = tfa.layers.WeightNormalization(\n",
        "                layers.Dense(\n",
        "                units=32,\n",
        "                activation ='selu',\n",
        "                kernel_initializer = \"lecun_normal\"))(hidden)\n",
        "    \n",
        "    output = layers.Dropout(0.3)(layers.Concatenate()([embed, hidden]))\n",
        "    output = tfa.layers.WeightNormalization(\n",
        "    layers.Dense(\n",
        "                units = 32,\n",
        "                activation='relu',\n",
        "                kernel_initializer = \"lecun_normal\"))(output) \n",
        "    output = layers.Dropout(0.4)(layers.Concatenate()([embed, hidden, output]))\n",
        "    output = tfa.layers.WeightNormalization(\n",
        "    layers.Dense(\n",
        "                units = 32, \n",
        "                activation = 'relu',\n",
        "                kernel_initializer = \"lecun_normal\"))(output)\n",
        "    \n",
        "    conv_outputs = layers.Dense(\n",
        "                units = 9, \n",
        "                activation ='softmax',\n",
        "                kernel_initializer =\"lecun_normal\")(output)\n",
        "    \n",
        "    model = Model(conv_inputs,conv_outputs)\n",
        "    \n",
        "    return model"
      ],
      "execution_count": null,
      "outputs": []
    },
    {
      "cell_type": "code",
      "metadata": {
        "id": "TKU8oLsu3yZd"
      },
      "source": [
        ""
      ],
      "execution_count": null,
      "outputs": []
    },
    {
      "cell_type": "code",
      "metadata": {
        "id": "60KwgLv_3yIE"
      },
      "source": [
        "train = pd.read_csv('train.csv.zip')\n",
        "test = pd.read_csv('test.csv.zip') \n",
        "submission = pd.read_csv('sample_submission.csv.zip')\n",
        "submission = submission.set_index('id')\n",
        "\n",
        "targets = pd.get_dummies(train['target'])\n",
        "dic = {'Class_1':1,'Class_2':2,'Class_3':3,'Class_4':4,'Class_5':5,'Class_6':6,'Class_7':7,'Class_8':8,'Class_9':9}\n",
        "target_num = train[\"target\"].map(dic)"
      ],
      "execution_count": null,
      "outputs": []
    },
    {
      "cell_type": "code",
      "metadata": {
        "colab": {
          "base_uri": "https://localhost:8080/",
          "height": 867
        },
        "id": "Fe0l2fkO3Ar-",
        "outputId": "a79f1f09-a400-408e-fb29-c8f7cd9fbde8"
      },
      "source": [
        "y_valids = []\n",
        "\n",
        "oof_NN_class = np.zeros((train.shape[0],9))\n",
        "pred_NN_class = np.zeros((test.shape[0],9))\n",
        "pred_NN_class_all = np.zeros((test.shape[0],9))\n",
        "\n",
        "oof_NN_a = np.zeros((train.shape[0],9))\n",
        "pred_NN_a = np.zeros((test.shape[0],9))\n",
        "pred_NN_a_all = np.zeros((test.shape[0],9))\n",
        "\n",
        "oof_NN_h = np.zeros((train.shape[0],9))\n",
        "pred_NN_h = np.zeros((test.shape[0],9))\n",
        "pred_NN_h_all = np.zeros((test.shape[0],9))\n",
        "\n",
        "oof_NN_v = np.zeros((train.shape[0],9))\n",
        "pred_NN_v = np.zeros((test.shape[0],9))\n",
        "pred_NN_v_all = np.zeros((test.shape[0],9))\n",
        "\n",
        "NN_c_train_preds = []\n",
        "NN_c_test_preds = []\n",
        "\n",
        "NN_h_train_preds = []\n",
        "NN_h_test_preds = []\n",
        "\n",
        "NN_v_train_preds = []\n",
        "NN_v_test_preds = []\n",
        "\n",
        "NN_a_train_preds = []\n",
        "NN_a_test_preds = []\n",
        "\n",
        "N_FOLDS = 25\n",
        "SEED = 42\n",
        "EPOCH = 500\n",
        "N_round = 2\n",
        "\n",
        "for i in range(N_round ):\n",
        "    \n",
        "    \n",
        "    skf = StratifiedKFold(n_splits=N_FOLDS, shuffle=True, random_state= SEED * i)\n",
        "    \n",
        "    print(f\"\\n =========== ROUND {i+1} ===============\\n\")\n",
        "    \n",
        "    for fold, (tr_idx, ts_idx) in enumerate(skf.split(train,train.iloc[:,-1])):\n",
        "        print(f\"\\n--------TRAINING FOLD {fold} ---------\\n\")\n",
        "\n",
        "        X_train = train.iloc[:,1:-1].iloc[tr_idx]\n",
        "        y_train = targets.iloc[tr_idx]\n",
        "        X_test = train.iloc[:,1:-1].iloc[ts_idx]\n",
        "        y_test = targets.iloc[ts_idx]\n",
        "\n",
        "        K.clear_session()\n",
        "\n",
        "        #================= NN CONV MODEL training =========\n",
        "\n",
        "        model_conv = conv_model1()\n",
        "\n",
        "        model_conv.compile(loss='categorical_crossentropy', \n",
        "                                optimizer = keras.optimizers.Adam(learning_rate=2e-4), \n",
        "                                metrics=custom_metric)\n",
        "        model_conv.fit(X_train, y_train,\n",
        "                  batch_size = 256, epochs = EPOCH,\n",
        "                  validation_data=(X_test, y_test),\n",
        "                  callbacks=[es, plateau],\n",
        "                  verbose = 0)\n",
        "\n",
        "        #============== Convolution Model prediction ==========\n",
        "\n",
        "        pred_a = model_conv.predict(X_test)\n",
        "        pred_a1 = model_conv.predict(X_train)\n",
        "        oof_NN_a[ts_idx] += pred_a \n",
        "        score_NN_a = log_loss(y_test, pred_a)\n",
        "        print(f\"Score Model 1: {score_NN_a}\")\n",
        "        pred_NN_a += model_conv.predict(test.iloc[:,1:]) / N_FOLDS\n",
        "        pred_NN_a_all += model_conv.predict(test.iloc[:,1:]) / N_FOLDS / N_round"
      ],
      "execution_count": null,
      "outputs": [
        {
          "output_type": "stream",
          "text": [
            "\n",
            " =========== ROUND 1 ===============\n",
            "\n",
            "\n",
            "--------TRAINING FOLD 0 ---------\n",
            "\n"
          ],
          "name": "stdout"
        },
        {
          "output_type": "stream",
          "text": [
            "Exception ignored in: <function IteratorResourceDeleter.__del__ at 0x7f30390b17a0>\n",
            "Traceback (most recent call last):\n",
            "  File \"/usr/local/lib/python3.7/dist-packages/tensorflow/python/data/ops/iterator_ops.py\", line 546, in __del__\n",
            "    handle=self._handle, deleter=self._deleter)\n",
            "  File \"/usr/local/lib/python3.7/dist-packages/tensorflow/python/ops/gen_dataset_ops.py\", line 1264, in delete_iterator\n",
            "    _ctx, \"DeleteIterator\", name, handle, deleter)\n",
            "KeyboardInterrupt: \n"
          ],
          "name": "stderr"
        },
        {
          "output_type": "stream",
          "text": [
            "Score Model 1: 1.7373326778588816\n",
            "\n",
            "--------TRAINING FOLD 1 ---------\n",
            "\n",
            "Score Model 1: 1.7429528020713478\n",
            "\n",
            "--------TRAINING FOLD 2 ---------\n",
            "\n",
            "Score Model 1: 1.756215072916355\n",
            "\n",
            "--------TRAINING FOLD 3 ---------\n",
            "\n",
            "Score Model 1: 1.761630692366045\n",
            "\n",
            "--------TRAINING FOLD 4 ---------\n",
            "\n"
          ],
          "name": "stdout"
        },
        {
          "output_type": "error",
          "ename": "KeyboardInterrupt",
          "evalue": "ignored",
          "traceback": [
            "\u001b[0;31m---------------------------------------------------------------------------\u001b[0m",
            "\u001b[0;31mKeyboardInterrupt\u001b[0m                         Traceback (most recent call last)",
            "\u001b[0;32m<ipython-input-18-7b162c497acc>\u001b[0m in \u001b[0;36m<module>\u001b[0;34m()\u001b[0m\n\u001b[1;32m     62\u001b[0m                   \u001b[0mvalidation_data\u001b[0m\u001b[0;34m=\u001b[0m\u001b[0;34m(\u001b[0m\u001b[0mX_test\u001b[0m\u001b[0;34m,\u001b[0m \u001b[0my_test\u001b[0m\u001b[0;34m)\u001b[0m\u001b[0;34m,\u001b[0m\u001b[0;34m\u001b[0m\u001b[0;34m\u001b[0m\u001b[0m\n\u001b[1;32m     63\u001b[0m                   \u001b[0mcallbacks\u001b[0m\u001b[0;34m=\u001b[0m\u001b[0;34m[\u001b[0m\u001b[0mes\u001b[0m\u001b[0;34m,\u001b[0m \u001b[0mplateau\u001b[0m\u001b[0;34m]\u001b[0m\u001b[0;34m,\u001b[0m\u001b[0;34m\u001b[0m\u001b[0;34m\u001b[0m\u001b[0m\n\u001b[0;32m---> 64\u001b[0;31m                   verbose = 0)\n\u001b[0m\u001b[1;32m     65\u001b[0m \u001b[0;34m\u001b[0m\u001b[0m\n\u001b[1;32m     66\u001b[0m         \u001b[0;31m#============== Convolution Model prediction ==========\u001b[0m\u001b[0;34m\u001b[0m\u001b[0;34m\u001b[0m\u001b[0;34m\u001b[0m\u001b[0m\n",
            "\u001b[0;32m/usr/local/lib/python3.7/dist-packages/keras/engine/training.py\u001b[0m in \u001b[0;36mfit\u001b[0;34m(self, x, y, batch_size, epochs, verbose, callbacks, validation_split, validation_data, shuffle, class_weight, sample_weight, initial_epoch, steps_per_epoch, validation_steps, validation_batch_size, validation_freq, max_queue_size, workers, use_multiprocessing)\u001b[0m\n\u001b[1;32m   1156\u001b[0m                 _r=1):\n\u001b[1;32m   1157\u001b[0m               \u001b[0mcallbacks\u001b[0m\u001b[0;34m.\u001b[0m\u001b[0mon_train_batch_begin\u001b[0m\u001b[0;34m(\u001b[0m\u001b[0mstep\u001b[0m\u001b[0;34m)\u001b[0m\u001b[0;34m\u001b[0m\u001b[0;34m\u001b[0m\u001b[0m\n\u001b[0;32m-> 1158\u001b[0;31m               \u001b[0mtmp_logs\u001b[0m \u001b[0;34m=\u001b[0m \u001b[0mself\u001b[0m\u001b[0;34m.\u001b[0m\u001b[0mtrain_function\u001b[0m\u001b[0;34m(\u001b[0m\u001b[0miterator\u001b[0m\u001b[0;34m)\u001b[0m\u001b[0;34m\u001b[0m\u001b[0;34m\u001b[0m\u001b[0m\n\u001b[0m\u001b[1;32m   1159\u001b[0m               \u001b[0;32mif\u001b[0m \u001b[0mdata_handler\u001b[0m\u001b[0;34m.\u001b[0m\u001b[0mshould_sync\u001b[0m\u001b[0;34m:\u001b[0m\u001b[0;34m\u001b[0m\u001b[0;34m\u001b[0m\u001b[0m\n\u001b[1;32m   1160\u001b[0m                 \u001b[0mcontext\u001b[0m\u001b[0;34m.\u001b[0m\u001b[0masync_wait\u001b[0m\u001b[0;34m(\u001b[0m\u001b[0;34m)\u001b[0m\u001b[0;34m\u001b[0m\u001b[0;34m\u001b[0m\u001b[0m\n",
            "\u001b[0;32m/usr/local/lib/python3.7/dist-packages/tensorflow/python/eager/def_function.py\u001b[0m in \u001b[0;36m__call__\u001b[0;34m(self, *args, **kwds)\u001b[0m\n\u001b[1;32m    887\u001b[0m \u001b[0;34m\u001b[0m\u001b[0m\n\u001b[1;32m    888\u001b[0m       \u001b[0;32mwith\u001b[0m \u001b[0mOptionalXlaContext\u001b[0m\u001b[0;34m(\u001b[0m\u001b[0mself\u001b[0m\u001b[0;34m.\u001b[0m\u001b[0m_jit_compile\u001b[0m\u001b[0;34m)\u001b[0m\u001b[0;34m:\u001b[0m\u001b[0;34m\u001b[0m\u001b[0;34m\u001b[0m\u001b[0m\n\u001b[0;32m--> 889\u001b[0;31m         \u001b[0mresult\u001b[0m \u001b[0;34m=\u001b[0m \u001b[0mself\u001b[0m\u001b[0;34m.\u001b[0m\u001b[0m_call\u001b[0m\u001b[0;34m(\u001b[0m\u001b[0;34m*\u001b[0m\u001b[0margs\u001b[0m\u001b[0;34m,\u001b[0m \u001b[0;34m**\u001b[0m\u001b[0mkwds\u001b[0m\u001b[0;34m)\u001b[0m\u001b[0;34m\u001b[0m\u001b[0;34m\u001b[0m\u001b[0m\n\u001b[0m\u001b[1;32m    890\u001b[0m \u001b[0;34m\u001b[0m\u001b[0m\n\u001b[1;32m    891\u001b[0m       \u001b[0mnew_tracing_count\u001b[0m \u001b[0;34m=\u001b[0m \u001b[0mself\u001b[0m\u001b[0;34m.\u001b[0m\u001b[0mexperimental_get_tracing_count\u001b[0m\u001b[0;34m(\u001b[0m\u001b[0;34m)\u001b[0m\u001b[0;34m\u001b[0m\u001b[0;34m\u001b[0m\u001b[0m\n",
            "\u001b[0;32m/usr/local/lib/python3.7/dist-packages/tensorflow/python/eager/def_function.py\u001b[0m in \u001b[0;36m_call\u001b[0;34m(self, *args, **kwds)\u001b[0m\n\u001b[1;32m    915\u001b[0m       \u001b[0;31m# In this case we have created variables on the first call, so we run the\u001b[0m\u001b[0;34m\u001b[0m\u001b[0;34m\u001b[0m\u001b[0;34m\u001b[0m\u001b[0m\n\u001b[1;32m    916\u001b[0m       \u001b[0;31m# defunned version which is guaranteed to never create variables.\u001b[0m\u001b[0;34m\u001b[0m\u001b[0;34m\u001b[0m\u001b[0;34m\u001b[0m\u001b[0m\n\u001b[0;32m--> 917\u001b[0;31m       \u001b[0;32mreturn\u001b[0m \u001b[0mself\u001b[0m\u001b[0;34m.\u001b[0m\u001b[0m_stateless_fn\u001b[0m\u001b[0;34m(\u001b[0m\u001b[0;34m*\u001b[0m\u001b[0margs\u001b[0m\u001b[0;34m,\u001b[0m \u001b[0;34m**\u001b[0m\u001b[0mkwds\u001b[0m\u001b[0;34m)\u001b[0m  \u001b[0;31m# pylint: disable=not-callable\u001b[0m\u001b[0;34m\u001b[0m\u001b[0;34m\u001b[0m\u001b[0m\n\u001b[0m\u001b[1;32m    918\u001b[0m     \u001b[0;32melif\u001b[0m \u001b[0mself\u001b[0m\u001b[0;34m.\u001b[0m\u001b[0m_stateful_fn\u001b[0m \u001b[0;32mis\u001b[0m \u001b[0;32mnot\u001b[0m \u001b[0;32mNone\u001b[0m\u001b[0;34m:\u001b[0m\u001b[0;34m\u001b[0m\u001b[0;34m\u001b[0m\u001b[0m\n\u001b[1;32m    919\u001b[0m       \u001b[0;31m# Release the lock early so that multiple threads can perform the call\u001b[0m\u001b[0;34m\u001b[0m\u001b[0;34m\u001b[0m\u001b[0;34m\u001b[0m\u001b[0m\n",
            "\u001b[0;32m/usr/local/lib/python3.7/dist-packages/tensorflow/python/eager/function.py\u001b[0m in \u001b[0;36m__call__\u001b[0;34m(self, *args, **kwargs)\u001b[0m\n\u001b[1;32m   3022\u001b[0m        filtered_flat_args) = self._maybe_define_function(args, kwargs)\n\u001b[1;32m   3023\u001b[0m     return graph_function._call_flat(\n\u001b[0;32m-> 3024\u001b[0;31m         filtered_flat_args, captured_inputs=graph_function.captured_inputs)  # pylint: disable=protected-access\n\u001b[0m\u001b[1;32m   3025\u001b[0m \u001b[0;34m\u001b[0m\u001b[0m\n\u001b[1;32m   3026\u001b[0m   \u001b[0;34m@\u001b[0m\u001b[0mproperty\u001b[0m\u001b[0;34m\u001b[0m\u001b[0;34m\u001b[0m\u001b[0m\n",
            "\u001b[0;32m/usr/local/lib/python3.7/dist-packages/tensorflow/python/eager/function.py\u001b[0m in \u001b[0;36m_call_flat\u001b[0;34m(self, args, captured_inputs, cancellation_manager)\u001b[0m\n\u001b[1;32m   1959\u001b[0m       \u001b[0;31m# No tape is watching; skip to running the function.\u001b[0m\u001b[0;34m\u001b[0m\u001b[0;34m\u001b[0m\u001b[0;34m\u001b[0m\u001b[0m\n\u001b[1;32m   1960\u001b[0m       return self._build_call_outputs(self._inference_function.call(\n\u001b[0;32m-> 1961\u001b[0;31m           ctx, args, cancellation_manager=cancellation_manager))\n\u001b[0m\u001b[1;32m   1962\u001b[0m     forward_backward = self._select_forward_and_backward_functions(\n\u001b[1;32m   1963\u001b[0m         \u001b[0margs\u001b[0m\u001b[0;34m,\u001b[0m\u001b[0;34m\u001b[0m\u001b[0;34m\u001b[0m\u001b[0m\n",
            "\u001b[0;32m/usr/local/lib/python3.7/dist-packages/tensorflow/python/eager/function.py\u001b[0m in \u001b[0;36mcall\u001b[0;34m(self, ctx, args, cancellation_manager)\u001b[0m\n\u001b[1;32m    594\u001b[0m               \u001b[0minputs\u001b[0m\u001b[0;34m=\u001b[0m\u001b[0margs\u001b[0m\u001b[0;34m,\u001b[0m\u001b[0;34m\u001b[0m\u001b[0;34m\u001b[0m\u001b[0m\n\u001b[1;32m    595\u001b[0m               \u001b[0mattrs\u001b[0m\u001b[0;34m=\u001b[0m\u001b[0mattrs\u001b[0m\u001b[0;34m,\u001b[0m\u001b[0;34m\u001b[0m\u001b[0;34m\u001b[0m\u001b[0m\n\u001b[0;32m--> 596\u001b[0;31m               ctx=ctx)\n\u001b[0m\u001b[1;32m    597\u001b[0m         \u001b[0;32melse\u001b[0m\u001b[0;34m:\u001b[0m\u001b[0;34m\u001b[0m\u001b[0;34m\u001b[0m\u001b[0m\n\u001b[1;32m    598\u001b[0m           outputs = execute.execute_with_cancellation(\n",
            "\u001b[0;32m/usr/local/lib/python3.7/dist-packages/tensorflow/python/eager/execute.py\u001b[0m in \u001b[0;36mquick_execute\u001b[0;34m(op_name, num_outputs, inputs, attrs, ctx, name)\u001b[0m\n\u001b[1;32m     58\u001b[0m     \u001b[0mctx\u001b[0m\u001b[0;34m.\u001b[0m\u001b[0mensure_initialized\u001b[0m\u001b[0;34m(\u001b[0m\u001b[0;34m)\u001b[0m\u001b[0;34m\u001b[0m\u001b[0;34m\u001b[0m\u001b[0m\n\u001b[1;32m     59\u001b[0m     tensors = pywrap_tfe.TFE_Py_Execute(ctx._handle, device_name, op_name,\n\u001b[0;32m---> 60\u001b[0;31m                                         inputs, attrs, num_outputs)\n\u001b[0m\u001b[1;32m     61\u001b[0m   \u001b[0;32mexcept\u001b[0m \u001b[0mcore\u001b[0m\u001b[0;34m.\u001b[0m\u001b[0m_NotOkStatusException\u001b[0m \u001b[0;32mas\u001b[0m \u001b[0me\u001b[0m\u001b[0;34m:\u001b[0m\u001b[0;34m\u001b[0m\u001b[0;34m\u001b[0m\u001b[0m\n\u001b[1;32m     62\u001b[0m     \u001b[0;32mif\u001b[0m \u001b[0mname\u001b[0m \u001b[0;32mis\u001b[0m \u001b[0;32mnot\u001b[0m \u001b[0;32mNone\u001b[0m\u001b[0;34m:\u001b[0m\u001b[0;34m\u001b[0m\u001b[0;34m\u001b[0m\u001b[0m\n",
            "\u001b[0;31mKeyboardInterrupt\u001b[0m: "
          ]
        }
      ]
    },
    {
      "cell_type": "code",
      "metadata": {
        "id": "bnUFwmWI3WxG"
      },
      "source": [
        "submission[['Class_1', 'Class_2', 'Class_3', 'Class_4','Class_5','Class_6','Class_7','Class_8','Class_9']] = pred_NN_class_all\n",
        "submission.to_csv('classifier1.csv')"
      ],
      "execution_count": null,
      "outputs": []
    },
    {
      "cell_type": "code",
      "metadata": {
        "id": "aywTiGW3BwOT"
      },
      "source": [
        "!kaggle competitions submit -c tabular-playground-series-jun-2021 -f classifier1.csv -m \"Base simple conv tf Model\""
      ],
      "execution_count": null,
      "outputs": []
    },
    {
      "cell_type": "code",
      "metadata": {
        "id": "uOVUPsbzE9Bx"
      },
      "source": [
        "'''def EmbeddingBlock(X, emb_size):\n",
        "    embed_dim = int(min(np.ceil(emb_size / 2), 50))\n",
        "    X=layers.Embedding(emb_size+1, embed_dim, embeddings_regularizer='l2')(X)\n",
        "    X = layers.Reshape(target_shape=(embed_dim, ))(X)\n",
        "    X=layers.Flatten()(X)\n",
        "    X=layers.Dense(500, kernel_initializer=tf.keras.initializers.GlorotNormal())(X)\n",
        "    X=layers.BatchNormalization(axis=-1)(X)\n",
        "    X=layers.Dropout(0.4)(X)\n",
        "    X=layers.Activation('relu')(X)\n",
        "    return X\n",
        "\n",
        "\n",
        "def get_model(df):\n",
        "    inputs= []\n",
        "    embeddings = []\n",
        "    ''\n",
        "    for c in cat_cols:\n",
        "        #num_unique_vals = int(df[c].nunique())\n",
        "        emb_size = X.train.max(axis=0)\n",
        "        embed_dim = int(min(np.ceil(num_unique_vals / 2), 50))\n",
        "        inp = layers.Input(shape=(1,))\n",
        "        out = layers.Embedding(num_unique_vals + 1, embed_dim, name=c)(inp)\n",
        "        #Apply Dropout here\n",
        "        out = layers.Reshape(target_shape=(embed_dim, ))(out)\n",
        "        inputs.append(inp)\n",
        "        outputs.append(out)\n",
        "    ''\n",
        "    for i in range(75):\n",
        "        inputs.append(layers.Input(1,))\n",
        "    for i, emb_size in enumerate(emb_sizes):\n",
        "        embeddings.append(EmbeddingBlock(inputs[i], int(emb_size)))\n",
        "    x = layers.Concatenate()(embeddings)\n",
        "    x = layers.Dense(200, name='lay2',  activation = 'relu', kernel_initializer=tf.keras.initializers.GlorotNormal())(x)\n",
        "    x = layers.BatchNormalization(axis = -1, name = 'bn2')(x)\n",
        "    x = layers.Dropout(0.5)(x)\n",
        "#    x = layers.Activation('relu')(x)\n",
        "    x = layers.Dense(100, name='lay3',  activation = 'relu', kernel_initializer=tf.keras.initializers.GlorotNormal())(x)\n",
        "#    x = layers.BatchNormalization(axis = -1, name = 'bn3')(x)\n",
        "#    x = layers.Dropout(0.5)(x)\n",
        "#    x = layers.Activation('relu')(x)\n",
        "    x = layers.Dense(9, activation='softmax', name='output')(x)\n",
        "    model = Model(inputs=inputs, outputs=x, name='Embedding_Model')\n",
        "    \n",
        "    return model\n",
        "    '''"
      ],
      "execution_count": null,
      "outputs": []
    },
    {
      "cell_type": "code",
      "metadata": {
        "id": "Io4IyfV_Gvov"
      },
      "source": [
        "get_model(train).summary()"
      ],
      "execution_count": null,
      "outputs": []
    },
    {
      "cell_type": "code",
      "metadata": {
        "id": "WcXkrAn8G8Vb"
      },
      "source": [
        "model = get_model(train)\n",
        "model.compile(loss='categorical_crossentropy', optimizer = keras.optimizers.Adam(learning_rate=0.01), metrics=['accuracy'])"
      ],
      "execution_count": null,
      "outputs": []
    },
    {
      "cell_type": "code",
      "metadata": {
        "colab": {
          "base_uri": "https://localhost:8080/"
        },
        "id": "B7q3DIhQHGle",
        "outputId": "08e2d13a-679e-4a3e-ac87-42acb2496181"
      },
      "source": [
        "y"
      ],
      "execution_count": null,
      "outputs": [
        {
          "output_type": "execute_result",
          "data": {
            "text/plain": [
              "0         5\n",
              "1         5\n",
              "2         1\n",
              "3         7\n",
              "4         1\n",
              "         ..\n",
              "199995    5\n",
              "199996    5\n",
              "199997    7\n",
              "199998    6\n",
              "199999    7\n",
              "Name: target, Length: 200000, dtype: int8"
            ]
          },
          "metadata": {
            "tags": []
          },
          "execution_count": 58
        }
      ]
    },
    {
      "cell_type": "code",
      "metadata": {
        "colab": {
          "base_uri": "https://localhost:8080/",
          "height": 848
        },
        "id": "1L9QxTlXJ0Ax",
        "outputId": "dcbd6833-f36e-4c14-b267-588a38623c74"
      },
      "source": [
        "model.fit([train.loc[:,f].values for f in indep_vars], y.values, batch_size = 128, epochs = 14)"
      ],
      "execution_count": null,
      "outputs": [
        {
          "output_type": "stream",
          "text": [
            "Epoch 1/14\n"
          ],
          "name": "stdout"
        },
        {
          "output_type": "error",
          "ename": "ValueError",
          "evalue": "ignored",
          "traceback": [
            "\u001b[0;31m---------------------------------------------------------------------------\u001b[0m",
            "\u001b[0;31mValueError\u001b[0m                                Traceback (most recent call last)",
            "\u001b[0;32m<ipython-input-59-bb1227044615>\u001b[0m in \u001b[0;36m<module>\u001b[0;34m()\u001b[0m\n\u001b[0;32m----> 1\u001b[0;31m \u001b[0mmodel\u001b[0m\u001b[0;34m.\u001b[0m\u001b[0mfit\u001b[0m\u001b[0;34m(\u001b[0m\u001b[0;34m[\u001b[0m\u001b[0mtrain\u001b[0m\u001b[0;34m.\u001b[0m\u001b[0mloc\u001b[0m\u001b[0;34m[\u001b[0m\u001b[0;34m:\u001b[0m\u001b[0;34m,\u001b[0m\u001b[0mf\u001b[0m\u001b[0;34m]\u001b[0m\u001b[0;34m.\u001b[0m\u001b[0mvalues\u001b[0m \u001b[0;32mfor\u001b[0m \u001b[0mf\u001b[0m \u001b[0;32min\u001b[0m \u001b[0mindep_vars\u001b[0m\u001b[0;34m]\u001b[0m\u001b[0;34m,\u001b[0m \u001b[0my\u001b[0m\u001b[0;34m.\u001b[0m\u001b[0mvalues\u001b[0m\u001b[0;34m,\u001b[0m \u001b[0mbatch_size\u001b[0m \u001b[0;34m=\u001b[0m \u001b[0;36m128\u001b[0m\u001b[0;34m,\u001b[0m \u001b[0mepochs\u001b[0m \u001b[0;34m=\u001b[0m \u001b[0;36m14\u001b[0m\u001b[0;34m)\u001b[0m\u001b[0;34m\u001b[0m\u001b[0;34m\u001b[0m\u001b[0m\n\u001b[0m",
            "\u001b[0;32m/usr/local/lib/python3.7/dist-packages/wandb/integration/keras/keras.py\u001b[0m in \u001b[0;36mnew_v2\u001b[0;34m(*args, **kwargs)\u001b[0m\n\u001b[1;32m    122\u001b[0m             \u001b[0;32mfor\u001b[0m \u001b[0mcbk\u001b[0m \u001b[0;32min\u001b[0m \u001b[0mcbks\u001b[0m\u001b[0;34m:\u001b[0m\u001b[0;34m\u001b[0m\u001b[0;34m\u001b[0m\u001b[0m\n\u001b[1;32m    123\u001b[0m                 \u001b[0mset_wandb_attrs\u001b[0m\u001b[0;34m(\u001b[0m\u001b[0mcbk\u001b[0m\u001b[0;34m,\u001b[0m \u001b[0mval_data\u001b[0m\u001b[0;34m)\u001b[0m\u001b[0;34m\u001b[0m\u001b[0;34m\u001b[0m\u001b[0m\n\u001b[0;32m--> 124\u001b[0;31m         \u001b[0;32mreturn\u001b[0m \u001b[0mold_v2\u001b[0m\u001b[0;34m(\u001b[0m\u001b[0;34m*\u001b[0m\u001b[0margs\u001b[0m\u001b[0;34m,\u001b[0m \u001b[0;34m**\u001b[0m\u001b[0mkwargs\u001b[0m\u001b[0;34m)\u001b[0m\u001b[0;34m\u001b[0m\u001b[0;34m\u001b[0m\u001b[0m\n\u001b[0m\u001b[1;32m    125\u001b[0m \u001b[0;34m\u001b[0m\u001b[0m\n\u001b[1;32m    126\u001b[0m     \u001b[0mtraining_arrays\u001b[0m\u001b[0;34m.\u001b[0m\u001b[0morig_fit_loop\u001b[0m \u001b[0;34m=\u001b[0m \u001b[0mold_arrays\u001b[0m\u001b[0;34m\u001b[0m\u001b[0;34m\u001b[0m\u001b[0m\n",
            "\u001b[0;32m/usr/local/lib/python3.7/dist-packages/tensorflow/python/keras/engine/training.py\u001b[0m in \u001b[0;36mfit\u001b[0;34m(self, x, y, batch_size, epochs, verbose, callbacks, validation_split, validation_data, shuffle, class_weight, sample_weight, initial_epoch, steps_per_epoch, validation_steps, validation_batch_size, validation_freq, max_queue_size, workers, use_multiprocessing)\u001b[0m\n\u001b[1;32m   1181\u001b[0m                 _r=1):\n\u001b[1;32m   1182\u001b[0m               \u001b[0mcallbacks\u001b[0m\u001b[0;34m.\u001b[0m\u001b[0mon_train_batch_begin\u001b[0m\u001b[0;34m(\u001b[0m\u001b[0mstep\u001b[0m\u001b[0;34m)\u001b[0m\u001b[0;34m\u001b[0m\u001b[0;34m\u001b[0m\u001b[0m\n\u001b[0;32m-> 1183\u001b[0;31m               \u001b[0mtmp_logs\u001b[0m \u001b[0;34m=\u001b[0m \u001b[0mself\u001b[0m\u001b[0;34m.\u001b[0m\u001b[0mtrain_function\u001b[0m\u001b[0;34m(\u001b[0m\u001b[0miterator\u001b[0m\u001b[0;34m)\u001b[0m\u001b[0;34m\u001b[0m\u001b[0;34m\u001b[0m\u001b[0m\n\u001b[0m\u001b[1;32m   1184\u001b[0m               \u001b[0;32mif\u001b[0m \u001b[0mdata_handler\u001b[0m\u001b[0;34m.\u001b[0m\u001b[0mshould_sync\u001b[0m\u001b[0;34m:\u001b[0m\u001b[0;34m\u001b[0m\u001b[0;34m\u001b[0m\u001b[0m\n\u001b[1;32m   1185\u001b[0m                 \u001b[0mcontext\u001b[0m\u001b[0;34m.\u001b[0m\u001b[0masync_wait\u001b[0m\u001b[0;34m(\u001b[0m\u001b[0;34m)\u001b[0m\u001b[0;34m\u001b[0m\u001b[0;34m\u001b[0m\u001b[0m\n",
            "\u001b[0;32m/usr/local/lib/python3.7/dist-packages/tensorflow/python/eager/def_function.py\u001b[0m in \u001b[0;36m__call__\u001b[0;34m(self, *args, **kwds)\u001b[0m\n\u001b[1;32m    887\u001b[0m \u001b[0;34m\u001b[0m\u001b[0m\n\u001b[1;32m    888\u001b[0m       \u001b[0;32mwith\u001b[0m \u001b[0mOptionalXlaContext\u001b[0m\u001b[0;34m(\u001b[0m\u001b[0mself\u001b[0m\u001b[0;34m.\u001b[0m\u001b[0m_jit_compile\u001b[0m\u001b[0;34m)\u001b[0m\u001b[0;34m:\u001b[0m\u001b[0;34m\u001b[0m\u001b[0;34m\u001b[0m\u001b[0m\n\u001b[0;32m--> 889\u001b[0;31m         \u001b[0mresult\u001b[0m \u001b[0;34m=\u001b[0m \u001b[0mself\u001b[0m\u001b[0;34m.\u001b[0m\u001b[0m_call\u001b[0m\u001b[0;34m(\u001b[0m\u001b[0;34m*\u001b[0m\u001b[0margs\u001b[0m\u001b[0;34m,\u001b[0m \u001b[0;34m**\u001b[0m\u001b[0mkwds\u001b[0m\u001b[0;34m)\u001b[0m\u001b[0;34m\u001b[0m\u001b[0;34m\u001b[0m\u001b[0m\n\u001b[0m\u001b[1;32m    890\u001b[0m \u001b[0;34m\u001b[0m\u001b[0m\n\u001b[1;32m    891\u001b[0m       \u001b[0mnew_tracing_count\u001b[0m \u001b[0;34m=\u001b[0m \u001b[0mself\u001b[0m\u001b[0;34m.\u001b[0m\u001b[0mexperimental_get_tracing_count\u001b[0m\u001b[0;34m(\u001b[0m\u001b[0;34m)\u001b[0m\u001b[0;34m\u001b[0m\u001b[0;34m\u001b[0m\u001b[0m\n",
            "\u001b[0;32m/usr/local/lib/python3.7/dist-packages/tensorflow/python/eager/def_function.py\u001b[0m in \u001b[0;36m_call\u001b[0;34m(self, *args, **kwds)\u001b[0m\n\u001b[1;32m    922\u001b[0m       \u001b[0;31m# In this case we have not created variables on the first call. So we can\u001b[0m\u001b[0;34m\u001b[0m\u001b[0;34m\u001b[0m\u001b[0;34m\u001b[0m\u001b[0m\n\u001b[1;32m    923\u001b[0m       \u001b[0;31m# run the first trace but we should fail if variables are created.\u001b[0m\u001b[0;34m\u001b[0m\u001b[0;34m\u001b[0m\u001b[0;34m\u001b[0m\u001b[0m\n\u001b[0;32m--> 924\u001b[0;31m       \u001b[0mresults\u001b[0m \u001b[0;34m=\u001b[0m \u001b[0mself\u001b[0m\u001b[0;34m.\u001b[0m\u001b[0m_stateful_fn\u001b[0m\u001b[0;34m(\u001b[0m\u001b[0;34m*\u001b[0m\u001b[0margs\u001b[0m\u001b[0;34m,\u001b[0m \u001b[0;34m**\u001b[0m\u001b[0mkwds\u001b[0m\u001b[0;34m)\u001b[0m\u001b[0;34m\u001b[0m\u001b[0;34m\u001b[0m\u001b[0m\n\u001b[0m\u001b[1;32m    925\u001b[0m       \u001b[0;32mif\u001b[0m \u001b[0mself\u001b[0m\u001b[0;34m.\u001b[0m\u001b[0m_created_variables\u001b[0m\u001b[0;34m:\u001b[0m\u001b[0;34m\u001b[0m\u001b[0;34m\u001b[0m\u001b[0m\n\u001b[1;32m    926\u001b[0m         raise ValueError(\"Creating variables on a non-first call to a function\"\n",
            "\u001b[0;32m/usr/local/lib/python3.7/dist-packages/tensorflow/python/eager/function.py\u001b[0m in \u001b[0;36m__call__\u001b[0;34m(self, *args, **kwargs)\u001b[0m\n\u001b[1;32m   3020\u001b[0m     \u001b[0;32mwith\u001b[0m \u001b[0mself\u001b[0m\u001b[0;34m.\u001b[0m\u001b[0m_lock\u001b[0m\u001b[0;34m:\u001b[0m\u001b[0;34m\u001b[0m\u001b[0;34m\u001b[0m\u001b[0m\n\u001b[1;32m   3021\u001b[0m       (graph_function,\n\u001b[0;32m-> 3022\u001b[0;31m        filtered_flat_args) = self._maybe_define_function(args, kwargs)\n\u001b[0m\u001b[1;32m   3023\u001b[0m     return graph_function._call_flat(\n\u001b[1;32m   3024\u001b[0m         filtered_flat_args, captured_inputs=graph_function.captured_inputs)  # pylint: disable=protected-access\n",
            "\u001b[0;32m/usr/local/lib/python3.7/dist-packages/tensorflow/python/eager/function.py\u001b[0m in \u001b[0;36m_maybe_define_function\u001b[0;34m(self, args, kwargs)\u001b[0m\n\u001b[1;32m   3439\u001b[0m               call_context_key in self._function_cache.missed):\n\u001b[1;32m   3440\u001b[0m             return self._define_function_with_shape_relaxation(\n\u001b[0;32m-> 3441\u001b[0;31m                 args, kwargs, flat_args, filtered_flat_args, cache_key_context)\n\u001b[0m\u001b[1;32m   3442\u001b[0m \u001b[0;34m\u001b[0m\u001b[0m\n\u001b[1;32m   3443\u001b[0m           \u001b[0mself\u001b[0m\u001b[0;34m.\u001b[0m\u001b[0m_function_cache\u001b[0m\u001b[0;34m.\u001b[0m\u001b[0mmissed\u001b[0m\u001b[0;34m.\u001b[0m\u001b[0madd\u001b[0m\u001b[0;34m(\u001b[0m\u001b[0mcall_context_key\u001b[0m\u001b[0;34m)\u001b[0m\u001b[0;34m\u001b[0m\u001b[0;34m\u001b[0m\u001b[0m\n",
            "\u001b[0;32m/usr/local/lib/python3.7/dist-packages/tensorflow/python/eager/function.py\u001b[0m in \u001b[0;36m_define_function_with_shape_relaxation\u001b[0;34m(self, args, kwargs, flat_args, filtered_flat_args, cache_key_context)\u001b[0m\n\u001b[1;32m   3361\u001b[0m \u001b[0;34m\u001b[0m\u001b[0m\n\u001b[1;32m   3362\u001b[0m     graph_function = self._create_graph_function(\n\u001b[0;32m-> 3363\u001b[0;31m         args, kwargs, override_flat_arg_shapes=relaxed_arg_shapes)\n\u001b[0m\u001b[1;32m   3364\u001b[0m     \u001b[0mself\u001b[0m\u001b[0;34m.\u001b[0m\u001b[0m_function_cache\u001b[0m\u001b[0;34m.\u001b[0m\u001b[0marg_relaxed\u001b[0m\u001b[0;34m[\u001b[0m\u001b[0mrank_only_cache_key\u001b[0m\u001b[0;34m]\u001b[0m \u001b[0;34m=\u001b[0m \u001b[0mgraph_function\u001b[0m\u001b[0;34m\u001b[0m\u001b[0;34m\u001b[0m\u001b[0m\n\u001b[1;32m   3365\u001b[0m \u001b[0;34m\u001b[0m\u001b[0m\n",
            "\u001b[0;32m/usr/local/lib/python3.7/dist-packages/tensorflow/python/eager/function.py\u001b[0m in \u001b[0;36m_create_graph_function\u001b[0;34m(self, args, kwargs, override_flat_arg_shapes)\u001b[0m\n\u001b[1;32m   3287\u001b[0m             \u001b[0marg_names\u001b[0m\u001b[0;34m=\u001b[0m\u001b[0marg_names\u001b[0m\u001b[0;34m,\u001b[0m\u001b[0;34m\u001b[0m\u001b[0;34m\u001b[0m\u001b[0m\n\u001b[1;32m   3288\u001b[0m             \u001b[0moverride_flat_arg_shapes\u001b[0m\u001b[0;34m=\u001b[0m\u001b[0moverride_flat_arg_shapes\u001b[0m\u001b[0;34m,\u001b[0m\u001b[0;34m\u001b[0m\u001b[0;34m\u001b[0m\u001b[0m\n\u001b[0;32m-> 3289\u001b[0;31m             capture_by_value=self._capture_by_value),\n\u001b[0m\u001b[1;32m   3290\u001b[0m         \u001b[0mself\u001b[0m\u001b[0;34m.\u001b[0m\u001b[0m_function_attributes\u001b[0m\u001b[0;34m,\u001b[0m\u001b[0;34m\u001b[0m\u001b[0;34m\u001b[0m\u001b[0m\n\u001b[1;32m   3291\u001b[0m         \u001b[0mfunction_spec\u001b[0m\u001b[0;34m=\u001b[0m\u001b[0mself\u001b[0m\u001b[0;34m.\u001b[0m\u001b[0mfunction_spec\u001b[0m\u001b[0;34m,\u001b[0m\u001b[0;34m\u001b[0m\u001b[0;34m\u001b[0m\u001b[0m\n",
            "\u001b[0;32m/usr/local/lib/python3.7/dist-packages/tensorflow/python/framework/func_graph.py\u001b[0m in \u001b[0;36mfunc_graph_from_py_func\u001b[0;34m(name, python_func, args, kwargs, signature, func_graph, autograph, autograph_options, add_control_dependencies, arg_names, op_return_value, collections, capture_by_value, override_flat_arg_shapes)\u001b[0m\n\u001b[1;32m    997\u001b[0m         \u001b[0m_\u001b[0m\u001b[0;34m,\u001b[0m \u001b[0moriginal_func\u001b[0m \u001b[0;34m=\u001b[0m \u001b[0mtf_decorator\u001b[0m\u001b[0;34m.\u001b[0m\u001b[0munwrap\u001b[0m\u001b[0;34m(\u001b[0m\u001b[0mpython_func\u001b[0m\u001b[0;34m)\u001b[0m\u001b[0;34m\u001b[0m\u001b[0;34m\u001b[0m\u001b[0m\n\u001b[1;32m    998\u001b[0m \u001b[0;34m\u001b[0m\u001b[0m\n\u001b[0;32m--> 999\u001b[0;31m       \u001b[0mfunc_outputs\u001b[0m \u001b[0;34m=\u001b[0m \u001b[0mpython_func\u001b[0m\u001b[0;34m(\u001b[0m\u001b[0;34m*\u001b[0m\u001b[0mfunc_args\u001b[0m\u001b[0;34m,\u001b[0m \u001b[0;34m**\u001b[0m\u001b[0mfunc_kwargs\u001b[0m\u001b[0;34m)\u001b[0m\u001b[0;34m\u001b[0m\u001b[0;34m\u001b[0m\u001b[0m\n\u001b[0m\u001b[1;32m   1000\u001b[0m \u001b[0;34m\u001b[0m\u001b[0m\n\u001b[1;32m   1001\u001b[0m       \u001b[0;31m# invariant: `func_outputs` contains only Tensors, CompositeTensors,\u001b[0m\u001b[0;34m\u001b[0m\u001b[0;34m\u001b[0m\u001b[0;34m\u001b[0m\u001b[0m\n",
            "\u001b[0;32m/usr/local/lib/python3.7/dist-packages/tensorflow/python/eager/def_function.py\u001b[0m in \u001b[0;36mwrapped_fn\u001b[0;34m(*args, **kwds)\u001b[0m\n\u001b[1;32m    670\u001b[0m         \u001b[0;31m# the function a weak reference to itself to avoid a reference cycle.\u001b[0m\u001b[0;34m\u001b[0m\u001b[0;34m\u001b[0m\u001b[0;34m\u001b[0m\u001b[0m\n\u001b[1;32m    671\u001b[0m         \u001b[0;32mwith\u001b[0m \u001b[0mOptionalXlaContext\u001b[0m\u001b[0;34m(\u001b[0m\u001b[0mcompile_with_xla\u001b[0m\u001b[0;34m)\u001b[0m\u001b[0;34m:\u001b[0m\u001b[0;34m\u001b[0m\u001b[0;34m\u001b[0m\u001b[0m\n\u001b[0;32m--> 672\u001b[0;31m           \u001b[0mout\u001b[0m \u001b[0;34m=\u001b[0m \u001b[0mweak_wrapped_fn\u001b[0m\u001b[0;34m(\u001b[0m\u001b[0;34m)\u001b[0m\u001b[0;34m.\u001b[0m\u001b[0m__wrapped__\u001b[0m\u001b[0;34m(\u001b[0m\u001b[0;34m*\u001b[0m\u001b[0margs\u001b[0m\u001b[0;34m,\u001b[0m \u001b[0;34m**\u001b[0m\u001b[0mkwds\u001b[0m\u001b[0;34m)\u001b[0m\u001b[0;34m\u001b[0m\u001b[0;34m\u001b[0m\u001b[0m\n\u001b[0m\u001b[1;32m    673\u001b[0m         \u001b[0;32mreturn\u001b[0m \u001b[0mout\u001b[0m\u001b[0;34m\u001b[0m\u001b[0;34m\u001b[0m\u001b[0m\n\u001b[1;32m    674\u001b[0m \u001b[0;34m\u001b[0m\u001b[0m\n",
            "\u001b[0;32m/usr/local/lib/python3.7/dist-packages/tensorflow/python/framework/func_graph.py\u001b[0m in \u001b[0;36mwrapper\u001b[0;34m(*args, **kwargs)\u001b[0m\n\u001b[1;32m    984\u001b[0m           \u001b[0;32mexcept\u001b[0m \u001b[0mException\u001b[0m \u001b[0;32mas\u001b[0m \u001b[0me\u001b[0m\u001b[0;34m:\u001b[0m  \u001b[0;31m# pylint:disable=broad-except\u001b[0m\u001b[0;34m\u001b[0m\u001b[0;34m\u001b[0m\u001b[0m\n\u001b[1;32m    985\u001b[0m             \u001b[0;32mif\u001b[0m \u001b[0mhasattr\u001b[0m\u001b[0;34m(\u001b[0m\u001b[0me\u001b[0m\u001b[0;34m,\u001b[0m \u001b[0;34m\"ag_error_metadata\"\u001b[0m\u001b[0;34m)\u001b[0m\u001b[0;34m:\u001b[0m\u001b[0;34m\u001b[0m\u001b[0;34m\u001b[0m\u001b[0m\n\u001b[0;32m--> 986\u001b[0;31m               \u001b[0;32mraise\u001b[0m \u001b[0me\u001b[0m\u001b[0;34m.\u001b[0m\u001b[0mag_error_metadata\u001b[0m\u001b[0;34m.\u001b[0m\u001b[0mto_exception\u001b[0m\u001b[0;34m(\u001b[0m\u001b[0me\u001b[0m\u001b[0;34m)\u001b[0m\u001b[0;34m\u001b[0m\u001b[0;34m\u001b[0m\u001b[0m\n\u001b[0m\u001b[1;32m    987\u001b[0m             \u001b[0;32melse\u001b[0m\u001b[0;34m:\u001b[0m\u001b[0;34m\u001b[0m\u001b[0;34m\u001b[0m\u001b[0m\n\u001b[1;32m    988\u001b[0m               \u001b[0;32mraise\u001b[0m\u001b[0;34m\u001b[0m\u001b[0;34m\u001b[0m\u001b[0m\n",
            "\u001b[0;31mValueError\u001b[0m: in user code:\n\n    /usr/local/lib/python3.7/dist-packages/tensorflow/python/keras/engine/training.py:855 train_function  *\n        return step_function(self, iterator)\n    /usr/local/lib/python3.7/dist-packages/tensorflow/python/keras/engine/training.py:845 step_function  **\n        outputs = model.distribute_strategy.run(run_step, args=(data,))\n    /usr/local/lib/python3.7/dist-packages/tensorflow/python/distribute/distribute_lib.py:1285 run\n        return self._extended.call_for_each_replica(fn, args=args, kwargs=kwargs)\n    /usr/local/lib/python3.7/dist-packages/tensorflow/python/distribute/distribute_lib.py:2833 call_for_each_replica\n        return self._call_for_each_replica(fn, args, kwargs)\n    /usr/local/lib/python3.7/dist-packages/tensorflow/python/distribute/distribute_lib.py:3608 _call_for_each_replica\n        return fn(*args, **kwargs)\n    /usr/local/lib/python3.7/dist-packages/tensorflow/python/keras/engine/training.py:838 run_step  **\n        outputs = model.train_step(data)\n    /usr/local/lib/python3.7/dist-packages/tensorflow/python/keras/engine/training.py:797 train_step\n        y, y_pred, sample_weight, regularization_losses=self.losses)\n    /usr/local/lib/python3.7/dist-packages/tensorflow/python/keras/engine/compile_utils.py:204 __call__\n        loss_value = loss_obj(y_t, y_p, sample_weight=sw)\n    /usr/local/lib/python3.7/dist-packages/tensorflow/python/keras/losses.py:155 __call__\n        losses = call_fn(y_true, y_pred)\n    /usr/local/lib/python3.7/dist-packages/tensorflow/python/keras/losses.py:259 call  **\n        return ag_fn(y_true, y_pred, **self._fn_kwargs)\n    /usr/local/lib/python3.7/dist-packages/tensorflow/python/util/dispatch.py:206 wrapper\n        return target(*args, **kwargs)\n    /usr/local/lib/python3.7/dist-packages/tensorflow/python/keras/losses.py:1644 categorical_crossentropy\n        y_true, y_pred, from_logits=from_logits)\n    /usr/local/lib/python3.7/dist-packages/tensorflow/python/util/dispatch.py:206 wrapper\n        return target(*args, **kwargs)\n    /usr/local/lib/python3.7/dist-packages/tensorflow/python/keras/backend.py:4862 categorical_crossentropy\n        target.shape.assert_is_compatible_with(output.shape)\n    /usr/local/lib/python3.7/dist-packages/tensorflow/python/framework/tensor_shape.py:1161 assert_is_compatible_with\n        raise ValueError(\"Shapes %s and %s are incompatible\" % (self, other))\n\n    ValueError: Shapes (None, 1) and (None, 9) are incompatible\n"
          ]
        }
      ]
    },
    {
      "cell_type": "code",
      "metadata": {
        "colab": {
          "base_uri": "https://localhost:8080/",
          "height": 523
        },
        "id": "-jCUq0ZfKhUC",
        "outputId": "94c9216b-6ad6-4515-8ea6-8e5cde7fed0c"
      },
      "source": [
        "kfold = StratifiedKFold(n_splits = 10, shuffle=True)\n",
        "y_pred = np.zeros((100000,9))\n",
        "train_oof = np.zeros((200000,9))\n",
        "\n",
        "for idx in kfold.split(X=train, y=y):\n",
        "    train_idx, val_idx = idx[0], idx[1]\n",
        "    xtrain = train.iloc[train_idx]\n",
        "    ytrain = y.iloc[train_idx]\n",
        "    xval = train.iloc[val_idx]\n",
        "    yval = y.iloc[val_idx]\n",
        "    ytrain = ytrain.astype('int')\n",
        "    yval = yval.astype('int')\n",
        "    ytrain-=1\n",
        "    yval-=1\n",
        "\n",
        "    model = get_model(train)\n",
        "    model.compile(loss='sparse_categorical_crossentropy', optimizer = keras.optimizers.Adam(learning_rate=0.01), metrics=['accuracy'])\n",
        "\n",
        "    model.fit([xtrain.loc[:,f].values for f in indep_vars], pd.to_numeric(ytrain), batch_size = 128, epochs = 20)\n",
        "    y_pred += classmodel.predict(X_test)/kfold.n_splits\n",
        "\n",
        "    val_pred = classmodel.predict(xval)\n",
        "    # getting out-of-fold predictions on training set\n",
        "    train_oof[val_idx] = val_pred\n",
        "    \n",
        "    # calculate and append logloss\n",
        "    fold_logloss = metrics.log_loss(yval,val_pred)\n",
        "    #print(classmodel.evaluate(xval,yval))\n",
        "    #classmodel.evaluate(xval,yval)\n",
        "    print(\"Logloss: {0:0.5f}\". format(fold_logloss))"
      ],
      "execution_count": null,
      "outputs": [
        {
          "output_type": "stream",
          "text": [
            "Epoch 1/14\n",
            "1547/1547 [==============================] - 150s 81ms/step - loss: nan - accuracy: 0.1221\n",
            "Epoch 2/14\n",
            "1547/1547 [==============================] - 122s 79ms/step - loss: nan - accuracy: 0.1222\n",
            "Epoch 3/14\n",
            "1547/1547 [==============================] - 120s 78ms/step - loss: nan - accuracy: 0.1222\n",
            "Epoch 4/14\n",
            "1547/1547 [==============================] - 118s 77ms/step - loss: nan - accuracy: 0.1222\n",
            "Epoch 5/14\n",
            "1506/1547 [============================>.] - ETA: 3s - loss: nan - accuracy: 0.1223"
          ],
          "name": "stdout"
        },
        {
          "output_type": "error",
          "ename": "KeyboardInterrupt",
          "evalue": "ignored",
          "traceback": [
            "\u001b[0;31m---------------------------------------------------------------------------\u001b[0m",
            "\u001b[0;31mKeyboardInterrupt\u001b[0m                         Traceback (most recent call last)",
            "\u001b[0;32m<ipython-input-92-9364e7524556>\u001b[0m in \u001b[0;36m<module>\u001b[0;34m()\u001b[0m\n\u001b[1;32m     17\u001b[0m     \u001b[0mmodel\u001b[0m\u001b[0;34m.\u001b[0m\u001b[0mcompile\u001b[0m\u001b[0;34m(\u001b[0m\u001b[0mloss\u001b[0m\u001b[0;34m=\u001b[0m\u001b[0;34m'sparse_categorical_crossentropy'\u001b[0m\u001b[0;34m,\u001b[0m \u001b[0moptimizer\u001b[0m \u001b[0;34m=\u001b[0m \u001b[0mkeras\u001b[0m\u001b[0;34m.\u001b[0m\u001b[0moptimizers\u001b[0m\u001b[0;34m.\u001b[0m\u001b[0mAdam\u001b[0m\u001b[0;34m(\u001b[0m\u001b[0mlearning_rate\u001b[0m\u001b[0;34m=\u001b[0m\u001b[0;36m0.01\u001b[0m\u001b[0;34m)\u001b[0m\u001b[0;34m,\u001b[0m \u001b[0mmetrics\u001b[0m\u001b[0;34m=\u001b[0m\u001b[0;34m[\u001b[0m\u001b[0;34m'accuracy'\u001b[0m\u001b[0;34m]\u001b[0m\u001b[0;34m)\u001b[0m\u001b[0;34m\u001b[0m\u001b[0;34m\u001b[0m\u001b[0m\n\u001b[1;32m     18\u001b[0m \u001b[0;34m\u001b[0m\u001b[0m\n\u001b[0;32m---> 19\u001b[0;31m     \u001b[0mmodel\u001b[0m\u001b[0;34m.\u001b[0m\u001b[0mfit\u001b[0m\u001b[0;34m(\u001b[0m\u001b[0;34m[\u001b[0m\u001b[0mxtrain\u001b[0m\u001b[0;34m.\u001b[0m\u001b[0mloc\u001b[0m\u001b[0;34m[\u001b[0m\u001b[0;34m:\u001b[0m\u001b[0;34m,\u001b[0m\u001b[0mf\u001b[0m\u001b[0;34m]\u001b[0m\u001b[0;34m.\u001b[0m\u001b[0mvalues\u001b[0m \u001b[0;32mfor\u001b[0m \u001b[0mf\u001b[0m \u001b[0;32min\u001b[0m \u001b[0mindep_vars\u001b[0m\u001b[0;34m]\u001b[0m\u001b[0;34m,\u001b[0m \u001b[0mpd\u001b[0m\u001b[0;34m.\u001b[0m\u001b[0mto_numeric\u001b[0m\u001b[0;34m(\u001b[0m\u001b[0mytrain\u001b[0m\u001b[0;34m)\u001b[0m\u001b[0;34m,\u001b[0m \u001b[0mbatch_size\u001b[0m \u001b[0;34m=\u001b[0m \u001b[0;36m128\u001b[0m\u001b[0;34m,\u001b[0m \u001b[0mepochs\u001b[0m \u001b[0;34m=\u001b[0m \u001b[0;36m14\u001b[0m\u001b[0;34m)\u001b[0m\u001b[0;34m\u001b[0m\u001b[0;34m\u001b[0m\u001b[0m\n\u001b[0m\u001b[1;32m     20\u001b[0m     \u001b[0my_pred\u001b[0m \u001b[0;34m+=\u001b[0m \u001b[0mclassmodel\u001b[0m\u001b[0;34m.\u001b[0m\u001b[0mpredict\u001b[0m\u001b[0;34m(\u001b[0m\u001b[0mX_test\u001b[0m\u001b[0;34m)\u001b[0m\u001b[0;34m/\u001b[0m\u001b[0mkfold\u001b[0m\u001b[0;34m.\u001b[0m\u001b[0mn_splits\u001b[0m\u001b[0;34m\u001b[0m\u001b[0;34m\u001b[0m\u001b[0m\n\u001b[1;32m     21\u001b[0m \u001b[0;34m\u001b[0m\u001b[0m\n",
            "\u001b[0;32m/usr/local/lib/python3.7/dist-packages/wandb/integration/keras/keras.py\u001b[0m in \u001b[0;36mnew_v2\u001b[0;34m(*args, **kwargs)\u001b[0m\n\u001b[1;32m    122\u001b[0m             \u001b[0;32mfor\u001b[0m \u001b[0mcbk\u001b[0m \u001b[0;32min\u001b[0m \u001b[0mcbks\u001b[0m\u001b[0;34m:\u001b[0m\u001b[0;34m\u001b[0m\u001b[0;34m\u001b[0m\u001b[0m\n\u001b[1;32m    123\u001b[0m                 \u001b[0mset_wandb_attrs\u001b[0m\u001b[0;34m(\u001b[0m\u001b[0mcbk\u001b[0m\u001b[0;34m,\u001b[0m \u001b[0mval_data\u001b[0m\u001b[0;34m)\u001b[0m\u001b[0;34m\u001b[0m\u001b[0;34m\u001b[0m\u001b[0m\n\u001b[0;32m--> 124\u001b[0;31m         \u001b[0;32mreturn\u001b[0m \u001b[0mold_v2\u001b[0m\u001b[0;34m(\u001b[0m\u001b[0;34m*\u001b[0m\u001b[0margs\u001b[0m\u001b[0;34m,\u001b[0m \u001b[0;34m**\u001b[0m\u001b[0mkwargs\u001b[0m\u001b[0;34m)\u001b[0m\u001b[0;34m\u001b[0m\u001b[0;34m\u001b[0m\u001b[0m\n\u001b[0m\u001b[1;32m    125\u001b[0m \u001b[0;34m\u001b[0m\u001b[0m\n\u001b[1;32m    126\u001b[0m     \u001b[0mtraining_arrays\u001b[0m\u001b[0;34m.\u001b[0m\u001b[0morig_fit_loop\u001b[0m \u001b[0;34m=\u001b[0m \u001b[0mold_arrays\u001b[0m\u001b[0;34m\u001b[0m\u001b[0;34m\u001b[0m\u001b[0m\n",
            "\u001b[0;32m/usr/local/lib/python3.7/dist-packages/tensorflow/python/keras/engine/training.py\u001b[0m in \u001b[0;36mfit\u001b[0;34m(self, x, y, batch_size, epochs, verbose, callbacks, validation_split, validation_data, shuffle, class_weight, sample_weight, initial_epoch, steps_per_epoch, validation_steps, validation_batch_size, validation_freq, max_queue_size, workers, use_multiprocessing)\u001b[0m\n\u001b[1;32m   1181\u001b[0m                 _r=1):\n\u001b[1;32m   1182\u001b[0m               \u001b[0mcallbacks\u001b[0m\u001b[0;34m.\u001b[0m\u001b[0mon_train_batch_begin\u001b[0m\u001b[0;34m(\u001b[0m\u001b[0mstep\u001b[0m\u001b[0;34m)\u001b[0m\u001b[0;34m\u001b[0m\u001b[0;34m\u001b[0m\u001b[0m\n\u001b[0;32m-> 1183\u001b[0;31m               \u001b[0mtmp_logs\u001b[0m \u001b[0;34m=\u001b[0m \u001b[0mself\u001b[0m\u001b[0;34m.\u001b[0m\u001b[0mtrain_function\u001b[0m\u001b[0;34m(\u001b[0m\u001b[0miterator\u001b[0m\u001b[0;34m)\u001b[0m\u001b[0;34m\u001b[0m\u001b[0;34m\u001b[0m\u001b[0m\n\u001b[0m\u001b[1;32m   1184\u001b[0m               \u001b[0;32mif\u001b[0m \u001b[0mdata_handler\u001b[0m\u001b[0;34m.\u001b[0m\u001b[0mshould_sync\u001b[0m\u001b[0;34m:\u001b[0m\u001b[0;34m\u001b[0m\u001b[0;34m\u001b[0m\u001b[0m\n\u001b[1;32m   1185\u001b[0m                 \u001b[0mcontext\u001b[0m\u001b[0;34m.\u001b[0m\u001b[0masync_wait\u001b[0m\u001b[0;34m(\u001b[0m\u001b[0;34m)\u001b[0m\u001b[0;34m\u001b[0m\u001b[0;34m\u001b[0m\u001b[0m\n",
            "\u001b[0;32m/usr/local/lib/python3.7/dist-packages/tensorflow/python/eager/def_function.py\u001b[0m in \u001b[0;36m__call__\u001b[0;34m(self, *args, **kwds)\u001b[0m\n\u001b[1;32m    887\u001b[0m \u001b[0;34m\u001b[0m\u001b[0m\n\u001b[1;32m    888\u001b[0m       \u001b[0;32mwith\u001b[0m \u001b[0mOptionalXlaContext\u001b[0m\u001b[0;34m(\u001b[0m\u001b[0mself\u001b[0m\u001b[0;34m.\u001b[0m\u001b[0m_jit_compile\u001b[0m\u001b[0;34m)\u001b[0m\u001b[0;34m:\u001b[0m\u001b[0;34m\u001b[0m\u001b[0;34m\u001b[0m\u001b[0m\n\u001b[0;32m--> 889\u001b[0;31m         \u001b[0mresult\u001b[0m \u001b[0;34m=\u001b[0m \u001b[0mself\u001b[0m\u001b[0;34m.\u001b[0m\u001b[0m_call\u001b[0m\u001b[0;34m(\u001b[0m\u001b[0;34m*\u001b[0m\u001b[0margs\u001b[0m\u001b[0;34m,\u001b[0m \u001b[0;34m**\u001b[0m\u001b[0mkwds\u001b[0m\u001b[0;34m)\u001b[0m\u001b[0;34m\u001b[0m\u001b[0;34m\u001b[0m\u001b[0m\n\u001b[0m\u001b[1;32m    890\u001b[0m \u001b[0;34m\u001b[0m\u001b[0m\n\u001b[1;32m    891\u001b[0m       \u001b[0mnew_tracing_count\u001b[0m \u001b[0;34m=\u001b[0m \u001b[0mself\u001b[0m\u001b[0;34m.\u001b[0m\u001b[0mexperimental_get_tracing_count\u001b[0m\u001b[0;34m(\u001b[0m\u001b[0;34m)\u001b[0m\u001b[0;34m\u001b[0m\u001b[0;34m\u001b[0m\u001b[0m\n",
            "\u001b[0;32m/usr/local/lib/python3.7/dist-packages/tensorflow/python/eager/def_function.py\u001b[0m in \u001b[0;36m_call\u001b[0;34m(self, *args, **kwds)\u001b[0m\n\u001b[1;32m    915\u001b[0m       \u001b[0;31m# In this case we have created variables on the first call, so we run the\u001b[0m\u001b[0;34m\u001b[0m\u001b[0;34m\u001b[0m\u001b[0;34m\u001b[0m\u001b[0m\n\u001b[1;32m    916\u001b[0m       \u001b[0;31m# defunned version which is guaranteed to never create variables.\u001b[0m\u001b[0;34m\u001b[0m\u001b[0;34m\u001b[0m\u001b[0;34m\u001b[0m\u001b[0m\n\u001b[0;32m--> 917\u001b[0;31m       \u001b[0;32mreturn\u001b[0m \u001b[0mself\u001b[0m\u001b[0;34m.\u001b[0m\u001b[0m_stateless_fn\u001b[0m\u001b[0;34m(\u001b[0m\u001b[0;34m*\u001b[0m\u001b[0margs\u001b[0m\u001b[0;34m,\u001b[0m \u001b[0;34m**\u001b[0m\u001b[0mkwds\u001b[0m\u001b[0;34m)\u001b[0m  \u001b[0;31m# pylint: disable=not-callable\u001b[0m\u001b[0;34m\u001b[0m\u001b[0;34m\u001b[0m\u001b[0m\n\u001b[0m\u001b[1;32m    918\u001b[0m     \u001b[0;32melif\u001b[0m \u001b[0mself\u001b[0m\u001b[0;34m.\u001b[0m\u001b[0m_stateful_fn\u001b[0m \u001b[0;32mis\u001b[0m \u001b[0;32mnot\u001b[0m \u001b[0;32mNone\u001b[0m\u001b[0;34m:\u001b[0m\u001b[0;34m\u001b[0m\u001b[0;34m\u001b[0m\u001b[0m\n\u001b[1;32m    919\u001b[0m       \u001b[0;31m# Release the lock early so that multiple threads can perform the call\u001b[0m\u001b[0;34m\u001b[0m\u001b[0;34m\u001b[0m\u001b[0;34m\u001b[0m\u001b[0m\n",
            "\u001b[0;32m/usr/local/lib/python3.7/dist-packages/tensorflow/python/eager/function.py\u001b[0m in \u001b[0;36m__call__\u001b[0;34m(self, *args, **kwargs)\u001b[0m\n\u001b[1;32m   3022\u001b[0m        filtered_flat_args) = self._maybe_define_function(args, kwargs)\n\u001b[1;32m   3023\u001b[0m     return graph_function._call_flat(\n\u001b[0;32m-> 3024\u001b[0;31m         filtered_flat_args, captured_inputs=graph_function.captured_inputs)  # pylint: disable=protected-access\n\u001b[0m\u001b[1;32m   3025\u001b[0m \u001b[0;34m\u001b[0m\u001b[0m\n\u001b[1;32m   3026\u001b[0m   \u001b[0;34m@\u001b[0m\u001b[0mproperty\u001b[0m\u001b[0;34m\u001b[0m\u001b[0;34m\u001b[0m\u001b[0m\n",
            "\u001b[0;32m/usr/local/lib/python3.7/dist-packages/tensorflow/python/eager/function.py\u001b[0m in \u001b[0;36m_call_flat\u001b[0;34m(self, args, captured_inputs, cancellation_manager)\u001b[0m\n\u001b[1;32m   1959\u001b[0m       \u001b[0;31m# No tape is watching; skip to running the function.\u001b[0m\u001b[0;34m\u001b[0m\u001b[0;34m\u001b[0m\u001b[0;34m\u001b[0m\u001b[0m\n\u001b[1;32m   1960\u001b[0m       return self._build_call_outputs(self._inference_function.call(\n\u001b[0;32m-> 1961\u001b[0;31m           ctx, args, cancellation_manager=cancellation_manager))\n\u001b[0m\u001b[1;32m   1962\u001b[0m     forward_backward = self._select_forward_and_backward_functions(\n\u001b[1;32m   1963\u001b[0m         \u001b[0margs\u001b[0m\u001b[0;34m,\u001b[0m\u001b[0;34m\u001b[0m\u001b[0;34m\u001b[0m\u001b[0m\n",
            "\u001b[0;32m/usr/local/lib/python3.7/dist-packages/tensorflow/python/eager/function.py\u001b[0m in \u001b[0;36mcall\u001b[0;34m(self, ctx, args, cancellation_manager)\u001b[0m\n\u001b[1;32m    594\u001b[0m               \u001b[0minputs\u001b[0m\u001b[0;34m=\u001b[0m\u001b[0margs\u001b[0m\u001b[0;34m,\u001b[0m\u001b[0;34m\u001b[0m\u001b[0;34m\u001b[0m\u001b[0m\n\u001b[1;32m    595\u001b[0m               \u001b[0mattrs\u001b[0m\u001b[0;34m=\u001b[0m\u001b[0mattrs\u001b[0m\u001b[0;34m,\u001b[0m\u001b[0;34m\u001b[0m\u001b[0;34m\u001b[0m\u001b[0m\n\u001b[0;32m--> 596\u001b[0;31m               ctx=ctx)\n\u001b[0m\u001b[1;32m    597\u001b[0m         \u001b[0;32melse\u001b[0m\u001b[0;34m:\u001b[0m\u001b[0;34m\u001b[0m\u001b[0;34m\u001b[0m\u001b[0m\n\u001b[1;32m    598\u001b[0m           outputs = execute.execute_with_cancellation(\n",
            "\u001b[0;32m/usr/local/lib/python3.7/dist-packages/tensorflow/python/eager/execute.py\u001b[0m in \u001b[0;36mquick_execute\u001b[0;34m(op_name, num_outputs, inputs, attrs, ctx, name)\u001b[0m\n\u001b[1;32m     58\u001b[0m     \u001b[0mctx\u001b[0m\u001b[0;34m.\u001b[0m\u001b[0mensure_initialized\u001b[0m\u001b[0;34m(\u001b[0m\u001b[0;34m)\u001b[0m\u001b[0;34m\u001b[0m\u001b[0;34m\u001b[0m\u001b[0m\n\u001b[1;32m     59\u001b[0m     tensors = pywrap_tfe.TFE_Py_Execute(ctx._handle, device_name, op_name,\n\u001b[0;32m---> 60\u001b[0;31m                                         inputs, attrs, num_outputs)\n\u001b[0m\u001b[1;32m     61\u001b[0m   \u001b[0;32mexcept\u001b[0m \u001b[0mcore\u001b[0m\u001b[0;34m.\u001b[0m\u001b[0m_NotOkStatusException\u001b[0m \u001b[0;32mas\u001b[0m \u001b[0me\u001b[0m\u001b[0;34m:\u001b[0m\u001b[0;34m\u001b[0m\u001b[0;34m\u001b[0m\u001b[0m\n\u001b[1;32m     62\u001b[0m     \u001b[0;32mif\u001b[0m \u001b[0mname\u001b[0m \u001b[0;32mis\u001b[0m \u001b[0;32mnot\u001b[0m \u001b[0;32mNone\u001b[0m\u001b[0;34m:\u001b[0m\u001b[0;34m\u001b[0m\u001b[0;34m\u001b[0m\u001b[0m\n",
            "\u001b[0;31mKeyboardInterrupt\u001b[0m: "
          ]
        }
      ]
    },
    {
      "cell_type": "code",
      "metadata": {
        "colab": {
          "base_uri": "https://localhost:8080/"
        },
        "id": "S30zHRXGegBl",
        "outputId": "1aeb1d29-92d0-47a7-edfb-094391319520"
      },
      "source": [
        "main_pred.shape"
      ],
      "execution_count": null,
      "outputs": [
        {
          "output_type": "execute_result",
          "data": {
            "text/plain": [
              "(100000, 200)"
            ]
          },
          "metadata": {
            "tags": []
          },
          "execution_count": 88
        }
      ]
    },
    {
      "cell_type": "code",
      "metadata": {
        "colab": {
          "base_uri": "https://localhost:8080/"
        },
        "id": "cIk6z_fEgJt2",
        "outputId": "2f14acc6-c98f-4422-8783-7684c8af42ea"
      },
      "source": [
        "sub.shape"
      ],
      "execution_count": null,
      "outputs": [
        {
          "output_type": "execute_result",
          "data": {
            "text/plain": [
              "(100000, 10)"
            ]
          },
          "metadata": {
            "tags": []
          },
          "execution_count": 90
        }
      ]
    },
    {
      "cell_type": "code",
      "metadata": {
        "colab": {
          "base_uri": "https://localhost:8080/",
          "height": 345
        },
        "id": "-eJ74ayPd_Vo",
        "outputId": "7ed98d57-09f9-4f0d-986f-a6ebcabac2ec"
      },
      "source": [
        "sub = pd.read_csv('sample_submission.csv.zip')\n",
        "sub.iloc[:,1:]=main_pred\n",
        "sub=sub.set_index('id')\n",
        "sub.to_csv('my_tfModel.csv')"
      ],
      "execution_count": null,
      "outputs": [
        {
          "output_type": "error",
          "ename": "ValueError",
          "evalue": "ignored",
          "traceback": [
            "\u001b[0;31m---------------------------------------------------------------------------\u001b[0m",
            "\u001b[0;31mValueError\u001b[0m                                Traceback (most recent call last)",
            "\u001b[0;32m<ipython-input-86-d18d1eeece38>\u001b[0m in \u001b[0;36m<module>\u001b[0;34m()\u001b[0m\n\u001b[1;32m      1\u001b[0m \u001b[0msub\u001b[0m \u001b[0;34m=\u001b[0m \u001b[0mpd\u001b[0m\u001b[0;34m.\u001b[0m\u001b[0mread_csv\u001b[0m\u001b[0;34m(\u001b[0m\u001b[0;34m'sample_submission.csv.zip'\u001b[0m\u001b[0;34m)\u001b[0m\u001b[0;34m\u001b[0m\u001b[0;34m\u001b[0m\u001b[0m\n\u001b[0;32m----> 2\u001b[0;31m \u001b[0msub\u001b[0m\u001b[0;34m.\u001b[0m\u001b[0miloc\u001b[0m\u001b[0;34m[\u001b[0m\u001b[0;34m:\u001b[0m\u001b[0;34m,\u001b[0m\u001b[0;36m1\u001b[0m\u001b[0;34m:\u001b[0m\u001b[0;34m]\u001b[0m\u001b[0;34m=\u001b[0m\u001b[0mmain_pred\u001b[0m\u001b[0;34m\u001b[0m\u001b[0;34m\u001b[0m\u001b[0m\n\u001b[0m\u001b[1;32m      3\u001b[0m \u001b[0msub\u001b[0m\u001b[0;34m=\u001b[0m\u001b[0msub\u001b[0m\u001b[0;34m.\u001b[0m\u001b[0mset_index\u001b[0m\u001b[0;34m(\u001b[0m\u001b[0;34m'id'\u001b[0m\u001b[0;34m)\u001b[0m\u001b[0;34m\u001b[0m\u001b[0;34m\u001b[0m\u001b[0m\n\u001b[1;32m      4\u001b[0m \u001b[0msub\u001b[0m\u001b[0;34m.\u001b[0m\u001b[0mto_csv\u001b[0m\u001b[0;34m(\u001b[0m\u001b[0;34m'my_tfModel.csv'\u001b[0m\u001b[0;34m)\u001b[0m\u001b[0;34m\u001b[0m\u001b[0;34m\u001b[0m\u001b[0m\n",
            "\u001b[0;32m/usr/local/lib/python3.7/dist-packages/pandas/core/indexing.py\u001b[0m in \u001b[0;36m__setitem__\u001b[0;34m(self, key, value)\u001b[0m\n\u001b[1;32m    668\u001b[0m \u001b[0;34m\u001b[0m\u001b[0m\n\u001b[1;32m    669\u001b[0m         \u001b[0miloc\u001b[0m \u001b[0;34m=\u001b[0m \u001b[0mself\u001b[0m \u001b[0;32mif\u001b[0m \u001b[0mself\u001b[0m\u001b[0;34m.\u001b[0m\u001b[0mname\u001b[0m \u001b[0;34m==\u001b[0m \u001b[0;34m\"iloc\"\u001b[0m \u001b[0;32melse\u001b[0m \u001b[0mself\u001b[0m\u001b[0;34m.\u001b[0m\u001b[0mobj\u001b[0m\u001b[0;34m.\u001b[0m\u001b[0miloc\u001b[0m\u001b[0;34m\u001b[0m\u001b[0;34m\u001b[0m\u001b[0m\n\u001b[0;32m--> 670\u001b[0;31m         \u001b[0miloc\u001b[0m\u001b[0;34m.\u001b[0m\u001b[0m_setitem_with_indexer\u001b[0m\u001b[0;34m(\u001b[0m\u001b[0mindexer\u001b[0m\u001b[0;34m,\u001b[0m \u001b[0mvalue\u001b[0m\u001b[0;34m)\u001b[0m\u001b[0;34m\u001b[0m\u001b[0;34m\u001b[0m\u001b[0m\n\u001b[0m\u001b[1;32m    671\u001b[0m \u001b[0;34m\u001b[0m\u001b[0m\n\u001b[1;32m    672\u001b[0m     \u001b[0;32mdef\u001b[0m \u001b[0m_validate_key\u001b[0m\u001b[0;34m(\u001b[0m\u001b[0mself\u001b[0m\u001b[0;34m,\u001b[0m \u001b[0mkey\u001b[0m\u001b[0;34m,\u001b[0m \u001b[0maxis\u001b[0m\u001b[0;34m:\u001b[0m \u001b[0mint\u001b[0m\u001b[0;34m)\u001b[0m\u001b[0;34m:\u001b[0m\u001b[0;34m\u001b[0m\u001b[0;34m\u001b[0m\u001b[0m\n",
            "\u001b[0;32m/usr/local/lib/python3.7/dist-packages/pandas/core/indexing.py\u001b[0m in \u001b[0;36m_setitem_with_indexer\u001b[0;34m(self, indexer, value)\u001b[0m\n\u001b[1;32m   1726\u001b[0m                     \u001b[0;32mif\u001b[0m \u001b[0mlen\u001b[0m\u001b[0;34m(\u001b[0m\u001b[0milocs\u001b[0m\u001b[0;34m)\u001b[0m \u001b[0;34m!=\u001b[0m \u001b[0mvalue\u001b[0m\u001b[0;34m.\u001b[0m\u001b[0mshape\u001b[0m\u001b[0;34m[\u001b[0m\u001b[0;36m1\u001b[0m\u001b[0;34m]\u001b[0m\u001b[0;34m:\u001b[0m\u001b[0;34m\u001b[0m\u001b[0;34m\u001b[0m\u001b[0m\n\u001b[1;32m   1727\u001b[0m                         raise ValueError(\n\u001b[0;32m-> 1728\u001b[0;31m                             \u001b[0;34m\"Must have equal len keys and value \"\u001b[0m\u001b[0;34m\u001b[0m\u001b[0;34m\u001b[0m\u001b[0m\n\u001b[0m\u001b[1;32m   1729\u001b[0m                             \u001b[0;34m\"when setting with an ndarray\"\u001b[0m\u001b[0;34m\u001b[0m\u001b[0;34m\u001b[0m\u001b[0m\n\u001b[1;32m   1730\u001b[0m                         )\n",
            "\u001b[0;31mValueError\u001b[0m: Must have equal len keys and value when setting with an ndarray"
          ]
        }
      ]
    },
    {
      "cell_type": "code",
      "metadata": {
        "id": "48dBaze6OB_X"
      },
      "source": [
        "!kaggle competitions submit -c tabular-playground-series-jun-2021 -f my_tfModel.csv -m \"Base simple TF Model\""
      ],
      "execution_count": null,
      "outputs": []
    },
    {
      "cell_type": "markdown",
      "metadata": {
        "id": "MAi3coEwNpXb"
      },
      "source": [
        "### Using Fast ai\n"
      ]
    },
    {
      "cell_type": "code",
      "metadata": {
        "colab": {
          "base_uri": "https://localhost:8080/"
        },
        "id": "2RZQke8iNv7P",
        "outputId": "8b59e76a-8554-4f26-af27-2af8ca2206ff"
      },
      "source": [
        "!pip install --upgrade fastai"
      ],
      "execution_count": null,
      "outputs": [
        {
          "output_type": "stream",
          "text": [
            "Requirement already up-to-date: fastai in /usr/local/lib/python3.7/dist-packages (2.4)\n",
            "Requirement already satisfied, skipping upgrade: pillow>6.0.0 in /usr/local/lib/python3.7/dist-packages (from fastai) (7.1.2)\n",
            "Requirement already satisfied, skipping upgrade: torchvision>=0.8.2 in /usr/local/lib/python3.7/dist-packages (from fastai) (0.10.0+cu102)\n",
            "Requirement already satisfied, skipping upgrade: fastprogress>=0.2.4 in /usr/local/lib/python3.7/dist-packages (from fastai) (1.0.0)\n",
            "Requirement already satisfied, skipping upgrade: torch<1.10,>=1.7.0 in /usr/local/lib/python3.7/dist-packages (from fastai) (1.9.0+cu102)\n",
            "Requirement already satisfied, skipping upgrade: scikit-learn in /usr/local/lib/python3.7/dist-packages (from fastai) (0.22.2.post1)\n",
            "Requirement already satisfied, skipping upgrade: fastcore<1.4,>=1.3.8 in /usr/local/lib/python3.7/dist-packages (from fastai) (1.3.20)\n",
            "Requirement already satisfied, skipping upgrade: pyyaml in /usr/local/lib/python3.7/dist-packages (from fastai) (3.13)\n",
            "Requirement already satisfied, skipping upgrade: requests in /usr/local/lib/python3.7/dist-packages (from fastai) (2.23.0)\n",
            "Requirement already satisfied, skipping upgrade: pandas in /usr/local/lib/python3.7/dist-packages (from fastai) (1.1.5)\n",
            "Requirement already satisfied, skipping upgrade: spacy<4 in /usr/local/lib/python3.7/dist-packages (from fastai) (2.2.4)\n",
            "Requirement already satisfied, skipping upgrade: scipy in /usr/local/lib/python3.7/dist-packages (from fastai) (1.4.1)\n",
            "Requirement already satisfied, skipping upgrade: packaging in /usr/local/lib/python3.7/dist-packages (from fastai) (20.9)\n",
            "Requirement already satisfied, skipping upgrade: matplotlib in /usr/local/lib/python3.7/dist-packages (from fastai) (3.2.2)\n",
            "Requirement already satisfied, skipping upgrade: pip in /usr/local/lib/python3.7/dist-packages (from fastai) (19.3.1)\n",
            "Requirement already satisfied, skipping upgrade: numpy in /usr/local/lib/python3.7/dist-packages (from torchvision>=0.8.2->fastai) (1.19.5)\n",
            "Requirement already satisfied, skipping upgrade: typing-extensions in /usr/local/lib/python3.7/dist-packages (from torch<1.10,>=1.7.0->fastai) (3.7.4.3)\n",
            "Requirement already satisfied, skipping upgrade: joblib>=0.11 in /usr/local/lib/python3.7/dist-packages (from scikit-learn->fastai) (1.0.1)\n",
            "Requirement already satisfied, skipping upgrade: chardet<4,>=3.0.2 in /usr/local/lib/python3.7/dist-packages (from requests->fastai) (3.0.4)\n",
            "Requirement already satisfied, skipping upgrade: idna<3,>=2.5 in /usr/local/lib/python3.7/dist-packages (from requests->fastai) (2.10)\n",
            "Requirement already satisfied, skipping upgrade: urllib3!=1.25.0,!=1.25.1,<1.26,>=1.21.1 in /usr/local/lib/python3.7/dist-packages (from requests->fastai) (1.24.3)\n",
            "Requirement already satisfied, skipping upgrade: certifi>=2017.4.17 in /usr/local/lib/python3.7/dist-packages (from requests->fastai) (2021.5.30)\n",
            "Requirement already satisfied, skipping upgrade: python-dateutil>=2.7.3 in /usr/local/lib/python3.7/dist-packages (from pandas->fastai) (2.8.1)\n",
            "Requirement already satisfied, skipping upgrade: pytz>=2017.2 in /usr/local/lib/python3.7/dist-packages (from pandas->fastai) (2018.9)\n",
            "Requirement already satisfied, skipping upgrade: murmurhash<1.1.0,>=0.28.0 in /usr/local/lib/python3.7/dist-packages (from spacy<4->fastai) (1.0.5)\n",
            "Requirement already satisfied, skipping upgrade: setuptools in /usr/local/lib/python3.7/dist-packages (from spacy<4->fastai) (57.0.0)\n",
            "Requirement already satisfied, skipping upgrade: wasabi<1.1.0,>=0.4.0 in /usr/local/lib/python3.7/dist-packages (from spacy<4->fastai) (0.8.2)\n",
            "Requirement already satisfied, skipping upgrade: plac<1.2.0,>=0.9.6 in /usr/local/lib/python3.7/dist-packages (from spacy<4->fastai) (1.1.3)\n",
            "Requirement already satisfied, skipping upgrade: catalogue<1.1.0,>=0.0.7 in /usr/local/lib/python3.7/dist-packages (from spacy<4->fastai) (1.0.0)\n",
            "Requirement already satisfied, skipping upgrade: preshed<3.1.0,>=3.0.2 in /usr/local/lib/python3.7/dist-packages (from spacy<4->fastai) (3.0.5)\n",
            "Requirement already satisfied, skipping upgrade: blis<0.5.0,>=0.4.0 in /usr/local/lib/python3.7/dist-packages (from spacy<4->fastai) (0.4.1)\n",
            "Requirement already satisfied, skipping upgrade: srsly<1.1.0,>=1.0.2 in /usr/local/lib/python3.7/dist-packages (from spacy<4->fastai) (1.0.5)\n",
            "Requirement already satisfied, skipping upgrade: tqdm<5.0.0,>=4.38.0 in /usr/local/lib/python3.7/dist-packages (from spacy<4->fastai) (4.41.1)\n",
            "Requirement already satisfied, skipping upgrade: thinc==7.4.0 in /usr/local/lib/python3.7/dist-packages (from spacy<4->fastai) (7.4.0)\n",
            "Requirement already satisfied, skipping upgrade: cymem<2.1.0,>=2.0.2 in /usr/local/lib/python3.7/dist-packages (from spacy<4->fastai) (2.0.5)\n",
            "Requirement already satisfied, skipping upgrade: pyparsing>=2.0.2 in /usr/local/lib/python3.7/dist-packages (from packaging->fastai) (2.4.7)\n",
            "Requirement already satisfied, skipping upgrade: kiwisolver>=1.0.1 in /usr/local/lib/python3.7/dist-packages (from matplotlib->fastai) (1.3.1)\n",
            "Requirement already satisfied, skipping upgrade: cycler>=0.10 in /usr/local/lib/python3.7/dist-packages (from matplotlib->fastai) (0.10.0)\n",
            "Requirement already satisfied, skipping upgrade: six>=1.5 in /usr/local/lib/python3.7/dist-packages (from python-dateutil>=2.7.3->pandas->fastai) (1.15.0)\n",
            "Requirement already satisfied, skipping upgrade: importlib-metadata>=0.20; python_version < \"3.8\" in /usr/local/lib/python3.7/dist-packages (from catalogue<1.1.0,>=0.0.7->spacy<4->fastai) (4.5.0)\n",
            "Requirement already satisfied, skipping upgrade: zipp>=0.5 in /usr/local/lib/python3.7/dist-packages (from importlib-metadata>=0.20; python_version < \"3.8\"->catalogue<1.1.0,>=0.0.7->spacy<4->fastai) (3.4.1)\n"
          ],
          "name": "stdout"
        }
      ]
    },
    {
      "cell_type": "code",
      "metadata": {
        "id": "kXPlQncTPWS9"
      },
      "source": [
        "import numpy as np \n",
        "import pandas as pd \n",
        "import fastai\n",
        "from fastai.tabular.all import *\n",
        "\n"
      ],
      "execution_count": null,
      "outputs": []
    },
    {
      "cell_type": "code",
      "metadata": {
        "id": "9GNPxtkzOMvc"
      },
      "source": [
        "train = pd.read_csv('train.csv.zip')\n",
        "test = pd.read_csv('test.csv.zip') \n",
        "sample_submission = pd.read_csv('sample_submission.csv.zip')\n",
        "\n",
        "train.target = pd.Categorical(train.target)\n",
        "train['target'] = train.target.cat.codes\n",
        "\n",
        "indep_vars = ['feature_' + str(i) for i in range(75)]\n",
        "dep_var = ['target']"
      ],
      "execution_count": null,
      "outputs": []
    },
    {
      "cell_type": "code",
      "metadata": {
        "colab": {
          "base_uri": "https://localhost:8080/",
          "height": 1000,
          "referenced_widgets": [
            "4bae5b46de924e5083f92478577e69de",
            "e7408e3b09d04ffa95d9a2cc7505bac4",
            "cd53787fe07b4294bf23d469e1b193fe",
            "e64cfa6946b34e9ca1dc2daf46671986",
            "f82cb8b3fbb84a7e843f98b4892df0d8",
            "bc84b3cb13444a058b1e0e149ba3b75d",
            "d3d8bfe2d35242ffa484a805b978dafc",
            "1adaf66b1dee4d62bee541da8f6cfff1"
          ]
        },
        "id": "ejo04GKlNsIP",
        "outputId": "bdf44b24-2d89-4c10-fcdf-5a442601a3da"
      },
      "source": [
        "import wandb\n",
        "from fastai.callback.wandb import WandbCallback\n",
        "\n",
        "wandb.init(project='tpcJun', entity='nitinkash')  \n",
        "\n",
        "n=10\n",
        "pred = sample_submission[sample_submission.columns[1:]]*0\n",
        "log = pd.DataFrame(columns=['Loss Train','Loss Validation','Accuracy'])\n",
        "\n",
        "for i in range(n):\n",
        "    splits = RandomSplitter(valid_pct=0.3)(range_of(train))\n",
        "    \n",
        "    to = TabularPandas(\n",
        "        train,\n",
        "        y_names=\"target\",\n",
        "        y_block = CategoryBlock,\n",
        "        cat_names = indep_vars,\n",
        "        procs = [Categorify],\n",
        "        splits=splits)\n",
        "    \n",
        "    loaders = to.dataloaders(bs=256)\n",
        "    learn = tabular_learner(loaders, metrics=accuracy,layers=[400,200,100])\n",
        "    learn.fine_tune(5, cbs=WandbCallback())\n",
        "    loss = learn.recorder.log[1:4]\n",
        "    log.loc[len(log)] = loss\n",
        "    dl = learn.dls.test_dl(test[indep_vars])\n",
        "    pred+= learn.get_preds(dl=dl)[0].numpy()/n\n",
        "\n",
        "log.describe()"
      ],
      "execution_count": null,
      "outputs": [
        {
          "output_type": "display_data",
          "data": {
            "text/html": [
              "Finishing last run (ID:ts02mfjf) before initializing another..."
            ],
            "text/plain": [
              "<IPython.core.display.HTML object>"
            ]
          },
          "metadata": {
            "tags": []
          }
        },
        {
          "output_type": "display_data",
          "data": {
            "text/html": [
              "<br/>Waiting for W&B process to finish, PID 2938<br/>Program ended successfully."
            ],
            "text/plain": [
              "<IPython.core.display.HTML object>"
            ]
          },
          "metadata": {
            "tags": []
          }
        },
        {
          "output_type": "display_data",
          "data": {
            "application/vnd.jupyter.widget-view+json": {
              "model_id": "4bae5b46de924e5083f92478577e69de",
              "version_minor": 0,
              "version_major": 2
            },
            "text/plain": [
              "VBox(children=(Label(value=' 0.00MB of 0.00MB uploaded (0.00MB deduped)\\r'), FloatProgress(value=1.0, max=1.0)…"
            ]
          },
          "metadata": {
            "tags": []
          }
        },
        {
          "output_type": "display_data",
          "data": {
            "text/html": [
              "Find user logs for this run at: <code>/content/wandb/run-20210620_085707-ts02mfjf/logs/debug.log</code>"
            ],
            "text/plain": [
              "<IPython.core.display.HTML object>"
            ]
          },
          "metadata": {
            "tags": []
          }
        },
        {
          "output_type": "display_data",
          "data": {
            "text/html": [
              "Find internal logs for this run at: <code>/content/wandb/run-20210620_085707-ts02mfjf/logs/debug-internal.log</code>"
            ],
            "text/plain": [
              "<IPython.core.display.HTML object>"
            ]
          },
          "metadata": {
            "tags": []
          }
        },
        {
          "output_type": "display_data",
          "data": {
            "text/html": [
              "Synced 4 W&B file(s), 0 media file(s), 0 artifact file(s) and 0 other file(s)"
            ],
            "text/plain": [
              "<IPython.core.display.HTML object>"
            ]
          },
          "metadata": {
            "tags": []
          }
        },
        {
          "output_type": "display_data",
          "data": {
            "text/html": [
              "\n",
              "                    <br/>Synced <strong style=\"color:#cdcd00\">rose-elevator-4</strong>: <a href=\"https://wandb.ai/nitinkash/tpcJun/runs/ts02mfjf\" target=\"_blank\">https://wandb.ai/nitinkash/tpcJun/runs/ts02mfjf</a><br/>\n",
              "                "
            ],
            "text/plain": [
              "<IPython.core.display.HTML object>"
            ]
          },
          "metadata": {
            "tags": []
          }
        },
        {
          "output_type": "display_data",
          "data": {
            "text/html": [
              "...Successfully finished last run (ID:ts02mfjf). Initializing new run:<br/><br/>"
            ],
            "text/plain": [
              "<IPython.core.display.HTML object>"
            ]
          },
          "metadata": {
            "tags": []
          }
        },
        {
          "output_type": "display_data",
          "data": {
            "text/html": [
              "\n",
              "                Tracking run with wandb version 0.10.32<br/>\n",
              "                Syncing run <strong style=\"color:#cdcd00\">wandering-silence-5</strong> to <a href=\"https://wandb.ai\" target=\"_blank\">Weights & Biases</a> <a href=\"https://docs.wandb.com/integrations/jupyter.html\" target=\"_blank\">(Documentation)</a>.<br/>\n",
              "                Project page: <a href=\"https://wandb.ai/nitinkash/tpcJun\" target=\"_blank\">https://wandb.ai/nitinkash/tpcJun</a><br/>\n",
              "                Run page: <a href=\"https://wandb.ai/nitinkash/tpcJun/runs/lga2wpme\" target=\"_blank\">https://wandb.ai/nitinkash/tpcJun/runs/lga2wpme</a><br/>\n",
              "                Run data is saved locally in <code>/content/wandb/run-20210620_085727-lga2wpme</code><br/><br/>\n",
              "            "
            ],
            "text/plain": [
              "<IPython.core.display.HTML object>"
            ]
          },
          "metadata": {
            "tags": []
          }
        },
        {
          "output_type": "stream",
          "text": [
            "WandbCallback requires use of \"SaveModelCallback\" to log best model\n"
          ],
          "name": "stdout"
        },
        {
          "output_type": "display_data",
          "data": {
            "text/html": [
              "<table border=\"1\" class=\"dataframe\">\n",
              "  <thead>\n",
              "    <tr style=\"text-align: left;\">\n",
              "      <th>epoch</th>\n",
              "      <th>train_loss</th>\n",
              "      <th>valid_loss</th>\n",
              "      <th>accuracy</th>\n",
              "      <th>time</th>\n",
              "    </tr>\n",
              "  </thead>\n",
              "  <tbody>\n",
              "    <tr>\n",
              "      <td>0</td>\n",
              "      <td>1.760212</td>\n",
              "      <td>1.763360</td>\n",
              "      <td>0.358483</td>\n",
              "      <td>00:14</td>\n",
              "    </tr>\n",
              "  </tbody>\n",
              "</table>"
            ],
            "text/plain": [
              "<IPython.core.display.HTML object>"
            ]
          },
          "metadata": {
            "tags": []
          }
        },
        {
          "output_type": "display_data",
          "data": {
            "text/html": [
              "<table border=\"1\" class=\"dataframe\">\n",
              "  <thead>\n",
              "    <tr style=\"text-align: left;\">\n",
              "      <th>epoch</th>\n",
              "      <th>train_loss</th>\n",
              "      <th>valid_loss</th>\n",
              "      <th>accuracy</th>\n",
              "      <th>time</th>\n",
              "    </tr>\n",
              "  </thead>\n",
              "  <tbody>\n",
              "    <tr>\n",
              "      <td>0</td>\n",
              "      <td>1.751347</td>\n",
              "      <td>1.761349</td>\n",
              "      <td>0.357117</td>\n",
              "      <td>00:14</td>\n",
              "    </tr>\n",
              "    <tr>\n",
              "      <td>1</td>\n",
              "      <td>1.751319</td>\n",
              "      <td>1.754586</td>\n",
              "      <td>0.360867</td>\n",
              "      <td>00:16</td>\n",
              "    </tr>\n",
              "    <tr>\n",
              "      <td>2</td>\n",
              "      <td>1.732643</td>\n",
              "      <td>1.758830</td>\n",
              "      <td>0.360000</td>\n",
              "      <td>00:16</td>\n",
              "    </tr>\n",
              "    <tr>\n",
              "      <td>3</td>\n",
              "      <td>1.694515</td>\n",
              "      <td>1.786344</td>\n",
              "      <td>0.354183</td>\n",
              "      <td>00:15</td>\n",
              "    </tr>\n",
              "    <tr>\n",
              "      <td>4</td>\n",
              "      <td>1.632646</td>\n",
              "      <td>1.826944</td>\n",
              "      <td>0.347283</td>\n",
              "      <td>00:15</td>\n",
              "    </tr>\n",
              "  </tbody>\n",
              "</table>"
            ],
            "text/plain": [
              "<IPython.core.display.HTML object>"
            ]
          },
          "metadata": {
            "tags": []
          }
        },
        {
          "output_type": "display_data",
          "data": {
            "text/html": [
              ""
            ],
            "text/plain": [
              "<IPython.core.display.HTML object>"
            ]
          },
          "metadata": {
            "tags": []
          }
        },
        {
          "output_type": "stream",
          "text": [
            "WandbCallback requires use of \"SaveModelCallback\" to log best model\n"
          ],
          "name": "stdout"
        },
        {
          "output_type": "display_data",
          "data": {
            "text/html": [
              "<table border=\"1\" class=\"dataframe\">\n",
              "  <thead>\n",
              "    <tr style=\"text-align: left;\">\n",
              "      <th>epoch</th>\n",
              "      <th>train_loss</th>\n",
              "      <th>valid_loss</th>\n",
              "      <th>accuracy</th>\n",
              "      <th>time</th>\n",
              "    </tr>\n",
              "  </thead>\n",
              "  <tbody>\n",
              "    <tr>\n",
              "      <td>0</td>\n",
              "      <td>1.767195</td>\n",
              "      <td>1.770747</td>\n",
              "      <td>0.351250</td>\n",
              "      <td>00:14</td>\n",
              "    </tr>\n",
              "  </tbody>\n",
              "</table>"
            ],
            "text/plain": [
              "<IPython.core.display.HTML object>"
            ]
          },
          "metadata": {
            "tags": []
          }
        },
        {
          "output_type": "display_data",
          "data": {
            "text/html": [
              "<table border=\"1\" class=\"dataframe\">\n",
              "  <thead>\n",
              "    <tr style=\"text-align: left;\">\n",
              "      <th>epoch</th>\n",
              "      <th>train_loss</th>\n",
              "      <th>valid_loss</th>\n",
              "      <th>accuracy</th>\n",
              "      <th>time</th>\n",
              "    </tr>\n",
              "  </thead>\n",
              "  <tbody>\n",
              "    <tr>\n",
              "      <td>0</td>\n",
              "      <td>1.746005</td>\n",
              "      <td>1.760289</td>\n",
              "      <td>0.357833</td>\n",
              "      <td>00:14</td>\n",
              "    </tr>\n",
              "    <tr>\n",
              "      <td>1</td>\n",
              "      <td>1.740296</td>\n",
              "      <td>1.759351</td>\n",
              "      <td>0.357367</td>\n",
              "      <td>00:15</td>\n",
              "    </tr>\n",
              "    <tr>\n",
              "      <td>2</td>\n",
              "      <td>1.733669</td>\n",
              "      <td>1.760480</td>\n",
              "      <td>0.359217</td>\n",
              "      <td>00:16</td>\n",
              "    </tr>\n",
              "    <tr>\n",
              "      <td>3</td>\n",
              "      <td>1.691971</td>\n",
              "      <td>1.792537</td>\n",
              "      <td>0.351633</td>\n",
              "      <td>00:15</td>\n",
              "    </tr>\n",
              "    <tr>\n",
              "      <td>4</td>\n",
              "      <td>1.627157</td>\n",
              "      <td>1.830427</td>\n",
              "      <td>0.344667</td>\n",
              "      <td>00:15</td>\n",
              "    </tr>\n",
              "  </tbody>\n",
              "</table>"
            ],
            "text/plain": [
              "<IPython.core.display.HTML object>"
            ]
          },
          "metadata": {
            "tags": []
          }
        },
        {
          "output_type": "display_data",
          "data": {
            "text/html": [
              ""
            ],
            "text/plain": [
              "<IPython.core.display.HTML object>"
            ]
          },
          "metadata": {
            "tags": []
          }
        },
        {
          "output_type": "stream",
          "text": [
            "WandbCallback requires use of \"SaveModelCallback\" to log best model\n"
          ],
          "name": "stdout"
        },
        {
          "output_type": "display_data",
          "data": {
            "text/html": [
              "<table border=\"1\" class=\"dataframe\">\n",
              "  <thead>\n",
              "    <tr style=\"text-align: left;\">\n",
              "      <th>epoch</th>\n",
              "      <th>train_loss</th>\n",
              "      <th>valid_loss</th>\n",
              "      <th>accuracy</th>\n",
              "      <th>time</th>\n",
              "    </tr>\n",
              "  </thead>\n",
              "  <tbody>\n",
              "    <tr>\n",
              "      <td>0</td>\n",
              "      <td>1.757772</td>\n",
              "      <td>1.767650</td>\n",
              "      <td>0.357517</td>\n",
              "      <td>00:14</td>\n",
              "    </tr>\n",
              "  </tbody>\n",
              "</table>"
            ],
            "text/plain": [
              "<IPython.core.display.HTML object>"
            ]
          },
          "metadata": {
            "tags": []
          }
        },
        {
          "output_type": "display_data",
          "data": {
            "text/html": [
              "<table border=\"1\" class=\"dataframe\">\n",
              "  <thead>\n",
              "    <tr style=\"text-align: left;\">\n",
              "      <th>epoch</th>\n",
              "      <th>train_loss</th>\n",
              "      <th>valid_loss</th>\n",
              "      <th>accuracy</th>\n",
              "      <th>time</th>\n",
              "    </tr>\n",
              "  </thead>\n",
              "  <tbody>\n",
              "    <tr>\n",
              "      <td>0</td>\n",
              "      <td>1.746079</td>\n",
              "      <td>1.754012</td>\n",
              "      <td>0.359433</td>\n",
              "      <td>00:14</td>\n",
              "    </tr>\n",
              "    <tr>\n",
              "      <td>1</td>\n",
              "      <td>1.756429</td>\n",
              "      <td>1.757512</td>\n",
              "      <td>0.357617</td>\n",
              "      <td>00:15</td>\n",
              "    </tr>\n",
              "    <tr>\n",
              "      <td>2</td>\n",
              "      <td>1.730067</td>\n",
              "      <td>1.760968</td>\n",
              "      <td>0.357800</td>\n",
              "      <td>00:15</td>\n",
              "    </tr>\n",
              "    <tr>\n",
              "      <td>3</td>\n",
              "      <td>1.676232</td>\n",
              "      <td>1.795751</td>\n",
              "      <td>0.349383</td>\n",
              "      <td>00:15</td>\n",
              "    </tr>\n",
              "    <tr>\n",
              "      <td>4</td>\n",
              "      <td>1.613920</td>\n",
              "      <td>1.844784</td>\n",
              "      <td>0.340417</td>\n",
              "      <td>00:16</td>\n",
              "    </tr>\n",
              "  </tbody>\n",
              "</table>"
            ],
            "text/plain": [
              "<IPython.core.display.HTML object>"
            ]
          },
          "metadata": {
            "tags": []
          }
        },
        {
          "output_type": "display_data",
          "data": {
            "text/html": [
              ""
            ],
            "text/plain": [
              "<IPython.core.display.HTML object>"
            ]
          },
          "metadata": {
            "tags": []
          }
        },
        {
          "output_type": "stream",
          "text": [
            "WandbCallback requires use of \"SaveModelCallback\" to log best model\n"
          ],
          "name": "stdout"
        },
        {
          "output_type": "display_data",
          "data": {
            "text/html": [
              "<table border=\"1\" class=\"dataframe\">\n",
              "  <thead>\n",
              "    <tr style=\"text-align: left;\">\n",
              "      <th>epoch</th>\n",
              "      <th>train_loss</th>\n",
              "      <th>valid_loss</th>\n",
              "      <th>accuracy</th>\n",
              "      <th>time</th>\n",
              "    </tr>\n",
              "  </thead>\n",
              "  <tbody>\n",
              "    <tr>\n",
              "      <td>0</td>\n",
              "      <td>1.769339</td>\n",
              "      <td>1.755938</td>\n",
              "      <td>0.359383</td>\n",
              "      <td>00:14</td>\n",
              "    </tr>\n",
              "  </tbody>\n",
              "</table>"
            ],
            "text/plain": [
              "<IPython.core.display.HTML object>"
            ]
          },
          "metadata": {
            "tags": []
          }
        },
        {
          "output_type": "display_data",
          "data": {
            "text/html": [
              "<table border=\"1\" class=\"dataframe\">\n",
              "  <thead>\n",
              "    <tr style=\"text-align: left;\">\n",
              "      <th>epoch</th>\n",
              "      <th>train_loss</th>\n",
              "      <th>valid_loss</th>\n",
              "      <th>accuracy</th>\n",
              "      <th>time</th>\n",
              "    </tr>\n",
              "  </thead>\n",
              "  <tbody>\n",
              "    <tr>\n",
              "      <td>0</td>\n",
              "      <td>1.747505</td>\n",
              "      <td>1.755559</td>\n",
              "      <td>0.359250</td>\n",
              "      <td>00:14</td>\n",
              "    </tr>\n",
              "    <tr>\n",
              "      <td>1</td>\n",
              "      <td>1.741776</td>\n",
              "      <td>1.751421</td>\n",
              "      <td>0.360250</td>\n",
              "      <td>00:15</td>\n",
              "    </tr>\n",
              "    <tr>\n",
              "      <td>2</td>\n",
              "      <td>1.738125</td>\n",
              "      <td>1.757160</td>\n",
              "      <td>0.359367</td>\n",
              "      <td>00:15</td>\n",
              "    </tr>\n",
              "    <tr>\n",
              "      <td>3</td>\n",
              "      <td>1.683477</td>\n",
              "      <td>1.788251</td>\n",
              "      <td>0.353333</td>\n",
              "      <td>00:15</td>\n",
              "    </tr>\n",
              "    <tr>\n",
              "      <td>4</td>\n",
              "      <td>1.626947</td>\n",
              "      <td>1.823900</td>\n",
              "      <td>0.345967</td>\n",
              "      <td>00:15</td>\n",
              "    </tr>\n",
              "  </tbody>\n",
              "</table>"
            ],
            "text/plain": [
              "<IPython.core.display.HTML object>"
            ]
          },
          "metadata": {
            "tags": []
          }
        },
        {
          "output_type": "display_data",
          "data": {
            "text/html": [
              ""
            ],
            "text/plain": [
              "<IPython.core.display.HTML object>"
            ]
          },
          "metadata": {
            "tags": []
          }
        },
        {
          "output_type": "stream",
          "text": [
            "WandbCallback requires use of \"SaveModelCallback\" to log best model\n"
          ],
          "name": "stdout"
        },
        {
          "output_type": "display_data",
          "data": {
            "text/html": [
              "<table border=\"1\" class=\"dataframe\">\n",
              "  <thead>\n",
              "    <tr style=\"text-align: left;\">\n",
              "      <th>epoch</th>\n",
              "      <th>train_loss</th>\n",
              "      <th>valid_loss</th>\n",
              "      <th>accuracy</th>\n",
              "      <th>time</th>\n",
              "    </tr>\n",
              "  </thead>\n",
              "  <tbody>\n",
              "    <tr>\n",
              "      <td>0</td>\n",
              "      <td>1.766214</td>\n",
              "      <td>1.757098</td>\n",
              "      <td>0.360483</td>\n",
              "      <td>00:14</td>\n",
              "    </tr>\n",
              "  </tbody>\n",
              "</table>"
            ],
            "text/plain": [
              "<IPython.core.display.HTML object>"
            ]
          },
          "metadata": {
            "tags": []
          }
        },
        {
          "output_type": "display_data",
          "data": {
            "text/html": [
              "<table border=\"1\" class=\"dataframe\">\n",
              "  <thead>\n",
              "    <tr style=\"text-align: left;\">\n",
              "      <th>epoch</th>\n",
              "      <th>train_loss</th>\n",
              "      <th>valid_loss</th>\n",
              "      <th>accuracy</th>\n",
              "      <th>time</th>\n",
              "    </tr>\n",
              "  </thead>\n",
              "  <tbody>\n",
              "    <tr>\n",
              "      <td>0</td>\n",
              "      <td>1.740282</td>\n",
              "      <td>1.754356</td>\n",
              "      <td>0.360617</td>\n",
              "      <td>00:14</td>\n",
              "    </tr>\n",
              "    <tr>\n",
              "      <td>1</td>\n",
              "      <td>1.746247</td>\n",
              "      <td>1.752255</td>\n",
              "      <td>0.359300</td>\n",
              "      <td>00:15</td>\n",
              "    </tr>\n",
              "    <tr>\n",
              "      <td>2</td>\n",
              "      <td>1.736547</td>\n",
              "      <td>1.754223</td>\n",
              "      <td>0.358200</td>\n",
              "      <td>00:15</td>\n",
              "    </tr>\n",
              "    <tr>\n",
              "      <td>3</td>\n",
              "      <td>1.686455</td>\n",
              "      <td>1.789755</td>\n",
              "      <td>0.351750</td>\n",
              "      <td>00:15</td>\n",
              "    </tr>\n",
              "    <tr>\n",
              "      <td>4</td>\n",
              "      <td>1.614124</td>\n",
              "      <td>1.845294</td>\n",
              "      <td>0.342300</td>\n",
              "      <td>00:15</td>\n",
              "    </tr>\n",
              "  </tbody>\n",
              "</table>"
            ],
            "text/plain": [
              "<IPython.core.display.HTML object>"
            ]
          },
          "metadata": {
            "tags": []
          }
        },
        {
          "output_type": "display_data",
          "data": {
            "text/html": [
              ""
            ],
            "text/plain": [
              "<IPython.core.display.HTML object>"
            ]
          },
          "metadata": {
            "tags": []
          }
        },
        {
          "output_type": "stream",
          "text": [
            "WandbCallback requires use of \"SaveModelCallback\" to log best model\n"
          ],
          "name": "stdout"
        },
        {
          "output_type": "display_data",
          "data": {
            "text/html": [
              "<table border=\"1\" class=\"dataframe\">\n",
              "  <thead>\n",
              "    <tr style=\"text-align: left;\">\n",
              "      <th>epoch</th>\n",
              "      <th>train_loss</th>\n",
              "      <th>valid_loss</th>\n",
              "      <th>accuracy</th>\n",
              "      <th>time</th>\n",
              "    </tr>\n",
              "  </thead>\n",
              "  <tbody>\n",
              "    <tr>\n",
              "      <td>0</td>\n",
              "      <td>1.768590</td>\n",
              "      <td>1.761582</td>\n",
              "      <td>0.353517</td>\n",
              "      <td>00:14</td>\n",
              "    </tr>\n",
              "  </tbody>\n",
              "</table>"
            ],
            "text/plain": [
              "<IPython.core.display.HTML object>"
            ]
          },
          "metadata": {
            "tags": []
          }
        },
        {
          "output_type": "display_data",
          "data": {
            "text/html": [
              "<table border=\"1\" class=\"dataframe\">\n",
              "  <thead>\n",
              "    <tr style=\"text-align: left;\">\n",
              "      <th>epoch</th>\n",
              "      <th>train_loss</th>\n",
              "      <th>valid_loss</th>\n",
              "      <th>accuracy</th>\n",
              "      <th>time</th>\n",
              "    </tr>\n",
              "  </thead>\n",
              "  <tbody>\n",
              "    <tr>\n",
              "      <td>0</td>\n",
              "      <td>1.751888</td>\n",
              "      <td>1.757103</td>\n",
              "      <td>0.360533</td>\n",
              "      <td>00:14</td>\n",
              "    </tr>\n",
              "    <tr>\n",
              "      <td>1</td>\n",
              "      <td>1.742130</td>\n",
              "      <td>1.756774</td>\n",
              "      <td>0.358917</td>\n",
              "      <td>00:15</td>\n",
              "    </tr>\n",
              "    <tr>\n",
              "      <td>2</td>\n",
              "      <td>1.730845</td>\n",
              "      <td>1.757504</td>\n",
              "      <td>0.359267</td>\n",
              "      <td>00:15</td>\n",
              "    </tr>\n",
              "    <tr>\n",
              "      <td>3</td>\n",
              "      <td>1.690707</td>\n",
              "      <td>1.786458</td>\n",
              "      <td>0.350267</td>\n",
              "      <td>00:15</td>\n",
              "    </tr>\n",
              "    <tr>\n",
              "      <td>4</td>\n",
              "      <td>1.639708</td>\n",
              "      <td>1.824516</td>\n",
              "      <td>0.341183</td>\n",
              "      <td>00:17</td>\n",
              "    </tr>\n",
              "  </tbody>\n",
              "</table>"
            ],
            "text/plain": [
              "<IPython.core.display.HTML object>"
            ]
          },
          "metadata": {
            "tags": []
          }
        },
        {
          "output_type": "display_data",
          "data": {
            "text/html": [
              ""
            ],
            "text/plain": [
              "<IPython.core.display.HTML object>"
            ]
          },
          "metadata": {
            "tags": []
          }
        },
        {
          "output_type": "stream",
          "text": [
            "WandbCallback requires use of \"SaveModelCallback\" to log best model\n"
          ],
          "name": "stdout"
        },
        {
          "output_type": "display_data",
          "data": {
            "text/html": [
              "<table border=\"1\" class=\"dataframe\">\n",
              "  <thead>\n",
              "    <tr style=\"text-align: left;\">\n",
              "      <th>epoch</th>\n",
              "      <th>train_loss</th>\n",
              "      <th>valid_loss</th>\n",
              "      <th>accuracy</th>\n",
              "      <th>time</th>\n",
              "    </tr>\n",
              "  </thead>\n",
              "  <tbody>\n",
              "    <tr>\n",
              "      <td>0</td>\n",
              "      <td>1.763231</td>\n",
              "      <td>1.760707</td>\n",
              "      <td>0.358200</td>\n",
              "      <td>00:14</td>\n",
              "    </tr>\n",
              "  </tbody>\n",
              "</table>"
            ],
            "text/plain": [
              "<IPython.core.display.HTML object>"
            ]
          },
          "metadata": {
            "tags": []
          }
        },
        {
          "output_type": "display_data",
          "data": {
            "text/html": [
              "<table border=\"1\" class=\"dataframe\">\n",
              "  <thead>\n",
              "    <tr style=\"text-align: left;\">\n",
              "      <th>epoch</th>\n",
              "      <th>train_loss</th>\n",
              "      <th>valid_loss</th>\n",
              "      <th>accuracy</th>\n",
              "      <th>time</th>\n",
              "    </tr>\n",
              "  </thead>\n",
              "  <tbody>\n",
              "    <tr>\n",
              "      <td>0</td>\n",
              "      <td>1.751050</td>\n",
              "      <td>1.756307</td>\n",
              "      <td>0.357717</td>\n",
              "      <td>00:14</td>\n",
              "    </tr>\n",
              "    <tr>\n",
              "      <td>1</td>\n",
              "      <td>1.749340</td>\n",
              "      <td>1.752529</td>\n",
              "      <td>0.360467</td>\n",
              "      <td>00:15</td>\n",
              "    </tr>\n",
              "    <tr>\n",
              "      <td>2</td>\n",
              "      <td>1.734925</td>\n",
              "      <td>1.755805</td>\n",
              "      <td>0.356433</td>\n",
              "      <td>00:14</td>\n",
              "    </tr>\n",
              "    <tr>\n",
              "      <td>3</td>\n",
              "      <td>1.692954</td>\n",
              "      <td>1.784191</td>\n",
              "      <td>0.352450</td>\n",
              "      <td>00:15</td>\n",
              "    </tr>\n",
              "    <tr>\n",
              "      <td>4</td>\n",
              "      <td>1.641886</td>\n",
              "      <td>1.820158</td>\n",
              "      <td>0.344900</td>\n",
              "      <td>00:15</td>\n",
              "    </tr>\n",
              "  </tbody>\n",
              "</table>"
            ],
            "text/plain": [
              "<IPython.core.display.HTML object>"
            ]
          },
          "metadata": {
            "tags": []
          }
        },
        {
          "output_type": "display_data",
          "data": {
            "text/html": [
              ""
            ],
            "text/plain": [
              "<IPython.core.display.HTML object>"
            ]
          },
          "metadata": {
            "tags": []
          }
        },
        {
          "output_type": "stream",
          "text": [
            "WandbCallback requires use of \"SaveModelCallback\" to log best model\n"
          ],
          "name": "stdout"
        },
        {
          "output_type": "display_data",
          "data": {
            "text/html": [
              "<table border=\"1\" class=\"dataframe\">\n",
              "  <thead>\n",
              "    <tr style=\"text-align: left;\">\n",
              "      <th>epoch</th>\n",
              "      <th>train_loss</th>\n",
              "      <th>valid_loss</th>\n",
              "      <th>accuracy</th>\n",
              "      <th>time</th>\n",
              "    </tr>\n",
              "  </thead>\n",
              "  <tbody>\n",
              "    <tr>\n",
              "      <td>0</td>\n",
              "      <td>1.755902</td>\n",
              "      <td>1.769750</td>\n",
              "      <td>0.347917</td>\n",
              "      <td>00:14</td>\n",
              "    </tr>\n",
              "  </tbody>\n",
              "</table>"
            ],
            "text/plain": [
              "<IPython.core.display.HTML object>"
            ]
          },
          "metadata": {
            "tags": []
          }
        },
        {
          "output_type": "display_data",
          "data": {
            "text/html": [
              "<table border=\"1\" class=\"dataframe\">\n",
              "  <thead>\n",
              "    <tr style=\"text-align: left;\">\n",
              "      <th>epoch</th>\n",
              "      <th>train_loss</th>\n",
              "      <th>valid_loss</th>\n",
              "      <th>accuracy</th>\n",
              "      <th>time</th>\n",
              "    </tr>\n",
              "  </thead>\n",
              "  <tbody>\n",
              "    <tr>\n",
              "      <td>0</td>\n",
              "      <td>1.750517</td>\n",
              "      <td>1.753261</td>\n",
              "      <td>0.355550</td>\n",
              "      <td>00:14</td>\n",
              "    </tr>\n",
              "    <tr>\n",
              "      <td>1</td>\n",
              "      <td>1.739976</td>\n",
              "      <td>1.756716</td>\n",
              "      <td>0.356567</td>\n",
              "      <td>00:15</td>\n",
              "    </tr>\n",
              "    <tr>\n",
              "      <td>2</td>\n",
              "      <td>1.724806</td>\n",
              "      <td>1.761603</td>\n",
              "      <td>0.355033</td>\n",
              "      <td>00:15</td>\n",
              "    </tr>\n",
              "    <tr>\n",
              "      <td>3</td>\n",
              "      <td>1.687991</td>\n",
              "      <td>1.794379</td>\n",
              "      <td>0.349167</td>\n",
              "      <td>00:15</td>\n",
              "    </tr>\n",
              "    <tr>\n",
              "      <td>4</td>\n",
              "      <td>1.616076</td>\n",
              "      <td>1.835337</td>\n",
              "      <td>0.341417</td>\n",
              "      <td>00:15</td>\n",
              "    </tr>\n",
              "  </tbody>\n",
              "</table>"
            ],
            "text/plain": [
              "<IPython.core.display.HTML object>"
            ]
          },
          "metadata": {
            "tags": []
          }
        },
        {
          "output_type": "display_data",
          "data": {
            "text/html": [
              ""
            ],
            "text/plain": [
              "<IPython.core.display.HTML object>"
            ]
          },
          "metadata": {
            "tags": []
          }
        },
        {
          "output_type": "stream",
          "text": [
            "WandbCallback requires use of \"SaveModelCallback\" to log best model\n"
          ],
          "name": "stdout"
        },
        {
          "output_type": "display_data",
          "data": {
            "text/html": [
              "<table border=\"1\" class=\"dataframe\">\n",
              "  <thead>\n",
              "    <tr style=\"text-align: left;\">\n",
              "      <th>epoch</th>\n",
              "      <th>train_loss</th>\n",
              "      <th>valid_loss</th>\n",
              "      <th>accuracy</th>\n",
              "      <th>time</th>\n",
              "    </tr>\n",
              "  </thead>\n",
              "  <tbody>\n",
              "    <tr>\n",
              "      <td>0</td>\n",
              "      <td>1.774278</td>\n",
              "      <td>1.761793</td>\n",
              "      <td>0.354733</td>\n",
              "      <td>00:14</td>\n",
              "    </tr>\n",
              "  </tbody>\n",
              "</table>"
            ],
            "text/plain": [
              "<IPython.core.display.HTML object>"
            ]
          },
          "metadata": {
            "tags": []
          }
        },
        {
          "output_type": "display_data",
          "data": {
            "text/html": [
              "<table border=\"1\" class=\"dataframe\">\n",
              "  <thead>\n",
              "    <tr style=\"text-align: left;\">\n",
              "      <th>epoch</th>\n",
              "      <th>train_loss</th>\n",
              "      <th>valid_loss</th>\n",
              "      <th>accuracy</th>\n",
              "      <th>time</th>\n",
              "    </tr>\n",
              "  </thead>\n",
              "  <tbody>\n",
              "    <tr>\n",
              "      <td>0</td>\n",
              "      <td>1.746634</td>\n",
              "      <td>1.754074</td>\n",
              "      <td>0.358083</td>\n",
              "      <td>00:14</td>\n",
              "    </tr>\n",
              "    <tr>\n",
              "      <td>1</td>\n",
              "      <td>1.748075</td>\n",
              "      <td>1.754374</td>\n",
              "      <td>0.355183</td>\n",
              "      <td>00:15</td>\n",
              "    </tr>\n",
              "    <tr>\n",
              "      <td>2</td>\n",
              "      <td>1.739434</td>\n",
              "      <td>1.756819</td>\n",
              "      <td>0.359917</td>\n",
              "      <td>00:15</td>\n",
              "    </tr>\n",
              "    <tr>\n",
              "      <td>3</td>\n",
              "      <td>1.687033</td>\n",
              "      <td>1.785866</td>\n",
              "      <td>0.351767</td>\n",
              "      <td>00:15</td>\n",
              "    </tr>\n",
              "    <tr>\n",
              "      <td>4</td>\n",
              "      <td>1.627529</td>\n",
              "      <td>1.829849</td>\n",
              "      <td>0.343417</td>\n",
              "      <td>00:15</td>\n",
              "    </tr>\n",
              "  </tbody>\n",
              "</table>"
            ],
            "text/plain": [
              "<IPython.core.display.HTML object>"
            ]
          },
          "metadata": {
            "tags": []
          }
        },
        {
          "output_type": "display_data",
          "data": {
            "text/html": [
              ""
            ],
            "text/plain": [
              "<IPython.core.display.HTML object>"
            ]
          },
          "metadata": {
            "tags": []
          }
        },
        {
          "output_type": "stream",
          "text": [
            "WandbCallback requires use of \"SaveModelCallback\" to log best model\n"
          ],
          "name": "stdout"
        },
        {
          "output_type": "display_data",
          "data": {
            "text/html": [
              "<table border=\"1\" class=\"dataframe\">\n",
              "  <thead>\n",
              "    <tr style=\"text-align: left;\">\n",
              "      <th>epoch</th>\n",
              "      <th>train_loss</th>\n",
              "      <th>valid_loss</th>\n",
              "      <th>accuracy</th>\n",
              "      <th>time</th>\n",
              "    </tr>\n",
              "  </thead>\n",
              "  <tbody>\n",
              "    <tr>\n",
              "      <td>0</td>\n",
              "      <td>1.761038</td>\n",
              "      <td>1.762059</td>\n",
              "      <td>0.358317</td>\n",
              "      <td>00:14</td>\n",
              "    </tr>\n",
              "  </tbody>\n",
              "</table>"
            ],
            "text/plain": [
              "<IPython.core.display.HTML object>"
            ]
          },
          "metadata": {
            "tags": []
          }
        },
        {
          "output_type": "display_data",
          "data": {
            "text/html": [
              "<table border=\"1\" class=\"dataframe\">\n",
              "  <thead>\n",
              "    <tr style=\"text-align: left;\">\n",
              "      <th>epoch</th>\n",
              "      <th>train_loss</th>\n",
              "      <th>valid_loss</th>\n",
              "      <th>accuracy</th>\n",
              "      <th>time</th>\n",
              "    </tr>\n",
              "  </thead>\n",
              "  <tbody>\n",
              "    <tr>\n",
              "      <td>0</td>\n",
              "      <td>1.755838</td>\n",
              "      <td>1.753854</td>\n",
              "      <td>0.354683</td>\n",
              "      <td>00:14</td>\n",
              "    </tr>\n",
              "    <tr>\n",
              "      <td>1</td>\n",
              "      <td>1.758328</td>\n",
              "      <td>1.754847</td>\n",
              "      <td>0.360933</td>\n",
              "      <td>00:15</td>\n",
              "    </tr>\n",
              "    <tr>\n",
              "      <td>2</td>\n",
              "      <td>1.737863</td>\n",
              "      <td>1.754674</td>\n",
              "      <td>0.359883</td>\n",
              "      <td>00:15</td>\n",
              "    </tr>\n",
              "    <tr>\n",
              "      <td>3</td>\n",
              "      <td>1.703351</td>\n",
              "      <td>1.777514</td>\n",
              "      <td>0.353233</td>\n",
              "      <td>00:15</td>\n",
              "    </tr>\n",
              "    <tr>\n",
              "      <td>4</td>\n",
              "      <td>1.645787</td>\n",
              "      <td>1.819137</td>\n",
              "      <td>0.344767</td>\n",
              "      <td>00:15</td>\n",
              "    </tr>\n",
              "  </tbody>\n",
              "</table>"
            ],
            "text/plain": [
              "<IPython.core.display.HTML object>"
            ]
          },
          "metadata": {
            "tags": []
          }
        },
        {
          "output_type": "display_data",
          "data": {
            "text/html": [
              ""
            ],
            "text/plain": [
              "<IPython.core.display.HTML object>"
            ]
          },
          "metadata": {
            "tags": []
          }
        },
        {
          "output_type": "execute_result",
          "data": {
            "text/html": [
              "<div>\n",
              "<style scoped>\n",
              "    .dataframe tbody tr th:only-of-type {\n",
              "        vertical-align: middle;\n",
              "    }\n",
              "\n",
              "    .dataframe tbody tr th {\n",
              "        vertical-align: top;\n",
              "    }\n",
              "\n",
              "    .dataframe thead th {\n",
              "        text-align: right;\n",
              "    }\n",
              "</style>\n",
              "<table border=\"1\" class=\"dataframe\">\n",
              "  <thead>\n",
              "    <tr style=\"text-align: right;\">\n",
              "      <th></th>\n",
              "      <th>Loss Train</th>\n",
              "      <th>Loss Validation</th>\n",
              "      <th>Accuracy</th>\n",
              "    </tr>\n",
              "  </thead>\n",
              "  <tbody>\n",
              "    <tr>\n",
              "      <th>count</th>\n",
              "      <td>10.000000</td>\n",
              "      <td>10.000000</td>\n",
              "      <td>10.000000</td>\n",
              "    </tr>\n",
              "    <tr>\n",
              "      <th>mean</th>\n",
              "      <td>1.628578</td>\n",
              "      <td>1.830035</td>\n",
              "      <td>0.343632</td>\n",
              "    </tr>\n",
              "    <tr>\n",
              "      <th>std</th>\n",
              "      <td>0.011545</td>\n",
              "      <td>0.009265</td>\n",
              "      <td>0.002256</td>\n",
              "    </tr>\n",
              "    <tr>\n",
              "      <th>min</th>\n",
              "      <td>1.613920</td>\n",
              "      <td>1.819137</td>\n",
              "      <td>0.340417</td>\n",
              "    </tr>\n",
              "    <tr>\n",
              "      <th>25%</th>\n",
              "      <td>1.618794</td>\n",
              "      <td>1.824054</td>\n",
              "      <td>0.341637</td>\n",
              "    </tr>\n",
              "    <tr>\n",
              "      <th>50%</th>\n",
              "      <td>1.627343</td>\n",
              "      <td>1.828396</td>\n",
              "      <td>0.344042</td>\n",
              "    </tr>\n",
              "    <tr>\n",
              "      <th>75%</th>\n",
              "      <td>1.637943</td>\n",
              "      <td>1.834109</td>\n",
              "      <td>0.344867</td>\n",
              "    </tr>\n",
              "    <tr>\n",
              "      <th>max</th>\n",
              "      <td>1.645787</td>\n",
              "      <td>1.845294</td>\n",
              "      <td>0.347283</td>\n",
              "    </tr>\n",
              "  </tbody>\n",
              "</table>\n",
              "</div>"
            ],
            "text/plain": [
              "       Loss Train  Loss Validation   Accuracy\n",
              "count   10.000000        10.000000  10.000000\n",
              "mean     1.628578         1.830035   0.343632\n",
              "std      0.011545         0.009265   0.002256\n",
              "min      1.613920         1.819137   0.340417\n",
              "25%      1.618794         1.824054   0.341637\n",
              "50%      1.627343         1.828396   0.344042\n",
              "75%      1.637943         1.834109   0.344867\n",
              "max      1.645787         1.845294   0.347283"
            ]
          },
          "metadata": {
            "tags": []
          },
          "execution_count": 14
        }
      ]
    },
    {
      "cell_type": "code",
      "metadata": {
        "id": "u2zXPcJuPkPq"
      },
      "source": [
        "sample_submission[sample_submission.columns[1:]] = pred\n",
        "sample_submission.to_csv(\"submission.csv\", index=False)"
      ],
      "execution_count": null,
      "outputs": []
    },
    {
      "cell_type": "code",
      "metadata": {
        "colab": {
          "base_uri": "https://localhost:8080/"
        },
        "id": "lt6gVLfhQN8N",
        "outputId": "4842112b-1515-4a8f-ced3-4e33767cbabd"
      },
      "source": [
        "!kaggle competitions submit -c tabular-playground-series-jun-2021 -f submission.csv -m \"Base fastai Model2\""
      ],
      "execution_count": null,
      "outputs": [
        {
          "output_type": "stream",
          "text": [
            "Warning: Looks like you're using an outdated API Version, please consider updating (server 1.5.12 / client 1.5.4)\n",
            "100% 17.9M/17.9M [00:00<00:00, 36.4MB/s]\n",
            "Successfully submitted to Tabular Playground Series - Jun 2021"
          ],
          "name": "stdout"
        }
      ]
    },
    {
      "cell_type": "code",
      "metadata": {
        "id": "tR1jlG4ginJz"
      },
      "source": [
        ""
      ],
      "execution_count": null,
      "outputs": []
    }
  ]
}