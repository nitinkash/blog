{
 "cells": [
  {
   "cell_type": "markdown",
   "metadata": {
    "id": "aszOrEJ18wZh"
   },
   "source": [
    "# Recurrent Neural Networks\n",
    "> \"Here I explore Recurrent Neural Networks and build a text generator \"\n",
    "---\n",
    "- toc: false\n",
    "- layout: post\n",
    "- categories: [\"Deep Learning\", \"NLP\", \"WIP\"]\n",
    "- title: Recurrent Neural Networks\n",
    "- hide: true\n",
    "---\n"
   ]
  },
  {
   "cell_type": "markdown",
   "metadata": {
    "id": "Rb-sqkes8LEP"
   },
   "source": [
    "### Objective:\n",
    "\n",
    "Traditional Neural networks found it very difficult to execute tasks in Natural Language Processing (NLP). To understand a sentence it is important to both understand each word, it's relationship with the previous and successive words and also the context in which the word is being used. Recurrent Neural Networks adopt a structure that helps solve this issue and is the main focus of this article. I will then explore approaches and try to build a text generator"
   ]
  },
  {
   "cell_type": "markdown",
   "metadata": {
    "id": "dn5cR7r9YeNu"
   },
   "source": [
    "### Language Model:\n",
    "\n",
    "Language Modelling is a central task in Natural Language Processing and is at the heart of many systems like speech recognition, machine translation and text generation. Given the words $ x_{1},..., x_{t}$ the language model predicts the following probability \n",
    "\n",
    "$$\n",
    " P(x_{t+1} = v_{j} | x_{t}, ... x_{1})\n",
    "$$\n",
    "where $v_{j}$ is every word in the vocabulary. Here I will be building a Language Model using Recurrent Neural Networks.\n"
   ]
  },
  {
   "cell_type": "markdown",
   "metadata": {
    "id": "CFHHvr1L86rP"
   },
   "source": [
    "### What is a Recurrent Neural Network?\n",
    "\n",
    "A recurrent neural network (RNN) is a type of Neural Network that allows previous outputs to be used as inputs while using hidden states. It is called a Recurrent Network because it repeatedly takes an input, uses it to modify a hidden layer and then provides an output which is then fed back to the hidden layer along with the next input. The hidden layer acts as \"memory\" that keeps track of the previous inputs by how the weights in the layer were modified by the said input. Consider an example of a RNN working on predicting the next word in a sentence. The first word is passed into a hidden layer, the output of this hidden layer is then passed on to the next hidden layer along with the second word. This process continues till all the inputs are passed on to the final output layer which predicts the final word. In this way, the RNN has an \"understanding\" of each word in the network and can make a reasonable prediction of the final word.\n",
    "\n",
    "\n",
    "`# TODO: Add image of RNN for predicting the next word here::`\n",
    "\n",
    "The structure used here is a many-to-one type of RNN. Many other RNN architectures have been developed to accomplish other tasks like music generation, sentiment analysis and machine translation. "
   ]
  },
  {
   "cell_type": "code",
   "execution_count": null,
   "metadata": {
    "id": "PHAHIWnWBjFK"
   },
   "outputs": [],
   "source": [
    "import pandas as pd"
   ]
  },
  {
   "cell_type": "markdown",
   "metadata": {
    "id": "EhC1-xBu6p5e"
   },
   "source": [
    "| Advantages | Disadvantages |\n",
    "| Can Process inputs of any length | Slow Computation |\n",
    "\n",
    "| Model size does not increase with size of input | Difficulty accessing information passed a long time ago |\n",
    "\n",
    "| Computation takes into account historical information | |\n",
    "| Weights are shared across time |  |\n"
   ]
  },
  {
   "cell_type": "markdown",
   "metadata": {
    "id": "1keu3Htr0CF1"
   },
   "source": [
    "### Long Short Term Memory (LSTM):\n",
    "\n",
    "One of the main drawbacks in using RNNs is that of Vanishing or Exploding Gradients. This is what While training the data with so many layers will result in gradients of the layers to explore to a very large number or diminsh to a number close to 0. This problem was exacerbated as the length of the input sequence increased and were not very useful in making predictions as the sentences got very long.\n",
    "\n",
    "To avoid this a special type iof RNN using Long Short Term Memory (LSTM) units  were developed. When we say LSTM NEtwork, we mean a neural network which contains an LSTM recurrent layer. LSTM cells were first introduced in 1997 in a paper by Sepp Hochreiter and Jürgen Schmidhuber. In the paper, the authors describe how LSTMs do not suffer from the same vanishing gradient problem experienced by RNNs and can be trained on sequences that are hundreds of timesteps long. Since then, the LSTM architecture has been adapted and improved, and variations such as gated recurrent units (GRUs) are now widely utilized and available as layers in Keras.\n",
    "\n",
    "Let's build a simple LSTM network in Keras here:\n",
    "\n",
    "\n",
    "\n"
   ]
  },
  {
   "cell_type": "markdown",
   "metadata": {
    "id": "5QvJpnaTApuv"
   },
   "source": [
    "#### Tokenization\n",
    "\n",
    "The first step to handling text data is to tokenize the text, Tokenization is the process of splitting the text into individual parts like words or characters. First we get the text we would like to tokenize, I am choosing to use The Strange case of Dr. Jekyll and Mr. Hyde by R.L Stevenson, one of my favourite books form middle school. I am going to use the text from Project Gutenberg's page"
   ]
  },
  {
   "cell_type": "code",
   "execution_count": null,
   "metadata": {
    "id": "8bCKtWgB-KGS"
   },
   "outputs": [],
   "source": [
    "import requests\n",
    "\n",
    "f = requests.get(\"https://www.gutenberg.org/files/43/43-0.txt\")\n",
    "theText = f.text"
   ]
  },
  {
   "cell_type": "code",
   "execution_count": null,
   "metadata": {
    "id": "DKKno34j-KDo"
   },
   "outputs": [],
   "source": [
    "import re\n",
    "from keras.preprocessing.text import Tokenizer\n",
    "\n",
    "seq_length = 20\n",
    "\n",
    "\n",
    "#clean up text\n",
    "\n",
    "text = theText.lower()\n",
    "text = text.replace('\\n', ' ')\n",
    "text = re.sub(' +', '. ', text).strip()\n",
    "text = text.replace('..', '.')\n",
    "text = re.sub('([!\"#$%&()*+,-./:;<=>?@[\\]^_`{|}~])', r' \\1 ', text)\n",
    "text = re.sub('\\s{2,}', ' ', text)"
   ]
  },
  {
   "cell_type": "code",
   "execution_count": null,
   "metadata": {
    "colab": {
     "base_uri": "https://localhost:8080/",
     "height": 83
    },
    "executionInfo": {
     "elapsed": 2113,
     "status": "ok",
     "timestamp": 1622651891825,
     "user": {
      "displayName": "Nitin Kashyap",
      "photoUrl": "https://lh3.googleusercontent.com/a-/AOh14GgFOCildgKv2gQKYUy8uXlJ8VZbaTjL7CHxrcrRNbA=s64",
      "userId": "12536763568334316752"
     },
     "user_tz": -330
    },
    "id": "0EZugPu6-KAb",
    "outputId": "a387fa1c-763f-4196-cb7d-d63df88ae5ff"
   },
   "outputs": [
    {
     "data": {
      "application/vnd.google.colaboratory.intrinsic+json": {
       "type": "string"
      },
      "text/plain": [
       "'ï»¿the . project . gutenberg . ebook . of . the . strange . case . of . dr . jekyll . and . mr . hyde , . by . robert . louis . stevenson . . this . ebook . is . for . the . use . of . anyone . anywhere . in . the . united . states . and . most . other . parts . of . the . world . at . no . cost . and . with . almost . no . restrictions . whatsoever . you . may . copy . it , . give . it . away . or . re - use . it . under . the . terms . of . the . project . gutenberg . license . included . with . this . ebook . or . online . at . www . gutenberg . org . if . you . are . not . located . in . the . united . states , . you . will . have . to . check . the . laws . of . the . country . where . you . are . located . before . using . this . ebook . . . title : . the . strange . case . of . dr . jekyll . and . mr . hyde . . author : . robert . louis . stevenson . . release . date : . october . 31 , . 1992 . [ ebook . # 43 ] . [ most . recently . updated : . march . 19 , . 2021 ] . . language : . english . . character . set . encoding : . utf - 8 . . produced . by : . david . widger . . * * * . start . of . the . project . gutenberg . ebook . the . strange . case . of . dr . jekyll . and . mr . hyde . * * * . . . . . the . strange . case . of . dr . jekyll . and . mr . hyde . . by . robert . louis . stevenson . . . contents . . . story . of . the . door . . search . for . mr . hyde . . dr . jekyll . was . quite . at . ease . . the . carew . murder . case . . incident . of . the . letter . . incident . of . dr . lanyon . . incident . at . the . window . . the . last . night . . dr . lanyonâ\\x80\\x99s . narrative . . henry . jekyllâ\\x80\\x99s . full . statement . of . the . case . . . story . of . the . door . . mr . utterson . the . lawyer . was . a . man . of . a . rugged . countenance . that . was . never . lighted . by . a . smile ; . cold , . scanty . and . embarrassed . in . discourse ; . backward . in . sentiment ; . lean , . long , . dusty , . dreary . and . yet . somehow . lovable . at . friendly . meetings , . and . when . the . wine . was . to . his . taste , . something . eminently . human . beaconed . from . his . eye ; . something . indeed . which . never . found . its . way . into . his . talk , . but . which . spoke . not . only . in . these . silent . symbols . of . the . after - dinner . face , . but . more . often . and . loudly . in . the . acts . of . his . life . he . was . austere . with . himself ; . drank . gin . when . he . was . alone , . to . mortify . a . taste . for . vintages ; . and . though . he . enjoyed . the . theatre , . had . not . crossed . the . doors . of . one . for . twenty . years . but . he . had . an . approved . tolerance . for . others ; . sometimes . wondering , . almost . with . envy , . at . the . high . pressure . of . spirits . involved . in . their . misdeeds ; . and . in . any . extremity . inclined . to . help . rather . than . to . reprove . â\\x80\\x9ci . incline . to . cainâ\\x80\\x99s . heresy , â\\x80\\x9d . he . used . to . say . quaintly : . â\\x80\\x9ci . let . my . brother . go . to . the . devil . in . his . own . way . â\\x80\\x9d . in . this . character , . it . was . frequently . his . fortune . to . be . the . last . reputable . acquaintance . and . the . last . good . influence . in . the . lives . of . downgoing . men . and . to . such . as . these , . so . long . as . they . came . about . his . chambers , . he . never . marked . a . shade . of . change . in . his . demeanour . . . no . doubt . the . feat . was . easy . to . mr . utterson ; . for . he . was . undemonstrative . at . the . best , . and . even . his . friendship . seemed . to . be . founded . in . a . similar . catholicity . of . good - nature . it . is . the . mark . of . a . modest . man . to . accept . his . friendly . circle . ready - made . from . the . hands . of . opportunity ; . and . that . was . the . lawyerâ\\x80\\x99s . way . his . friends . were . those . of . his . own . blood . or . those . whom . he . had . known . the . longest ; . his . affections , . like . ivy , . were . the . growth . of . time , . they . implied . no . aptness . in . the . object . hence , . no . doubt . the . bond . that . united . him . to . mr . richard . enfield , . his . distant . kinsman , . the . well - known . man . about . town . it . was . a . nut . to . crack . for . many , . what . these . two . could . see . in . each . other , . or . what . subject . they . could . find . in . common . it . was . reported . by . those . who . encountered . them . in . their . sunday . walks , . that . they . said . nothing , . looked . singularly . dull . and . would . hail . with . obvious . relief . the . appearance . of . a . friend . for . all . that , . the . two . men . put . the . greatest . store . by . these . excursions , . counted . them . the . chief . jewel . of . each . week , . and . not . only . set . aside . occasions . of . pleasure , . but . even . resisted . the . calls . of . business , . that . they . might . enjoy . them . uninterrupted . . . it . chanced . on . one . of . these . rambles . that . their . way . led . them . down . a . by - street . in . a . busy . quarter . of . london . the . street . was . small . and . what . is . called . quiet , . but . it . drove . a . thriving . trade . on . the . weekdays . the . inhabitants . were . all . doing . well , . it . seemed . and . all . emulously . hoping . to . do . better . still , . and . laying . out . the . surplus . of . their . grains . in . coquetry ; . so . that . the . shop . fronts . stood . along . that . thoroughfare . with . an . air . of . invitation , . like . rows . of . smiling . saleswomen . even . on . sunday , . when . it . veiled . its . more . florid . charms . and . lay . comparatively . empty . of . passage , . the . street . shone . out . in . contrast . to . its . dingy . neighbourhood , . like . a . fire . in . a . forest ; . and . with . its . freshly . painted . shutters , . well - polished . brasses , . and . general . cleanliness . and . gaiety . of . note , . instantly . caught . and . pleased . the . eye . of . the . passenger . . . two . doors . from . one . corner , . on . the . left . hand . going . east . the . line . was . broken . by . the . entry . of . a . court ; . and . just . at . that . point . a . certain . sinister . block . of . building . thrust . forward . its . gable . on . the . street . it . was . two . storeys . high ; . showed . no . window , . nothing . but . a . door . on . the . lower . storey . and . a . blind . forehead . of . discoloured . wall . on . the . upper ; . and . bore . in . every . feature , . the . marks . of . prolonged . and . sordid . negligence . the . door , . which . was . equipped . with . neither . bell . nor . knocker , . was . blistered . and . distained . tramps . slouched . into . the . recess . and . struck . matches . on . the . panels ; . children . kept . shop . upon . the . steps ; . the . schoolboy . had . tried . his . knife . on . the . mouldings ; . and . for . close . on . a . generation , . no . one . had . appeared . to . drive . away . these . random . visitors . or . to . repair . their . ravages . . . mr . enfield . and . the . lawyer . were . on . the . other . side . of . the . by - street ; . but . when . they . came . abreast . of . the . entry , . the . former . lifted . up . his . cane . and . pointed . . . â\\x80\\x9cdid . you . ever . remark . that . door ? â\\x80\\x9d . he . asked ; . and . when . his . companion . had . replied . in . the . affirmative , . â\\x80\\x9cit . is . connected . in . my . mind , â\\x80\\x9d . added . he , . â\\x80\\x9cwith . a . very . odd . story . â\\x80\\x9d . . â\\x80\\x9cindeed ? â\\x80\\x9d . said . mr . utterson , . with . a . slight . change . of . voice , . â\\x80\\x9cand . what . was . that ? â\\x80\\x9d . . â\\x80\\x9cwell , . it . was . this . way , â\\x80\\x9d . returned . mr . enfield : . â\\x80\\x9ci . was . coming . home . from . some . place . at . the . end . of . the . world , . about . three . oâ\\x80\\x99clock . of . a . black . winter . morning , . and . my . way . lay . through . a . part . of . town . where . there . was . literally . nothing . to . be . seen . but . lamps . street . after . street . and . all . the . folks . asleepâ\\x80\\x94street . after . street , . all . lighted . up . as . if . for . a . procession . and . all . as . empty . as . a . churchâ\\x80\\x94till . at . last . i . got . into . that . state . of . mind . when . a . man . listens . and . listens . and . begins . to . long . for . the . sight . of . a . policeman . all . at . once , . i . saw . two . figures : . one . a . little . man . who . was . stumping . along . eastward . at . a . good . walk , . and . the . other . a . girl . of . maybe . eight . or . ten . who . was . running . as . hard . as . she . was . able . down . a . cross . street . well , . sir , . the . two . ran . into . one . another . naturally . enough . at . the . corner ; . and . then . came . the . horrible . part . of . the . thing ; . for . the . man . trampled . calmly . over . the . childâ\\x80\\x99s . body . and . left . her . screaming . on . the . ground . it . sounds . nothing . to . hear , . but . it . was . hellish . to . see . it . wasnâ\\x80\\x99t . like . a . man ; . it . was . like . some . damned . juggernaut . i . gave . a . few . halloa , . took . to . my . heels , . collared . my . gentleman , . and . brought . him . back . to . where . there . was . already . quite . a . group . about . the . screaming . child . he . was . perfectly . cool . and . made . no . resistance , . but . gave . me . one . look , . so . ugly . that . it . brought . out . the . sweat . on . me . like . running . the . people . who . had . turned . out . were . the . girlâ\\x80\\x99s . own . family ; . and . pretty . soon , . the . doctor , . for . whom . she . had . been . sent . put . in . his . appearance . well , . the . child . was . not . much . the . worse , . more . frightened , . according . to . the . sawbones ; . and . there . you . might . have . supposed . would . be . an . end . to . it . but . there . was . one . curious . circumstance . i . had . taken . a . loathing . to . my . gentleman . at . first . sight . so . had . the . childâ\\x80\\x99s . family , . which . was . only . natural . but . the . doctorâ\\x80\\x99s . case . was . what . struck . me . he . was . the . usual . cut . and . dry . apothecary , . of . no . particular . age . and . colour , . with . a . strong . edinburgh . accent . and . about . as . emotional . as . a . bagpipe . well , . sir , . he . was . like . the . rest . of . us ; . every . time . he . looked . at . my . prisoner , . i . saw . that . sawbones . turn . sick . and . white . with . the . desire . to . kill . him . i . knew . what . was . in . his . mind , . just . as . he . knew . what . was . in . mine ; . and . killing . being . out . of . the . question , . we . did . the . next . best . we . told . the . man . we . could . and . would . make . such . a . scandal . out . of . this . as . should . make . his . name . stink . from . one . end . of . london . to . the . other . if . he . had . any . friends . or . any . credit , . we . undertook . that . he . should . lose . them . and . all . the . time , . as . we . were . pitching . it . in . red . hot , . we . were . keeping . the . women . off . him . as . best . we . could . for . they . were . as . wild . as . harpies . i . never . saw . a . circle . of . such . hateful . faces ; . and . there . was . the . man . in . the . middle , . with . a . kind . of . black . sneering . coolnessâ\\x80\\x94frightened . too , . i . could . see . thatâ\\x80\\x94but . carrying . it . off , . sir , . really . like . satan . â\\x80\\x98if . you . choose . to . make . capital . out . of . this . accident , â\\x80\\x99 . said . he , . â\\x80\\x98i . am . naturally . helpless . no . gentleman . but . wishes . to . avoid . a . scene , â\\x80\\x99 . says . he . â\\x80\\x98name . your . figure . â\\x80\\x99 . well , . we . screwed . him . up . to . a . hundred . pounds . for . the . childâ\\x80\\x99s . family ; . he . would . have . clearly . liked . to . stick . out ; . but . there . was . something . about . the . lot . of . us . that . meant . mischief , . and . at . last . he . struck . the . next . thing . was . to . get . the . money ; . and . where . do . you . think . he . carried . us . but . to . that . place . with . the . door ? â\\x80\\x94whipped . out . a . key , . went . in , . and . presently . came . back . with . the . matter . of . ten . pounds . in . gold . and . a . cheque . for . the . balance . on . couttsâ\\x80\\x99s , . drawn . payable . to . bearer . and . signed . with . a . name . that . i . canâ\\x80\\x99t . mention , . though . itâ\\x80\\x99s . one . of . the . points . of . my . story , . but . it . was . a . name . at . least . very . well . known . and . often . printed . the . figure . was . stiff ; . but . the . signature . was . good . for . more . than . that . if . it . was . only . genuine . i . took . the . liberty . of . pointing . out . to . my . gentleman . that . the . whole . business . looked . apocryphal , . and . that . a . man . does . not , . in . real . life , . walk . into . a . cellar . door . at . four . in . the . morning . and . come . out . with . another . manâ\\x80\\x99s . cheque . for . close . upon . a . hundred . pounds . but . he . was . quite . easy . and . sneering . â\\x80\\x98set . your . mind . at . rest , â\\x80\\x99 . says . he , . â\\x80\\x98i . will . stay . with . you . till . the . banks . open . and . cash . the . cheque . myself . â\\x80\\x99 . so . we . all . set . off , . the . doctor , . and . the . childâ\\x80\\x99s . father , . and . our . friend . and . myself , . and . passed . the . rest . of . the . night . in . my . chambers ; . and . next . day , . when . we . had . breakfasted , . went . in . a . body . to . the . bank . i . gave . in . the . cheque . myself , . and . said . i . had . every . reason . to . believe . it . was . a . forgery . not . a . bit . of . it . the . cheque . was . genuine . â\\x80\\x9d . . â\\x80\\x9ctut - tut ! â\\x80\\x9d . said . mr . utterson . . . â\\x80\\x9ci . see . you . feel . as . i . do , â\\x80\\x9d . said . mr . enfield . â\\x80\\x9cyes , . itâ\\x80\\x99s . a . bad . story . for . my . man . was . a . fellow . that . nobody . could . have . to . do . with , . a . really . damnable . man ; . and . the . person . that . drew . the . cheque . is . the . very . pink . of . the . proprieties , . celebrated . too , . and . ( what . makes . it . worse ) . one . of . your . fellows . who . do . what . they . call . good . blackmail , . i . suppose ; . an . honest . man . paying . through . the . nose . for . some . of . the . capers . of . his . youth . black . mail . house . is . what . i . call . the . place . with . the . door , . in . consequence . though . even . that , . you . know , . is . far . from . explaining . all , â\\x80\\x9d . he . added , . and . with . the . words . fell . into . a . vein . of . musing . . . from . this . he . was . recalled . by . mr . utterson . asking . rather . suddenly : . â\\x80\\x9cand . you . donâ\\x80\\x99t . know . if . the . drawer . of . the . cheque . lives . there ? â\\x80\\x9d . . â\\x80\\x9ca . likely . place , . isnâ\\x80\\x99t . it ? â\\x80\\x9d . returned . mr . enfield . â\\x80\\x9cbut . i . happen . to . have . noticed . his . address ; . he . lives . in . some . square . or . other . â\\x80\\x9d . . â\\x80\\x9cand . you . never . asked . about . theâ\\x80\\x94place . with . the . door ? â\\x80\\x9d . said . mr . utterson . . . â\\x80\\x9cno , . sir ; . i . had . a . delicacy , â\\x80\\x9d . was . the . reply . â\\x80\\x9ci . feel . very . strongly . about . putting . questions ; . it . partakes . too . much . of . the . style . of . the . day . of . judgment . you . start . a . question , . and . itâ\\x80\\x99s . like . starting . a . stone . you . sit . quietly . on . the . top . of . a . hill ; . and . away . the . stone . goes , . starting . others ; . and . presently . some . bland . old . bird . ( the . last . you . would . have . thought . of ) . is . knocked . on . the . head . in . his . own . back . garden . and . the . family . have . to . change . their . name . no . sir , . i . make . it . a . rule . of . mine : . the . more . it . looks . like . queer . street , . the . less . i . ask . â\\x80\\x9d . . â\\x80\\x9ca . very . good . rule , . too , â\\x80\\x9d . said . the . lawyer . . . â\\x80\\x9cbut . i . have . studied . the . place . for . myself , â\\x80\\x9d . continued . mr . enfield . â\\x80\\x9cit . seems . scarcely . a . house . there . is . no . other . door , . and . nobody . goes . in . or . out . of . that . one . but , . once . in . a . great . while , . the . gentleman . of . my . adventure . there . are . three . windows . looking . on . the . court . on . the . first . floor ; . none . below ; . the . windows . are . always . shut . but . theyâ\\x80\\x99re . clean . and . then . there . is . a . chimney . which . is . generally . smoking ; . so . somebody . must . live . there . and . yet . itâ\\x80\\x99s . not . so . sure ; . for . the . buildings . are . so . packed . together . about . the . court , . that . itâ\\x80\\x99s . hard . to . say . where . one . ends . and . another . begins . â\\x80\\x9d . . the . pair . walked . on . again . for . a . while . in . silence ; . and . then . â\\x80\\x9cenfield , â\\x80\\x9d . said . mr . utterson , . â\\x80\\x9cthatâ\\x80\\x99s . a . good . rule . of . yours . â\\x80\\x9d . . â\\x80\\x9cyes , . i . think . it . is , â\\x80\\x9d . returned . enfield . . . â\\x80\\x9cbut . for . all . that , â\\x80\\x9d . continued . the . lawyer , . â\\x80\\x9cthereâ\\x80\\x99s . one . point . i . want . to . ask . i . want . to . ask . the . name . of . that . man . who . walked . over . the . child . â\\x80\\x9d . . â\\x80\\x9cwell , â\\x80\\x9d . said . mr . enfield , . â\\x80\\x9ci . canâ\\x80\\x99t . see . what . harm . it . would . do . it . was . a . man . of . the . name . of . hyde . â\\x80\\x9d . . â\\x80\\x9chm , â\\x80\\x9d . said . mr . utterson . â\\x80\\x9cwhat . sort . of . a . man . is . he . to . see ? â\\x80\\x9d . . â\\x80\\x9che . is . not . easy . to . describe . there . is . something . wrong . with . his . appearance ; . something . displeasing , . something . down - right . detestable . i . never . saw . a . man . i . so . disliked , . and . yet . i . scarce . know . why . he . must . be . deformed . somewhere ; . he . gives . a . strong . feeling . of . deformity , . although . i . couldnâ\\x80\\x99t . specify . the . point . heâ\\x80\\x99s . an . extraordinary . looking . man , . and . yet . i . really . can . name . nothing . out . of . the . way . no , . sir ; . i . can . make . no . hand . of . it ; . i . canâ\\x80\\x99t . describe . him . and . itâ\\x80\\x99s . not . want . of . memory ; . for . i . declare . i . can . see . him . this . moment . â\\x80\\x9d . . mr . utterson . again . walked . some . way . in . silence . and . obviously . under . a . weight . of . consideration . â\\x80\\x9cyou . are . sure . he . used . a . key ? â\\x80\\x9d . he . inquired . at . last . . . â\\x80\\x9cmy . dear . sir . . â\\x80\\x9d . began . enfield , . surprised . out . of . himself . . . â\\x80\\x9cyes , . i . know , â\\x80\\x9d . said . utterson ; . â\\x80\\x9ci . know . it . must . seem . strange . the . fact . is , . if . i . do . not . ask . you . the . name . of . the . other . party , . it . is . because . i . know . it . already . you . see , . richard , . your . tale . has . gone . home . if . you . have . been . inexact . in . any . point . you . had . better . correct . it . â\\x80\\x9d . . â\\x80\\x9ci . think . you . might . have . warned . me , â\\x80\\x9d . returned . the . other . with . a . touch . of . sullenness . â\\x80\\x9cbut . i . have . been . pedantically . exact , . as . you . call . it . the . fellow . had . a . key ; . and . whatâ\\x80\\x99s . more , . he . has . it . still . i . saw . him . use . it . not . a . week . ago . â\\x80\\x9d . . mr . utterson . sighed . deeply . but . said . never . a . word ; . and . the . young . man . presently . resumed . â\\x80\\x9chere . is . another . lesson . to . say . nothing , â\\x80\\x9d . said . he . â\\x80\\x9ci . am . ashamed . of . my . long . tongue . let . us . make . a . bargain . never . to . refer . to . this . again . â\\x80\\x9d . . â\\x80\\x9cwith . all . my . heart , â\\x80\\x9d . said . the . lawyer . â\\x80\\x9ci . shake . hands . on . that , . richard . â\\x80\\x9d . . . . search . for . mr . hyde . . that . evening . mr . utterson . came . home . to . his . bachelor . house . in . sombre . spirits . and . sat . down . to . dinner . without . relish . it . was . his . custom . of . a . sunday , . when . this . meal . was . over , . to . sit . close . by . the . fire , . a . volume . of . some . dry . divinity . on . his . reading . desk , . until . the . clock . of . the . neighbouring . church . rang . out . the . hour . of . twelve , . when . he . would . go . soberly . and . gratefully . to . bed . on . this . night . however , . as . soon . as . the . cloth . was . taken . away , . he . took . up . a . candle . and . went . into . his . business . room . there . he . opened . his . safe , . took . from . the . most . private . part . of . it . a . document . endorsed . on . the . envelope . as . dr . jekyllâ\\x80\\x99s . will . and . sat . down . with . a . clouded . brow . to . study . its . contents . the . will . was . holograph , . for . mr . utterson . though . he . took . charge . of . it . now . that . it . was . made , . had . refused . to . lend . the . least . assistance . in . the . making . of . it ; . it . provided . not . only . that , . in . case . of . the . decease . of . henry . jekyll , . m . d . , . d . c . l . , . l . l . d . , . f . r . s . , . etc . , . all . his . possessions . were . to . pass . into . the . hands . of . his . â\\x80\\x9cfriend . and . benefactor . edward . hyde , â\\x80\\x9d . but . that . in . case . of . dr . . jekyllâ\\x80\\x99s . â\\x80\\x9cdisappearance . or . unexplained . absence . for . any . period . exceeding . three . calendar . months , â\\x80\\x9d . the . said . edward . hyde . should . step . into . the . said . henry . jekyllâ\\x80\\x99s . shoes . without . further . delay . and . free . from . any . burthen . or . obligation . beyond . the . payment . of . a . few . small . sums . to . the . members . of . the . doctorâ\\x80\\x99s . household . this . document . had . long . been . the . lawyerâ\\x80\\x99s . eyesore . . it . offended . him . both . as . a . lawyer . and . as . a . lover . of . the . sane . and . customary . sides . of . life , . to . whom . the . fanciful . was . the . immodest . and . hitherto . it . was . his . ignorance . of . mr . hyde . that . had . swelled . his . indignation ; . now , . by . a . sudden . turn , . it . was . his . knowledge . it . was . already . bad . enough . when . the . name . was . but . a . name . of . which . he . could . learn . no . more . it . was . worse . when . it . began . to . be . clothed . upon . with . detestable . attributes ; . and . out . of . the . shifting , . insubstantial . mists . that . had . so . long . baffled . his . eye , . there . leaped . up . the . sudden , . definite . presentment . of . a . fiend . . . â\\x80\\x9ci . thought . it . was . madness , â\\x80\\x9d . he . said , . as . he . replaced . the . obnoxious . paper . in . the . safe , . â\\x80\\x9cand . now . i . begin . to . fear . it . is . disgrace . â\\x80\\x9d . . with . that . he . blew . out . his . candle , . put . on . a . greatcoat , . and . set . forth . in . the . direction . of . cavendish . square , . that . citadel . of . medicine , . where . his . friend , . the . great . dr . lanyon , . had . his . house . and . received . his . crowding . patients . â\\x80\\x9cif . anyone . knows , . it . will . be . lanyon , â\\x80\\x9d . he . had . thought . . . the . solemn . butler . knew . and . welcomed . him ; . he . was . subjected . to . no . stage . of . delay , . but . ushered . direct . from . the . door . to . the . dining - room . where . dr . . lanyon . sat . alone . over . his . wine . this . was . a . hearty , . healthy , . dapper , . red - faced . gentleman , . with . a . shock . of . hair . prematurely . white , . and . a . boisterous . and . decided . manner . at . sight . of . mr . utterson , . he . sprang . up . from . his . chair . and . welcomed . him . with . both . hands . the . geniality , . as . was . the . way . of . the . man , . was . somewhat . theatrical . to . the . eye ; . but . it . reposed . on . genuine . feeling . for . these . two . were . old . friends , . old . mates . both . at . school . and . college , . both . thorough . respectors . of . themselves . and . of . each . other , . and . what . does . not . always . follow , . men . who . thoroughly . enjoyed . each . otherâ\\x80\\x99s . company . . . after . a . little . rambling . talk , . the . lawyer . led . up . to . the . subject . which . so . disagreeably . preoccupied . his . mind . . . â\\x80\\x9ci . suppose , . lanyon , â\\x80\\x9d . said . he , . â\\x80\\x9cyou . and . i . must . be . the . two . oldest . friends . that . henry . jekyll . has ? â\\x80\\x9d . . â\\x80\\x9ci . wish . the . friends . were . younger , â\\x80\\x9d . chuckled . dr . lanyon . â\\x80\\x9cbut . i . suppose . we . are . and . what . of . that ? . i . see . little . of . him . now . â\\x80\\x9d . . â\\x80\\x9cindeed ? â\\x80\\x9d . said . utterson . â\\x80\\x9ci . thought . you . had . a . bond . of . common . interest . â\\x80\\x9d . . â\\x80\\x9cwe . had , â\\x80\\x9d . was . the . reply . â\\x80\\x9cbut . it . is . more . than . ten . years . since . henry . jekyll . became . too . fanciful . for . me . he . began . to . go . wrong , . wrong . in . mind ; . and . though . of . course . i . continue . to . take . an . interest . in . him . for . old . sakeâ\\x80\\x99s . sake , . as . they . say , . i . see . and . i . have . seen . devilish . little . of . the . man . such . unscientific . balderdash , â\\x80\\x9d . added . the . doctor , . flushing . suddenly . purple , . â\\x80\\x9cwould . have . estranged . damon . and . pythias . â\\x80\\x9d . . this . little . spirit . of . temper . was . somewhat . of . a . relief . to . mr . utterson . . â\\x80\\x9cthey . have . only . differed . on . some . point . of . science , â\\x80\\x9d . he . thought ; . and . being . a . man . of . no . scientific . passions . ( except . in . the . matter . of . conveyancing ) , . he . even . added : . â\\x80\\x9cit . is . nothing . worse . than . that ! â\\x80\\x9d . he . gave . his . friend . a . few . seconds . to . recover . his . composure , . and . then . approached . the . question . he . had . come . to . put . â\\x80\\x9cdid . you . ever . come . across . a . _ protã©gã© _ . of . hisâ\\x80\\x94one . hyde ? â\\x80\\x9d . he . asked . . . â\\x80\\x9chyde ? â\\x80\\x9d . repeated . lanyon . â\\x80\\x9cno . never . heard . of . him . since . my . time . â\\x80\\x9d . . that . was . the . amount . of . information . that . the . lawyer . carried . back . with . him . to . the . great , . dark . bed . on . which . he . tossed . to . and . fro , . until . the . small . hours . of . the . morning . began . to . grow . large . it . was . a . night . of . little . ease . to . his . toiling . mind , . toiling . in . mere . darkness . and . besieged . by . questions . . . six . oâ\\x80\\x99clock . struck . on . the . bells . of . the . church . that . was . so . conveniently . near . to . mr . uttersonâ\\x80\\x99s . dwelling , . and . still . he . was . digging . at . the . problem . hitherto . it . had . touched . him . on . the . intellectual . side . alone ; . but . now . his . imagination . also . was . engaged , . or . rather . enslaved ; . and . as . he . lay . and . tossed . in . the . gross . darkness . of . the . night . and . the . curtained . room , . mr . enfieldâ\\x80\\x99s . tale . went . by . before . his . mind . in . a . scroll . of . lighted . pictures . he . would . be . aware . of . the . great . field . of . lamps . of . a . nocturnal . city ; . then . of . the . figure . of . a . man . walking . swiftly ; . then . of . a . child . running . from . the . doctorâ\\x80\\x99s ; . and . then . these . met , . and . that . human . juggernaut . trod . the . child . down . and . passed . on . regardless . of . her . screams . . or . else . he . would . see . a . room . in . a . rich . house , . where . his . friend . lay . asleep , . dreaming . and . smiling . at . his . dreams ; . and . then . the . door . of . that . room . would . be . opened , . the . curtains . of . the . bed . plucked . apart , . the . sleeper . recalled , . and . lo ! . there . would . stand . by . his . side . a . figure . to . whom . power . was . given , . and . even . at . that . dead . hour , . he . must . rise . and . do . its . bidding . the . figure . in . these . two . phases . haunted . the . lawyer . all . night ; . and . if . at . any . time . he . dozed . over , . it . was . but . to . see . it . glide . more . stealthily . through . sleeping . houses , . or . move . the . more . swiftly . and . still . the . more . swiftly , . even . to . dizziness , . through . wider . labyrinths . of . lamplighted . city , . and . at . every . street . corner . crush . a . child . and . leave . her . screaming . and . still . the . figure . had . no . face . by . which . he . might . know . it ; . even . in . his . dreams , . it . had . no . face , . or . one . that . baffled . him . and . melted . before . his . eyes ; . and . thus . it . was . that . there . sprang . up . and . grew . apace . in . the . lawyerâ\\x80\\x99s . mind . a . singularly . strong , . almost . an . inordinate , . curiosity . to . behold . the . features . of . the . real . mr . hyde . if . he . could . but . once . set . eyes . on . him , . he . thought . the . mystery . would . lighten . and . perhaps . roll . altogether . away , . as . was . the . habit . of . mysterious . things . when . well . examined . he . might . see . a . reason . for . his . friendâ\\x80\\x99s . strange . preference . or . bondage . ( call . it . which . you . please ) . and . even . for . the . startling . clause . of . the . will . at . least . it . would . be . a . face . worth . seeing : . the . face . of . a . man . who . was . without . bowels . of . mercy : . a . face . which . had . but . to . show . itself . to . raise . up , . in . the . mind . of . the . unimpressionable . enfield , . a . spirit . of . enduring . hatred . . . from . that . time . forward , . mr . utterson . began . to . haunt . the . door . in . the . by - street . of . shops . in . the . morning . before . office . hours , . at . noon . when . business . was . plenty . and . time . scarce , . at . night . under . the . face . of . the . fogged . city . moon , . by . all . lights . and . at . all . hours . of . solitude . or . concourse , . the . lawyer . was . to . be . found . on . his . chosen . post . . . â\\x80\\x9cif . he . be . mr . hyde , â\\x80\\x9d . he . had . thought , . â\\x80\\x9ci . shall . be . mr . seek . â\\x80\\x9d . . and . at . last . his . patience . was . rewarded . it . was . a . fine . dry . night ; . frost . in . the . air ; . the . streets . as . clean . as . a . ballroom . floor ; . the . lamps , . unshaken . by . any . wind , . drawing . a . regular . pattern . of . light . and . shadow . by . ten . oâ\\x80\\x99clock , . when . the . shops . were . closed , . the . by - street . was . very . solitary . and , . in . spite . of . the . low . growl . of . london . from . all . round , . very . silent . small . sounds . carried . far ; . domestic . sounds . out . of . the . houses . were . clearly . audible . on . either . side . of . the . roadway ; . and . the . rumour . of . the . approach . of . any . passenger . preceded . him . by . a . long . time . mr . utterson . had . been . some . minutes . at . his . post , . when . he . was . aware . of . an . odd . light . footstep . drawing . near . in . the . course . of . his . nightly . patrols , . he . had . long . grown . accustomed . to . the . quaint . effect . with . which . the . footfalls . of . a . single . person , . while . he . is . still . a . great . way . off , . suddenly . spring . out . distinct . from . the . vast . hum . and . clatter . of . the . city . yet . his . attention . had . never . before . been . so . sharply . and . decisively . arrested ; . and . it . was . with . a . strong , . superstitious . prevision . of . success . that . he . withdrew . into . the . entry . of . the . court . . . the . steps . drew . swiftly . nearer , . and . swelled . out . suddenly . louder . as . they . turned . the . end . of . the . street . the . lawyer , . looking . forth . from . the . entry , . could . soon . see . what . manner . of . man . he . had . to . deal . with . he . was . small . and . very . plainly . dressed . and . the . look . of . him , . even . at . that . distance , . went . somehow . strongly . against . the . watcherâ\\x80\\x99s . inclination . but . he . made . straight . for . the . door , . crossing . the . roadway . to . save . time ; . and . as . he . came , . he . drew . a . key . from . his . pocket . like . one . approaching . home . . . mr . utterson . stepped . out . and . touched . him . on . the . shoulder . as . he . passed . . â\\x80\\x9cmr . hyde , . i . think ? â\\x80\\x9d . . mr . hyde . shrank . back . with . a . hissing . intake . of . the . breath . but . his . fear . was . only . momentary ; . and . though . he . did . not . look . the . lawyer . in . the . face , . he . answered . coolly . enough : . â\\x80\\x9cthat . is . my . name . what . do . you . want ? â\\x80\\x9d . . â\\x80\\x9ci . see . you . are . going . in , â\\x80\\x9d . returned . the . lawyer . â\\x80\\x9ci . am . an . old . friend . of . dr . jekyllâ\\x80\\x99sâ\\x80\\x94mr . utterson . of . gaunt . streetâ\\x80\\x94you . must . have . heard . of . my . name ; . and . meeting . you . so . conveniently , . i . thought . you . might . admit . me . â\\x80\\x9d . . â\\x80\\x9cyou . will . not . find . dr . jekyll ; . he . is . from . home , â\\x80\\x9d . replied . mr . hyde , . blowing . in . the . key . and . then . suddenly , . but . still . without . looking . up , . â\\x80\\x9chow . did . you . know . me ? â\\x80\\x9d . he . asked . . . â\\x80\\x9con . your . side , â\\x80\\x9d . said . mr . utterson . â\\x80\\x9cwill . you . do . me . a . favour ? â\\x80\\x9d . . â\\x80\\x9cwith . pleasure , â\\x80\\x9d . replied . the . other . â\\x80\\x9cwhat . shall . it . be ? â\\x80\\x9d . . â\\x80\\x9cwill . you . let . me . see . your . face ? â\\x80\\x9d . asked . the . lawyer . . . mr . hyde . appeared . to . hesitate , . and . then , . as . if . upon . some . sudden . reflection , . fronted . about . with . an . air . of . defiance ; . and . the . pair . stared . at . each . other . pretty . fixedly . for . a . few . seconds . â\\x80\\x9cnow . i . shall . know . you . again , â\\x80\\x9d . said . mr . utterson . â\\x80\\x9cit . may . be . useful . â\\x80\\x9d . . â\\x80\\x9cyes , â\\x80\\x9d . returned . mr . hyde , . â\\x80\\x9cit . is . as . well . we . have . met ; . and . _ ã . propos _ , . you . should . have . my . address . â\\x80\\x9d . and . he . gave . a . number . of . a . street . in . soho . . . â\\x80\\x9cgood . god ! â\\x80\\x9d . thought . mr . utterson , . â\\x80\\x9ccan . he , . too , . have . been . thinking . of . the . will ? â\\x80\\x9d . but . he . kept . his . feelings . to . himself . and . only . grunted . in . acknowledgment . of . the . address . . . â\\x80\\x9cand . now , â\\x80\\x9d . said . the . other , . â\\x80\\x9chow . did . you . know . me ? â\\x80\\x9d . . â\\x80\\x9cby . description , â\\x80\\x9d . was . the . reply . . . â\\x80\\x9cwhose . description ? â\\x80\\x9d . . â\\x80\\x9cwe . have . common . friends , â\\x80\\x9d . said . mr . utterson . . . â\\x80\\x9ccommon . friends , â\\x80\\x9d . echoed . mr . hyde , . a . little . hoarsely . â\\x80\\x9cwho . are . they ? â\\x80\\x9d . . â\\x80\\x9cjekyll , . for . instance , â\\x80\\x9d . said . the . lawyer . . . â\\x80\\x9che . never . told . you , â\\x80\\x9d . cried . mr . hyde , . with . a . flush . of . anger . â\\x80\\x9ci . did . not . think . you . would . have . lied . â\\x80\\x9d . . â\\x80\\x9ccome , â\\x80\\x9d . said . mr . utterson , . â\\x80\\x9cthat . is . not . fitting . language . â\\x80\\x9d . . the . other . snarled . aloud . into . a . savage . laugh ; . and . the . next . moment , . with . extraordinary . quickness , . he . had . unlocked . the . door . and . disappeared . into . the . house . . . the . lawyer . stood . awhile . when . mr . hyde . had . left . him , . the . picture . of . disquietude . then . he . began . slowly . to . mount . the . street , . pausing . every . step . or . two . and . putting . his . hand . to . his . brow . like . a . man . in . mental . perplexity . the . problem . he . was . thus . debating . as . he . walked , . was . one . of . a . class . that . is . rarely . solved . mr . hyde . was . pale . and . dwarfish , . he . gave . an . impression . of . deformity . without . any . nameable . malformation , . he . had . a . displeasing . smile , . he . had . borne . himself . to . the . lawyer . with . a . sort . of . murderous . mixture . of . timidity . and . boldness , . and . he . spoke . with . a . husky , . whispering . and . somewhat . broken . voice ; . all . these . were . points . against . him , . but . not . all . of . these . together . could . explain . the . hitherto . unknown . disgust , . loathing . and . fear . with . which . mr . utterson . regarded . him . â\\x80\\x9cthere . must . be . something . else , â\\x80\\x9d . said . the . perplexed . gentleman . â\\x80\\x9cthere . _ is _ . something . more , . if . i . could . find . a . name . for . it . god . bless . me , . the . man . seems . hardly . human ! . something . troglodytic , . shall . we . say ? . or . can . it . be . the . old . story . of . dr . fell ? . or . is . it . the . mere . radiance . of . a . foul . soul . that . thus . transpires . through , . and . transfigures , . its . clay . continent ? . the . last , . i . think ; . for , . o . my . poor . old . harry . jekyll , . if . ever . i . read . satanâ\\x80\\x99s . signature . upon . a . face , . it . is . on . that . of . your . new . friend . â\\x80\\x9d . . round . the . corner . from . the . by - street , . there . was . a . square . of . ancient , . handsome . houses , . now . for . the . most . part . decayed . from . their . high . estate . and . let . in . flats . and . chambers . to . all . sorts . and . conditions . of . men ; . map - engravers , . architects , . shady . lawyers . and . the . agents . of . obscure . enterprises . one . house , . however , . second . from . the . corner , . was . still . occupied . entire ; . and . at . the . door . of . this , . which . wore . a . great . air . of . wealth . and . comfort , . though . it . was . now . plunged . in . darkness . except . for . the . fanlight , . mr . utterson . stopped . and . knocked . a . well - dressed , . elderly . servant . opened . the . door . . . â\\x80\\x9cis . dr . jekyll . at . home , . poole ? â\\x80\\x9d . asked . the . lawyer . . . â\\x80\\x9ci . will . see , . mr . utterson , â\\x80\\x9d . said . poole , . admitting . the . visitor , . as . he . spoke , . into . a . large , . low - roofed , . comfortable . hall . paved . with . flags , . warmed . ( after . the . fashion . of . a . country . house ) . by . a . bright , . open . fire , . and . furnished . with . costly . cabinets . of . oak . â\\x80\\x9cwill . you . wait . here . by . the . fire , . sir ? . or . shall . i . give . you . a . light . in . the . dining - room ? â\\x80\\x9d . . â\\x80\\x9chere , . thank . you , â\\x80\\x9d . said . the . lawyer , . and . he . drew . near . and . leaned . on . the . tall . fender . this . hall , . in . which . he . was . now . left . alone , . was . a . pet . fancy . of . his . friend . the . doctorâ\\x80\\x99s ; . and . utterson . himself . was . wont . to . speak . of . it . as . the . pleasantest . room . in . london . but . tonight . there . was . a . shudder . in . his . blood ; . the . face . of . hyde . sat . heavy . on . his . memory ; . he . felt . ( what . was . rare . with . him ) . a . nausea . and . distaste . of . life ; . and . in . the . gloom . of . his . spirits , . he . seemed . to . read . a . menace . in . the . flickering . of . the . firelight . on . the . polished . cabinets . and . the . uneasy . starting . of . the . shadow . on . the . roof . he . was . ashamed . of . his . relief , . when . poole . presently . returned . to . announce . that . dr . jekyll . was . gone . out . . . â\\x80\\x9ci . saw . mr . hyde . go . in . by . the . old . dissecting . room , . poole , â\\x80\\x9d . he . said . â\\x80\\x9cis . that . right , . when . dr . jekyll . is . from . home ? â\\x80\\x9d . . â\\x80\\x9cquite . right , . mr . utterson , . sir , â\\x80\\x9d . replied . the . servant . â\\x80\\x9cmr . hyde . has . a . key . â\\x80\\x9d . . â\\x80\\x9cyour . master . seems . to . repose . a . great . deal . of . trust . in . that . young . man , . poole , â\\x80\\x9d . resumed . the . other . musingly . . . â\\x80\\x9cyes , . sir , . he . does . indeed , â\\x80\\x9d . said . poole . â\\x80\\x9cwe . have . all . orders . to . obey . him . â\\x80\\x9d . . â\\x80\\x9ci . do . not . think . i . ever . met . mr . hyde ? â\\x80\\x9d . asked . utterson . . . â\\x80\\x9co , . dear . no , . sir . he . never . _ dines _ . here , â\\x80\\x9d . replied . the . butler . â\\x80\\x9cindeed . we . see . very . little . of . him . on . this . side . of . the . house ; . he . mostly . comes . and . goes . by . the . laboratory . â\\x80\\x9d . . â\\x80\\x9cwell , . good - night , . poole . â\\x80\\x9d . . â\\x80\\x9cgood - night , . mr . utterson . â\\x80\\x9d . . and . the . lawyer . set . out . homeward . with . a . very . heavy . heart . â\\x80\\x9cpoor . harry . jekyll , â\\x80\\x9d . he . thought , . â\\x80\\x9cmy . mind . misgives . me . he . is . in . deep . waters ! . he . was . wild . when . he . was . young ; . a . long . while . ago . to . be . sure ; . but . in . the . law . of . god , . there . is . no . statute . of . limitations . ay , . it . must . be . that ; . the . ghost . of . some . old . sin , . the . cancer . of . some . concealed . disgrace : . punishment . coming , . _ pede . claudo _ , . years . after . memory . has . forgotten . and . self - love . condoned . the . fault . â\\x80\\x9d . and . the . lawyer , . scared . by . the . thought , . brooded . awhile . on . his . own . past , . groping . in . all . the . corners . of . memory , . least . by . chance . some . jack - in - the - box . of . an . old . iniquity . should . leap . to . light . there . his . past . was . fairly . blameless ; . few . men . could . read . the . rolls . of . their . life . with . less . apprehension ; . yet . he . was . humbled . to . the . dust . by . the . many . ill . things . he . had . done , . and . raised . up . again . into . a . sober . and . fearful . gratitude . by . the . many . he . had . come . so . near . to . doing . yet . avoided . . and . then . by . a . return . on . his . former . subject , . he . conceived . a . spark . of . hope . â\\x80\\x9cthis . master . hyde , . if . he . were . studied , â\\x80\\x9d . thought . he , . â\\x80\\x9cmust . have . secrets . of . his . own ; . black . secrets , . by . the . look . of . him ; . secrets . compared . to . which . poor . jekyllâ\\x80\\x99s . worst . would . be . like . sunshine . things . cannot . continue . as . they . are . it . turns . me . cold . to . think . of . this . creature . stealing . like . a . thief . to . harryâ\\x80\\x99s . bedside ; . poor . harry , . what . a . wakening ! . and . the . danger . of . it ; . for . if . this . hyde . suspects . the . existence . of . the . will , . he . may . grow . impatient . to . inherit . ay , . i . must . put . my . shoulders . to . the . wheelâ\\x80\\x94if . jekyll . will . but . let . me , â\\x80\\x9d . he . added , . â\\x80\\x9cif . jekyll . will . only . let . me . â\\x80\\x9d . for . once . more . he . saw . before . his . mindâ\\x80\\x99s . eye , . as . clear . as . transparency , . the . strange . clauses . of . the . will . . . . . dr . jekyll . was . quite . at . ease . . a . fortnight . later , . by . excellent . good . fortune , . the . doctor . gave . one . of . his . pleasant . dinners . to . some . five . or . six . old . cronies , . all . intelligent , . reputable . men . and . all . judges . of . good . wine ; . and . mr . utterson . so . contrived . that . he . remained . behind . after . the . others . had . departed . this . was . no . new . arrangement , . but . a . thing . that . had . befallen . many . scores . of . times . where . utterson . was . liked , . he . was . liked . well . hosts . loved . to . detain . the . dry . lawyer , . when . the . light - hearted . and . loose - tongued . had . already . their . foot . on . the . threshold ; . they . liked . to . sit . a . while . in . his . unobtrusive . company , . practising . for . solitude , . sobering . their . minds . in . the . manâ\\x80\\x99s . rich . silence . after . the . expense . and . strain . of . gaiety . to . this . rule , . dr . jekyll . was . no . exception ; . and . as . he . now . sat . on . the . opposite . side . of . the . fireâ\\x80\\x94a . large , . well - made , . smooth - faced . man . of . fifty , . with . something . of . a . slyish . cast . perhaps , . but . every . mark . of . capacity . and . kindnessâ\\x80\\x94you . could . see . by . his . looks . that . he . cherished . for . mr . utterson . a . sincere . and . warm . affection . . . â\\x80\\x9ci . have . been . wanting . to . speak . to . you , . jekyll , â\\x80\\x9d . began . the . latter . â\\x80\\x9cyou . know . that . will . of . yours ? â\\x80\\x9d . . a . close . observer . might . have . gathered . that . the . topic . was . distasteful ; . but . the . doctor . carried . it . off . gaily . â\\x80\\x9cmy . poor . utterson , â\\x80\\x9d . said . he , . â\\x80\\x9cyou . are . unfortunate . in . such . a . client . i . never . saw . a . man . so . distressed . as . you . were . by . my . will ; . unless . it . were . that . hide - bound . pedant , . lanyon , . at . what . he . called . my . scientific . heresies . o , . i . know . heâ\\x80\\x99s . a . good . fellowâ\\x80\\x94you . neednâ\\x80\\x99t . frownâ\\x80\\x94an . excellent . fellow , . and . i . always . mean . to . see . more . of . him ; . but . a . hide - bound . pedant . for . all . that ; . an . ignorant , . blatant . pedant . . i . was . never . more . disappointed . in . any . man . than . lanyon . â\\x80\\x9d . . â\\x80\\x9cyou . know . i . never . approved . of . it , â\\x80\\x9d . pursued . utterson , . ruthlessly . disregarding . the . fresh . topic . . . â\\x80\\x9cmy . will ? . yes , . certainly , . i . know . that , â\\x80\\x9d . said . the . doctor , . a . trifle . sharply . â\\x80\\x9cyou . have . told . me . so . â\\x80\\x9d . . â\\x80\\x9cwell , . i . tell . you . so . again , â\\x80\\x9d . continued . the . lawyer . â\\x80\\x9ci . have . been . learning . something . of . young . hyde . â\\x80\\x9d . . the . large . handsome . face . of . dr . jekyll . grew . pale . to . the . very . lips , . and . there . came . a . blackness . about . his . eyes . â\\x80\\x9ci . do . not . care . to . hear . more , â\\x80\\x9d . said . he . â\\x80\\x9cthis . is . a . matter . i . thought . we . had . agreed . to . drop . â\\x80\\x9d . . â\\x80\\x9cwhat . i . heard . was . abominable , â\\x80\\x9d . said . utterson . . . â\\x80\\x9cit . can . make . no . change . you . do . not . understand . my . position , â\\x80\\x9d . returned . the . doctor , . with . a . certain . incoherency . of . manner . â\\x80\\x9ci . am . painfully . situated , . utterson ; . my . position . is . a . very . strangeâ\\x80\\x94a . very . strange . one . . it . is . one . of . those . affairs . that . cannot . be . mended . by . talking . â\\x80\\x9d . . â\\x80\\x9cjekyll , â\\x80\\x9d . said . utterson , . â\\x80\\x9cyou . know . me : . i . am . a . man . to . be . trusted . make . a . clean . breast . of . this . in . confidence ; . and . i . make . no . doubt . i . can . get . you . out . of . it . â\\x80\\x9d . . â\\x80\\x9cmy . good . utterson , â\\x80\\x9d . said . the . doctor , . â\\x80\\x9cthis . is . very . good . of . you , . this . is . downright . good . of . you , . and . i . cannot . find . words . to . thank . you . in . i . believe . you . fully ; . i . would . trust . you . before . any . man . alive , . ay , . before . myself , . if . i . could . make . the . choice ; . but . indeed . it . isnâ\\x80\\x99t . what . you . fancy ; . it . is . not . as . bad . as . that ; . and . just . to . put . your . good . heart . at . rest , . i . will . tell . you . one . thing : . the . moment . i . choose , . i . can . be . rid . of . mr . hyde . . i . give . you . my . hand . upon . that ; . and . i . thank . you . again . and . again ; . and . i . will . just . add . one . little . word , . utterson , . that . iâ\\x80\\x99m . sure . youâ\\x80\\x99ll . take . in . good . part : . this . is . a . private . matter , . and . i . beg . of . you . to . let . it . sleep . â\\x80\\x9d . . utterson . reflected . a . little , . looking . in . the . fire . . . â\\x80\\x9ci . have . no . doubt . you . are . perfectly . right , â\\x80\\x9d . he . said . at . last , . getting . to . his . feet . . . â\\x80\\x9cwell , . but . since . we . have . touched . upon . this . business , . and . for . the . last . time . i . hope , â\\x80\\x9d . continued . the . doctor , . â\\x80\\x9cthere . is . one . point . i . should . like . you . to . understand . i . have . really . a . very . great . interest . in . poor . hyde . i . know . you . have . seen . him ; . he . told . me . so ; . and . i . fear . he . was . rude . but . i . do . sincerely . take . a . great , . a . very . great . interest . in . that . young . man ; . and . if . i . am . taken . away , . utterson , . i . wish . you . to . promise . me . that . you . will . bear . with . him . and . get . his . rights . for . him . i . think . you . would , . if . you . knew . all ; . and . it . would . be . a . weight . off . my . mind . if . you . would . promise . â\\x80\\x9d . . â\\x80\\x9ci . canâ\\x80\\x99t . pretend . that . i . shall . ever . like . him , â\\x80\\x9d . said . the . lawyer . . . â\\x80\\x9ci . donâ\\x80\\x99t . ask . that , â\\x80\\x9d . pleaded . jekyll , . laying . his . hand . upon . the . otherâ\\x80\\x99s . arm ; . â\\x80\\x9ci . only . ask . for . justice ; . i . only . ask . you . to . help . him . for . my . sake , . when . i . am . no . longer . here . â\\x80\\x9d . . utterson . heaved . an . irrepressible . sigh . â\\x80\\x9cwell , â\\x80\\x9d . said . he , . â\\x80\\x9ci . promise . â\\x80\\x9d . . . . the . carew . murder . case . . nearly . a . year . later , . in . the . month . of . october , . 18â\\x80\\x94 , . london . was . startled . by . a . crime . of . singular . ferocity . and . rendered . all . the . more . notable . by . the . high . position . of . the . victim . the . details . were . few . and . startling . a . maid . servant . living . alone . in . a . house . not . far . from . the . river , . had . gone . upstairs . to . bed . about . eleven . although . a . fog . rolled . over . the . city . in . the . small . hours , . the . early . part . of . the . night . was . cloudless , . and . the . lane , . which . the . maidâ\\x80\\x99s . window . overlooked , . was . brilliantly . lit . by . the . full . moon . it . seems . she . was . romantically . given , . for . she . sat . down . upon . her . box , . which . stood . immediately . under . the . window , . and . fell . into . a . dream . of . musing . never . ( she . used . to . say , . with . streaming . tears , . when . she . narrated . that . experience ) , . never . had . she . felt . more . at . peace . with . all . men . or . thought . more . kindly . of . the . world . and . as . she . so . sat . she . became . aware . of . an . aged . beautiful . gentleman . with . white . hair , . drawing . near . along . the . lane ; . and . advancing . to . meet . him , . another . and . very . small . gentleman , . to . whom . at . first . she . paid . less . attention . when . they . had . come . within . speech . ( which . was . just . under . the . maidâ\\x80\\x99s . eyes ) . the . older . man . bowed . and . accosted . the . other . with . a . very . pretty . manner . of . politeness . . it . did . not . seem . as . if . the . subject . of . his . address . were . of . great . importance ; . indeed , . from . his . pointing , . it . sometimes . appeared . as . if . he . were . only . inquiring . his . way ; . but . the . moon . shone . on . his . face . as . he . spoke , . and . the . girl . was . pleased . to . watch . it , . it . seemed . to . breathe . such . an . innocent . and . old - world . kindness . of . disposition , . yet . with . something . high . too , . as . of . a . well - founded . self - content . presently . her . eye . wandered . to . the . other , . and . she . was . surprised . to . recognise . in . him . a . certain . mr . . hyde , . who . had . once . visited . her . master . and . for . whom . she . had . conceived . a . dislike . he . had . in . his . hand . a . heavy . cane , . with . which . he . was . trifling ; . but . he . answered . never . a . word , . and . seemed . to . listen . with . an . ill - contained . impatience . and . then . all . of . a . sudden . he . broke . out . in . a . great . flame . of . anger , . stamping . with . his . foot , . brandishing . the . cane , . and . carrying . on . ( as . the . maid . described . it ) . like . a . madman . the . old . gentleman . took . a . step . back , . with . the . air . of . one . very . much . surprised . and . a . trifle . hurt ; . and . at . that . mr . hyde . broke . out . of . all . bounds . and . clubbed . him . to . the . earth . and . next . moment , . with . ape - like . fury , . he . was . trampling . his . victim . under . foot . and . hailing . down . a . storm . of . blows , . under . which . the . bones . were . audibly . shattered . and . the . body . jumped . upon . the . roadway . at . the . horror . of . these . sights . and . sounds , . the . maid . fainted . . . it . was . two . oâ\\x80\\x99clock . when . she . came . to . herself . and . called . for . the . police . . the . murderer . was . gone . long . ago ; . but . there . lay . his . victim . in . the . middle . of . the . lane , . incredibly . mangled . the . stick . with . which . the . deed . had . been . done , . although . it . was . of . some . rare . and . very . tough . and . heavy . wood , . had . broken . in . the . middle . under . the . stress . of . this . insensate . cruelty ; . and . one . splintered . half . had . rolled . in . the . neighbouring . gutterâ\\x80\\x94the . other , . without . doubt , . had . been . carried . away . by . the . murderer . a . purse . and . gold . watch . were . found . upon . the . victim : . but . no . cards . or . papers , . except . a . sealed . and . stamped . envelope , . which . he . had . been . probably . carrying . to . the . post , . and . which . bore . the . name . and . address . of . mr . utterson . . . this . was . brought . to . the . lawyer . the . next . morning , . before . he . was . out . of . bed ; . and . he . had . no . sooner . seen . it . and . been . told . the . circumstances , . than . he . shot . out . a . solemn . lip . â\\x80\\x9ci . shall . say . nothing . till . i . have . seen . the . body , â\\x80\\x9d . said . he ; . â\\x80\\x9cthis . may . be . very . serious . have . the . kindness . to . wait . while . i . dress . â\\x80\\x9d . and . with . the . same . grave . countenance . he . hurried . through . his . breakfast . and . drove . to . the . police . station , . whither . the . body . had . been . carried . as . soon . as . he . came . into . the . cell , . he . nodded . . . â\\x80\\x9cyes , â\\x80\\x9d . said . he , . â\\x80\\x9ci . recognise . him . i . am . sorry . to . say . that . this . is . sir . danvers . carew . â\\x80\\x9d . . â\\x80\\x9cgood . god , . sir , â\\x80\\x9d . exclaimed . the . officer , . â\\x80\\x9cis . it . possible ? â\\x80\\x9d . and . the . next . moment . his . eye . lighted . up . with . professional . ambition . â\\x80\\x9cthis . will . make . a . deal . of . noise , â\\x80\\x9d . he . said . â\\x80\\x9cand . perhaps . you . can . help . us . to . the . man . â\\x80\\x9d . and . he . briefly . narrated . what . the . maid . had . seen , . and . showed . the . broken . stick . . . mr . utterson . had . already . quailed . at . the . name . of . hyde ; . but . when . the . stick . was . laid . before . him , . he . could . doubt . no . longer ; . broken . and . battered . as . it . was , . he . recognised . it . for . one . that . he . had . himself . presented . many . years . before . to . henry . jekyll . . . â\\x80\\x9cis . this . mr . hyde . a . person . of . small . stature ? â\\x80\\x9d . he . inquired . . . â\\x80\\x9cparticularly . small . and . particularly . wicked - looking , . is . what . the . maid . calls . him , â\\x80\\x9d . said . the . officer . . . mr . utterson . reflected ; . and . then , . raising . his . head , . â\\x80\\x9cif . you . will . come . with . me . in . my . cab , â\\x80\\x9d . he . said , . â\\x80\\x9ci . think . i . can . take . you . to . his . house . â\\x80\\x9d . . it . was . by . this . time . about . nine . in . the . morning , . and . the . first . fog . of . the . season . a . great . chocolate - coloured . pall . lowered . over . heaven , . but . the . wind . was . continually . charging . and . routing . these . embattled . vapours ; . so . that . as . the . cab . crawled . from . street . to . street , . mr . utterson . beheld . a . marvelous . number . of . degrees . and . hues . of . twilight ; . for . here . it . would . be . dark . like . the . back - end . of . evening ; . and . there . would . be . a . glow . of . a . rich , . lurid . brown , . like . the . light . of . some . strange . conflagration ; . and . here , . for . a . moment , . the . fog . would . be . quite . broken . up , . and . a . haggard . shaft . of . daylight . would . glance . in . between . the . swirling . wreaths . the . dismal . quarter . of . soho . seen . under . these . changing . glimpses , . with . its . muddy . ways , . and . slatternly . passengers , . and . its . lamps , . which . had . never . been . extinguished . or . had . been . kindled . afresh . to . combat . this . mournful . reinvasion . of . darkness , . seemed , . in . the . lawyerâ\\x80\\x99s . eyes , . like . a . district . of . some . city . in . a . nightmare . the . thoughts . of . his . mind , . besides , . were . of . the . gloomiest . dye ; . and . when . he . glanced . at . the . companion . of . his . drive , . he . was . conscious . of . some . touch . of . that . terror . of . the . law . and . the . lawâ\\x80\\x99s . officers , . which . may . at . times . assail . the . most . honest . . . as . the . cab . drew . up . before . the . address . indicated , . the . fog . lifted . a . little . and . showed . him . a . dingy . street , . a . gin . palace , . a . low . french . eating . house , . a . shop . for . the . retail . of . penny . numbers . and . twopenny . salads , . many . ragged . children . huddled . in . the . doorways , . and . many . women . of . many . different . nationalities . passing . out , . key . in . hand , . to . have . a . morning . glass ; . and . the . next . moment . the . fog . settled . down . again . upon . that . part , . as . brown . as . umber , . and . cut . him . off . from . his . blackguardly . surroundings . . this . was . the . home . of . henry . jekyllâ\\x80\\x99s . favourite ; . of . a . man . who . was . heir . to . a . quarter . of . a . million . sterling . . . an . ivory - faced . and . silvery - haired . old . woman . opened . the . door . she . had . an . evil . face , . smoothed . by . hypocrisy : . but . her . manners . were . excellent . yes , . she . said , . this . was . mr . hydeâ\\x80\\x99s , . but . he . was . not . at . home ; . he . had . been . in . that . night . very . late , . but . he . had . gone . away . again . in . less . than . an . hour ; . there . was . nothing . strange . in . that ; . his . habits . were . very . irregular , . and . he . was . often . absent ; . for . instance , . it . was . nearly . two . months . since . she . had . seen . him . till . yesterday . . . â\\x80\\x9cvery . well , . then , . we . wish . to . see . his . rooms , â\\x80\\x9d . said . the . lawyer ; . and . when . the . woman . began . to . declare . it . was . impossible , . â\\x80\\x9ci . had . better . tell . you . who . this . person . is , â\\x80\\x9d . he . added . â\\x80\\x9cthis . is . inspector . newcomen . of . scotland . yard . â\\x80\\x9d . . a . flash . of . odious . joy . appeared . upon . the . womanâ\\x80\\x99s . face . â\\x80\\x9cah ! â\\x80\\x9d . said . she , . â\\x80\\x9che . is . in . trouble ! . what . has . he . done ? â\\x80\\x9d . . mr . utterson . and . the . inspector . exchanged . glances . â\\x80\\x9che . donâ\\x80\\x99t . seem . a . very . popular . character , â\\x80\\x9d . observed . the . latter . â\\x80\\x9cand . now , . my . good . woman , . just . let . me . and . this . gentleman . have . a . look . about . us . â\\x80\\x9d . . in . the . whole . extent . of . the . house , . which . but . for . the . old . woman . remained . otherwise . empty , . mr . hyde . had . only . used . a . couple . of . rooms ; . but . these . were . furnished . with . luxury . and . good . taste . a . closet . was . filled . with . wine ; . the . plate . was . of . silver , . the . napery . elegant ; . a . good . picture . hung . upon . the . walls , . a . gift . ( as . utterson . supposed ) . from . henry . jekyll , . who . was . much . of . a . connoisseur ; . and . the . carpets . were . of . many . plies . and . agreeable . in . colour . at . this . moment , . however , . the . rooms . bore . every . mark . of . having . been . recently . and . hurriedly . ransacked ; . clothes . lay . about . the . floor , . with . their . pockets . inside . out ; . lock - fast . drawers . stood . open ; . and . on . the . hearth . there . lay . a . pile . of . grey . ashes , . as . though . many . papers . had . been . burned . from . these . embers . the . inspector . disinterred . the . butt . end . of . a . green . cheque . book , . which . had . resisted . the . action . of . the . fire ; . the . other . half . of . the . stick . was . found . behind . the . door ; . and . as . this . clinched . his . suspicions , . the . officer . declared . himself . delighted . a . visit . to . the . bank , . where . several . thousand . pounds . were . found . to . be . lying . to . the . murdererâ\\x80\\x99s . credit , . completed . his . gratification . . . â\\x80\\x9cyou . may . depend . upon . it , . sir , â\\x80\\x9d . he . told . mr . utterson : . â\\x80\\x9ci . have . him . in . my . hand . he . must . have . lost . his . head , . or . he . never . would . have . left . the . stick . or , . above . all , . burned . the . cheque . book . why , . moneyâ\\x80\\x99s . life . to . the . man . we . have . nothing . to . do . but . wait . for . him . at . the . bank , . and . get . out . the . handbills . â\\x80\\x9d . . this . last , . however , . was . not . so . easy . of . accomplishment ; . for . mr . hyde . had . numbered . few . familiarsâ\\x80\\x94even . the . master . of . the . servant . maid . had . only . seen . him . twice ; . his . family . could . nowhere . be . traced ; . he . had . never . been . photographed ; . and . the . few . who . could . describe . him . differed . widely , . as . common . observers . will . only . on . one . point . were . they . agreed ; . and . that . was . the . haunting . sense . of . unexpressed . deformity . with . which . the . fugitive . impressed . his . beholders . . . . . incident . of . the . letter . . it . was . late . in . the . afternoon , . when . mr . utterson . found . his . way . to . dr . . jekyllâ\\x80\\x99s . door , . where . he . was . at . once . admitted . by . poole , . and . carried . down . by . the . kitchen . offices . and . across . a . yard . which . had . once . been . a . garden , . to . the . building . which . was . indifferently . known . as . the . laboratory . or . dissecting . rooms . the . doctor . had . bought . the . house . from . the . heirs . of . a . celebrated . surgeon ; . and . his . own . tastes . being . rather . chemical . than . anatomical , . had . changed . the . destination . of . the . block . at . the . bottom . of . the . garden . it . was . the . first . time . that . the . lawyer . had . been . received . in . that . part . of . his . friendâ\\x80\\x99s . quarters ; . and . he . eyed . the . dingy , . windowless . structure . with . curiosity , . and . gazed . round . with . a . distasteful . sense . of . strangeness . as . he . crossed . the . theatre , . once . crowded . with . eager . students . and . now . lying . gaunt . and . silent , . the . tables . laden . with . chemical . apparatus , . the . floor . strewn . with . crates . and . littered . with . packing . straw , . and . the . light . falling . dimly . through . the . foggy . cupola . at . the . further . end , . a . flight . of . stairs . mounted . to . a . door . covered . with . red . baize ; . and . through . this , . mr . utterson . was . at . last . received . into . the . doctorâ\\x80\\x99s . cabinet . it . was . a . large . room . fitted . round . with . glass . presses , . furnished , . among . other . things , . with . a . cheval - glass . and . a . business . table , . and . looking . out . upon . the . court . by . three . dusty . windows . barred . with . iron . the . fire . burned . in . the . grate ; . a . lamp . was . set . lighted . on . the . chimney . shelf , . for . even . in . the . houses . the . fog . began . to . lie . thickly ; . and . there , . close . up . to . the . warmth , . sat . dr . jekyll , . looking . deathly . sick . he . did . not . rise . to . meet . his . visitor , . but . held . out . a . cold . hand . and . bade . him . welcome . in . a . changed . voice . . . â\\x80\\x9cand . now , â\\x80\\x9d . said . mr . utterson , . as . soon . as . poole . had . left . them , . â\\x80\\x9cyou . have . heard . the . news ? â\\x80\\x9d . . the . doctor . shuddered . â\\x80\\x9cthey . were . crying . it . in . the . square , â\\x80\\x9d . he . said . â\\x80\\x9ci . heard . them . in . my . dining - room . â\\x80\\x9d . . â\\x80\\x9cone . word , â\\x80\\x9d . said . the . lawyer . â\\x80\\x9ccarew . was . my . client , . but . so . are . you , . and . i . want . to . know . what . i . am . doing . you . have . not . been . mad . enough . to . hide . this . fellow ? â\\x80\\x9d . . â\\x80\\x9cutterson , . i . swear . to . god , â\\x80\\x9d . cried . the . doctor , . â\\x80\\x9ci . swear . to . god . i . will . never . set . eyes . on . him . again . i . bind . my . honour . to . you . that . i . am . done . with . him . in . this . world . it . is . all . at . an . end . and . indeed . he . does . not . want . my . help ; . you . do . not . know . him . as . i . do ; . he . is . safe , . he . is . quite . safe ; . mark . my . words , . he . will . never . more . be . heard . of . â\\x80\\x9d . . the . lawyer . listened . gloomily ; . he . did . not . like . his . friendâ\\x80\\x99s . feverish . manner . â\\x80\\x9cyou . seem . pretty . sure . of . him , â\\x80\\x9d . said . he ; . â\\x80\\x9cand . for . your . sake , . i . hope . you . may . be . right . if . it . came . to . a . trial , . your . name . might . appear . â\\x80\\x9d . . â\\x80\\x9ci . am . quite . sure . of . him , â\\x80\\x9d . replied . jekyll ; . â\\x80\\x9ci . have . grounds . for . certainty . that . i . cannot . share . with . any . one . but . there . is . one . thing . on . which . you . may . advise . me . i . haveâ\\x80\\x94i . have . received . a . letter ; . and . i . am . at . a . loss . whether . i . should . show . it . to . the . police . i . should . like . to . leave . it . in . your . hands , . utterson ; . you . would . judge . wisely , . i . am . sure ; . i . have . so . great . a . trust . in . you . â\\x80\\x9d . . â\\x80\\x9cyou . fear , . i . suppose , . that . it . might . lead . to . his . detection ? â\\x80\\x9d . asked . the . lawyer . . . â\\x80\\x9cno , â\\x80\\x9d . said . the . other . â\\x80\\x9ci . cannot . say . that . i . care . what . becomes . of . hyde ; . i . am . quite . done . with . him . i . was . thinking . of . my . own . character , . which . this . hateful . business . has . rather . exposed . â\\x80\\x9d . . utterson . ruminated . awhile ; . he . was . surprised . at . his . friendâ\\x80\\x99s . selfishness , . and . yet . relieved . by . it . â\\x80\\x9cwell , â\\x80\\x9d . said . he , . at . last , . â\\x80\\x9clet . me . see . the . letter . â\\x80\\x9d . . the . letter . was . written . in . an . odd , . upright . hand . and . signed . â\\x80\\x9cedward . hydeâ\\x80\\x9d : . and . it . signified , . briefly . enough , . that . the . writerâ\\x80\\x99s . benefactor , . dr . jekyll , . whom . he . had . long . so . unworthily . repaid . for . a . thousand . generosities , . need . labour . under . no . alarm . for . his . safety , . as . he . had . means . of . escape . on . which . he . placed . a . sure . dependence . the . lawyer . liked . this . letter . well . enough ; . it . put . a . better . colour . on . the . intimacy . than . he . had . looked . for ; . and . he . blamed . himself . for . some . of . his . past . suspicions . . . â\\x80\\x9chave . you . the . envelope ? â\\x80\\x9d . he . asked . . . â\\x80\\x9ci . burned . it , â\\x80\\x9d . replied . jekyll , . â\\x80\\x9cbefore . i . thought . what . i . was . about . but . it . bore . no . postmark . the . note . was . handed . in . â\\x80\\x9d . . â\\x80\\x9cshall . i . keep . this . and . sleep . upon . it ? â\\x80\\x9d . asked . utterson . . . â\\x80\\x9ci . wish . you . to . judge . for . me . entirely , â\\x80\\x9d . was . the . reply . â\\x80\\x9ci . have . lost . confidence . in . myself . â\\x80\\x9d . . â\\x80\\x9cwell , . i . shall . consider , â\\x80\\x9d . returned . the . lawyer . â\\x80\\x9cand . now . one . word . more : . it . was . hyde . who . dictated . the . terms . in . your . will . about . that . disappearance ? â\\x80\\x9d . . the . doctor . seemed . seized . with . a . qualm . of . faintness ; . he . shut . his . mouth . tight . and . nodded . . . â\\x80\\x9ci . knew . it , â\\x80\\x9d . said . utterson . â\\x80\\x9che . meant . to . murder . you . you . had . a . fine . escape . â\\x80\\x9d . . â\\x80\\x9ci . have . had . what . is . far . more . to . the . purpose , â\\x80\\x9d . returned . the . doctor . solemnly : . â\\x80\\x9ci . have . had . a . lessonâ\\x80\\x94o . god , . utterson , . what . a . lesson . i . have . had ! â\\x80\\x9d . and . he . covered . his . face . for . a . moment . with . his . hands . . . on . his . way . out , . the . lawyer . stopped . and . had . a . word . or . two . with . poole . . â\\x80\\x9cby . the . bye , â\\x80\\x9d . said . he , . â\\x80\\x9cthere . was . a . letter . handed . in . to - day : . what . was . the . messenger . like ? â\\x80\\x9d . but . poole . was . positive . nothing . had . come . except . by . post ; . â\\x80\\x9cand . only . circulars . by . that , â\\x80\\x9d . he . added . . . this . news . sent . off . the . visitor . with . his . fears . renewed . plainly . the . letter . had . come . by . the . laboratory . door ; . possibly , . indeed , . it . had . been . written . in . the . cabinet ; . and . if . that . were . so , . it . must . be . differently . judged , . and . handled . with . the . more . caution . the . newsboys , . as . he . went , . were . crying . themselves . hoarse . along . the . footways : . â\\x80\\x9cspecial . edition . . shocking . murder . of . an . m . p . â\\x80\\x9d . that . was . the . funeral . oration . of . one . friend . and . client ; . and . he . could . not . help . a . certain . apprehension . lest . the . good . name . of . another . should . be . sucked . down . in . the . eddy . of . the . scandal . it . was , . at . least , . a . ticklish . decision . that . he . had . to . make ; . and . self - reliant . as . he . was . by . habit , . he . began . to . cherish . a . longing . for . advice . it . was . not . to . be . had . directly ; . but . perhaps , . he . thought , . it . might . be . fished . for . . . presently . after , . he . sat . on . one . side . of . his . own . hearth , . with . mr . guest , . his . head . clerk , . upon . the . other , . and . midway . between , . at . a . nicely . calculated . distance . from . the . fire , . a . bottle . of . a . particular . old . wine . that . had . long . dwelt . unsunned . in . the . foundations . of . his . house . the . fog . still . slept . on . the . wing . above . the . drowned . city , . where . the . lamps . glimmered . like . carbuncles ; . and . through . the . muffle . and . smother . of . these . fallen . clouds , . the . procession . of . the . townâ\\x80\\x99s . life . was . still . rolling . in . through . the . great . arteries . with . a . sound . as . of . a . mighty . wind . but . the . room . was . gay . with . firelight . in . the . bottle . the . acids . were . long . ago . resolved ; . the . imperial . dye . had . softened . with . time , . as . the . colour . grows . richer . in . stained . windows ; . and . the . glow . of . hot . autumn . afternoons . on . hillside . vineyards , . was . ready . to . be . set . free . and . to . disperse . the . fogs . of . london . insensibly . the . lawyer . melted . there . was . no . man . from . whom . he . kept . fewer . secrets . than . mr . guest ; . and . he . was . not . always . sure . that . he . kept . as . many . as . he . meant . guest . had . often . been . on . business . to . the . doctorâ\\x80\\x99s ; . he . knew . poole ; . he . could . scarce . have . failed . to . hear . of . mr . . hydeâ\\x80\\x99s . familiarity . about . the . house ; . he . might . draw . conclusions : . was . it . not . as . well , . then , . that . he . should . see . a . letter . which . put . that . mystery . to . right ? . and . above . all . since . guest , . being . a . great . student . and . critic . of . handwriting , . would . consider . the . step . natural . and . obliging ? . the . clerk , . besides , . was . a . man . of . counsel ; . he . could . scarce . read . so . strange . a . document . without . dropping . a . remark ; . and . by . that . remark . mr . utterson . might . shape . his . future . course . . . â\\x80\\x9cthis . is . a . sad . business . about . sir . danvers , â\\x80\\x9d . he . said . . . â\\x80\\x9cyes , . sir , . indeed . it . has . elicited . a . great . deal . of . public . feeling , â\\x80\\x9d . returned . guest . â\\x80\\x9cthe . man , . of . course , . was . mad . â\\x80\\x9d . . â\\x80\\x9ci . should . like . to . hear . your . views . on . that , â\\x80\\x9d . replied . utterson . â\\x80\\x9ci . have . a . document . here . in . his . handwriting ; . it . is . between . ourselves , . for . i . scarce . know . what . to . do . about . it ; . it . is . an . ugly . business . at . the . best . but . there . it . is ; . quite . in . your . way : . a . murdererâ\\x80\\x99s . autograph . â\\x80\\x9d . . guestâ\\x80\\x99s . eyes . brightened , . and . he . sat . down . at . once . and . studied . it . with . passion . â\\x80\\x9cno . sir , â\\x80\\x9d . he . said : . â\\x80\\x9cnot . mad ; . but . it . is . an . odd . hand . â\\x80\\x9d . . â\\x80\\x9cand . by . all . accounts . a . very . odd . writer , â\\x80\\x9d . added . the . lawyer . . . just . then . the . servant . entered . with . a . note . . . â\\x80\\x9cis . that . from . dr . jekyll , . sir ? â\\x80\\x9d . inquired . the . clerk . â\\x80\\x9ci . thought . i . knew . the . writing . anything . private , . mr . utterson ? â\\x80\\x9d . . â\\x80\\x9conly . an . invitation . to . dinner . why ? . do . you . want . to . see . it ? â\\x80\\x9d . . â\\x80\\x9cone . moment . i . thank . you , . sir ; â\\x80\\x9d . and . the . clerk . laid . the . two . sheets . of . paper . alongside . and . sedulously . compared . their . contents . â\\x80\\x9cthank . you , . sir , â\\x80\\x9d . he . said . at . last , . returning . both ; . â\\x80\\x9citâ\\x80\\x99s . a . very . interesting . autograph . â\\x80\\x9d . . there . was . a . pause , . during . which . mr . utterson . struggled . with . himself . . â\\x80\\x9cwhy . did . you . compare . them , . guest ? â\\x80\\x9d . he . inquired . suddenly . . . â\\x80\\x9cwell , . sir , â\\x80\\x9d . returned . the . clerk , . â\\x80\\x9cthereâ\\x80\\x99s . a . rather . singular . resemblance ; . the . two . hands . are . in . many . points . identical : . only . differently . sloped . â\\x80\\x9d . . â\\x80\\x9crather . quaint , â\\x80\\x9d . said . utterson . . . â\\x80\\x9cit . is , . as . you . say , . rather . quaint , â\\x80\\x9d . returned . guest . . . â\\x80\\x9ci . wouldnâ\\x80\\x99t . speak . of . this . note , . you . know , â\\x80\\x9d . said . the . master . . . â\\x80\\x9cno , . sir , â\\x80\\x9d . said . the . clerk . â\\x80\\x9ci . understand . â\\x80\\x9d . . but . no . sooner . was . mr . utterson . alone . that . night , . than . he . locked . the . note . into . his . safe , . where . it . reposed . from . that . time . forward . â\\x80\\x9cwhat ! â\\x80\\x9d . he . thought . â\\x80\\x9chenry . jekyll . forge . for . a . murderer ! â\\x80\\x9d . and . his . blood . ran . cold . in . his . veins . . . . . incident . of . dr . lanyon . . time . ran . on ; . thousands . of . pounds . were . offered . in . reward , . for . the . death . of . sir . danvers . was . resented . as . a . public . injury ; . but . mr . hyde . had . disappeared . out . of . the . ken . of . the . police . as . though . he . had . never . existed . much . of . his . past . was . unearthed , . indeed , . and . all . disreputable : . tales . came . out . of . the . manâ\\x80\\x99s . cruelty , . at . once . so . callous . and . violent ; . of . his . vile . life , . of . his . strange . associates , . of . the . hatred . that . seemed . to . have . surrounded . his . career ; . but . of . his . present . whereabouts , . not . a . whisper . from . the . time . he . had . left . the . house . in . soho . on . the . morning . of . the . murder , . he . was . simply . blotted . out ; . and . gradually , . as . time . drew . on , . mr . utterson . began . to . recover . from . the . hotness . of . his . alarm , . and . to . grow . more . at . quiet . with . himself . the . death . of . sir . danvers . was , . to . his . way . of . thinking , . more . than . paid . for . by . the . disappearance . of . mr . hyde . . now . that . that . evil . influence . had . been . withdrawn , . a . new . life . began . for . dr . jekyll . he . came . out . of . his . seclusion , . renewed . relations . with . his . friends , . became . once . more . their . familiar . guest . and . entertainer ; . and . whilst . he . had . always . been . known . for . charities , . he . was . now . no . less . distinguished . for . religion . he . was . busy , . he . was . much . in . the . open . air , . he . did . good ; . his . face . seemed . to . open . and . brighten , . as . if . with . an . inward . consciousness . of . service ; . and . for . more . than . two . months , . the . doctor . was . at . peace . . . on . the . 8th . of . january . utterson . had . dined . at . the . doctorâ\\x80\\x99s . with . a . small . party ; . lanyon . had . been . there ; . and . the . face . of . the . host . had . looked . from . one . to . the . other . as . in . the . old . days . when . the . trio . were . inseparable . friends . on . the . 12th , . and . again . on . the . 14th , . the . door . was . shut . against . the . lawyer . â\\x80\\x9cthe . doctor . was . confined . to . the . house , â\\x80\\x9d . poole . said , . â\\x80\\x9cand . saw . no . one . â\\x80\\x9d . on . the . 15th , . he . tried . again , . and . was . again . refused ; . and . having . now . been . used . for . the . last . two . months . to . see . his . friend . almost . daily , . he . found . this . return . of . solitude . to . weigh . upon . his . spirits . the . fifth . night . he . had . in . guest . to . dine . with . him ; . and . the . sixth . he . betook . himself . to . dr . lanyonâ\\x80\\x99s . . . there . at . least . he . was . not . denied . admittance ; . but . when . he . came . in , . he . was . shocked . at . the . change . which . had . taken . place . in . the . doctorâ\\x80\\x99s . appearance . he . had . his . death - warrant . written . legibly . upon . his . face . the . rosy . man . had . grown . pale ; . his . flesh . had . fallen . away ; . he . was . visibly . balder . and . older ; . and . yet . it . was . not . so . much . these . tokens . of . a . swift . physical . decay . that . arrested . the . lawyerâ\\x80\\x99s . notice , . as . a . look . in . the . eye . and . quality . of . manner . that . seemed . to . testify . to . some . deep - seated . terror . of . the . mind . it . was . unlikely . that . the . doctor . should . fear . death ; . and . yet . that . was . what . utterson . was . tempted . to . suspect . â\\x80\\x9cyes , â\\x80\\x9d . he . thought ; . â\\x80\\x9che . is . a . doctor , . he . must . know . his . own . state . and . that . his . days . are . counted ; . and . the . knowledge . is . more . than . he . can . bear . â\\x80\\x9d . and . yet . when . utterson . remarked . on . his . ill . looks , . it . was . with . an . air . of . great . firmness . that . lanyon . declared . himself . a . doomed . man . . . â\\x80\\x9ci . have . had . a . shock , â\\x80\\x9d . he . said , . â\\x80\\x9cand . i . shall . never . recover . it . is . a . question . of . weeks . well , . life . has . been . pleasant ; . i . liked . it ; . yes , . sir , . i . used . to . like . it . i . sometimes . think . if . we . knew . all , . we . should . be . more . glad . to . get . away . â\\x80\\x9d . . â\\x80\\x9cjekyll . is . ill , . too , â\\x80\\x9d . observed . utterson . â\\x80\\x9chave . you . seen . him ? â\\x80\\x9d . . but . lanyonâ\\x80\\x99s . face . changed , . and . he . held . up . a . trembling . hand . â\\x80\\x9ci . wish . to . see . or . hear . no . more . of . dr . jekyll , â\\x80\\x9d . he . said . in . a . loud , . unsteady . voice . . â\\x80\\x9ci . am . quite . done . with . that . person ; . and . i . beg . that . you . will . spare . me . any . allusion . to . one . whom . i . regard . as . dead . â\\x80\\x9d . . â\\x80\\x9ctut , . tut ! â\\x80\\x9d . said . mr . utterson ; . and . then . after . a . considerable . pause , . â\\x80\\x9ccanâ\\x80\\x99t . i . do . anything ? â\\x80\\x9d . he . inquired . â\\x80\\x9cwe . are . three . very . old . friends , . lanyon ; . we . shall . not . live . to . make . others . â\\x80\\x9d . . â\\x80\\x9cnothing . can . be . done , â\\x80\\x9d . returned . lanyon ; . â\\x80\\x9cask . himself . â\\x80\\x9d . . â\\x80\\x9che . will . not . see . me , â\\x80\\x9d . said . the . lawyer . . . â\\x80\\x9ci . am . not . surprised . at . that , â\\x80\\x9d . was . the . reply . â\\x80\\x9csome . day , . utterson , . after . i . am . dead , . you . may . perhaps . come . to . learn . the . right . and . wrong . of . this . i . cannot . tell . you . and . in . the . meantime , . if . you . can . sit . and . talk . with . me . of . other . things , . for . godâ\\x80\\x99s . sake , . stay . and . do . so ; . but . if . you . cannot . keep . clear . of . this . accursed . topic , . then . in . godâ\\x80\\x99s . name , . go , . for . i . cannot . bear . it . â\\x80\\x9d . . as . soon . as . he . got . home , . utterson . sat . down . and . wrote . to . jekyll , . complaining . of . his . exclusion . from . the . house , . and . asking . the . cause . of . this . unhappy . break . with . lanyon ; . and . the . next . day . brought . him . a . long . answer , . often . very . pathetically . worded , . and . sometimes . darkly . mysterious . in . drift . the . quarrel . with . lanyon . was . incurable . â\\x80\\x9ci . do . not . blame . our . old . friend , â\\x80\\x9d . jekyll . wrote , . â\\x80\\x9cbut . i . share . his . view . that . we . must . never . meet . i . mean . from . henceforth . to . lead . a . life . of . extreme . seclusion ; . you . must . not . be . surprised , . nor . must . you . doubt . my . friendship , . if . my . door . is . often . shut . even . to . you . you . must . suffer . me . to . go . my . own . dark . way . i . have . brought . on . myself . a . punishment . and . a . danger . that . i . cannot . name . if . i . am . the . chief . of . sinners , . i . am . the . chief . of . sufferers . also . i . could . not . think . that . this . earth . contained . a . place . for . sufferings . and . terrors . so . unmanning ; . and . you . can . do . but . one . thing , . utterson , . to . lighten . this . destiny , . and . that . is . to . respect . my . silence . â\\x80\\x9d . utterson . was . amazed ; . the . dark . influence . of . hyde . had . been . withdrawn , . the . doctor . had . returned . to . his . old . tasks . and . amities ; . a . week . ago , . the . prospect . had . smiled . with . every . promise . of . a . cheerful . and . an . honoured . age ; . and . now . in . a . moment , . friendship , . and . peace . of . mind , . and . the . whole . tenor . of . his . life . were . wrecked . so . great . and . unprepared . a . change . pointed . to . madness ; . but . in . view . of . lanyonâ\\x80\\x99s . manner . and . words , . there . must . lie . for . it . some . deeper . ground . . . a . week . afterwards . dr . lanyon . took . to . his . bed , . and . in . something . less . than . a . fortnight . he . was . dead . the . night . after . the . funeral , . at . which . he . had . been . sadly . affected , . utterson . locked . the . door . of . his . business . room , . and . sitting . there . by . the . light . of . a . melancholy . candle , . drew . out . and . set . before . him . an . envelope . addressed . by . the . hand . and . sealed . with . the . seal . of . his . dead . friend . â\\x80\\x9cprivate : . for . the . hands . of . g . j . utterson . alone , . and . in . case . of . his . predecease . _ to . be . destroyed . unread _ , â\\x80\\x9d . so . it . was . emphatically . superscribed ; . and . the . lawyer . dreaded . to . behold . the . contents . â\\x80\\x9ci . have . buried . one . friend . to - day , â\\x80\\x9d . he . thought : . â\\x80\\x9cwhat . if . this . should . cost . me . another ? â\\x80\\x9d . and . then . he . condemned . the . fear . as . a . disloyalty , . and . broke . the . seal . within . there . was . another . enclosure , . likewise . sealed , . and . marked . upon . the . cover . as . â\\x80\\x9cnot . to . be . opened . till . the . death . or . disappearance . of . dr . henry . jekyll . â\\x80\\x9d . utterson . could . not . trust . his . eyes . yes , . it . was . disappearance ; . here . again , . as . in . the . mad . will . which . he . had . long . ago . restored . to . its . author , . here . again . were . the . idea . of . a . disappearance . and . the . name . of . henry . jekyll . bracketted . but . in . the . will , . that . idea . had . sprung . from . the . sinister . suggestion . of . the . man . hyde ; . it . was . set . there . with . a . purpose . all . too . plain . and . horrible . . written . by . the . hand . of . lanyon , . what . should . it . mean ? . a . great . curiosity . came . on . the . trustee , . to . disregard . the . prohibition . and . dive . at . once . to . the . bottom . of . these . mysteries ; . but . professional . honour . and . faith . to . his . dead . friend . were . stringent . obligations ; . and . the . packet . slept . in . the . inmost . corner . of . his . private . safe . . . it . is . one . thing . to . mortify . curiosity , . another . to . conquer . it ; . and . it . may . be . doubted . if , . from . that . day . forth , . utterson . desired . the . society . of . his . surviving . friend . with . the . same . eagerness . he . thought . of . him . kindly ; . but . his . thoughts . were . disquieted . and . fearful . he . went . to . call . indeed ; . but . he . was . perhaps . relieved . to . be . denied . admittance ; . perhaps , . in . his . heart , . he . preferred . to . speak . with . poole . upon . the . doorstep . and . surrounded . by . the . air . and . sounds . of . the . open . city , . rather . than . to . be . admitted . into . that . house . of . voluntary . bondage , . and . to . sit . and . speak . with . its . inscrutable . recluse . poole . had , . indeed , . no . very . pleasant . news . to . communicate . the . doctor , . it . appeared , . now . more . than . ever . confined . himself . to . the . cabinet . over . the . laboratory , . where . he . would . sometimes . even . sleep ; . he . was . out . of . spirits , . he . had . grown . very . silent , . he . did . not . read ; . it . seemed . as . if . he . had . something . on . his . mind . utterson . became . so . used . to . the . unvarying . character . of . these . reports , . that . he . fell . off . little . by . little . in . the . frequency . of . his . visits . . . . . incident . at . the . window . . it . chanced . on . sunday , . when . mr . utterson . was . on . his . usual . walk . with . mr . . enfield , . that . their . way . lay . once . again . through . the . by - street ; . and . that . when . they . came . in . front . of . the . door , . both . stopped . to . gaze . on . it . . . â\\x80\\x9cwell , â\\x80\\x9d . said . enfield , . â\\x80\\x9cthat . storyâ\\x80\\x99s . at . an . end . at . least . we . shall . never . see . more . of . mr . hyde . â\\x80\\x9d . . â\\x80\\x9ci . hope . not , â\\x80\\x9d . said . utterson . â\\x80\\x9cdid . i . ever . tell . you . that . i . once . saw . him , . and . shared . your . feeling . of . repulsion ? â\\x80\\x9d . . â\\x80\\x9cit . was . impossible . to . do . the . one . without . the . other , â\\x80\\x9d . returned . enfield . . â\\x80\\x9cand . by . the . way , . what . an . ass . you . must . have . thought . me , . not . to . know . that . this . was . a . back . way . to . dr . jekyllâ\\x80\\x99s ! . it . was . partly . your . own . fault . that . i . found . it . out , . even . when . i . did . â\\x80\\x9d . . â\\x80\\x9cso . you . found . it . out , . did . you ? â\\x80\\x9d . said . utterson . â\\x80\\x9cbut . if . that . be . so , . we . may . step . into . the . court . and . take . a . look . at . the . windows . to . tell . you . the . truth , . i . am . uneasy . about . poor . jekyll ; . and . even . outside , . i . feel . as . if . the . presence . of . a . friend . might . do . him . good . â\\x80\\x9d . . the . court . was . very . cool . and . a . little . damp , . and . full . of . premature . twilight , . although . the . sky , . high . up . overhead , . was . still . bright . with . sunset . the . middle . one . of . the . three . windows . was . half - way . open ; . and . sitting . close . beside . it , . taking . the . air . with . an . infinite . sadness . of . mien , . like . some . disconsolate . prisoner , . utterson . saw . dr . jekyll . . . â\\x80\\x9cwhat ! . jekyll ! â\\x80\\x9d . he . cried . â\\x80\\x9ci . trust . you . are . better . â\\x80\\x9d . . â\\x80\\x9ci . am . very . low , . utterson , â\\x80\\x9d . replied . the . doctor . drearily , . â\\x80\\x9cvery . low . it . will . not . last . long , . thank . god . â\\x80\\x9d . . â\\x80\\x9cyou . stay . too . much . indoors , â\\x80\\x9d . said . the . lawyer . â\\x80\\x9cyou . should . be . out , . whipping . up . the . circulation . like . mr . enfield . and . me . ( this . is . my . cousinâ\\x80\\x94mr . enfieldâ\\x80\\x94dr . jekyll . ) . come . now ; . get . your . hat . and . take . a . quick . turn . with . us . â\\x80\\x9d . . â\\x80\\x9cyou . are . very . good , â\\x80\\x9d . sighed . the . other . â\\x80\\x9ci . should . like . to . very . much ; . but . no , . no , . no , . it . is . quite . impossible ; . i . dare . not . but . indeed , . utterson , . i . am . very . glad . to . see . you ; . this . is . really . a . great . pleasure ; . i . would . ask . you . and . mr . enfield . up , . but . the . place . is . really . not . fit . â\\x80\\x9d . . â\\x80\\x9cwhy , . then , â\\x80\\x9d . said . the . lawyer , . good - naturedly , . â\\x80\\x9cthe . best . thing . we . can . do . is . to . stay . down . here . and . speak . with . you . from . where . we . are . â\\x80\\x9d . . â\\x80\\x9cthat . is . just . what . i . was . about . to . venture . to . propose , â\\x80\\x9d . returned . the . doctor . with . a . smile . but . the . words . were . hardly . uttered , . before . the . smile . was . struck . out . of . his . face . and . succeeded . by . an . expression . of . such . abject . terror . and . despair , . as . froze . the . very . blood . of . the . two . gentlemen . below . they . saw . it . but . for . a . glimpse . for . the . window . was . instantly . thrust . down ; . but . that . glimpse . had . been . sufficient , . and . they . turned . and . left . the . court . without . a . word . in . silence , . too , . they . traversed . the . by - street ; . and . it . was . not . until . they . had . come . into . a . neighbouring . thoroughfare , . where . even . upon . a . sunday . there . were . still . some . stirrings . of . life , . that . mr . utterson . at . last . turned . and . looked . at . his . companion . . they . were . both . pale ; . and . there . was . an . answering . horror . in . their . eyes . . . â\\x80\\x9cgod . forgive . us , . god . forgive . us , â\\x80\\x9d . said . mr . utterson . . . but . mr . enfield . only . nodded . his . head . very . seriously , . and . walked . on . once . more . in . silence . . . . . the . last . night . . mr . utterson . was . sitting . by . his . fireside . one . evening . after . dinner , . when . he . was . surprised . to . receive . a . visit . from . poole . . . â\\x80\\x9cbless . me , . poole , . what . brings . you . here ? â\\x80\\x9d . he . cried ; . and . then . taking . a . second . look . at . him , . â\\x80\\x9cwhat . ails . you ? â\\x80\\x9d . he . added ; . â\\x80\\x9cis . the . doctor . ill ? â\\x80\\x9d . . â\\x80\\x9cmr . utterson , â\\x80\\x9d . said . the . man , . â\\x80\\x9cthere . is . something . wrong . â\\x80\\x9d . . â\\x80\\x9ctake . a . seat , . and . here . is . a . glass . of . wine . for . you , â\\x80\\x9d . said . the . lawyer . . â\\x80\\x9cnow , . take . your . time , . and . tell . me . plainly . what . you . want . â\\x80\\x9d . . â\\x80\\x9cyou . know . the . doctorâ\\x80\\x99s . ways , . sir , â\\x80\\x9d . replied . poole , . â\\x80\\x9cand . how . he . shuts . himself . up . well , . heâ\\x80\\x99s . shut . up . again . in . the . cabinet ; . and . i . donâ\\x80\\x99t . like . it , . sirâ\\x80\\x94i . wish . i . may . die . if . i . like . it . mr . utterson , . sir , . iâ\\x80\\x99m . afraid . â\\x80\\x9d . . â\\x80\\x9cnow , . my . good . man , â\\x80\\x9d . said . the . lawyer , . â\\x80\\x9cbe . explicit . what . are . you . afraid . of ? â\\x80\\x9d . . â\\x80\\x9ciâ\\x80\\x99ve . been . afraid . for . about . a . week , â\\x80\\x9d . returned . poole , . doggedly . disregarding . the . question , . â\\x80\\x9cand . i . can . bear . it . no . more . â\\x80\\x9d . . the . manâ\\x80\\x99s . appearance . amply . bore . out . his . words ; . his . manner . was . altered . for . the . worse ; . and . except . for . the . moment . when . he . had . first . announced . his . terror , . he . had . not . once . looked . the . lawyer . in . the . face . even . now , . he . sat . with . the . glass . of . wine . untasted . on . his . knee , . and . his . eyes . directed . to . a . corner . of . the . floor . â\\x80\\x9ci . can . bear . it . no . more , â\\x80\\x9d . he . repeated . . . â\\x80\\x9ccome , â\\x80\\x9d . said . the . lawyer , . â\\x80\\x9ci . see . you . have . some . good . reason , . poole ; . i . see . there . is . something . seriously . amiss . try . to . tell . me . what . it . is . â\\x80\\x9d . . â\\x80\\x9ci . think . thereâ\\x80\\x99s . been . foul . play , â\\x80\\x9d . said . poole , . hoarsely . . . â\\x80\\x9cfoul . play ! â\\x80\\x9d . cried . the . lawyer , . a . good . deal . frightened . and . rather . inclined . to . be . irritated . in . consequence . â\\x80\\x9cwhat . foul . play ! . what . does . the . man . mean ? â\\x80\\x9d . . â\\x80\\x9ci . darenâ\\x80\\x99t . say , . sir , â\\x80\\x9d . was . the . answer ; . â\\x80\\x9cbut . will . you . come . along . with . me . and . see . for . yourself ? â\\x80\\x9d . . mr . uttersonâ\\x80\\x99s . only . answer . was . to . rise . and . get . his . hat . and . greatcoat ; . but . he . observed . with . wonder . the . greatness . of . the . relief . that . appeared . upon . the . butlerâ\\x80\\x99s . face , . and . perhaps . with . no . less , . that . the . wine . was . still . untasted . when . he . set . it . down . to . follow . . . it . was . a . wild , . cold , . seasonable . night . of . march , . with . a . pale . moon , . lying . on . her . back . as . though . the . wind . had . tilted . her , . and . flying . wrack . of . the . most . diaphanous . and . lawny . texture . the . wind . made . talking . difficult , . and . flecked . the . blood . into . the . face . it . seemed . to . have . swept . the . streets . unusually . bare . of . passengers , . besides ; . for . mr . utterson . thought . he . had . never . seen . that . part . of . london . so . deserted . he . could . have . wished . it . otherwise ; . never . in . his . life . had . he . been . conscious . of . so . sharp . a . wish . to . see . and . touch . his . fellow - creatures ; . for . struggle . as . he . might , . there . was . borne . in . upon . his . mind . a . crushing . anticipation . of . calamity . the . square , . when . they . got . there , . was . full . of . wind . and . dust , . and . the . thin . trees . in . the . garden . were . lashing . themselves . along . the . railing . poole , . who . had . kept . all . the . way . a . pace . or . two . ahead , . now . pulled . up . in . the . middle . of . the . pavement , . and . in . spite . of . the . biting . weather , . took . off . his . hat . and . mopped . his . brow . with . a . red . pocket - handkerchief . but . for . all . the . hurry . of . his . coming , . these . were . not . the . dews . of . exertion . that . he . wiped . away , . but . the . moisture . of . some . strangling . anguish ; . for . his . face . was . white . and . his . voice , . when . he . spoke , . harsh . and . broken . . . â\\x80\\x9cwell , . sir , â\\x80\\x9d . he . said , . â\\x80\\x9chere . we . are , . and . god . grant . there . be . nothing . wrong . â\\x80\\x9d . . â\\x80\\x9camen , . poole , â\\x80\\x9d . said . the . lawyer . . . thereupon . the . servant . knocked . in . a . very . guarded . manner ; . the . door . was . opened . on . the . chain ; . and . a . voice . asked . from . within , . â\\x80\\x9cis . that . you , . poole ? â\\x80\\x9d . . â\\x80\\x9citâ\\x80\\x99s . all . right , â\\x80\\x9d . said . poole . â\\x80\\x9copen . the . door . â\\x80\\x9d . . the . hall , . when . they . entered . it , . was . brightly . lighted . up ; . the . fire . was . built . high ; . and . about . the . hearth . the . whole . of . the . servants , . men . and . women , . stood . huddled . together . like . a . flock . of . sheep . at . the . sight . of . mr . utterson , . the . housemaid . broke . into . hysterical . whimpering ; . and . the . cook , . crying . out . â\\x80\\x9cbless . god ! . itâ\\x80\\x99s . mr . utterson , â\\x80\\x9d . ran . forward . as . if . to . take . him . in . her . arms . . . â\\x80\\x9cwhat , . what ? . are . you . all . here ? â\\x80\\x9d . said . the . lawyer . peevishly . â\\x80\\x9cvery . irregular , . very . unseemly ; . your . master . would . be . far . from . pleased . â\\x80\\x9d . . â\\x80\\x9ctheyâ\\x80\\x99re . all . afraid , â\\x80\\x9d . said . poole . . . blank . silence . followed , . no . one . protesting ; . only . the . maid . lifted . her . voice . and . now . wept . loudly . . . â\\x80\\x9chold . your . tongue ! â\\x80\\x9d . poole . said . to . her , . with . a . ferocity . of . accent . that . testified . to . his . own . jangled . nerves ; . and . indeed , . when . the . girl . had . so . suddenly . raised . the . note . of . her . lamentation , . they . had . all . started . and . turned . towards . the . inner . door . with . faces . of . dreadful . expectation . â\\x80\\x9cand . now , â\\x80\\x9d . continued . the . butler , . addressing . the . knife - boy , . â\\x80\\x9creach . me . a . candle , . and . weâ\\x80\\x99ll . get . this . through . hands . at . once . â\\x80\\x9d . and . then . he . begged . mr . utterson . to . follow . him , . and . led . the . way . to . the . back . garden . . . â\\x80\\x9cnow , . sir , â\\x80\\x9d . said . he , . â\\x80\\x9cyou . come . as . gently . as . you . can . i . want . you . to . hear , . and . i . donâ\\x80\\x99t . want . you . to . be . heard . and . see . here , . sir , . if . by . any . chance . he . was . to . ask . you . in , . donâ\\x80\\x99t . go . â\\x80\\x9d . . mr . uttersonâ\\x80\\x99s . nerves , . at . this . unlooked - for . termination , . gave . a . jerk . that . nearly . threw . him . from . his . balance ; . but . he . recollected . his . courage . and . followed . the . butler . into . the . laboratory . building . through . the . surgical . theatre , . with . its . lumber . of . crates . and . bottles , . to . the . foot . of . the . stair . here . poole . motioned . him . to . stand . on . one . side . and . listen ; . while . he . himself , . setting . down . the . candle . and . making . a . great . and . obvious . call . on . his . resolution , . mounted . the . steps . and . knocked . with . a . somewhat . uncertain . hand . on . the . red . baize . of . the . cabinet . door . . . â\\x80\\x9cmr . utterson , . sir , . asking . to . see . you , â\\x80\\x9d . he . called ; . and . even . as . he . did . so , . once . more . violently . signed . to . the . lawyer . to . give . ear . . . a . voice . answered . from . within : . â\\x80\\x9ctell . him . i . cannot . see . anyone , â\\x80\\x9d . it . said . complainingly . . . â\\x80\\x9cthank . you , . sir , â\\x80\\x9d . said . poole , . with . a . note . of . something . like . triumph . in . his . voice ; . and . taking . up . his . candle , . he . led . mr . utterson . back . across . the . yard . and . into . the . great . kitchen , . where . the . fire . was . out . and . the . beetles . were . leaping . on . the . floor . . . â\\x80\\x9csir , â\\x80\\x9d . he . said , . looking . mr . utterson . in . the . eyes , . â\\x80\\x9cwas . that . my . masterâ\\x80\\x99s . voice ? â\\x80\\x9d . . â\\x80\\x9cit . seems . much . changed , â\\x80\\x9d . replied . the . lawyer , . very . pale , . but . giving . look . for . look . . . â\\x80\\x9cchanged ? . well , . yes , . i . think . so , â\\x80\\x9d . said . the . butler . â\\x80\\x9chave . i . been . twenty . years . in . this . manâ\\x80\\x99s . house , . to . be . deceived . about . his . voice ? . no , . sir ; . masterâ\\x80\\x99s . made . away . with ; . he . was . made . away . with . eight . days . ago , . when . we . heard . him . cry . out . upon . the . name . of . god ; . and . _ whoâ\\x80\\x99s _ . in . there . instead . of . him , . and . _ why _ . it . stays . there , . is . a . thing . that . cries . to . heaven , . mr . . utterson ! â\\x80\\x9d . . â\\x80\\x9cthis . is . a . very . strange . tale , . poole ; . this . is . rather . a . wild . tale . my . man , â\\x80\\x9d . said . mr . utterson , . biting . his . finger . â\\x80\\x9csuppose . it . were . as . you . suppose , . supposing . dr . jekyll . to . have . beenâ\\x80\\x94well , . murdered , . what . could . induce . the . murderer . to . stay ? . that . wonâ\\x80\\x99t . hold . water ; . it . doesnâ\\x80\\x99t . commend . itself . to . reason . â\\x80\\x9d . . â\\x80\\x9cwell , . mr . utterson , . you . are . a . hard . man . to . satisfy , . but . iâ\\x80\\x99ll . do . it . yet , â\\x80\\x9d . said . poole . â\\x80\\x9call . this . last . week . ( you . must . know ) . him , . or . it , . whatever . it . is . that . lives . in . that . cabinet , . has . been . crying . night . and . day . for . some . sort . of . medicine . and . cannot . get . it . to . his . mind . it . was . sometimes . his . wayâ\\x80\\x94the . masterâ\\x80\\x99s , . that . isâ\\x80\\x94to . write . his . orders . on . a . sheet . of . paper . and . throw . it . on . the . stair . weâ\\x80\\x99ve . had . nothing . else . this . week . back ; . nothing . but . papers , . and . a . closed . door , . and . the . very . meals . left . there . to . be . smuggled . in . when . nobody . was . looking . well , . sir , . every . day , . ay , . and . twice . and . thrice . in . the . same . day , . there . have . been . orders . and . complaints , . and . i . have . been . sent . flying . to . all . the . wholesale . chemists . in . town . every . time . i . brought . the . stuff . back , . there . would . be . another . paper . telling . me . to . return . it , . because . it . was . not . pure , . and . another . order . to . a . different . firm . this . drug . is . wanted . bitter . bad , . sir , . whatever . for . â\\x80\\x9d . . â\\x80\\x9chave . you . any . of . these . papers ? â\\x80\\x9d . asked . mr . utterson . . . poole . felt . in . his . pocket . and . handed . out . a . crumpled . note , . which . the . lawyer , . bending . nearer . to . the . candle , . carefully . examined . its . contents . ran . thus : . â\\x80\\x9cdr . jekyll . presents . his . compliments . to . messrs . maw . he . assures . them . that . their . last . sample . is . impure . and . quite . useless . for . his . present . purpose . in . the . year . 18â\\x80\\x94 , . dr . j . purchased . a . somewhat . large . quantity . from . messrs . m . he . now . begs . them . to . search . with . most . sedulous . care , . and . should . any . of . the . same . quality . be . left , . forward . it . to . him . at . once . expense . is . no . consideration . the . importance . of . this . to . dr . j . can . hardly . be . exaggerated . â\\x80\\x9d . so . far . the . letter . had . run . composedly . enough , . but . here . with . a . sudden . splutter . of . the . pen , . the . writerâ\\x80\\x99s . emotion . had . broken . loose . â\\x80\\x9cfor . godâ\\x80\\x99s . sake , â\\x80\\x9d . he . added , . â\\x80\\x9cfind . me . some . of . the . old . â\\x80\\x9d . . â\\x80\\x9cthis . is . a . strange . note , â\\x80\\x9d . said . mr . utterson ; . and . then . sharply , . â\\x80\\x9chow . do . you . come . to . have . it . open ? â\\x80\\x9d . . â\\x80\\x9cthe . man . at . mawâ\\x80\\x99s . was . main . angry , . sir , . and . he . threw . it . back . to . me . like . so . much . dirt , â\\x80\\x9d . returned . poole . . . â\\x80\\x9cthis . is . unquestionably . the . doctorâ\\x80\\x99s . hand , . do . you . know ? â\\x80\\x9d . resumed . the . lawyer . . . â\\x80\\x9ci . thought . it . looked . like . it , â\\x80\\x9d . said . the . servant . rather . sulkily ; . and . then , . with . another . voice , . â\\x80\\x9cbut . what . matters . hand . of . write ? â\\x80\\x9d . he . said . . â\\x80\\x9ciâ\\x80\\x99ve . seen . him ! â\\x80\\x9d . . â\\x80\\x9cseen . him ? â\\x80\\x9d . repeated . mr . utterson . â\\x80\\x9cwell ? â\\x80\\x9d . . â\\x80\\x9cthatâ\\x80\\x99s . it ! â\\x80\\x9d . said . poole . â\\x80\\x9cit . was . this . way . i . came . suddenly . into . the . theatre . from . the . garden . it . seems . he . had . slipped . out . to . look . for . this . drug . or . whatever . it . is ; . for . the . cabinet . door . was . open , . and . there . he . was . at . the . far . end . of . the . room . digging . among . the . crates . he . looked . up . when . i . came . in , . gave . a . kind . of . cry , . and . whipped . upstairs . into . the . cabinet . . it . was . but . for . one . minute . that . i . saw . him , . but . the . hair . stood . upon . my . head . like . quills . sir , . if . that . was . my . master , . why . had . he . a . mask . upon . his . face ? . if . it . was . my . master , . why . did . he . cry . out . like . a . rat , . and . run . from . me ? . i . have . served . him . long . enough . and . then . . â\\x80\\x9d . the . man . paused . and . passed . his . hand . over . his . face . . . â\\x80\\x9cthese . are . all . very . strange . circumstances , â\\x80\\x9d . said . mr . utterson , . â\\x80\\x9cbut . i . think . i . begin . to . see . daylight . your . master , . poole , . is . plainly . seized . with . one . of . those . maladies . that . both . torture . and . deform . the . sufferer ; . hence , . for . aught . i . know , . the . alteration . of . his . voice ; . hence . the . mask . and . the . avoidance . of . his . friends ; . hence . his . eagerness . to . find . this . drug , . by . means . of . which . the . poor . soul . retains . some . hope . of . ultimate . recoveryâ\\x80\\x94god . grant . that . he . be . not . deceived ! . there . is . my . explanation ; . it . is . sad . enough , . poole , . ay , . and . appalling . to . consider ; . but . it . is . plain . and . natural , . hangs . well . together , . and . delivers . us . from . all . exorbitant . alarms . â\\x80\\x9d . . â\\x80\\x9csir , â\\x80\\x9d . said . the . butler , . turning . to . a . sort . of . mottled . pallor , . â\\x80\\x9cthat . thing . was . not . my . master , . and . thereâ\\x80\\x99s . the . truth . my . masterâ\\x80\\x9dâ\\x80\\x94here . he . looked . round . him . and . began . to . whisperâ\\x80\\x94â\\x80\\x9cis . a . tall , . fine . build . of . a . man , . and . this . was . more . of . a . dwarf . â\\x80\\x9d . utterson . attempted . to . protest . â\\x80\\x9co , . sir , â\\x80\\x9d . cried . poole , . â\\x80\\x9cdo . you . think . i . do . not . know . my . master . after . twenty . years ? . do . you . think . i . do . not . know . where . his . head . comes . to . in . the . cabinet . door , . where . i . saw . him . every . morning . of . my . life ? . no , . sir , . that . thing . in . the . mask . was . never . dr . jekyllâ\\x80\\x94god . knows . what . it . was , . but . it . was . never . dr . . jekyll ; . and . it . is . the . belief . of . my . heart . that . there . was . murder . done . â\\x80\\x9d . . â\\x80\\x9cpoole , â\\x80\\x9d . replied . the . lawyer , . â\\x80\\x9cif . you . say . that , . it . will . become . my . duty . to . make . certain . much . as . i . desire . to . spare . your . masterâ\\x80\\x99s . feelings , . much . as . i . am . puzzled . by . this . note . which . seems . to . prove . him . to . be . still . alive , . i . shall . consider . it . my . duty . to . break . in . that . door . â\\x80\\x9d . . â\\x80\\x9cah , . mr . utterson , . thatâ\\x80\\x99s . talking ! â\\x80\\x9d . cried . the . butler . . . â\\x80\\x9cand . now . comes . the . second . question , â\\x80\\x9d . resumed . utterson : . â\\x80\\x9cwho . is . going . to . do . it ? â\\x80\\x9d . . â\\x80\\x9cwhy , . you . and . me , . sir , â\\x80\\x9d . was . the . undaunted . reply . . . â\\x80\\x9cthatâ\\x80\\x99s . very . well . said , â\\x80\\x9d . returned . the . lawyer ; . â\\x80\\x9cand . whatever . comes . of . it , . i . shall . make . it . my . business . to . see . you . are . no . loser . â\\x80\\x9d . . â\\x80\\x9cthere . is . an . axe . in . the . theatre , â\\x80\\x9d . continued . poole ; . â\\x80\\x9cand . you . might . take . the . kitchen . poker . for . yourself . â\\x80\\x9d . . the . lawyer . took . that . rude . but . weighty . instrument . into . his . hand , . and . balanced . it . â\\x80\\x9cdo . you . know , . poole , â\\x80\\x9d . he . said , . looking . up , . â\\x80\\x9cthat . you . and . i . are . about . to . place . ourselves . in . a . position . of . some . peril ? â\\x80\\x9d . . â\\x80\\x9cyou . may . say . so , . sir , . indeed , â\\x80\\x9d . returned . the . butler . . . â\\x80\\x9cit . is . well , . then . that . we . should . be . frank , â\\x80\\x9d . said . the . other . â\\x80\\x9cwe . both . think . more . than . we . have . said ; . let . us . make . a . clean . breast . this . masked . figure . that . you . saw , . did . you . recognise . it ? â\\x80\\x9d . . â\\x80\\x9cwell , . sir , . it . went . so . quick , . and . the . creature . was . so . doubled . up , . that . i . could . hardly . swear . to . that , â\\x80\\x9d . was . the . answer . â\\x80\\x9cbut . if . you . mean , . was . it . mr . hyde ? â\\x80\\x94why , . yes , . i . think . it . was ! . you . see , . it . was . much . of . the . same . bigness ; . and . it . had . the . same . quick , . light . way . with . it ; . and . then . who . else . could . have . got . in . by . the . laboratory . door ? . you . have . not . forgot , . sir , . that . at . the . time . of . the . murder . he . had . still . the . key . with . him ? . but . thatâ\\x80\\x99s . not . all . i . donâ\\x80\\x99t . know , . mr . utterson , . if . you . ever . met . this . mr . . hyde ? â\\x80\\x9d . . â\\x80\\x9cyes , â\\x80\\x9d . said . the . lawyer , . â\\x80\\x9ci . once . spoke . with . him . â\\x80\\x9d . . â\\x80\\x9cthen . you . must . know . as . well . as . the . rest . of . us . that . there . was . something . queer . about . that . gentlemanâ\\x80\\x94something . that . gave . a . man . a . turnâ\\x80\\x94i . donâ\\x80\\x99t . know . rightly . how . to . say . it , . sir , . beyond . this : . that . you . felt . in . your . marrow . kind . of . cold . and . thin . â\\x80\\x9d . . â\\x80\\x9ci . own . i . felt . something . of . what . you . describe , â\\x80\\x9d . said . mr . utterson . . . â\\x80\\x9cquite . so , . sir , â\\x80\\x9d . returned . poole . â\\x80\\x9cwell , . when . that . masked . thing . like . a . monkey . jumped . from . among . the . chemicals . and . whipped . into . the . cabinet , . it . went . down . my . spine . like . ice . o , . i . know . itâ\\x80\\x99s . not . evidence , . mr . utterson ; . iâ\\x80\\x99m . book - learned . enough . for . that ; . but . a . man . has . his . feelings , . and . i . give . you . my . bible - word . it . was . mr . hyde ! â\\x80\\x9d . . â\\x80\\x9cay , . ay , â\\x80\\x9d . said . the . lawyer . â\\x80\\x9cmy . fears . incline . to . the . same . point . evil , . i . fear , . foundedâ\\x80\\x94evil . was . sure . to . comeâ\\x80\\x94of . that . connection . ay . truly , . i . believe . you ; . i . believe . poor . harry . is . killed ; . and . i . believe . his . murderer . ( for . what . purpose , . god . alone . can . tell ) . is . still . lurking . in . his . victimâ\\x80\\x99s . room . well , . let . our . name . be . vengeance . call . bradshaw . â\\x80\\x9d . . the . footman . came . at . the . summons , . very . white . and . nervous . . . â\\x80\\x9cpull . yourself . together , . bradshaw , â\\x80\\x9d . said . the . lawyer . â\\x80\\x9cthis . suspense , . i . know , . is . telling . upon . all . of . you ; . but . it . is . now . our . intention . to . make . an . end . of . it . poole , . here , . and . i . are . going . to . force . our . way . into . the . cabinet . if . all . is . well , . my . shoulders . are . broad . enough . to . bear . the . blame . meanwhile , . lest . anything . should . really . be . amiss , . or . any . malefactor . seek . to . escape . by . the . back , . you . and . the . boy . must . go . round . the . corner . with . a . pair . of . good . sticks . and . take . your . post . at . the . laboratory . door . we . give . you . ten . minutes . to . get . to . your . stations . â\\x80\\x9d . . as . bradshaw . left , . the . lawyer . looked . at . his . watch . â\\x80\\x9cand . now , . poole , . let . us . get . to . ours , â\\x80\\x9d . he . said ; . and . taking . the . poker . under . his . arm , . led . the . way . into . the . yard . the . scud . had . banked . over . the . moon , . and . it . was . now . quite . dark . the . wind , . which . only . broke . in . puffs . and . draughts . into . that . deep . well . of . building , . tossed . the . light . of . the . candle . to . and . fro . about . their . steps , . until . they . came . into . the . shelter . of . the . theatre , . where . they . sat . down . silently . to . wait . london . hummed . solemnly . all . around ; . but . nearer . at . hand , . the . stillness . was . only . broken . by . the . sounds . of . a . footfall . moving . to . and . fro . along . the . cabinet . floor . . . â\\x80\\x9cso . it . will . walk . all . day , . sir , â\\x80\\x9d . whispered . poole ; . â\\x80\\x9cay , . and . the . better . part . of . the . night . only . when . a . new . sample . comes . from . the . chemist , . thereâ\\x80\\x99s . a . bit . of . a . break . ah , . itâ\\x80\\x99s . an . ill . conscience . thatâ\\x80\\x99s . such . an . enemy . to . rest ! . ah , . sir , . thereâ\\x80\\x99s . blood . foully . shed . in . every . step . of . it ! . but . hark . again , . a . little . closerâ\\x80\\x94put . your . heart . in . your . ears , . mr . . utterson , . and . tell . me , . is . that . the . doctorâ\\x80\\x99s . foot ? â\\x80\\x9d . . the . steps . fell . lightly . and . oddly , . with . a . certain . swing , . for . all . they . went . so . slowly ; . it . was . different . indeed . from . the . heavy . creaking . tread . of . henry . jekyll . utterson . sighed . â\\x80\\x9cis . there . never . anything . else ? â\\x80\\x9d . he . asked . . . poole . nodded . â\\x80\\x9conce , â\\x80\\x9d . he . said . â\\x80\\x9conce . i . heard . it . weeping ! â\\x80\\x9d . . â\\x80\\x9cweeping ? . how . that ? â\\x80\\x9d . said . the . lawyer , . conscious . of . a . sudden . chill . of . horror . . . â\\x80\\x9cweeping . like . a . woman . or . a . lost . soul , â\\x80\\x9d . said . the . butler . â\\x80\\x9ci . came . away . with . that . upon . my . heart , . that . i . could . have . wept . too . â\\x80\\x9d . . but . now . the . ten . minutes . drew . to . an . end . poole . disinterred . the . axe . from . under . a . stack . of . packing . straw ; . the . candle . was . set . upon . the . nearest . table . to . light . them . to . the . attack ; . and . they . drew . near . with . bated . breath . to . where . that . patient . foot . was . still . going . up . and . down , . up . and . down , . in . the . quiet . of . the . night . . . â\\x80\\x9cjekyll , â\\x80\\x9d . cried . utterson , . with . a . loud . voice , . â\\x80\\x9ci . demand . to . see . you . â\\x80\\x9d . he . paused . a . moment , . but . there . came . no . reply . â\\x80\\x9ci . give . you . fair . warning , . our . suspicions . are . aroused , . and . i . must . and . shall . see . you , â\\x80\\x9d . he . resumed ; . â\\x80\\x9cif . not . by . fair . means , . then . by . foulâ\\x80\\x94if . not . of . your . consent , . then . by . brute . force ! â\\x80\\x9d . . â\\x80\\x9cutterson , â\\x80\\x9d . said . the . voice , . â\\x80\\x9cfor . godâ\\x80\\x99s . sake , . have . mercy ! â\\x80\\x9d . . â\\x80\\x9cah , . thatâ\\x80\\x99s . not . jekyllâ\\x80\\x99s . voiceâ\\x80\\x94itâ\\x80\\x99s . hydeâ\\x80\\x99s ! â\\x80\\x9d . cried . utterson . â\\x80\\x9cdown . with . the . door , . poole ! â\\x80\\x9d . . poole . swung . the . axe . over . his . shoulder ; . the . blow . shook . the . building , . and . the . red . baize . door . leaped . against . the . lock . and . hinges . a . dismal . screech , . as . of . mere . animal . terror , . rang . from . the . cabinet . up . went . the . axe . again , . and . again . the . panels . crashed . and . the . frame . bounded ; . four . times . the . blow . fell ; . but . the . wood . was . tough . and . the . fittings . were . of . excellent . workmanship ; . and . it . was . not . until . the . fifth , . that . the . lock . burst . and . the . wreck . of . the . door . fell . inwards . on . the . carpet . . . the . besiegers , . appalled . by . their . own . riot . and . the . stillness . that . had . succeeded , . stood . back . a . little . and . peered . in . there . lay . the . cabinet . before . their . eyes . in . the . quiet . lamplight , . a . good . fire . glowing . and . chattering . on . the . hearth , . the . kettle . singing . its . thin . strain , . a . drawer . or . two . open , . papers . neatly . set . forth . on . the . business . table , . and . nearer . the . fire , . the . things . laid . out . for . tea ; . the . quietest . room , . you . would . have . said , . and , . but . for . the . glazed . presses . full . of . chemicals , . the . most . commonplace . that . night . in . london . . . right . in . the . middle . there . lay . the . body . of . a . man . sorely . contorted . and . still . twitching . they . drew . near . on . tiptoe , . turned . it . on . its . back . and . beheld . the . face . of . edward . hyde . he . was . dressed . in . clothes . far . too . large . for . him , . clothes . of . the . doctorâ\\x80\\x99s . bigness ; . the . cords . of . his . face . still . moved . with . a . semblance . of . life , . but . life . was . quite . gone ; . and . by . the . crushed . phial . in . the . hand . and . the . strong . smell . of . kernels . that . hung . upon . the . air , . utterson . knew . that . he . was . looking . on . the . body . of . a . self - destroyer . . . â\\x80\\x9cwe . have . come . too . late , â\\x80\\x9d . he . said . sternly , . â\\x80\\x9cwhether . to . save . or . punish . . hyde . is . gone . to . his . account ; . and . it . only . remains . for . us . to . find . the . body . of . your . master . â\\x80\\x9d . . the . far . greater . proportion . of . the . building . was . occupied . by . the . theatre , . which . filled . almost . the . whole . ground . storey . and . was . lighted . from . above , . and . by . the . cabinet , . which . formed . an . upper . storey . at . one . end . and . looked . upon . the . court . a . corridor . joined . the . theatre . to . the . door . on . the . by - street ; . and . with . this . the . cabinet . communicated . separately . by . a . second . flight . of . stairs . there . were . besides . a . few . dark . closets . and . a . spacious . cellar . all . these . they . now . thoroughly . examined . each . closet . needed . but . a . glance , . for . all . were . empty , . and . all , . by . the . dust . that . fell . from . their . doors , . had . stood . long . unopened . the . cellar , . indeed , . was . filled . with . crazy . lumber , . mostly . dating . from . the . times . of . the . surgeon . who . was . jekyllâ\\x80\\x99s . predecessor ; . but . even . as . they . opened . the . door . they . were . advertised . of . the . uselessness . of . further . search , . by . the . fall . of . a . perfect . mat . of . cobweb . which . had . for . years . sealed . up . the . entrance . . nowhere . was . there . any . trace . of . henry . jekyll , . dead . or . alive . . . poole . stamped . on . the . flags . of . the . corridor . â\\x80\\x9che . must . be . buried . here , â\\x80\\x9d . he . said , . hearkening . to . the . sound . . . â\\x80\\x9cor . he . may . have . fled , â\\x80\\x9d . said . utterson , . and . he . turned . to . examine . the . door . in . the . by - street . it . was . locked ; . and . lying . near . by . on . the . flags , . they . found . the . key , . already . stained . with . rust . . . â\\x80\\x9cthis . does . not . look . like . use , â\\x80\\x9d . observed . the . lawyer . . . â\\x80\\x9cuse ! â\\x80\\x9d . echoed . poole . â\\x80\\x9cdo . you . not . see , . sir , . it . is . broken ? . much . as . if . a . man . had . stamped . on . it . â\\x80\\x9d . . â\\x80\\x9cay , â\\x80\\x9d . continued . utterson , . â\\x80\\x9cand . the . fractures , . too , . are . rusty . â\\x80\\x9d . the . two . men . looked . at . each . other . with . a . scare . â\\x80\\x9cthis . is . beyond . me , . poole , â\\x80\\x9d . said . the . lawyer . â\\x80\\x9clet . us . go . back . to . the . cabinet . â\\x80\\x9d . . they . mounted . the . stair . in . silence , . and . still . with . an . occasional . awestruck . glance . at . the . dead . body , . proceeded . more . thoroughly . to . examine . the . contents . of . the . cabinet . at . one . table , . there . were . traces . of . chemical . work , . various . measured . heaps . of . some . white . salt . being . laid . on . glass . saucers , . as . though . for . an . experiment . in . which . the . unhappy . man . had . been . prevented . . . â\\x80\\x9cthat . is . the . same . drug . that . i . was . always . bringing . him , â\\x80\\x9d . said . poole ; . and . even . as . he . spoke , . the . kettle . with . a . startling . noise . boiled . over . . . this . brought . them . to . the . fireside , . where . the . easy - chair . was . drawn . cosily . up , . and . the . tea . things . stood . ready . to . the . sitterâ\\x80\\x99s . elbow , . the . very . sugar . in . the . cup . there . were . several . books . on . a . shelf ; . one . lay . beside . the . tea . things . open , . and . utterson . was . amazed . to . find . it . a . copy . of . a . pious . work , . for . which . jekyll . had . several . times . expressed . a . great . esteem , . annotated , . in . his . own . hand . with . startling . blasphemies . . . next , . in . the . course . of . their . review . of . the . chamber , . the . searchers . came . to . the . cheval - glass , . into . whose . depths . they . looked . with . an . involuntary . horror . but . it . was . so . turned . as . to . show . them . nothing . but . the . rosy . glow . playing . on . the . roof , . the . fire . sparkling . in . a . hundred . repetitions . along . the . glazed . front . of . the . presses , . and . their . own . pale . and . fearful . countenances . stooping . to . look . in . . . â\\x80\\x9cthis . glass . has . seen . some . strange . things , . sir , â\\x80\\x9d . whispered . poole . . . â\\x80\\x9cand . surely . none . stranger . than . itself , â\\x80\\x9d . echoed . the . lawyer . in . the . same . tones . â\\x80\\x9cfor . what . did . jekyllâ\\x80\\x9dâ\\x80\\x94he . caught . himself . up . at . the . word . with . a . start , . and . then . conquering . the . weaknessâ\\x80\\x94â\\x80\\x9cwhat . could . jekyll . want . with . it ? â\\x80\\x9d . he . said . . . â\\x80\\x9cyou . may . say . that ! â\\x80\\x9d . said . poole . . . next . they . turned . to . the . business . table . on . the . desk , . among . the . neat . array . of . papers , . a . large . envelope . was . uppermost , . and . bore , . in . the . doctorâ\\x80\\x99s . hand , . the . name . of . mr . utterson . the . lawyer . unsealed . it , . and . several . enclosures . fell . to . the . floor . the . first . was . a . will , . drawn . in . the . same . eccentric . terms . as . the . one . which . he . had . returned . six . months . before , . to . serve . as . a . testament . in . case . of . death . and . as . a . deed . of . gift . in . case . of . disappearance ; . but . in . place . of . the . name . of . edward . hyde , . the . lawyer , . with . indescribable . amazement . read . the . name . of . gabriel . john . utterson . he . looked . at . poole , . and . then . back . at . the . paper , . and . last . of . all . at . the . dead . malefactor . stretched . upon . the . carpet . . . â\\x80\\x9cmy . head . goes . round , â\\x80\\x9d . he . said . â\\x80\\x9che . has . been . all . these . days . in . possession ; . he . had . no . cause . to . like . me ; . he . must . have . raged . to . see . himself . displaced ; . and . he . has . not . destroyed . this . document . â\\x80\\x9d . . he . caught . up . the . next . paper ; . it . was . a . brief . note . in . the . doctorâ\\x80\\x99s . hand . and . dated . at . the . top . â\\x80\\x9co . poole ! â\\x80\\x9d . the . lawyer . cried , . â\\x80\\x9che . was . alive . and . here . this . day . he . cannot . have . been . disposed . of . in . so . short . a . space ; . he . must . be . still . alive , . he . must . have . fled ! . and . then , . why . fled ? . and . how ? . and . in . that . case , . can . we . venture . to . declare . this . suicide ? . o , . we . must . be . careful . i . foresee . that . we . may . yet . involve . your . master . in . some . dire . catastrophe . â\\x80\\x9d . . â\\x80\\x9cwhy . donâ\\x80\\x99t . you . read . it , . sir ? â\\x80\\x9d . asked . poole . . . â\\x80\\x9cbecause . i . fear , â\\x80\\x9d . replied . the . lawyer . solemnly . â\\x80\\x9cgod . grant . i . have . no . cause . for . it ! â\\x80\\x9d . and . with . that . he . brought . the . paper . to . his . eyes . and . read . as . follows : . . . â\\x80\\x9cmy . dear . utterson , â\\x80\\x94when . this . shall . fall . into . your . hands , . i . shall . have . disappeared , . under . what . circumstances . i . have . not . the . penetration . to . foresee , . but . my . instinct . and . all . the . circumstances . of . my . nameless . situation . tell . me . that . the . end . is . sure . and . must . be . early . go . then , . and . first . read . the . narrative . which . lanyon . warned . me . he . was . to . place . in . your . hands ; . and . if . you . care . to . hear . more , . turn . to . the . confession . of . . â\\x80\\x9cyour . unworthy . and . unhappy . friend , . . â\\x80\\x9chenry . jekyll . â\\x80\\x9d . . . â\\x80\\x9cthere . was . a . third . enclosure ? â\\x80\\x9d . asked . utterson . . . â\\x80\\x9chere , . sir , â\\x80\\x9d . said . poole , . and . gave . into . his . hands . a . considerable . packet . sealed . in . several . places . . . the . lawyer . put . it . in . his . pocket . â\\x80\\x9ci . would . say . nothing . of . this . paper . if . your . master . has . fled . or . is . dead , . we . may . at . least . save . his . credit . it . is . now . ten ; . i . must . go . home . and . read . these . documents . in . quiet ; . but . i . shall . be . back . before . midnight , . when . we . shall . send . for . the . police . â\\x80\\x9d . . they . went . out , . locking . the . door . of . the . theatre . behind . them ; . and . utterson , . once . more . leaving . the . servants . gathered . about . the . fire . in . the . hall , . trudged . back . to . his . office . to . read . the . two . narratives . in . which . this . mystery . was . now . to . be . explained . . . . . dr . lanyonâ\\x80\\x99s . narrative . . on . the . ninth . of . january , . now . four . days . ago , . i . received . by . the . evening . delivery . a . registered . envelope , . addressed . in . the . hand . of . my . colleague . and . old . school . companion , . henry . jekyll . i . was . a . good . deal . surprised . by . this ; . for . we . were . by . no . means . in . the . habit . of . correspondence ; . i . had . seen . the . man , . dined . with . him , . indeed , . the . night . before ; . and . i . could . imagine . nothing . in . our . intercourse . that . should . justify . formality . of . registration . the . contents . increased . my . wonder ; . for . this . is . how . the . letter . ran : . . â\\x80\\x9c10 _ th . december _ , . 18â\\x80\\x94 . . . . â\\x80\\x9cdear . lanyon , â\\x80\\x94you . are . one . of . my . oldest . friends ; . and . although . we . may . have . differed . at . times . on . scientific . questions , . i . cannot . remember , . at . least . on . my . side , . any . break . in . our . affection . there . was . never . a . day . when , . if . you . had . said . to . me , . â\\x80\\x98jekyll , . my . life , . my . honour , . my . reason , . depend . upon . you , â\\x80\\x99 . i . would . not . have . sacrificed . my . left . hand . to . help . you . . lanyon , . my . life , . my . honour , . my . reason , . are . all . at . your . mercy ; . if . you . fail . me . to - night , . i . am . lost . you . might . suppose , . after . this . preface , . that . i . am . going . to . ask . you . for . something . dishonourable . to . grant . judge . for . yourself . . . â\\x80\\x9ci . want . you . to . postpone . all . other . engagements . for . to - nightâ\\x80\\x94ay , . even . if . you . were . summoned . to . the . bedside . of . an . emperor ; . to . take . a . cab , . unless . your . carriage . should . be . actually . at . the . door ; . and . with . this . letter . in . your . hand . for . consultation , . to . drive . straight . to . my . house . poole , . my . butler , . has . his . orders ; . you . will . find . him . waiting . your . arrival . with . a . locksmith . the . door . of . my . cabinet . is . then . to . be . forced ; . and . you . are . to . go . in . alone ; . to . open . the . glazed . press . ( letter . e ) . on . the . left . hand , . breaking . the . lock . if . it . be . shut ; . and . to . draw . out , . _ with . all . its . contents . as . they . stand _ , . the . fourth . drawer . from . the . top . or . ( which . is . the . same . thing ) . the . third . from . the . bottom . in . my . extreme . distress . of . mind , . i . have . a . morbid . fear . of . misdirecting . you ; . but . even . if . i . am . in . error , . you . may . know . the . right . drawer . by . its . contents : . some . powders , . a . phial . and . a . paper . book . this . drawer . i . beg . of . you . to . carry . back . with . you . to . cavendish . square . exactly . as . it . stands . . . â\\x80\\x9cthat . is . the . first . part . of . the . service : . now . for . the . second . you . should . be . back , . if . you . set . out . at . once . on . the . receipt . of . this , . long . before . midnight ; . but . i . will . leave . you . that . amount . of . margin , . not . only . in . the . fear . of . one . of . those . obstacles . that . can . neither . be . prevented . nor . foreseen , . but . because . an . hour . when . your . servants . are . in . bed . is . to . be . preferred . for . what . will . then . remain . to . do . at . midnight , . then , . i . have . to . ask . you . to . be . alone . in . your . consulting . room , . to . admit . with . your . own . hand . into . the . house . a . man . who . will . present . himself . in . my . name , . and . to . place . in . his . hands . the . drawer . that . you . will . have . brought . with . you . from . my . cabinet . then . you . will . have . played . your . part . and . earned . my . gratitude . completely . five . minutes . afterwards , . if . you . insist . upon . an . explanation , . you . will . have . understood . that . these . arrangements . are . of . capital . importance ; . and . that . by . the . neglect . of . one . of . them , . fantastic . as . they . must . appear , . you . might . have . charged . your . conscience . with . my . death . or . the . shipwreck . of . my . reason . . . â\\x80\\x9cconfident . as . i . am . that . you . will . not . trifle . with . this . appeal , . my . heart . sinks . and . my . hand . trembles . at . the . bare . thought . of . such . a . possibility . . think . of . me . at . this . hour , . in . a . strange . place , . labouring . under . a . blackness . of . distress . that . no . fancy . can . exaggerate , . and . yet . well . aware . that , . if . you . will . but . punctually . serve . me , . my . troubles . will . roll . away . like . a . story . that . is . told . serve . me , . my . dear . lanyon . and . save . . â\\x80\\x9cyour . friend , . . . â\\x80\\x9ch . j . . . . â\\x80\\x9cp . s . â\\x80\\x94i . had . already . sealed . this . up . when . a . fresh . terror . struck . upon . my . soul . it . is . possible . that . the . post - office . may . fail . me , . and . this . letter . not . come . into . your . hands . until . to - morrow . morning . in . that . case , . dear . lanyon , . do . my . errand . when . it . shall . be . most . convenient . for . you . in . the . course . of . the . day ; . and . once . more . expect . my . messenger . at . midnight . it . may . then . already . be . too . late ; . and . if . that . night . passes . without . event , . you . will . know . that . you . have . seen . the . last . of . henry . jekyll . â\\x80\\x9d . . . upon . the . reading . of . this . letter , . i . made . sure . my . colleague . was . insane ; . but . till . that . was . proved . beyond . the . possibility . of . doubt , . i . felt . bound . to . do . as . he . requested . the . less . i . understood . of . this . farrago , . the . less . i . was . in . a . position . to . judge . of . its . importance ; . and . an . appeal . so . worded . could . not . be . set . aside . without . a . grave . responsibility . i . rose . accordingly . from . table , . got . into . a . hansom , . and . drove . straight . to . jekyllâ\\x80\\x99s . house . the . butler . was . awaiting . my . arrival ; . he . had . received . by . the . same . post . as . mine . a . registered . letter . of . instruction , . and . had . sent . at . once . for . a . locksmith . and . a . carpenter . the . tradesmen . came . while . we . were . yet . speaking ; . and . we . moved . in . a . body . to . old . dr . denmanâ\\x80\\x99s . surgical . theatre , . from . which . ( as . you . are . doubtless . aware ) . jekyllâ\\x80\\x99s . private . cabinet . is . most . conveniently . entered . the . door . was . very . strong , . the . lock . excellent ; . the . carpenter . avowed . he . would . have . great . trouble . and . have . to . do . much . damage , . if . force . were . to . be . used ; . and . the . locksmith . was . near . despair . but . this . last . was . a . handy . fellow , . and . after . two . hourâ\\x80\\x99s . work , . the . door . stood . open . the . press . marked . e . was . unlocked ; . and . i . took . out . the . drawer , . had . it . filled . up . with . straw . and . tied . in . a . sheet , . and . returned . with . it . to . cavendish . square . . . here . i . proceeded . to . examine . its . contents . the . powders . were . neatly . enough . made . up , . but . not . with . the . nicety . of . the . dispensing . chemist ; . so . that . it . was . plain . they . were . of . jekyllâ\\x80\\x99s . private . manufacture ; . and . when . i . opened . one . of . the . wrappers . i . found . what . seemed . to . me . a . simple . crystalline . salt . of . a . white . colour . the . phial , . to . which . i . next . turned . my . attention , . might . have . been . about . half . full . of . a . blood - red . liquor , . which . was . highly . pungent . to . the . sense . of . smell . and . seemed . to . me . to . contain . phosphorus . and . some . volatile . ether . at . the . other . ingredients . i . could . make . no . guess . the . book . was . an . ordinary . version . book . and . contained . little . but . a . series . of . dates . these . covered . a . period . of . many . years , . but . i . observed . that . the . entries . ceased . nearly . a . year . ago . and . quite . abruptly . here . and . there . a . brief . remark . was . appended . to . a . date , . usually . no . more . than . a . single . word : . â\\x80\\x9cdoubleâ\\x80\\x9d . occurring . perhaps . six . times . in . a . total . of . several . hundred . entries ; . and . once . very . early . in . the . list . and . followed . by . several . marks . of . exclamation , . â\\x80\\x9ctotal . failure ! ! ! â\\x80\\x9d . all . this , . though . it . whetted . my . curiosity , . told . me . little . that . was . definite . here . were . a . phial . of . some . salt , . and . the . record . of . a . series . of . experiments . that . had . led . ( like . too . many . of . jekyllâ\\x80\\x99s . investigations ) . to . no . end . of . practical . usefulness . how . could . the . presence . of . these . articles . in . my . house . affect . either . the . honour , . the . sanity , . or . the . life . of . my . flighty . colleague ? . if . his . messenger . could . go . to . one . place , . why . could . he . not . go . to . another ? . and . even . granting . some . impediment , . why . was . this . gentleman . to . be . received . by . me . in . secret ? . the . more . i . reflected . the . more . convinced . i . grew . that . i . was . dealing . with . a . case . of . cerebral . disease ; . and . though . i . dismissed . my . servants . to . bed , . i . loaded . an . old . revolver , . that . i . might . be . found . in . some . posture . of . self - defence . . . twelve . oâ\\x80\\x99clock . had . scarce . rung . out . over . london , . ere . the . knocker . sounded . very . gently . on . the . door . i . went . myself . at . the . summons , . and . found . a . small . man . crouching . against . the . pillars . of . the . portico . . . â\\x80\\x9care . you . come . from . dr . jekyll ? â\\x80\\x9d . i . asked . . . he . told . me . â\\x80\\x9cyesâ\\x80\\x9d . by . a . constrained . gesture ; . and . when . i . had . bidden . him . enter , . he . did . not . obey . me . without . a . searching . backward . glance . into . the . darkness . of . the . square . there . was . a . policeman . not . far . off , . advancing . with . his . bullâ\\x80\\x99s . eye . open ; . and . at . the . sight , . i . thought . my . visitor . started . and . made . greater . haste . . . these . particulars . struck . me , . i . confess , . disagreeably ; . and . as . i . followed . him . into . the . bright . light . of . the . consulting . room , . i . kept . my . hand . ready . on . my . weapon . here , . at . last , . i . had . a . chance . of . clearly . seeing . him . i . had . never . set . eyes . on . him . before , . so . much . was . certain . he . was . small , . as . i . have . said ; . i . was . struck . besides . with . the . shocking . expression . of . his . face , . with . his . remarkable . combination . of . great . muscular . activity . and . great . apparent . debility . of . constitution , . andâ\\x80\\x94last . but . not . leastâ\\x80\\x94with . the . odd , . subjective . disturbance . caused . by . his . neighbourhood . this . bore . some . resemblance . to . incipient . rigour , . and . was . accompanied . by . a . marked . sinking . of . the . pulse . at . the . time , . i . set . it . down . to . some . idiosyncratic , . personal . distaste , . and . merely . wondered . at . the . acuteness . of . the . symptoms ; . but . i . have . since . had . reason . to . believe . the . cause . to . lie . much . deeper . in . the . nature . of . man , . and . to . turn . on . some . nobler . hinge . than . the . principle . of . hatred . . . this . person . ( who . had . thus , . from . the . first . moment . of . his . entrance , . struck . in . me . what . i . can . only . describe . as . a . disgustful . curiosity ) . was . dressed . in . a . fashion . that . would . have . made . an . ordinary . person . laughable ; . his . clothes , . that . is . to . say , . although . they . were . of . rich . and . sober . fabric , . were . enormously . too . large . for . him . in . every . measurementâ\\x80\\x94the . trousers . hanging . on . his . legs . and . rolled . up . to . keep . them . from . the . ground , . the . waist . of . the . coat . below . his . haunches , . and . the . collar . sprawling . wide . upon . his . shoulders . strange . to . relate , . this . ludicrous . accoutrement . was . far . from . moving . me . to . laughter . rather , . as . there . was . something . abnormal . and . misbegotten . in . the . very . essence . of . the . creature . that . now . faced . meâ\\x80\\x94something . seizing , . surprising . and . revoltingâ\\x80\\x94this . fresh . disparity . seemed . but . to . fit . in . with . and . to . reinforce . it ; . so . that . to . my . interest . in . the . manâ\\x80\\x99s . nature . and . character , . there . was . added . a . curiosity . as . to . his . origin , . his . life , . his . fortune . and . status . in . the . world . . . these . observations , . though . they . have . taken . so . great . a . space . to . be . set . down . in , . were . yet . the . work . of . a . few . seconds . my . visitor . was , . indeed , . on . fire . with . sombre . excitement . . . â\\x80\\x9chave . you . got . it ? â\\x80\\x9d . he . cried . â\\x80\\x9chave . you . got . it ? â\\x80\\x9d . and . so . lively . was . his . impatience . that . he . even . laid . his . hand . upon . my . arm . and . sought . to . shake . me . . . i . put . him . back , . conscious . at . his . touch . of . a . certain . icy . pang . along . my . blood . â\\x80\\x9ccome , . sir , â\\x80\\x9d . said . i . â\\x80\\x9cyou . forget . that . i . have . not . yet . the . pleasure . of . your . acquaintance . be . seated , . if . you . please . â\\x80\\x9d . and . i . showed . him . an . example , . and . sat . down . myself . in . my . customary . seat . and . with . as . fair . an . imitation . of . my . ordinary . manner . to . a . patient , . as . the . lateness . of . the . hour , . the . nature . of . my . preoccupations , . and . the . horror . i . had . of . my . visitor , . would . suffer . me . to . muster . . . â\\x80\\x9ci . beg . your . pardon , . dr . lanyon , â\\x80\\x9d . he . replied . civilly . enough . â\\x80\\x9cwhat . you . say . is . very . well . founded ; . and . my . impatience . has . shown . its . heels . to . my . politeness . i . come . here . at . the . instance . of . your . colleague , . dr . henry . jekyll , . on . a . piece . of . business . of . some . moment ; . and . i . understood . . â\\x80\\x9d . he . paused . and . put . his . hand . to . his . throat , . and . i . could . see , . in . spite . of . his . collected . manner , . that . he . was . wrestling . against . the . approaches . of . the . hysteriaâ\\x80\\x94â\\x80\\x9ci . understood , . a . drawer . . â\\x80\\x9d . . but . here . i . took . pity . on . my . visitorâ\\x80\\x99s . suspense , . and . some . perhaps . on . my . own . growing . curiosity . . . â\\x80\\x9cthere . it . is , . sir , â\\x80\\x9d . said . i , . pointing . to . the . drawer , . where . it . lay . on . the . floor . behind . a . table . and . still . covered . with . the . sheet . . . he . sprang . to . it , . and . then . paused , . and . laid . his . hand . upon . his . heart ; . i . could . hear . his . teeth . grate . with . the . convulsive . action . of . his . jaws ; . and . his . face . was . so . ghastly . to . see . that . i . grew . alarmed . both . for . his . life . and . reason . . . â\\x80\\x9ccompose . yourself , â\\x80\\x9d . said . i . . . he . turned . a . dreadful . smile . to . me , . and . as . if . with . the . decision . of . despair , . plucked . away . the . sheet . at . sight . of . the . contents , . he . uttered . one . loud . sob . of . such . immense . relief . that . i . sat . petrified . and . the . next . moment , . in . a . voice . that . was . already . fairly . well . under . control , . â\\x80\\x9chave . you . a . graduated . glass ? â\\x80\\x9d . he . asked . . . i . rose . from . my . place . with . something . of . an . effort . and . gave . him . what . he . asked . . . he . thanked . me . with . a . smiling . nod , . measured . out . a . few . minims . of . the . red . tincture . and . added . one . of . the . powders . the . mixture , . which . was . at . first . of . a . reddish . hue , . began , . in . proportion . as . the . crystals . melted , . to . brighten . in . colour , . to . effervesce . audibly , . and . to . throw . off . small . fumes . of . vapour . suddenly . and . at . the . same . moment , . the . ebullition . ceased . and . the . compound . changed . to . a . dark . purple , . which . faded . again . more . slowly . to . a . watery . green . my . visitor , . who . had . watched . these . metamorphoses . with . a . keen . eye , . smiled , . set . down . the . glass . upon . the . table , . and . then . turned . and . looked . upon . me . with . an . air . of . scrutiny . . . â\\x80\\x9cand . now , â\\x80\\x9d . said . he , . â\\x80\\x9cto . settle . what . remains . will . you . be . wise ? . will . you . be . guided ? . will . you . suffer . me . to . take . this . glass . in . my . hand . and . to . go . forth . from . your . house . without . further . parley ? . or . has . the . greed . of . curiosity . too . much . command . of . you ? . think . before . you . answer , . for . it . shall . be . done . as . you . decide . as . you . decide , . you . shall . be . left . as . you . were . before , . and . neither . richer . nor . wiser , . unless . the . sense . of . service . rendered . to . a . man . in . mortal . distress . may . be . counted . as . a . kind . of . riches . of . the . soul . or , . if . you . shall . so . prefer . to . choose , . a . new . province . of . knowledge . and . new . avenues . to . fame . and . power . shall . be . laid . open . to . you , . here , . in . this . room , . upon . the . instant ; . and . your . sight . shall . be . blasted . by . a . prodigy . to . stagger . the . unbelief . of . satan . â\\x80\\x9d . . â\\x80\\x9csir , â\\x80\\x9d . said . i , . affecting . a . coolness . that . i . was . far . from . truly . possessing , . â\\x80\\x9cyou . speak . enigmas , . and . you . will . perhaps . not . wonder . that . i . hear . you . with . no . very . strong . impression . of . belief . but . i . have . gone . too . far . in . the . way . of . inexplicable . services . to . pause . before . i . see . the . end . â\\x80\\x9d . . â\\x80\\x9cit . is . well , â\\x80\\x9d . replied . my . visitor . â\\x80\\x9clanyon , . you . remember . your . vows : . what . follows . is . under . the . seal . of . our . profession . and . now , . you . who . have . so . long . been . bound . to . the . most . narrow . and . material . views , . you . who . have . denied . the . virtue . of . transcendental . medicine , . you . who . have . derided . your . superiorsâ\\x80\\x94behold ! â\\x80\\x9d . . he . put . the . glass . to . his . lips . and . drank . at . one . gulp . a . cry . followed ; . he . reeled , . staggered , . clutched . at . the . table . and . held . on , . staring . with . injected . eyes , . gasping . with . open . mouth ; . and . as . i . looked . there . came , . i . thought , . a . changeâ\\x80\\x94he . seemed . to . swellâ\\x80\\x94his . face . became . suddenly . black . and . the . features . seemed . to . melt . and . alterâ\\x80\\x94and . the . next . moment , . i . had . sprung . to . my . feet . and . leaped . back . against . the . wall , . my . arms . raised . to . shield . me . from . that . prodigy , . my . mind . submerged . in . terror . . . â\\x80\\x9co . god ! â\\x80\\x9d . i . screamed , . and . â\\x80\\x9co . god ! â\\x80\\x9d . again . and . again ; . for . there . before . my . eyesâ\\x80\\x94pale . and . shaken , . and . half . fainting , . and . groping . before . him . with . his . hands , . like . a . man . restored . from . deathâ\\x80\\x94there . stood . henry . jekyll ! . . what . he . told . me . in . the . next . hour , . i . cannot . bring . my . mind . to . set . on . paper . i . saw . what . i . saw , . i . heard . what . i . heard , . and . my . soul . sickened . at . it ; . and . yet . now . when . that . sight . has . faded . from . my . eyes , . i . ask . myself . if . i . believe . it , . and . i . cannot . answer . my . life . is . shaken . to . its . roots ; . sleep . has . left . me ; . the . deadliest . terror . sits . by . me . at . all . hours . of . the . day . and . night ; . and . i . feel . that . my . days . are . numbered , . and . that . i . must . die ; . and . yet . i . shall . die . incredulous . as . for . the . moral . turpitude . that . man . unveiled . to . me , . even . with . tears . of . penitence , . i . cannot , . even . in . memory , . dwell . on . it . without . a . start . of . horror . i . will . say . but . one . thing , . utterson , . and . that . ( if . you . can . bring . your . mind . to . credit . it ) . will . be . more . than . enough . the . creature . who . crept . into . my . house . that . night . was , . on . jekyllâ\\x80\\x99s . own . confession , . known . by . the . name . of . hyde . and . hunted . for . in . every . corner . of . the . land . as . the . murderer . of . carew . . . hastie . lanyon . . . . . . henry . jekyllâ\\x80\\x99s . full . statement . of . the . case . . i . was . born . in . the . year . 18â\\x80\\x94 . to . a . large . fortune , . endowed . besides . with . excellent . parts , . inclined . by . nature . to . industry , . fond . of . the . respect . of . the . wise . and . good . among . my . fellowmen , . and . thus , . as . might . have . been . supposed , . with . every . guarantee . of . an . honourable . and . distinguished . future . and . indeed . the . worst . of . my . faults . was . a . certain . impatient . gaiety . of . disposition , . such . as . has . made . the . happiness . of . many , . but . such . as . i . found . it . hard . to . reconcile . with . my . imperious . desire . to . carry . my . head . high , . and . wear . a . more . than . commonly . grave . countenance . before . the . public . hence . it . came . about . that . i . concealed . my . pleasures ; . and . that . when . i . reached . years . of . reflection , . and . began . to . look . round . me . and . take . stock . of . my . progress . and . position . in . the . world , . i . stood . already . committed . to . a . profound . duplicity . of . life . many . a . man . would . have . even . blazoned . such . irregularities . as . i . was . guilty . of ; . but . from . the . high . views . that . i . had . set . before . me , . i . regarded . and . hid . them . with . an . almost . morbid . sense . of . shame . it . was . thus . rather . the . exacting . nature . of . my . aspirations . than . any . particular . degradation . in . my . faults , . that . made . me . what . i . was , . and , . with . even . a . deeper . trench . than . in . the . majority . of . men , . severed . in . me . those . provinces . of . good . and . ill . which . divide . and . compound . manâ\\x80\\x99s . dual . nature . in . this . case , . i . was . driven . to . reflect . deeply . and . inveterately . on . that . hard . law . of . life , . which . lies . at . the . root . of . religion . and . is . one . of . the . most . plentiful . springs . of . distress . though . so . profound . a . double - dealer , . i . was . in . no . sense . a . hypocrite ; . both . sides . of . me . were . in . dead . earnest ; . i . was . no . more . myself . when . i . laid . aside . restraint . and . plunged . in . shame , . than . when . i . laboured , . in . the . eye . of . day , . at . the . furtherance . of . knowledge . or . the . relief . of . sorrow . and . suffering . and . it . chanced . that . the . direction . of . my . scientific . studies , . which . led . wholly . towards . the . mystic . and . the . transcendental , . reacted . and . shed . a . strong . light . on . this . consciousness . of . the . perennial . war . among . my . members . with . every . day , . and . from . both . sides . of . my . intelligence , . the . moral . and . the . intellectual , . i . thus . drew . steadily . nearer . to . that . truth , . by . whose . partial . discovery . i . have . been . doomed . to . such . a . dreadful . shipwreck : . that . man . is . not . truly . one , . but . truly . two . i . say . two , . because . the . state . of . my . own . knowledge . does . not . pass . beyond . that . point . others . will . follow , . others . will . outstrip . me . on . the . same . lines ; . and . i . hazard . the . guess . that . man . will . be . ultimately . known . for . a . mere . polity . of . multifarious , . incongruous . and . independent . denizens . i , . for . my . part , . from . the . nature . of . my . life , . advanced . infallibly . in . one . direction . and . in . one . direction . only . it . was . on . the . moral . side , . and . in . my . own . person , . that . i . learned . to . recognise . the . thorough . and . primitive . duality . of . man ; . i . saw . that , . of . the . two . natures . that . contended . in . the . field . of . my . consciousness , . even . if . i . could . rightly . be . said . to . be . either , . it . was . only . because . i . was . radically . both ; . and . from . an . early . date , . even . before . the . course . of . my . scientific . discoveries . had . begun . to . suggest . the . most . naked . possibility . of . such . a . miracle , . i . had . learned . to . dwell . with . pleasure , . as . a . beloved . daydream , . on . the . thought . of . the . separation . of . these . elements . if . each , . i . told . myself , . could . be . housed . in . separate . identities , . life . would . be . relieved . of . all . that . was . unbearable ; . the . unjust . might . go . his . way , . delivered . from . the . aspirations . and . remorse . of . his . more . upright . twin ; . and . the . just . could . walk . steadfastly . and . securely . on . his . upward . path , . doing . the . good . things . in . which . he . found . his . pleasure , . and . no . longer . exposed . to . disgrace . and . penitence . by . the . hands . of . this . extraneous . evil . it . was . the . curse . of . mankind . that . these . incongruous . faggots . were . thus . bound . togetherâ\\x80\\x94that . in . the . agonised . womb . of . consciousness , . these . polar . twins . should . be . continuously . struggling . . how , . then . were . they . dissociated ? . . i . was . so . far . in . my . reflections . when , . as . i . have . said , . a . side . light . began . to . shine . upon . the . subject . from . the . laboratory . table . i . began . to . perceive . more . deeply . than . it . has . ever . yet . been . stated , . the . trembling . immateriality , . the . mistlike . transience , . of . this . seemingly . so . solid . body . in . which . we . walk . attired . certain . agents . i . found . to . have . the . power . to . shake . and . pluck . back . that . fleshly . vestment , . even . as . a . wind . might . toss . the . curtains . of . a . pavilion . for . two . good . reasons , . i . will . not . enter . deeply . into . this . scientific . branch . of . my . confession . first , . because . i . have . been . made . to . learn . that . the . doom . and . burthen . of . our . life . is . bound . for . ever . on . manâ\\x80\\x99s . shoulders , . and . when . the . attempt . is . made . to . cast . it . off , . it . but . returns . upon . us . with . more . unfamiliar . and . more . awful . pressure . second , . because , . as . my . narrative . will . make , . alas ! . too . evident , . my . discoveries . were . incomplete . enough . then , . that . i . not . only . recognised . my . natural . body . from . the . mere . aura . and . effulgence . of . certain . of . the . powers . that . made . up . my . spirit , . but . managed . to . compound . a . drug . by . which . these . powers . should . be . dethroned . from . their . supremacy , . and . a . second . form . and . countenance . substituted , . none . the . less . natural . to . me . because . they . were . the . expression , . and . bore . the . stamp . of . lower . elements . in . my . soul . . . i . hesitated . long . before . i . put . this . theory . to . the . test . of . practice . i . knew . well . that . i . risked . death ; . for . any . drug . that . so . potently . controlled . and . shook . the . very . fortress . of . identity , . might , . by . the . least . scruple . of . an . overdose . or . at . the . least . inopportunity . in . the . moment . of . exhibition , . utterly . blot . out . that . immaterial . tabernacle . which . i . looked . to . it . to . change . but . the . temptation . of . a . discovery . so . singular . and . profound . at . last . overcame . the . suggestions . of . alarm . i . had . long . since . prepared . my . tincture ; . i . purchased . at . once , . from . a . firm . of . wholesale . chemists , . a . large . quantity . of . a . particular . salt . which . i . knew , . from . my . experiments , . to . be . the . last . ingredient . required ; . and . late . one . accursed . night , . i . compounded . the . elements , . watched . them . boil . and . smoke . together . in . the . glass , . and . when . the . ebullition . had . subsided , . with . a . strong . glow . of . courage , . drank . off . the . potion . . . the . most . racking . pangs . succeeded : . a . grinding . in . the . bones , . deadly . nausea , . and . a . horror . of . the . spirit . that . cannot . be . exceeded . at . the . hour . of . birth . or . death . then . these . agonies . began . swiftly . to . subside , . and . i . came . to . myself . as . if . out . of . a . great . sickness . there . was . something . strange . in . my . sensations , . something . indescribably . new . and , . from . its . very . novelty , . incredibly . sweet . i . felt . younger , . lighter , . happier . in . body ; . within . i . was . conscious . of . a . heady . recklessness , . a . current . of . disordered . sensual . images . running . like . a . millrace . in . my . fancy , . a . solution . of . the . bonds . of . obligation , . an . unknown . but . not . an . innocent . freedom . of . the . soul . i . knew . myself , . at . the . first . breath . of . this . new . life , . to . be . more . wicked , . tenfold . more . wicked , . sold . a . slave . to . my . original . evil ; . and . the . thought , . in . that . moment , . braced . and . delighted . me . like . wine . i . stretched . out . my . hands , . exulting . in . the . freshness . of . these . sensations ; . and . in . the . act , . i . was . suddenly . aware . that . i . had . lost . in . stature . . . there . was . no . mirror , . at . that . date , . in . my . room ; . that . which . stands . beside . me . as . i . write , . was . brought . there . later . on . and . for . the . very . purpose . of . these . transformations . the . night . however , . was . far . gone . into . the . morningâ\\x80\\x94the . morning , . black . as . it . was , . was . nearly . ripe . for . the . conception . of . the . dayâ\\x80\\x94the . inmates . of . my . house . were . locked . in . the . most . rigorous . hours . of . slumber ; . and . i . determined , . flushed . as . i . was . with . hope . and . triumph , . to . venture . in . my . new . shape . as . far . as . to . my . bedroom . i . crossed . the . yard , . wherein . the . constellations . looked . down . upon . me , . i . could . have . thought , . with . wonder , . the . first . creature . of . that . sort . that . their . unsleeping . vigilance . had . yet . disclosed . to . them ; . i . stole . through . the . corridors , . a . stranger . in . my . own . house ; . and . coming . to . my . room , . i . saw . for . the . first . time . the . appearance . of . edward . hyde . . . i . must . here . speak . by . theory . alone , . saying . not . that . which . i . know , . but . that . which . i . suppose . to . be . most . probable . the . evil . side . of . my . nature , . to . which . i . had . now . transferred . the . stamping . efficacy , . was . less . robust . and . less . developed . than . the . good . which . i . had . just . deposed . again , . in . the . course . of . my . life , . which . had . been , . after . all , . nine . tenths . a . life . of . effort , . virtue . and . control , . it . had . been . much . less . exercised . and . much . less . exhausted . and . hence , . as . i . think , . it . came . about . that . edward . hyde . was . so . much . smaller , . slighter . and . younger . than . henry . jekyll . even . as . good . shone . upon . the . countenance . of . the . one , . evil . was . written . broadly . and . plainly . on . the . face . of . the . other . evil . besides . ( which . i . must . still . believe . to . be . the . lethal . side . of . man ) . had . left . on . that . body . an . imprint . of . deformity . and . decay . and . yet . when . i . looked . upon . that . ugly . idol . in . the . glass , . i . was . conscious . of . no . repugnance , . rather . of . a . leap . of . welcome . this , . too , . was . myself . it . seemed . natural . and . human . in . my . eyes . it . bore . a . livelier . image . of . the . spirit , . it . seemed . more . express . and . single , . than . the . imperfect . and . divided . countenance . i . had . been . hitherto . accustomed . to . call . mine . and . in . so . far . i . was . doubtless . right . i . have . observed . that . when . i . wore . the . semblance . of . edward . hyde , . none . could . come . near . to . me . at . first . without . a . visible . misgiving . of . the . flesh . this , . as . i . take . it , . was . because . all . human . beings , . as . we . meet . them , . are . commingled . out . of . good . and . evil : . and . edward . hyde , . alone . in . the . ranks . of . mankind , . was . pure . evil . . . i . lingered . but . a . moment . at . the . mirror : . the . second . and . conclusive . experiment . had . yet . to . be . attempted ; . it . yet . remained . to . be . seen . if . i . had . lost . my . identity . beyond . redemption . and . must . flee . before . daylight . from . a . house . that . was . no . longer . mine ; . and . hurrying . back . to . my . cabinet , . i . once . more . prepared . and . drank . the . cup , . once . more . suffered . the . pangs . of . dissolution , . and . came . to . myself . once . more . with . the . character , . the . stature . and . the . face . of . henry . jekyll . . . that . night . i . had . come . to . the . fatal . cross - roads . had . i . approached . my . discovery . in . a . more . noble . spirit , . had . i . risked . the . experiment . while . under . the . empire . of . generous . or . pious . aspirations , . all . must . have . been . otherwise , . and . from . these . agonies . of . death . and . birth , . i . had . come . forth . an . angel . instead . of . a . fiend . the . drug . had . no . discriminating . action ; . it . was . neither . diabolical . nor . divine ; . it . but . shook . the . doors . of . the . prisonhouse . of . my . disposition ; . and . like . the . captives . of . philippi , . that . which . stood . within . ran . forth . at . that . time . my . virtue . slumbered ; . my . evil , . kept . awake . by . ambition , . was . alert . and . swift . to . seize . the . occasion ; . and . the . thing . that . was . projected . was . edward . hyde . hence , . although . i . had . now . two . characters . as . well . as . two . appearances , . one . was . wholly . evil , . and . the . other . was . still . the . old . henry . jekyll , . that . incongruous . compound . of . whose . reformation . and . improvement . i . had . already . learned . to . despair . the . movement . was . thus . wholly . toward . the . worse . . . even . at . that . time , . i . had . not . conquered . my . aversions . to . the . dryness . of . a . life . of . study . i . would . still . be . merrily . disposed . at . times ; . and . as . my . pleasures . were . ( to . say . the . least ) . undignified , . and . i . was . not . only . well . known . and . highly . considered , . but . growing . towards . the . elderly . man , . this . incoherency . of . my . life . was . daily . growing . more . unwelcome . it . was . on . this . side . that . my . new . power . tempted . me . until . i . fell . in . slavery . i . had . but . to . drink . the . cup , . to . doff . at . once . the . body . of . the . noted . professor , . and . to . assume , . like . a . thick . cloak , . that . of . edward . hyde . i . smiled . at . the . notion ; . it . seemed . to . me . at . the . time . to . be . humourous ; . and . i . made . my . preparations . with . the . most . studious . care . i . took . and . furnished . that . house . in . soho , . to . which . hyde . was . tracked . by . the . police ; . and . engaged . as . a . housekeeper . a . creature . whom . i . knew . well . to . be . silent . and . unscrupulous . on . the . other . side , . i . announced . to . my . servants . that . a . mr . . hyde . ( whom . i . described ) . was . to . have . full . liberty . and . power . about . my . house . in . the . square ; . and . to . parry . mishaps , . i . even . called . and . made . myself . a . familiar . object , . in . my . second . character . i . next . drew . up . that . will . to . which . you . so . much . objected ; . so . that . if . anything . befell . me . in . the . person . of . dr . jekyll , . i . could . enter . on . that . of . edward . hyde . without . pecuniary . loss . and . thus . fortified , . as . i . supposed , . on . every . side , . i . began . to . profit . by . the . strange . immunities . of . my . position . . . men . have . before . hired . bravos . to . transact . their . crimes , . while . their . own . person . and . reputation . sat . under . shelter . i . was . the . first . that . ever . did . so . for . his . pleasures . i . was . the . first . that . could . plod . in . the . public . eye . with . a . load . of . genial . respectability , . and . in . a . moment , . like . a . schoolboy , . strip . off . these . lendings . and . spring . headlong . into . the . sea . of . liberty . but . for . me , . in . my . impenetrable . mantle , . the . safety . was . complete . think . of . itâ\\x80\\x94i . did . not . even . exist ! . let . me . but . escape . into . my . laboratory . door , . give . me . but . a . second . or . two . to . mix . and . swallow . the . draught . that . i . had . always . standing . ready ; . and . whatever . he . had . done , . edward . hyde . would . pass . away . like . the . stain . of . breath . upon . a . mirror ; . and . there . in . his . stead , . quietly . at . home , . trimming . the . midnight . lamp . in . his . study , . a . man . who . could . afford . to . laugh . at . suspicion , . would . be . henry . jekyll . . . the . pleasures . which . i . made . haste . to . seek . in . my . disguise . were , . as . i . have . said , . undignified ; . i . would . scarce . use . a . harder . term . but . in . the . hands . of . edward . hyde , . they . soon . began . to . turn . toward . the . monstrous . when . i . would . come . back . from . these . excursions , . i . was . often . plunged . into . a . kind . of . wonder . at . my . vicarious . depravity . this . familiar . that . i . called . out . of . my . own . soul , . and . sent . forth . alone . to . do . his . good . pleasure , . was . a . being . inherently . malign . and . villainous ; . his . every . act . and . thought . centered . on . self ; . drinking . pleasure . with . bestial . avidity . from . any . degree . of . torture . to . another ; . relentless . like . a . man . of . stone . henry . jekyll . stood . at . times . aghast . before . the . acts . of . edward . hyde ; . but . the . situation . was . apart . from . ordinary . laws , . and . insidiously . relaxed . the . grasp . of . conscience . it . was . hyde , . after . all , . and . hyde . alone , . that . was . guilty . jekyll . was . no . worse ; . he . woke . again . to . his . good . qualities . seemingly . unimpaired ; . he . would . even . make . haste , . where . it . was . possible , . to . undo . the . evil . done . by . hyde . and . thus . his . conscience . slumbered . . . into . the . details . of . the . infamy . at . which . i . thus . connived . ( for . even . now . i . can . scarce . grant . that . i . committed . it ) . i . have . no . design . of . entering ; . i . mean . but . to . point . out . the . warnings . and . the . successive . steps . with . which . my . chastisement . approached . i . met . with . one . accident . which , . as . it . brought . on . no . consequence , . i . shall . no . more . than . mention . an . act . of . cruelty . to . a . child . aroused . against . me . the . anger . of . a . passer - by , . whom . i . recognised . the . other . day . in . the . person . of . your . kinsman ; . the . doctor . and . the . childâ\\x80\\x99s . family . joined . him ; . there . were . moments . when . i . feared . for . my . life ; . and . at . last , . in . order . to . pacify . their . too . just . resentment , . edward . hyde . had . to . bring . them . to . the . door , . and . pay . them . in . a . cheque . drawn . in . the . name . of . henry . jekyll . but . this . danger . was . easily . eliminated . from . the . future , . by . opening . an . account . at . another . bank . in . the . name . of . edward . hyde . himself ; . and . when , . by . sloping . my . own . hand . backward , . i . had . supplied . my . double . with . a . signature , . i . thought . i . sat . beyond . the . reach . of . fate . . . some . two . months . before . the . murder . of . sir . danvers , . i . had . been . out . for . one . of . my . adventures , . had . returned . at . a . late . hour , . and . woke . the . next . day . in . bed . with . somewhat . odd . sensations . it . was . in . vain . i . looked . about . me ; . in . vain . i . saw . the . decent . furniture . and . tall . proportions . of . my . room . in . the . square ; . in . vain . that . i . recognised . the . pattern . of . the . bed . curtains . and . the . design . of . the . mahogany . frame ; . something . still . kept . insisting . that . i . was . not . where . i . was , . that . i . had . not . wakened . where . i . seemed . to . be , . but . in . the . little . room . in . soho . where . i . was . accustomed . to . sleep . in . the . body . of . edward . hyde . i . smiled . to . myself , . and . in . my . psychological . way , . began . lazily . to . inquire . into . the . elements . of . this . illusion , . occasionally , . even . as . i . did . so , . dropping . back . into . a . comfortable . morning . doze . i . was . still . so . engaged . when , . in . one . of . my . more . wakeful . moments , . my . eyes . fell . upon . my . hand . now . the . hand . of . henry . jekyll . ( as . you . have . often . remarked ) . was . professional . in . shape . and . size ; . it . was . large , . firm , . white . and . comely . but . the . hand . which . i . now . saw , . clearly . enough , . in . the . yellow . light . of . a . mid - london . morning , . lying . half . shut . on . the . bedclothes , . was . lean , . corded , . knuckly , . of . a . dusky . pallor . and . thickly . shaded . with . a . swart . growth . of . hair . it . was . the . hand . of . edward . hyde . . . i . must . have . stared . upon . it . for . near . half . a . minute , . sunk . as . i . was . in . the . mere . stupidity . of . wonder , . before . terror . woke . up . in . my . breast . as . sudden . and . startling . as . the . crash . of . cymbals ; . and . bounding . from . my . bed . i . rushed . to . the . mirror . at . the . sight . that . met . my . eyes , . my . blood . was . changed . into . something . exquisitely . thin . and . icy . yes , . i . had . gone . to . bed . henry . jekyll , . i . had . awakened . edward . hyde . how . was . this . to . be . explained ? . i . asked . myself ; . and . then , . with . another . bound . of . terrorâ\\x80\\x94how . was . it . to . be . remedied ? . it . was . well . on . in . the . morning ; . the . servants . were . up ; . all . my . drugs . were . in . the . cabinetâ\\x80\\x94a . long . journey . down . two . pairs . of . stairs , . through . the . back . passage , . across . the . open . court . and . through . the . anatomical . theatre , . from . where . i . was . then . standing . horror - struck . it . might . indeed . be . possible . to . cover . my . face ; . but . of . what . use . was . that , . when . i . was . unable . to . conceal . the . alteration . in . my . stature ? . and . then . with . an . overpowering . sweetness . of . relief , . it . came . back . upon . my . mind . that . the . servants . were . already . used . to . the . coming . and . going . of . my . second . self . i . had . soon . dressed , . as . well . as . i . was . able , . in . clothes . of . my . own . size : . had . soon . passed . through . the . house , . where . bradshaw . stared . and . drew . back . at . seeing . mr . hyde . at . such . an . hour . and . in . such . a . strange . array ; . and . ten . minutes . later , . dr . jekyll . had . returned . to . his . own . shape . and . was . sitting . down , . with . a . darkened . brow , . to . make . a . feint . of . breakfasting . . . small . indeed . was . my . appetite . this . inexplicable . incident , . this . reversal . of . my . previous . experience , . seemed , . like . the . babylonian . finger . on . the . wall , . to . be . spelling . out . the . letters . of . my . judgment ; . and . i . began . to . reflect . more . seriously . than . ever . before . on . the . issues . and . possibilities . of . my . double . existence . that . part . of . me . which . i . had . the . power . of . projecting , . had . lately . been . much . exercised . and . nourished ; . it . had . seemed . to . me . of . late . as . though . the . body . of . edward . hyde . had . grown . in . stature , . as . though . ( when . i . wore . that . form ) . i . were . conscious . of . a . more . generous . tide . of . blood ; . and . i . began . to . spy . a . danger . that , . if . this . were . much . prolonged , . the . balance . of . my . nature . might . be . permanently . overthrown , . the . power . of . voluntary . change . be . forfeited , . and . the . character . of . edward . hyde . become . irrevocably . mine . the . power . of . the . drug . had . not . been . always . equally . displayed . once , . very . early . in . my . career , . it . had . totally . failed . me ; . since . then . i . had . been . obliged . on . more . than . one . occasion . to . double , . and . once , . with . infinite . risk . of . death , . to . treble . the . amount ; . and . these . rare . uncertainties . had . cast . hitherto . the . sole . shadow . on . my . contentment . . now , . however , . and . in . the . light . of . that . morningâ\\x80\\x99s . accident , . i . was . led . to . remark . that . whereas , . in . the . beginning , . the . difficulty . had . been . to . throw . off . the . body . of . jekyll , . it . had . of . late . gradually . but . decidedly . transferred . itself . to . the . other . side . all . things . therefore . seemed . to . point . to . this ; . that . i . was . slowly . losing . hold . of . my . original . and . better . self , . and . becoming . slowly . incorporated . with . my . second . and . worse . . . between . these . two , . i . now . felt . i . had . to . choose . my . two . natures . had . memory . in . common , . but . all . other . faculties . were . most . unequally . shared . between . them . jekyll . ( who . was . composite ) . now . with . the . most . sensitive . apprehensions , . now . with . a . greedy . gusto , . projected . and . shared . in . the . pleasures . and . adventures . of . hyde ; . but . hyde . was . indifferent . to . jekyll , . or . but . remembered . him . as . the . mountain . bandit . remembers . the . cavern . in . which . he . conceals . himself . from . pursuit . jekyll . had . more . than . a . fatherâ\\x80\\x99s . interest ; . hyde . had . more . than . a . sonâ\\x80\\x99s . indifference . to . cast . in . my . lot . with . jekyll , . was . to . die . to . those . appetites . which . i . had . long . secretly . indulged . and . had . of . late . begun . to . pamper . to . cast . it . in . with . hyde , . was . to . die . to . a . thousand . interests . and . aspirations , . and . to . become , . at . a . blow . and . forever , . despised . and . friendless . the . bargain . might . appear . unequal ; . but . there . was . still . another . consideration . in . the . scales ; . for . while . jekyll . would . suffer . smartingly . in . the . fires . of . abstinence , . hyde . would . be . not . even . conscious . of . all . that . he . had . lost . strange . as . my . circumstances . were , . the . terms . of . this . debate . are . as . old . and . commonplace . as . man ; . much . the . same . inducements . and . alarms . cast . the . die . for . any . tempted . and . trembling . sinner ; . and . it . fell . out . with . me , . as . it . falls . with . so . vast . a . majority . of . my . fellows , . that . i . chose . the . better . part . and . was . found . wanting . in . the . strength . to . keep . to . it . . . yes , . i . preferred . the . elderly . and . discontented . doctor , . surrounded . by . friends . and . cherishing . honest . hopes ; . and . bade . a . resolute . farewell . to . the . liberty , . the . comparative . youth , . the . light . step , . leaping . impulses . and . secret . pleasures , . that . i . had . enjoyed . in . the . disguise . of . hyde . i . made . this . choice . perhaps . with . some . unconscious . reservation , . for . i . neither . gave . up . the . house . in . soho , . nor . destroyed . the . clothes . of . edward . hyde , . which . still . lay . ready . in . my . cabinet . for . two . months , . however , . i . was . true . to . my . determination ; . for . two . months , . i . led . a . life . of . such . severity . as . i . had . never . before . attained . to , . and . enjoyed . the . compensations . of . an . approving . conscience . but . time . began . at . last . to . obliterate . the . freshness . of . my . alarm ; . the . praises . of . conscience . began . to . grow . into . a . thing . of . course ; . i . began . to . be . tortured . with . throes . and . longings , . as . of . hyde . struggling . after . freedom ; . and . at . last , . in . an . hour . of . moral . weakness , . i . once . again . compounded . and . swallowed . the . transforming . draught . . . i . do . not . suppose . that , . when . a . drunkard . reasons . with . himself . upon . his . vice , . he . is . once . out . of . five . hundred . times . affected . by . the . dangers . that . he . runs . through . his . brutish , . physical . insensibility ; . neither . had . i , . long . as . i . had . considered . my . position , . made . enough . allowance . for . the . complete . moral . insensibility . and . insensate . readiness . to . evil , . which . were . the . leading . characters . of . edward . hyde . yet . it . was . by . these . that . i . was . punished . my . devil . had . been . long . caged , . he . came . out . roaring . i . was . conscious , . even . when . i . took . the . draught , . of . a . more . unbridled , . a . more . furious . propensity . to . ill . it . must . have . been . this , . i . suppose , . that . stirred . in . my . soul . that . tempest . of . impatience . with . which . i . listened . to . the . civilities . of . my . unhappy . victim ; . i . declare , . at . least , . before . god , . no . man . morally . sane . could . have . been . guilty . of . that . crime . upon . so . pitiful . a . provocation ; . and . that . i . struck . in . no . more . reasonable . spirit . than . that . in . which . a . sick . child . may . break . a . plaything . but . i . had . voluntarily . stripped . myself . of . all . those . balancing . instincts . by . which . even . the . worst . of . us . continues . to . walk . with . some . degree . of . steadiness . among . temptations ; . and . in . my . case , . to . be . tempted , . however . slightly , . was . to . fall . . . instantly . the . spirit . of . hell . awoke . in . me . and . raged . with . a . transport . of . glee , . i . mauled . the . unresisting . body , . tasting . delight . from . every . blow ; . and . it . was . not . till . weariness . had . begun . to . succeed , . that . i . was . suddenly , . in . the . top . fit . of . my . delirium , . struck . through . the . heart . by . a . cold . thrill . of . terror . a . mist . dispersed ; . i . saw . my . life . to . be . forfeit ; . and . fled . from . the . scene . of . these . excesses , . at . once . glorying . and . trembling , . my . lust . of . evil . gratified . and . stimulated , . my . love . of . life . screwed . to . the . topmost . peg . i . ran . to . the . house . in . soho , . and . ( to . make . assurance . doubly . sure ) . destroyed . my . papers ; . thence . i . set . out . through . the . lamplit . streets , . in . the . same . divided . ecstasy . of . mind , . gloating . on . my . crime , . light - headedly . devising . others . in . the . future , . and . yet . still . hastening . and . still . hearkening . in . my . wake . for . the . steps . of . the . avenger . . hyde . had . a . song . upon . his . lips . as . he . compounded . the . draught , . and . as . he . drank . it , . pledged . the . dead . man . the . pangs . of . transformation . had . not . done . tearing . him , . before . henry . jekyll , . with . streaming . tears . of . gratitude . and . remorse , . had . fallen . upon . his . knees . and . lifted . his . clasped . hands . to . god . the . veil . of . self - indulgence . was . rent . from . head . to . foot . i . saw . my . life . as . a . whole : . i . followed . it . up . from . the . days . of . childhood , . when . i . had . walked . with . my . fatherâ\\x80\\x99s . hand , . and . through . the . self - denying . toils . of . my . professional . life , . to . arrive . again . and . again , . with . the . same . sense . of . unreality , . at . the . damned . horrors . of . the . evening . i . could . have . screamed . aloud ; . i . sought . with . tears . and . prayers . to . smother . down . the . crowd . of . hideous . images . and . sounds . with . which . my . memory . swarmed . against . me ; . and . still , . between . the . petitions , . the . ugly . face . of . my . iniquity . stared . into . my . soul . as . the . acuteness . of . this . remorse . began . to . die . away , . it . was . succeeded . by . a . sense . of . joy . the . problem . of . my . conduct . was . solved . hyde . was . thenceforth . impossible ; . whether . i . would . or . not , . i . was . now . confined . to . the . better . part . of . my . existence ; . and . o , . how . i . rejoiced . to . think . of . it ! . with . what . willing . humility . i . embraced . anew . the . restrictions . of . natural . life ! . with . what . sincere . renunciation . i . locked . the . door . by . which . i . had . so . often . gone . and . come , . and . ground . the . key . under . my . heel ! . . the . next . day , . came . the . news . that . the . murder . had . been . overlooked , . that . the . guilt . of . hyde . was . patent . to . the . world , . and . that . the . victim . was . a . man . high . in . public . estimation . it . was . not . only . a . crime , . it . had . been . a . tragic . folly . i . think . i . was . glad . to . know . it ; . i . think . i . was . glad . to . have . my . better . impulses . thus . buttressed . and . guarded . by . the . terrors . of . the . scaffold . jekyll . was . now . my . city . of . refuge ; . let . but . hyde . peep . out . an . instant , . and . the . hands . of . all . men . would . be . raised . to . take . and . slay . him . . . i . resolved . in . my . future . conduct . to . redeem . the . past ; . and . i . can . say . with . honesty . that . my . resolve . was . fruitful . of . some . good . you . know . yourself . how . earnestly , . in . the . last . months . of . the . last . year , . i . laboured . to . relieve . suffering ; . you . know . that . much . was . done . for . others , . and . that . the . days . passed . quietly , . almost . happily . for . myself . nor . can . i . truly . say . that . i . wearied . of . this . beneficent . and . innocent . life ; . i . think . instead . that . i . daily . enjoyed . it . more . completely ; . but . i . was . still . cursed . with . my . duality . of . purpose ; . and . as . the . first . edge . of . my . penitence . wore . off , . the . lower . side . of . me , . so . long . indulged , . so . recently . chained . down , . began . to . growl . for . licence . not . that . i . dreamed . of . resuscitating . hyde ; . the . bare . idea . of . that . would . startle . me . to . frenzy : . no , . it . was . in . my . own . person . that . i . was . once . more . tempted . to . trifle . with . my . conscience ; . and . it . was . as . an . ordinary . secret . sinner . that . i . at . last . fell . before . the . assaults . of . temptation . . . there . comes . an . end . to . all . things ; . the . most . capacious . measure . is . filled . at . last ; . and . this . brief . condescension . to . my . evil . finally . destroyed . the . balance . of . my . soul . and . yet . i . was . not . alarmed ; . the . fall . seemed . natural , . like . a . return . to . the . old . days . before . i . had . made . my . discovery . it . was . a . fine , . clear , . january . day , . wet . under . foot . where . the . frost . had . melted , . but . cloudless . overhead ; . and . the . regentâ\\x80\\x99s . park . was . full . of . winter . chirrupings . and . sweet . with . spring . odours . i . sat . in . the . sun . on . a . bench ; . the . animal . within . me . licking . the . chops . of . memory ; . the . spiritual . side . a . little . drowsed , . promising . subsequent . penitence , . but . not . yet . moved . to . begin . after . all , . i . reflected , . i . was . like . my . neighbours ; . and . then . i . smiled , . comparing . myself . with . other . men , . comparing . my . active . good - will . with . the . lazy . cruelty . of . their . neglect . and . at . the . very . moment . of . that . vainglorious . thought , . a . qualm . came . over . me , . a . horrid . nausea . and . the . most . deadly . shuddering . these . passed . away , . and . left . me . faint ; . and . then . as . in . its . turn . faintness . subsided , . i . began . to . be . aware . of . a . change . in . the . temper . of . my . thoughts , . a . greater . boldness , . a . contempt . of . danger , . a . solution . of . the . bonds . of . obligation . i . looked . down ; . my . clothes . hung . formlessly . on . my . shrunken . limbs ; . the . hand . that . lay . on . my . knee . was . corded . and . hairy . i . was . once . more . edward . hyde . a . moment . before . i . had . been . safe . of . all . menâ\\x80\\x99s . respect , . wealthy , . belovedâ\\x80\\x94the . cloth . laying . for . me . in . the . dining - room . at . home ; . and . now . i . was . the . common . quarry . of . mankind , . hunted , . houseless , . a . known . murderer , . thrall . to . the . gallows . . . my . reason . wavered , . but . it . did . not . fail . me . utterly . i . have . more . than . once . observed . that . in . my . second . character , . my . faculties . seemed . sharpened . to . a . point . and . my . spirits . more . tensely . elastic ; . thus . it . came . about . that , . where . jekyll . perhaps . might . have . succumbed , . hyde . rose . to . the . importance . of . the . moment . my . drugs . were . in . one . of . the . presses . of . my . cabinet ; . how . was . i . to . reach . them ? . that . was . the . problem . that . ( crushing . my . temples . in . my . hands ) . i . set . myself . to . solve . the . laboratory . door . i . had . closed . if . i . sought . to . enter . by . the . house , . my . own . servants . would . consign . me . to . the . gallows . i . saw . i . must . employ . another . hand , . and . thought . of . lanyon . how . was . he . to . be . reached ? . how . persuaded ? . supposing . that . i . escaped . capture . in . the . streets , . how . was . i . to . make . my . way . into . his . presence ? . and . how . should . i , . an . unknown . and . displeasing . visitor , . prevail . on . the . famous . physician . to . rifle . the . study . of . his . colleague , . dr . jekyll ? . then . i . remembered . that . of . my . original . character , . one . part . remained . to . me : . i . could . write . my . own . hand ; . and . once . i . had . conceived . that . kindling . spark , . the . way . that . i . must . follow . became . lighted . up . from . end . to . end . . . thereupon , . i . arranged . my . clothes . as . best . i . could , . and . summoning . a . passing . hansom , . drove . to . an . hotel . in . portland . street , . the . name . of . which . i . chanced . to . remember . at . my . appearance . ( which . was . indeed . comical . enough , . however . tragic . a . fate . these . garments . covered ) . the . driver . could . not . conceal . his . mirth . i . gnashed . my . teeth . upon . him . with . a . gust . of . devilish . fury ; . and . the . smile . withered . from . his . faceâ\\x80\\x94happily . for . himâ\\x80\\x94yet . more . happily . for . myself , . for . in . another . instant . i . had . certainly . dragged . him . from . his . perch . at . the . inn , . as . i . entered , . i . looked . about . me . with . so . black . a . countenance . as . made . the . attendants . tremble ; . not . a . look . did . they . exchange . in . my . presence ; . but . obsequiously . took . my . orders , . led . me . to . a . private . room , . and . brought . me . wherewithal . to . write . hyde . in . danger . of . his . life . was . a . creature . new . to . me ; . shaken . with . inordinate . anger , . strung . to . the . pitch . of . murder , . lusting . to . inflict . pain . yet . the . creature . was . astute ; . mastered . his . fury . with . a . great . effort . of . the . will ; . composed . his . two . important . letters , . one . to . lanyon . and . one . to . poole ; . and . that . he . might . receive . actual . evidence . of . their . being . posted , . sent . them . out . with . directions . that . they . should . be . registered . thenceforward , . he . sat . all . day . over . the . fire . in . the . private . room , . gnawing . his . nails ; . there . he . dined , . sitting . alone . with . his . fears , . the . waiter . visibly . quailing . before . his . eye ; . and . thence , . when . the . night . was . fully . come , . he . set . forth . in . the . corner . of . a . closed . cab , . and . was . driven . to . and . fro . about . the . streets . of . the . city . he , . i . sayâ\\x80\\x94i . cannot . say , . i . that . child . of . hell . had . nothing . human ; . nothing . lived . in . him . but . fear . and . hatred . and . when . at . last , . thinking . the . driver . had . begun . to . grow . suspicious , . he . discharged . the . cab . and . ventured . on . foot , . attired . in . his . misfitting . clothes , . an . object . marked . out . for . observation , . into . the . midst . of . the . nocturnal . passengers , . these . two . base . passions . raged . within . him . like . a . tempest . he . walked . fast , . hunted . by . his . fears , . chattering . to . himself , . skulking . through . the . less . frequented . thoroughfares , . counting . the . minutes . that . still . divided . him . from . midnight . once . a . woman . spoke . to . him , . offering , . i . think , . a . box . of . lights . he . smote . her . in . the . face , . and . she . fled . . . when . i . came . to . myself . at . lanyonâ\\x80\\x99s , . the . horror . of . my . old . friend . perhaps . affected . me . somewhat : . i . do . not . know ; . it . was . at . least . but . a . drop . in . the . sea . to . the . abhorrence . with . which . i . looked . back . upon . these . hours . a . change . had . come . over . me . it . was . no . longer . the . fear . of . the . gallows , . it . was . the . horror . of . being . hyde . that . racked . me . i . received . lanyonâ\\x80\\x99s . condemnation . partly . in . a . dream ; . it . was . partly . in . a . dream . that . i . came . home . to . my . own . house . and . got . into . bed . i . slept . after . the . prostration . of . the . day , . with . a . stringent . and . profound . slumber . which . not . even . the . nightmares . that . wrung . me . could . avail . to . break . i . awoke . in . the . morning . shaken , . weakened , . but . refreshed . i . still . hated . and . feared . the . thought . of . the . brute . that . slept . within . me , . and . i . had . not . of . course . forgotten . the . appalling . dangers . of . the . day . before ; . but . i . was . once . more . at . home , . in . my . own . house . and . close . to . my . drugs ; . and . gratitude . for . my . escape . shone . so . strong . in . my . soul . that . it . almost . rivalled . the . brightness . of . hope . . . i . was . stepping . leisurely . across . the . court . after . breakfast , . drinking . the . chill . of . the . air . with . pleasure , . when . i . was . seized . again . with . those . indescribable . sensations . that . heralded . the . change ; . and . i . had . but . the . time . to . gain . the . shelter . of . my . cabinet , . before . i . was . once . again . raging . and . freezing . with . the . passions . of . hyde . it . took . on . this . occasion . a . double . dose . to . recall . me . to . myself ; . and . alas ! . six . hours . after , . as . i . sat . looking . sadly . in . the . fire , . the . pangs . returned , . and . the . drug . had . to . be . re - administered . in . short , . from . that . day . forth . it . seemed . only . by . a . great . effort . as . of . gymnastics , . and . only . under . the . immediate . stimulation . of . the . drug , . that . i . was . able . to . wear . the . countenance . of . jekyll . at . all . hours . of . the . day . and . night , . i . would . be . taken . with . the . premonitory . shudder ; . above . all , . if . i . slept , . or . even . dozed . for . a . moment . in . my . chair , . it . was . always . as . hyde . that . i . awakened . under . the . strain . of . this . continually . impending . doom . and . by . the . sleeplessness . to . which . i . now . condemned . myself , . ay , . even . beyond . what . i . had . thought . possible . to . man , . i . became , . in . my . own . person , . a . creature . eaten . up . and . emptied . by . fever , . languidly . weak . both . in . body . and . mind , . and . solely . occupied . by . one . thought : . the . horror . of . my . other . self . but . when . i . slept , . or . when . the . virtue . of . the . medicine . wore . off , . i . would . leap . almost . without . transition . ( for . the . pangs . of . transformation . grew . daily . less . marked ) . into . the . possession . of . a . fancy . brimming . with . images . of . terror , . a . soul . boiling . with . causeless . hatreds , . and . a . body . that . seemed . not . strong . enough . to . contain . the . raging . energies . of . life . the . powers . of . hyde . seemed . to . have . grown . with . the . sickliness . of . jekyll . and . certainly . the . hate . that . now . divided . them . was . equal . on . each . side . with . jekyll , . it . was . a . thing . of . vital . instinct . he . had . now . seen . the . full . deformity . of . that . creature . that . shared . with . him . some . of . the . phenomena . of . consciousness , . and . was . co - heir . with . him . to . death : . and . beyond . these . links . of . community , . which . in . themselves . made . the . most . poignant . part . of . his . distress , . he . thought . of . hyde , . for . all . his . energy . of . life , . as . of . something . not . only . hellish . but . inorganic . this . was . the . shocking . thing ; . that . the . slime . of . the . pit . seemed . to . utter . cries . and . voices ; . that . the . amorphous . dust . gesticulated . and . sinned ; . that . what . was . dead , . and . had . no . shape , . should . usurp . the . offices . of . life . and . this . again , . that . that . insurgent . horror . was . knit . to . him . closer . than . a . wife , . closer . than . an . eye ; . lay . caged . in . his . flesh , . where . he . heard . it . mutter . and . felt . it . struggle . to . be . born ; . and . at . every . hour . of . weakness , . and . in . the . confidence . of . slumber , . prevailed . against . him , . and . deposed . him . out . of . life . the . hatred . of . hyde . for . jekyll . was . of . a . different . order . his . terror . of . the . gallows . drove . him . continually . to . commit . temporary . suicide , . and . return . to . his . subordinate . station . of . a . part . instead . of . a . person ; . but . he . loathed . the . necessity , . he . loathed . the . despondency . into . which . jekyll . was . now . fallen , . and . he . resented . the . dislike . with . which . he . was . himself . regarded . hence . the . ape - like . tricks . that . he . would . play . me , . scrawling . in . my . own . hand . blasphemies . on . the . pages . of . my . books , . burning . the . letters . and . destroying . the . portrait . of . my . father ; . and . indeed , . had . it . not . been . for . his . fear . of . death , . he . would . long . ago . have . ruined . himself . in . order . to . involve . me . in . the . ruin . but . his . love . of . life . is . wonderful ; . i . go . further : . i , . who . sicken . and . freeze . at . the . mere . thought . of . him , . when . i . recall . the . abjection . and . passion . of . this . attachment , . and . when . i . know . how . he . fears . my . power . to . cut . him . off . by . suicide , . i . find . it . in . my . heart . to . pity . him . . . it . is . useless , . and . the . time . awfully . fails . me , . to . prolong . this . description ; . no . one . has . ever . suffered . such . torments , . let . that . suffice ; . and . yet . even . to . these , . habit . broughtâ\\x80\\x94no , . not . alleviationâ\\x80\\x94but . a . certain . callousness . of . soul , . a . certain . acquiescence . of . despair ; . and . my . punishment . might . have . gone . on . for . years , . but . for . the . last . calamity . which . has . now . fallen , . and . which . has . finally . severed . me . from . my . own . face . and . nature . my . provision . of . the . salt , . which . had . never . been . renewed . since . the . date . of . the . first . experiment , . began . to . run . low . i . sent . out . for . a . fresh . supply . and . mixed . the . draught ; . the . ebullition . followed , . and . the . first . change . of . colour , . not . the . second ; . i . drank . it . and . it . was . without . efficiency . you . will . learn . from . poole . how . i . have . had . london . ransacked ; . it . was . in . vain ; . and . i . am . now . persuaded . that . my . first . supply . was . impure , . and . that . it . was . that . unknown . impurity . which . lent . efficacy . to . the . draught . . . about . a . week . has . passed , . and . i . am . now . finishing . this . statement . under . the . influence . of . the . last . of . the . old . powders . this , . then , . is . the . last . time , . short . of . a . miracle , . that . henry . jekyll . can . think . his . own . thoughts . or . see . his . own . face . ( now . how . sadly . altered ! ) . in . the . glass . nor . must . i . delay . too . long . to . bring . my . writing . to . an . end ; . for . if . my . narrative . has . hitherto . escaped . destruction , . it . has . been . by . a . combination . of . great . prudence . and . great . good . luck . should . the . throes . of . change . take . me . in . the . act . of . writing . it , . hyde . will . tear . it . in . pieces ; . but . if . some . time . shall . have . elapsed . after . i . have . laid . it . by , . his . wonderful . selfishness . and . circumscription . to . the . moment . will . probably . save . it . once . again . from . the . action . of . his . ape - like . spite . and . indeed . the . doom . that . is . closing . on . us . both . has . already . changed . and . crushed . him . half . an . hour . from . now , . when . i . shall . again . and . forever . reindue . that . hated . personality , . i . know . how . i . shall . sit . shuddering . and . weeping . in . my . chair , . or . continue , . with . the . most . strained . and . fearstruck . ecstasy . of . listening , . to . pace . up . and . down . this . room . ( my . last . earthly . refuge ) . and . give . ear . to . every . sound . of . menace . will . hyde . die . upon . the . scaffold ? . or . will . he . find . courage . to . release . himself . at . the . last . moment ? . god . knows ; . i . am . careless ; . this . is . my . true . hour . of . death , . and . what . is . to . follow . concerns . another . than . myself . here . then , . as . i . lay . down . the . pen . and . proceed . to . seal . up . my . confession , . i . bring . the . life . of . that . unhappy . henry . jekyll . to . an . end . . . . . . * * * . end . of . the . project . gutenberg . ebook . the . strange . case . of . dr . jekyll . and . mr . hyde . * * * . . * * * * * . this . file . should . be . named . 43 - 0 . txt . or . 43 - 0 . zip . * * * * * . this . and . all . associated . files . of . various . formats . will . be . found . in : . https : / / www . gutenberg . org / 4 / 43 / . . updated . editions . will . replace . the . previous . one - - the . old . editions . will . be . renamed . . . creating . the . works . from . print . editions . not . protected . by . u . s . copyright . law . means . that . no . one . owns . a . united . states . copyright . in . these . works , . so . the . foundation . ( and . you ! ) . can . copy . and . distribute . it . in . the . united . states . without . permission . and . without . paying . copyright . royalties . special . rules , . set . forth . in . the . general . terms . of . use . part . of . this . license , . apply . to . copying . and . distributing . project . gutenberg - tm . electronic . works . to . protect . the . project . gutenberg - tm . concept . and . trademark . project . gutenberg . is . a . registered . trademark , . and . may . not . be . used . if . you . charge . for . an . ebook , . except . by . following . the . terms . of . the . trademark . license , . including . paying . royalties . for . use . of . the . project . gutenberg . trademark . if . you . do . not . charge . anything . for . copies . of . this . ebook , . complying . with . the . trademark . license . is . very . easy . you . may . use . this . ebook . for . nearly . any . purpose . such . as . creation . of . derivative . works , . reports , . performances . and . research . project . gutenberg . ebooks . may . be . modified . and . printed . and . given . away - - you . may . do . practically . anything . in . the . united . states . with . ebooks . not . protected . by . u . s . copyright . law . redistribution . is . subject . to . the . trademark . license , . especially . commercial . redistribution . . . start : . full . license . . the . full . project . gutenberg . license . please . read . this . before . you . distribute . or . use . this . work . . to . protect . the . project . gutenberg - tm . mission . of . promoting . the . free . distribution . of . electronic . works , . by . using . or . distributing . this . work . ( or . any . other . work . associated . in . any . way . with . the . phrase . \" project . gutenberg \" ) , . you . agree . to . comply . with . all . the . terms . of . the . full . project . gutenberg - tm . license . available . with . this . file . or . online . at . www . gutenberg . org / license . . . section . 1 . general . terms . of . use . and . redistributing . project . gutenberg - tm . electronic . works . . 1 . a . by . reading . or . using . any . part . of . this . project . gutenberg - tm . electronic . work , . you . indicate . that . you . have . read , . understand , . agree . to . and . accept . all . the . terms . of . this . license . and . intellectual . property . ( trademark / copyright ) . agreement . if . you . do . not . agree . to . abide . by . all . the . terms . of . this . agreement , . you . must . cease . using . and . return . or . destroy . all . copies . of . project . gutenberg - tm . electronic . works . in . your . possession . if . you . paid . a . fee . for . obtaining . a . copy . of . or . access . to . a . project . gutenberg - tm . electronic . work . and . you . do . not . agree . to . be . bound . by . the . terms . of . this . agreement , . you . may . obtain . a . refund . from . the . person . or . entity . to . whom . you . paid . the . fee . as . set . forth . in . paragraph . 1 . e . 8 . . . 1 . b . \" project . gutenberg \" . is . a . registered . trademark . it . may . only . be . used . on . or . associated . in . any . way . with . an . electronic . work . by . people . who . agree . to . be . bound . by . the . terms . of . this . agreement . there . are . a . few . things . that . you . can . do . with . most . project . gutenberg - tm . electronic . works . even . without . complying . with . the . full . terms . of . this . agreement . see . paragraph . 1 . c . below . there . are . a . lot . of . things . you . can . do . with . project . gutenberg - tm . electronic . works . if . you . follow . the . terms . of . this . agreement . and . help . preserve . free . future . access . to . project . gutenberg - tm . electronic . works . see . paragraph . 1 . e . below . . . 1 . c . the . project . gutenberg . literary . archive . foundation . ( \" the . foundation \" . or . pglaf ) , . owns . a . compilation . copyright . in . the . collection . of . project . gutenberg - tm . electronic . works . nearly . all . the . individual . works . in . the . collection . are . in . the . public . domain . in . the . united . states . if . an . individual . work . is . unprotected . by . copyright . law . in . the . united . states . and . you . are . located . in . the . united . states , . we . do . not . claim . a . right . to . prevent . you . from . copying , . distributing , . performing , . displaying . or . creating . derivative . works . based . on . the . work . as . long . as . all . references . to . project . gutenberg . are . removed . of . course , . we . hope . that . you . will . support . the . project . gutenberg - tm . mission . of . promoting . free . access . to . electronic . works . by . freely . sharing . project . gutenberg - tm . works . in . compliance . with . the . terms . of . this . agreement . for . keeping . the . project . gutenberg - tm . name . associated . with . the . work . you . can . easily . comply . with . the . terms . of . this . agreement . by . keeping . this . work . in . the . same . format . with . its . attached . full . project . gutenberg - tm . license . when . you . share . it . without . charge . with . others . . . 1 . d . the . copyright . laws . of . the . place . where . you . are . located . also . govern . what . you . can . do . with . this . work . copyright . laws . in . most . countries . are . in . a . constant . state . of . change . if . you . are . outside . the . united . states , . check . the . laws . of . your . country . in . addition . to . the . terms . of . this . agreement . before . downloading , . copying , . displaying , . performing , . distributing . or . creating . derivative . works . based . on . this . work . or . any . other . project . gutenberg - tm . work . the . foundation . makes . no . representations . concerning . the . copyright . status . of . any . work . in . any . country . other . than . the . united . states . . . 1 . e . unless . you . have . removed . all . references . to . project . gutenberg : . . 1 . e . 1 . the . following . sentence , . with . active . links . to , . or . other . immediate . access . to , . the . full . project . gutenberg - tm . license . must . appear . prominently . whenever . any . copy . of . a . project . gutenberg - tm . work . ( any . work . on . which . the . phrase . \" project . gutenberg \" . appears , . or . with . which . the . phrase . \" project . gutenberg \" . is . associated ) . is . accessed , . displayed , . performed , . viewed , . copied . or . distributed : . . this . ebook . is . for . the . use . of . anyone . anywhere . in . the . united . states . and . most . other . parts . of . the . world . at . no . cost . and . with . almost . no . restrictions . whatsoever . you . may . copy . it , . give . it . away . or . re - use . it . under . the . terms . of . the . project . gutenberg . license . included . with . this . ebook . or . online . at . www . gutenberg . org . if . you . are . not . located . in . the . united . states , . you . will . have . to . check . the . laws . of . the . country . where . you . are . located . before . using . this . ebook . . . 1 . e . 2 . if . an . individual . project . gutenberg - tm . electronic . work . is . derived . from . texts . not . protected . by . u . s . copyright . law . ( does . not . contain . a . notice . indicating . that . it . is . posted . with . permission . of . the . copyright . holder ) , . the . work . can . be . copied . and . distributed . to . anyone . in . the . united . states . without . paying . any . fees . or . charges . if . you . are . redistributing . or . providing . access . to . a . work . with . the . phrase . \" project . gutenberg \" . associated . with . or . appearing . on . the . work , . you . must . comply . either . with . the . requirements . of . paragraphs . 1 . e . 1 . through . 1 . e . 7 . or . obtain . permission . for . the . use . of . the . work . and . the . project . gutenberg - tm . trademark . as . set . forth . in . paragraphs . 1 . e . 8 . or . 1 . e . 9 . . . 1 . e . 3 . if . an . individual . project . gutenberg - tm . electronic . work . is . posted . with . the . permission . of . the . copyright . holder , . your . use . and . distribution . must . comply . with . both . paragraphs . 1 . e . 1 . through . 1 . e . 7 . and . any . additional . terms . imposed . by . the . copyright . holder . additional . terms . will . be . linked . to . the . project . gutenberg - tm . license . for . all . works . posted . with . the . permission . of . the . copyright . holder . found . at . the . beginning . of . this . work . . . 1 . e . 4 . do . not . unlink . or . detach . or . remove . the . full . project . gutenberg - tm . license . terms . from . this . work , . or . any . files . containing . a . part . of . this . work . or . any . other . work . associated . with . project . gutenberg - tm . . . 1 . e . 5 . do . not . copy , . display , . perform , . distribute . or . redistribute . this . electronic . work , . or . any . part . of . this . electronic . work , . without . prominently . displaying . the . sentence . set . forth . in . paragraph . 1 . e . 1 . with . active . links . or . immediate . access . to . the . full . terms . of . the . project . gutenberg - tm . license . . . 1 . e . 6 . you . may . convert . to . and . distribute . this . work . in . any . binary , . compressed , . marked . up , . nonproprietary . or . proprietary . form , . including . any . word . processing . or . hypertext . form . however , . if . you . provide . access . to . or . distribute . copies . of . a . project . gutenberg - tm . work . in . a . format . other . than . \" plain . vanilla . ascii \" . or . other . format . used . in . the . official . version . posted . on . the . official . project . gutenberg - tm . website . ( www . gutenberg . org ) , . you . must , . at . no . additional . cost , . fee . or . expense . to . the . user , . provide . a . copy , . a . means . of . exporting . a . copy , . or . a . means . of . obtaining . a . copy . upon . request , . of . the . work . in . its . original . \" plain . vanilla . ascii \" . or . other . form . any . alternate . format . must . include . the . full . project . gutenberg - tm . license . as . specified . in . paragraph . 1 . e . 1 . . . 1 . e . 7 . do . not . charge . a . fee . for . access . to , . viewing , . displaying , . performing , . copying . or . distributing . any . project . gutenberg - tm . works . unless . you . comply . with . paragraph . 1 . e . 8 . or . 1 . e . 9 . . . 1 . e . 8 . you . may . charge . a . reasonable . fee . for . copies . of . or . providing . access . to . or . distributing . project . gutenberg - tm . electronic . works . provided . that : . . * . you . pay . a . royalty . fee . of . 20 % . of . the . gross . profits . you . derive . from . the . use . of . project . gutenberg - tm . works . calculated . using . the . method . you . already . use . to . calculate . your . applicable . taxes . the . fee . is . owed . to . the . owner . of . the . project . gutenberg - tm . trademark , . but . he . has . agreed . to . donate . royalties . under . this . paragraph . to . the . project . gutenberg . literary . archive . foundation . royalty . payments . must . be . paid . within . 60 . days . following . each . date . on . which . you . prepare . ( or . are . legally . required . to . prepare ) . your . periodic . tax . returns . royalty . payments . should . be . clearly . marked . as . such . and . sent . to . the . project . gutenberg . literary . archive . foundation . at . the . address . specified . in . section . 4 , . \" information . about . donations . to . the . project . gutenberg . literary . archive . foundation . \" . . * . you . provide . a . full . refund . of . any . money . paid . by . a . user . who . notifies . you . in . writing . ( or . by . e - mail ) . within . 30 . days . of . receipt . that . s / he . does . not . agree . to . the . terms . of . the . full . project . gutenberg - tm . license . you . must . require . such . a . user . to . return . or . destroy . all . copies . of . the . works . possessed . in . a . physical . medium . and . discontinue . all . use . of . and . all . access . to . other . copies . of . project . gutenberg - tm . works . . . * . you . provide , . in . accordance . with . paragraph . 1 . f . 3 , . a . full . refund . of . any . money . paid . for . a . work . or . a . replacement . copy , . if . a . defect . in . the . electronic . work . is . discovered . and . reported . to . you . within . 90 . days . of . receipt . of . the . work . . . * . you . comply . with . all . other . terms . of . this . agreement . for . free . distribution . of . project . gutenberg - tm . works . . . 1 . e . 9 . if . you . wish . to . charge . a . fee . or . distribute . a . project . gutenberg - tm . electronic . work . or . group . of . works . on . different . terms . than . are . set . forth . in . this . agreement , . you . must . obtain . permission . in . writing . from . the . project . gutenberg . literary . archive . foundation , . the . manager . of . the . project . gutenberg - tm . trademark . contact . the . foundation . as . set . forth . in . section . 3 . below . . . 1 . f . . . 1 . f . 1 . project . gutenberg . volunteers . and . employees . expend . considerable . effort . to . identify , . do . copyright . research . on , . transcribe . and . proofread . works . not . protected . by . u . s . copyright . law . in . creating . the . project . gutenberg - tm . collection . despite . these . efforts , . project . gutenberg - tm . electronic . works , . and . the . medium . on . which . they . may . be . stored , . may . contain . \" defects , \" . such . as , . but . not . limited . to , . incomplete , . inaccurate . or . corrupt . data , . transcription . errors , . a . copyright . or . other . intellectual . property . infringement , . a . defective . or . damaged . disk . or . other . medium , . a . computer . virus , . or . computer . codes . that . damage . or . cannot . be . read . by . your . equipment . . . 1 . f . 2 . limited . warranty , . disclaimer . of . damages . - . except . for . the . \" right . of . replacement . or . refund \" . described . in . paragraph . 1 . f . 3 , . the . project . gutenberg . literary . archive . foundation , . the . owner . of . the . project . gutenberg - tm . trademark , . and . any . other . party . distributing . a . project . gutenberg - tm . electronic . work . under . this . agreement , . disclaim . all . liability . to . you . for . damages , . costs . and . expenses , . including . legal . fees . you . agree . that . you . have . no . remedies . for . negligence , . strict . liability , . breach . of . warranty . or . breach . of . contract . except . those . provided . in . paragraph . 1 . f . 3 . you . agree . that . the . foundation , . the . trademark . owner , . and . any . distributor . under . this . agreement . will . not . be . liable . to . you . for . actual , . direct , . indirect , . consequential , . punitive . or . incidental . damages . even . if . you . give . notice . of . the . possibility . of . such . damage . . . 1 . f . 3 . limited . right . of . replacement . or . refund . - . if . you . discover . a . defect . in . this . electronic . work . within . 90 . days . of . receiving . it , . you . can . receive . a . refund . of . the . money . ( if . any ) . you . paid . for . it . by . sending . a . written . explanation . to . the . person . you . received . the . work . from . if . you . received . the . work . on . a . physical . medium , . you . must . return . the . medium . with . your . written . explanation . the . person . or . entity . that . provided . you . with . the . defective . work . may . elect . to . provide . a . replacement . copy . in . lieu . of . a . refund . if . you . received . the . work . electronically , . the . person . or . entity . providing . it . to . you . may . choose . to . give . you . a . second . opportunity . to . receive . the . work . electronically . in . lieu . of . a . refund . if . the . second . copy . is . also . defective , . you . may . demand . a . refund . in . writing . without . further . opportunities . to . fix . the . problem . . . 1 . f . 4 . except . for . the . limited . right . of . replacement . or . refund . set . forth . in . paragraph . 1 . f . 3 , . this . work . is . provided . to . you . \\'as - is\\' , . with . no . other . warranties . of . any . kind , . express . or . implied , . including . but . not . limited . to . warranties . of . merchantability . or . fitness . for . any . purpose . . . 1 . f . 5 . some . states . do . not . allow . disclaimers . of . certain . implied . warranties . or . the . exclusion . or . limitation . of . certain . types . of . damages . if . any . disclaimer . or . limitation . set . forth . in . this . agreement . violates . the . law . of . the . state . applicable . to . this . agreement , . the . agreement . shall . be . interpreted . to . make . the . maximum . disclaimer . or . limitation . permitted . by . the . applicable . state . law . the . invalidity . or . unenforceability . of . any . provision . of . this . agreement . shall . not . void . the . remaining . provisions . . . 1 . f . 6 . indemnity . - . you . agree . to . indemnify . and . hold . the . foundation , . the . trademark . owner , . any . agent . or . employee . of . the . foundation , . anyone . providing . copies . of . project . gutenberg - tm . electronic . works . in . accordance . with . this . agreement , . and . any . volunteers . associated . with . the . production , . promotion . and . distribution . of . project . gutenberg - tm . electronic . works , . harmless . from . all . liability , . costs . and . expenses , . including . legal . fees , . that . arise . directly . or . indirectly . from . any . of . the . following . which . you . do . or . cause . to . occur : . ( a ) . distribution . of . this . or . any . project . gutenberg - tm . work , . ( b ) . alteration , . modification , . or . additions . or . deletions . to . any . project . gutenberg - tm . work , . and . ( c ) . any . defect . you . cause . . . section . 2 . information . about . the . mission . of . project . gutenberg - tm . . project . gutenberg - tm . is . synonymous . with . the . free . distribution . of . electronic . works . in . formats . readable . by . the . widest . variety . of . computers . including . obsolete , . old , . middle - aged . and . new . computers . it . exists . because . of . the . efforts . of . hundreds . of . volunteers . and . donations . from . people . in . all . walks . of . life . . . volunteers . and . financial . support . to . provide . volunteers . with . the . assistance . they . need . are . critical . to . reaching . project . gutenberg - tm\\'s . goals . and . ensuring . that . the . project . gutenberg - tm . collection . will . remain . freely . available . for . generations . to . come . in . 2001 , . the . project . gutenberg . literary . archive . foundation . was . created . to . provide . a . secure . and . permanent . future . for . project . gutenberg - tm . and . future . generations . to . learn . more . about . the . project . gutenberg . literary . archive . foundation . and . how . your . efforts . and . donations . can . help , . see . sections . 3 . and . 4 . and . the . foundation . information . page . at . www . gutenberg . org . . section . 3 . information . about . the . project . gutenberg . literary . archive . foundation . . the . project . gutenberg . literary . archive . foundation . is . a . non - profit . 501 ( c ) ( 3 ) . educational . corporation . organized . under . the . laws . of . the . state . of . mississippi . and . granted . tax . exempt . status . by . the . internal . revenue . service . the . foundation\\'s . ein . or . federal . tax . identification . number . is . 64 - 6221541 . contributions . to . the . project . gutenberg . literary . archive . foundation . are . tax . deductible . to . the . full . extent . permitted . by . u . s . federal . laws . and . your . state\\'s . laws . . . the . foundation\\'s . business . office . is . located . at . 809 . north . 1500 . west , . salt . lake . city , . ut . 84116 , . ( 801 ) . 596 - 1887 . email . contact . links . and . up . to . date . contact . information . can . be . found . at . the . foundation\\'s . website . and . official . page . at . www . gutenberg . org / contact . . section . 4 . information . about . donations . to . the . project . gutenberg . literary . archive . foundation . . project . gutenberg - tm . depends . upon . and . cannot . survive . without . widespread . public . support . and . donations . to . carry . out . its . mission . of . increasing . the . number . of . public . domain . and . licensed . works . that . can . be . freely . distributed . in . machine - readable . form . accessible . by . the . widest . array . of . equipment . including . outdated . equipment . many . small . donations . ( $ 1 . to . $ 5 , 000 ) . are . particularly . important . to . maintaining . tax . exempt . status . with . the . irs . . . the . foundation . is . committed . to . complying . with . the . laws . regulating . charities . and . charitable . donations . in . all . 50 . states . of . the . united . states . compliance . requirements . are . not . uniform . and . it . takes . a . considerable . effort , . much . paperwork . and . many . fees . to . meet . and . keep . up . with . these . requirements . we . do . not . solicit . donations . in . locations . where . we . have . not . received . written . confirmation . of . compliance . to . send . donations . or . determine . the . status . of . compliance . for . any . particular . state . visit . www . gutenberg . org / donate . . while . we . cannot . and . do . not . solicit . contributions . from . states . where . we . have . not . met . the . solicitation . requirements , . we . know . of . no . prohibition . against . accepting . unsolicited . donations . from . donors . in . such . states . who . approach . us . with . offers . to . donate . . . international . donations . are . gratefully . accepted , . but . we . cannot . make . any . statements . concerning . tax . treatment . of . donations . received . from . outside . the . united . states . u . s . laws . alone . swamp . our . small . staff . . . please . check . the . project . gutenberg . web . pages . for . current . donation . methods . and . addresses . donations . are . accepted . in . a . number . of . other . ways . including . checks , . online . payments . and . credit . card . donations . to . donate , . please . visit : . www . gutenberg . org / donate . . section . 5 . general . information . about . project . gutenberg - tm . electronic . works . . professor . michael . s . hart . was . the . originator . of . the . project . gutenberg - tm . concept . of . a . library . of . electronic . works . that . could . be . freely . shared . with . anyone . for . forty . years , . he . produced . and . distributed . project . gutenberg - tm . ebooks . with . only . a . loose . network . of . volunteer . support . . . project . gutenberg - tm . ebooks . are . often . created . from . several . printed . editions , . all . of . which . are . confirmed . as . not . protected . by . copyright . in . the . u . s . unless . a . copyright . notice . is . included . thus , . we . do . not . necessarily . keep . ebooks . in . compliance . with . any . particular . paper . edition . . . most . people . start . at . our . website . which . has . the . main . pg . search . facility : . www . gutenberg . org . . this . website . includes . information . about . project . gutenberg - tm , . including . how . to . make . donations . to . the . project . gutenberg . literary . archive . foundation , . how . to . help . produce . our . new . ebooks , . and . how . to . subscribe . to . our . email . newsletter . to . hear . about . new . ebooks . . . . '"
      ]
     },
     "execution_count": 3,
     "metadata": {
      "tags": []
     },
     "output_type": "execute_result"
    }
   ],
   "source": [
    "text"
   ]
  },
  {
   "cell_type": "code",
   "execution_count": null,
   "metadata": {
    "id": "F0nZpUPQ-J99"
   },
   "outputs": [],
   "source": [
    "# TOKENIZATION\n",
    "tokenizer = Tokenizer(char_level = False, filters = '')\n",
    "tokenizer.fit_on_texts([text])\n",
    "total_words = len(tokenizer.word_index) + 1\n",
    "token_list = tokenizer.texts_to_sequences([text])[0]"
   ]
  },
  {
   "cell_type": "code",
   "execution_count": null,
   "metadata": {
    "colab": {
     "base_uri": "https://localhost:8080/"
    },
    "executionInfo": {
     "elapsed": 3196,
     "status": "ok",
     "timestamp": 1622651913591,
     "user": {
      "displayName": "Nitin Kashyap",
      "photoUrl": "https://lh3.googleusercontent.com/a-/AOh14GgFOCildgKv2gQKYUy8uXlJ8VZbaTjL7CHxrcrRNbA=s64",
      "userId": "12536763568334316752"
     },
     "user_tz": -330
    },
    "id": "rUsAPYsr-J3x",
    "outputId": "028a23a0-6994-4348-d4c3-f668188717be"
   },
   "outputs": [
    {
     "name": "stdout",
     "output_type": "stream",
     "text": [
      "Number of sequences: 62372 \n",
      "\n"
     ]
    }
   ],
   "source": [
    "import numpy as np\n",
    "from keras.utils import np_utils\n",
    "def generate_sequences(token_list, step):\n",
    "    X = []\n",
    "    y = []\n",
    "\n",
    "    for i in range(0, len(token_list) - seq_length, step):\n",
    "        X.append(token_list[i: i + seq_length])\n",
    "        y.append(token_list[i + seq_length])\n",
    "    \n",
    "    y = np_utils.to_categorical(y, num_classes = total_words)\n",
    "    num_seq = len(X)\n",
    "    \n",
    "    print('Number of sequences:', num_seq, \"\\n\")\n",
    "    return X, y, num_seq\n",
    "\n",
    "step = 1\n",
    "seq_length = 20\n",
    "X, y, num_seq = generate_sequences(token_list, step)\n",
    "X = np.array(X)\n",
    "y = np.array(y)"
   ]
  },
  {
   "cell_type": "code",
   "execution_count": null,
   "metadata": {
    "colab": {
     "base_uri": "https://localhost:8080/"
    },
    "executionInfo": {
     "elapsed": 316662,
     "status": "ok",
     "timestamp": 1622653371474,
     "user": {
      "displayName": "Nitin Kashyap",
      "photoUrl": "https://lh3.googleusercontent.com/a-/AOh14GgFOCildgKv2gQKYUy8uXlJ8VZbaTjL7CHxrcrRNbA=s64",
      "userId": "12536763568334316752"
     },
     "user_tz": -330
    },
    "id": "LtS6sufv-J0m",
    "outputId": "afc9f404-fb48-4248-a1e9-da0f972416be"
   },
   "outputs": [
    {
     "name": "stderr",
     "output_type": "stream",
     "text": [
      "/usr/local/lib/python3.7/dist-packages/tensorflow/python/keras/optimizer_v2/optimizer_v2.py:375: UserWarning: The `lr` argument is deprecated, use `learning_rate` instead.\n",
      "  \"The `lr` argument is deprecated, use `learning_rate` instead.\")\n"
     ]
    },
    {
     "name": "stdout",
     "output_type": "stream",
     "text": [
      "Epoch 1/10\n",
      "1950/1950 [==============================] - 32s 15ms/step - loss: 3.5566\n",
      "Epoch 2/10\n",
      "1950/1950 [==============================] - 29s 15ms/step - loss: 3.1650\n",
      "Epoch 3/10\n",
      "1950/1950 [==============================] - 29s 15ms/step - loss: 3.0552\n",
      "Epoch 4/10\n",
      "1950/1950 [==============================] - 29s 15ms/step - loss: 3.0010\n",
      "Epoch 5/10\n",
      "1950/1950 [==============================] - 29s 15ms/step - loss: 2.9384\n",
      "Epoch 6/10\n",
      "1950/1950 [==============================] - 29s 15ms/step - loss: 2.9474\n",
      "Epoch 7/10\n",
      "1950/1950 [==============================] - 29s 15ms/step - loss: 3.0384\n",
      "Epoch 8/10\n",
      "1950/1950 [==============================] - 29s 15ms/step - loss: 3.1193\n",
      "Epoch 9/10\n",
      "1950/1950 [==============================] - 29s 15ms/step - loss: 3.2257\n",
      "Epoch 10/10\n",
      "1950/1950 [==============================] - 29s 15ms/step - loss: 3.2995\n"
     ]
    },
    {
     "data": {
      "text/plain": [
       "<keras.callbacks.History at 0x7f159f710b50>"
      ]
     },
     "execution_count": 8,
     "metadata": {
      "tags": []
     },
     "output_type": "execute_result"
    }
   ],
   "source": [
    "from keras.layers import Dense, LSTM, Input, Embedding, Dropout\n",
    "from keras.models import Model\n",
    "from keras.optimizers import RMSprop\n",
    "n_units = 256\n",
    "embedding_size = 100\n",
    "text_in = Input(shape = (None,))\n",
    "x = Embedding(total_words, embedding_size)(text_in)\n",
    "x = LSTM(n_units)(x)\n",
    "x = Dropout(0.2)(x)\n",
    "text_out = Dense(total_words, activation = 'softmax')(x)\n",
    "model = Model(text_in, text_out)\n",
    "opti = RMSprop(lr = 0.001)\n",
    "model.compile(loss='categorical_crossentropy', optimizer=opti)\n",
    "epochs = 10\n",
    "batch_size = 32\n",
    "model.fit(X, y, epochs=epochs, batch_size=batch_size, shuffle = True)"
   ]
  },
  {
   "cell_type": "code",
   "execution_count": null,
   "metadata": {
    "id": "KuyMe0i0l-MI"
   },
   "outputs": [],
   "source": [
    "def sample_with_temp(preds, temperature=1.0):\n",
    "    # helper function to sample an index from a probability array\n",
    "    preds = np.asarray(preds).astype('float64')\n",
    "    preds = np.log(preds) / temperature\n",
    "    exp_preds = np.exp(preds)\n",
    "    preds = exp_preds / np.sum(exp_preds)\n",
    "    probs = np.random.multinomial(1, preds, 1)\n",
    "    return np.argmax(probs)\n",
    "\n",
    "def generate_text(seed_text, next_words, model, max_sequence_len, temp):\n",
    "    output_text = seed_text\n",
    "    seed_text = start_story + seed_text\n",
    "    for _ in range(next_words):\n",
    "        token_list = tokenizer.texts_to_sequences([seed_text])[0]\n",
    "        token_list = token_list[-max_sequence_len:]\n",
    "        token_list = np.reshape(token_list, (1, max_sequence_len))\n",
    "        probs = model.predict(token_list, verbose=0)[0]\n",
    "        y_class = sample_with_temp(probs, temperature = temp)\n",
    "        output_word = tokenizer.index_word[y_class] if y_class > 0 else ''\n",
    "        \n",
    "        seed_text += output_word + ' '\n",
    "        output_text += output_word + ' '\n",
    "    return output_text"
   ]
  },
  {
   "cell_type": "code",
   "execution_count": null,
   "metadata": {
    "colab": {
     "base_uri": "https://localhost:8080/",
     "height": 83
    },
    "executionInfo": {
     "elapsed": 9765,
     "status": "ok",
     "timestamp": 1622653567992,
     "user": {
      "displayName": "Nitin Kashyap",
      "photoUrl": "https://lh3.googleusercontent.com/a-/AOh14GgFOCildgKv2gQKYUy8uXlJ8VZbaTjL7CHxrcrRNbA=s64",
      "userId": "12536763568334316752"
     },
     "user_tz": -330
    },
    "id": "eY7jYs1Wo9zW",
    "outputId": "540c3c3f-6bf1-4483-b6db-652cdb9c9c60"
   },
   "outputs": [
    {
     "data": {
      "application/vnd.google.colaboratory.intrinsic+json": {
       "type": "string"
      },
      "text/plain": [
       "'It was the best of times, it was the worst of times, it was the age of wisdom, it was the age of foolishness, it was the epoch of belief, it was the epoch of incredulity, it was the season of light, it was the season of darkness, it was the spring of hope, it was the winter of despair. sir . from . the . same . the . same . air . of . a . that . it . was . his . lawyer . the . old . lawyer . and . been . i . was . name . of . utterson ; . his . some . out . of . my . were . lawyer . for . his . own . door , . he . had . man . to . have . now . to . what . i . ! . you . to . i . never . but . an . and . i . do . you . a . , . to . i . had . work . but . with . the . face . of . so . for . it . was . that . door . . . . ? . was . the . here , . as . i . must . have . . . to . be . from . to . my . you . to . been . i . shall . to . the . light . of . to . so '"
      ]
     },
     "execution_count": 12,
     "metadata": {
      "tags": []
     },
     "output_type": "execute_result"
    }
   ],
   "source": [
    "start_story = \"Mr. Hyde\"\n",
    "generate_text(\"It was the best of times, it was the worst of times, it was the age of wisdom, it was the age of foolishness, it was the epoch of belief, it was the epoch of incredulity, it was the season of light, it was the season of darkness, it was the spring of hope, it was the winter of despair\", 200, model, 30, 0.75)"
   ]
  },
  {
   "cell_type": "markdown",
   "metadata": {
    "id": "URhASXafN2xz"
   },
   "source": [
    "### Building the Dataset:\n",
    "\n",
    "I am looking to tarin the network on a bunch of tweets from some users first and then hopefully try and change the dataset to generate text pertaining to a certain subject like Politics or Science or Sports.\n",
    "\n",
    "\n",
    "Now I got an ides to create an offensive tweet generator using the offensive tweets dataset:\n"
   ]
  },
  {
   "cell_type": "code",
   "execution_count": null,
   "metadata": {
    "id": "uEwELE1aN0lj"
   },
   "outputs": [],
   "source": [
    "import pandas as pd\n",
    "df = pd.read_csv('https://query.data.world/s/d6tdhprfqdnhepv72qna23w4nrejvp')"
   ]
  },
  {
   "cell_type": "markdown",
   "metadata": {
    "id": "j5ScmteIU2EL"
   },
   "source": [
    "The data are stored as a CSV and as a pickled pandas dataframe (Python 2.7). Each data file contains 5 columns:\n",
    "\n",
    "count = number of CrowdFlower users who coded each tweet (min is 3, sometimes more users coded a tweet when judgments were determined to be unreliable by CF).\n",
    "\n",
    "hate_speech = number of CF users who judged the tweet to be hate speech.\n",
    "\n",
    "offensive_language = number of CF users who judged the tweet to be offensive.\n",
    "\n",
    "neither = number of CF users who judged the tweet to be neither offensive nor non-offensive.\n",
    "\n",
    "class = class label for majority of CF users.\n",
    "0 - hate speech,\n",
    "1 - offensive language,\n",
    "2 - neither"
   ]
  },
  {
   "cell_type": "code",
   "execution_count": null,
   "metadata": {
    "id": "-fuswU04icoJ"
   },
   "outputs": [],
   "source": [
    "df_trump = pd.read_csv(\"/content/tweets_01-08-2021.csv\")"
   ]
  },
  {
   "cell_type": "code",
   "execution_count": null,
   "metadata": {
    "colab": {
     "base_uri": "https://localhost:8080/",
     "height": 391
    },
    "executionInfo": {
     "elapsed": 25,
     "status": "ok",
     "timestamp": 1622114433759,
     "user": {
      "displayName": "Nitin Kashyap",
      "photoUrl": "https://lh3.googleusercontent.com/a-/AOh14GgFOCildgKv2gQKYUy8uXlJ8VZbaTjL7CHxrcrRNbA=s64",
      "userId": "12536763568334316752"
     },
     "user_tz": -330
    },
    "id": "pV-Xc1Qdiws3",
    "outputId": "f8a2f8d6-5d6e-4560-873c-c365a00fdab2"
   },
   "outputs": [
    {
     "data": {
      "text/html": [
       "<div>\n",
       "<style scoped>\n",
       "    .dataframe tbody tr th:only-of-type {\n",
       "        vertical-align: middle;\n",
       "    }\n",
       "\n",
       "    .dataframe tbody tr th {\n",
       "        vertical-align: top;\n",
       "    }\n",
       "\n",
       "    .dataframe thead th {\n",
       "        text-align: right;\n",
       "    }\n",
       "</style>\n",
       "<table border=\"1\" class=\"dataframe\">\n",
       "  <thead>\n",
       "    <tr style=\"text-align: right;\">\n",
       "      <th></th>\n",
       "      <th>id</th>\n",
       "      <th>text</th>\n",
       "      <th>isRetweet</th>\n",
       "      <th>isDeleted</th>\n",
       "      <th>device</th>\n",
       "      <th>favorites</th>\n",
       "      <th>retweets</th>\n",
       "      <th>date</th>\n",
       "      <th>isFlagged</th>\n",
       "    </tr>\n",
       "  </thead>\n",
       "  <tbody>\n",
       "    <tr>\n",
       "      <th>0</th>\n",
       "      <td>98454970654916608</td>\n",
       "      <td>Republicans and Democrats have both created ou...</td>\n",
       "      <td>f</td>\n",
       "      <td>f</td>\n",
       "      <td>TweetDeck</td>\n",
       "      <td>49</td>\n",
       "      <td>255</td>\n",
       "      <td>2011-08-02 18:07:48</td>\n",
       "      <td>f</td>\n",
       "    </tr>\n",
       "    <tr>\n",
       "      <th>1</th>\n",
       "      <td>1234653427789070336</td>\n",
       "      <td>I was thrilled to be back in the Great city of...</td>\n",
       "      <td>f</td>\n",
       "      <td>f</td>\n",
       "      <td>Twitter for iPhone</td>\n",
       "      <td>73748</td>\n",
       "      <td>17404</td>\n",
       "      <td>2020-03-03 01:34:50</td>\n",
       "      <td>f</td>\n",
       "    </tr>\n",
       "    <tr>\n",
       "      <th>2</th>\n",
       "      <td>1218010753434820614</td>\n",
       "      <td>RT @CBS_Herridge: READ: Letter to surveillance...</td>\n",
       "      <td>t</td>\n",
       "      <td>f</td>\n",
       "      <td>Twitter for iPhone</td>\n",
       "      <td>0</td>\n",
       "      <td>7396</td>\n",
       "      <td>2020-01-17 03:22:47</td>\n",
       "      <td>f</td>\n",
       "    </tr>\n",
       "    <tr>\n",
       "      <th>3</th>\n",
       "      <td>1304875170860015617</td>\n",
       "      <td>The Unsolicited Mail In Ballot Scam is a major...</td>\n",
       "      <td>f</td>\n",
       "      <td>f</td>\n",
       "      <td>Twitter for iPhone</td>\n",
       "      <td>80527</td>\n",
       "      <td>23502</td>\n",
       "      <td>2020-09-12 20:10:58</td>\n",
       "      <td>f</td>\n",
       "    </tr>\n",
       "    <tr>\n",
       "      <th>4</th>\n",
       "      <td>1218159531554897920</td>\n",
       "      <td>RT @MZHemingway: Very friendly telling of even...</td>\n",
       "      <td>t</td>\n",
       "      <td>f</td>\n",
       "      <td>Twitter for iPhone</td>\n",
       "      <td>0</td>\n",
       "      <td>9081</td>\n",
       "      <td>2020-01-17 13:13:59</td>\n",
       "      <td>f</td>\n",
       "    </tr>\n",
       "    <tr>\n",
       "      <th>...</th>\n",
       "      <td>...</td>\n",
       "      <td>...</td>\n",
       "      <td>...</td>\n",
       "      <td>...</td>\n",
       "      <td>...</td>\n",
       "      <td>...</td>\n",
       "      <td>...</td>\n",
       "      <td>...</td>\n",
       "      <td>...</td>\n",
       "    </tr>\n",
       "    <tr>\n",
       "      <th>56566</th>\n",
       "      <td>1319485303363571714</td>\n",
       "      <td>RT @RandPaul: I don’t know why @JoeBiden think...</td>\n",
       "      <td>t</td>\n",
       "      <td>f</td>\n",
       "      <td>Twitter for iPhone</td>\n",
       "      <td>0</td>\n",
       "      <td>20683</td>\n",
       "      <td>2020-10-23 03:46:25</td>\n",
       "      <td>f</td>\n",
       "    </tr>\n",
       "    <tr>\n",
       "      <th>56567</th>\n",
       "      <td>1319484210101379072</td>\n",
       "      <td>RT @EliseStefanik: President @realDonaldTrump ...</td>\n",
       "      <td>t</td>\n",
       "      <td>f</td>\n",
       "      <td>Twitter for iPhone</td>\n",
       "      <td>0</td>\n",
       "      <td>9869</td>\n",
       "      <td>2020-10-23 03:42:05</td>\n",
       "      <td>f</td>\n",
       "    </tr>\n",
       "    <tr>\n",
       "      <th>56568</th>\n",
       "      <td>1319444420861829121</td>\n",
       "      <td>RT @TeamTrump: LIVE: Presidential Debate #Deba...</td>\n",
       "      <td>t</td>\n",
       "      <td>f</td>\n",
       "      <td>Twitter for iPhone</td>\n",
       "      <td>0</td>\n",
       "      <td>8197</td>\n",
       "      <td>2020-10-23 01:03:58</td>\n",
       "      <td>f</td>\n",
       "    </tr>\n",
       "    <tr>\n",
       "      <th>56569</th>\n",
       "      <td>1319384118849949702</td>\n",
       "      <td>Just signed an order to support the workers of...</td>\n",
       "      <td>f</td>\n",
       "      <td>f</td>\n",
       "      <td>Twitter for iPhone</td>\n",
       "      <td>176289</td>\n",
       "      <td>36001</td>\n",
       "      <td>2020-10-22 21:04:21</td>\n",
       "      <td>f</td>\n",
       "    </tr>\n",
       "    <tr>\n",
       "      <th>56570</th>\n",
       "      <td>1319345719829008387</td>\n",
       "      <td>Suburban women want Safety &amp;amp; Security. Joe...</td>\n",
       "      <td>f</td>\n",
       "      <td>f</td>\n",
       "      <td>Twitter for iPhone</td>\n",
       "      <td>95169</td>\n",
       "      <td>19545</td>\n",
       "      <td>2020-10-22 18:31:46</td>\n",
       "      <td>f</td>\n",
       "    </tr>\n",
       "  </tbody>\n",
       "</table>\n",
       "<p>56571 rows × 9 columns</p>\n",
       "</div>"
      ],
      "text/plain": [
       "                        id  ... isFlagged\n",
       "0        98454970654916608  ...         f\n",
       "1      1234653427789070336  ...         f\n",
       "2      1218010753434820614  ...         f\n",
       "3      1304875170860015617  ...         f\n",
       "4      1218159531554897920  ...         f\n",
       "...                    ...  ...       ...\n",
       "56566  1319485303363571714  ...         f\n",
       "56567  1319484210101379072  ...         f\n",
       "56568  1319444420861829121  ...         f\n",
       "56569  1319384118849949702  ...         f\n",
       "56570  1319345719829008387  ...         f\n",
       "\n",
       "[56571 rows x 9 columns]"
      ]
     },
     "execution_count": 6,
     "metadata": {
      "tags": []
     },
     "output_type": "execute_result"
    }
   ],
   "source": [
    "df_trump"
   ]
  },
  {
   "cell_type": "markdown",
   "metadata": {
    "id": "3t2sMoXnir34"
   },
   "source": []
  },
  {
   "cell_type": "code",
   "execution_count": null,
   "metadata": {
    "colab": {
     "base_uri": "https://localhost:8080/"
    },
    "executionInfo": {
     "elapsed": 333,
     "status": "ok",
     "timestamp": 1622027330841,
     "user": {
      "displayName": "Nitin Kashyap",
      "photoUrl": "https://lh3.googleusercontent.com/a-/AOh14GgFOCildgKv2gQKYUy8uXlJ8VZbaTjL7CHxrcrRNbA=s64",
      "userId": "12536763568334316752"
     },
     "user_tz": -330
    },
    "id": "kawQ8LsKU0bQ",
    "outputId": "dbee43c4-2579-4283-c798-0b910efe1716"
   },
   "outputs": [
    {
     "data": {
      "text/plain": [
       "Index(['Unnamed: 0', 'count', 'hate_speech', 'offensive_language', 'neither',\n",
       "       'class', 'tweet'],\n",
       "      dtype='object')"
      ]
     },
     "execution_count": 21,
     "metadata": {
      "tags": []
     },
     "output_type": "execute_result"
    }
   ],
   "source": [
    "df.columns"
   ]
  },
  {
   "cell_type": "markdown",
   "metadata": {
    "id": "p_09_NyhyHDY"
   },
   "source": [
    "### Using `fastai` to build the Language Model\n"
   ]
  },
  {
   "cell_type": "code",
   "execution_count": null,
   "metadata": {
    "colab": {
     "base_uri": "https://localhost:8080/"
    },
    "executionInfo": {
     "elapsed": 38136,
     "status": "ok",
     "timestamp": 1622114496179,
     "user": {
      "displayName": "Nitin Kashyap",
      "photoUrl": "https://lh3.googleusercontent.com/a-/AOh14GgFOCildgKv2gQKYUy8uXlJ8VZbaTjL7CHxrcrRNbA=s64",
      "userId": "12536763568334316752"
     },
     "user_tz": -330
    },
    "id": "RpuVvJjWCZwk",
    "outputId": "27b545e8-c2cb-4f96-9698-8f15200cd786"
   },
   "outputs": [
    {
     "name": "stdout",
     "output_type": "stream",
     "text": [
      "\u001b[K     |████████████████████████████████| 727kB 12.1MB/s \n",
      "\u001b[K     |████████████████████████████████| 51kB 5.9MB/s \n",
      "\u001b[K     |████████████████████████████████| 204kB 27.8MB/s \n",
      "\u001b[K     |████████████████████████████████| 1.2MB 36.2MB/s \n",
      "\u001b[K     |████████████████████████████████| 61kB 6.9MB/s \n",
      "\u001b[K     |████████████████████████████████| 61kB 7.1MB/s \n",
      "\u001b[?25hMounted at /content/gdrive\n"
     ]
    }
   ],
   "source": [
    " #hide\n",
    "!pip install -Uqq fastbook\n",
    "import fastbook\n",
    "fastbook.setup_book()"
   ]
  },
  {
   "cell_type": "code",
   "execution_count": null,
   "metadata": {
    "id": "TJQ24Guq9SW-"
   },
   "outputs": [],
   "source": [
    "#hide\n",
    "from fastbook import *\n",
    "\n",
    "from IPython.display import display,HTML\n"
   ]
  },
  {
   "cell_type": "code",
   "execution_count": null,
   "metadata": {
    "colab": {
     "base_uri": "https://localhost:8080/",
     "height": 70
    },
    "executionInfo": {
     "elapsed": 1300011,
     "status": "ok",
     "timestamp": 1622117708043,
     "user": {
      "displayName": "Nitin Kashyap",
      "photoUrl": "https://lh3.googleusercontent.com/a-/AOh14GgFOCildgKv2gQKYUy8uXlJ8VZbaTjL7CHxrcrRNbA=s64",
      "userId": "12536763568334316752"
     },
     "user_tz": -330
    },
    "id": "zTHNJHp_N1R8",
    "outputId": "539f89ee-4e94-495c-9056-a56ca391a1dd"
   },
   "outputs": [
    {
     "data": {
      "text/html": [],
      "text/plain": [
       "<IPython.core.display.HTML object>"
      ]
     },
     "metadata": {
      "tags": []
     },
     "output_type": "display_data"
    },
    {
     "name": "stderr",
     "output_type": "stream",
     "text": [
      "/usr/local/lib/python3.7/dist-packages/numpy/core/_asarray.py:83: VisibleDeprecationWarning: Creating an ndarray from ragged nested sequences (which is a list-or-tuple of lists-or-tuples-or ndarrays with different lengths or shapes) is deprecated. If you meant to do this, you must specify 'dtype=object' when creating the ndarray\n",
      "  return array(a, dtype, copy=False, order=order)\n"
     ]
    }
   ],
   "source": [
    "from fastai.text.all import *\n",
    "\n",
    "#dls_lm = DataBlock(blocks=TextBlock.from_df('tweet', is_lm=True), get_x=ColReader('text') ).dataloaders(df[:1000], bs=128, seq_len=80)\n",
    "dls_lm = DataBlock(blocks=TextBlock.from_df('text', is_lm=True), get_x=ColReader('text') ).dataloaders(df_trump, bs=128, seq_len=80)"
   ]
  },
  {
   "cell_type": "code",
   "execution_count": null,
   "metadata": {
    "colab": {
     "base_uri": "https://localhost:8080/",
     "height": 170
    },
    "executionInfo": {
     "elapsed": 1017,
     "status": "ok",
     "timestamp": 1622117709032,
     "user": {
      "displayName": "Nitin Kashyap",
      "photoUrl": "https://lh3.googleusercontent.com/a-/AOh14GgFOCildgKv2gQKYUy8uXlJ8VZbaTjL7CHxrcrRNbA=s64",
      "userId": "12536763568334316752"
     },
     "user_tz": -330
    },
    "id": "x7GgjbNq7jQK",
    "outputId": "6c7512dd-3ec8-4fe3-f8a3-7f7510ff65a2"
   },
   "outputs": [
    {
     "data": {
      "text/html": [
       "<table border=\"1\" class=\"dataframe\">\n",
       "  <thead>\n",
       "    <tr style=\"text-align: right;\">\n",
       "      <th></th>\n",
       "      <th>text</th>\n",
       "      <th>text_</th>\n",
       "    </tr>\n",
       "  </thead>\n",
       "  <tbody>\n",
       "    <tr>\n",
       "      <th>0</th>\n",
       "      <td>xxbos xxup better &amp; &amp; xxup cheaper xxup healthcare . xxup vote ! xxbos xxmaj joe xxmaj biden got xxunk tied over the weekend when he was unable to properly deliver a very simple line about his decision to run for xxmaj president . xxmaj get used to it , another low xxup i.q . individual ! xxbos xxrep 3 \" xxunk : @realdonaldtrump xxmaj begging you to run for xxmaj president . xxmaj you must save this country .</td>\n",
       "      <td>xxup better &amp; &amp; xxup cheaper xxup healthcare . xxup vote ! xxbos xxmaj joe xxmaj biden got xxunk tied over the weekend when he was unable to properly deliver a very simple line about his decision to run for xxmaj president . xxmaj get used to it , another low xxup i.q . individual ! xxbos xxrep 3 \" xxunk : @realdonaldtrump xxmaj begging you to run for xxmaj president . xxmaj you must save this country . xxmaj</td>\n",
       "    </tr>\n",
       "    <tr>\n",
       "      <th>1</th>\n",
       "      <td>this , but xxmaj i ’ll be seeing them ! # xxup maga xxbos xxunk xxmaj thanks xxmaj joe . xxbos xxup rt @senategop : 🚨 xxup breaking 🚨 \\n\\n xxmaj the xxup u.s . economy added 2.5 million jobs in xxmaj may . \\n\\n xxmaj that 's the xxup biggest xxup jobs xxup increase xxup ever ! 🥳 🇺 🇸 https : / / t.co / xxunk … xxbos … .and ruined . xxmaj the xxmaj federal xxmaj government</td>\n",
       "      <td>, but xxmaj i ’ll be seeing them ! # xxup maga xxbos xxunk xxmaj thanks xxmaj joe . xxbos xxup rt @senategop : 🚨 xxup breaking 🚨 \\n\\n xxmaj the xxup u.s . economy added 2.5 million jobs in xxmaj may . \\n\\n xxmaj that 's the xxup biggest xxup jobs xxup increase xxup ever ! 🥳 🇺 🇸 https : / / t.co / xxunk … xxbos … .and ruined . xxmaj the xxmaj federal xxmaj government must</td>\n",
       "    </tr>\n",
       "  </tbody>\n",
       "</table>"
      ],
      "text/plain": [
       "<IPython.core.display.HTML object>"
      ]
     },
     "metadata": {
      "tags": []
     },
     "output_type": "display_data"
    }
   ],
   "source": [
    "dls_lm.show_batch(max_n=2)"
   ]
  },
  {
   "cell_type": "code",
   "execution_count": null,
   "metadata": {
    "id": "lPqRLZB7YHUA"
   },
   "outputs": [],
   "source": [
    "learn = language_model_learner(\n",
    "    dls_lm, AWD_LSTM, drop_mult=0.3, \n",
    "    metrics=[accuracy, Perplexity()]).to_fp16()"
   ]
  },
  {
   "cell_type": "code",
   "execution_count": null,
   "metadata": {
    "colab": {
     "base_uri": "https://localhost:8080/",
     "height": 76
    },
    "executionInfo": {
     "elapsed": 242047,
     "status": "ok",
     "timestamp": 1622117951659,
     "user": {
      "displayName": "Nitin Kashyap",
      "photoUrl": "https://lh3.googleusercontent.com/a-/AOh14GgFOCildgKv2gQKYUy8uXlJ8VZbaTjL7CHxrcrRNbA=s64",
      "userId": "12536763568334316752"
     },
     "user_tz": -330
    },
    "id": "gVXgdTmxYHNn",
    "outputId": "34fa212e-e416-4d66-8be1-a48ee175305f"
   },
   "outputs": [
    {
     "data": {
      "text/html": [
       "<table border=\"1\" class=\"dataframe\">\n",
       "  <thead>\n",
       "    <tr style=\"text-align: left;\">\n",
       "      <th>epoch</th>\n",
       "      <th>train_loss</th>\n",
       "      <th>valid_loss</th>\n",
       "      <th>accuracy</th>\n",
       "      <th>perplexity</th>\n",
       "      <th>time</th>\n",
       "    </tr>\n",
       "  </thead>\n",
       "  <tbody>\n",
       "    <tr>\n",
       "      <td>0</td>\n",
       "      <td>3.540043</td>\n",
       "      <td>3.323024</td>\n",
       "      <td>0.384695</td>\n",
       "      <td>27.744116</td>\n",
       "      <td>04:01</td>\n",
       "    </tr>\n",
       "  </tbody>\n",
       "</table>"
      ],
      "text/plain": [
       "<IPython.core.display.HTML object>"
      ]
     },
     "metadata": {
      "tags": []
     },
     "output_type": "display_data"
    }
   ],
   "source": [
    "learn.fit_one_cycle(1, 2e-2)"
   ]
  },
  {
   "cell_type": "code",
   "execution_count": null,
   "metadata": {
    "colab": {
     "base_uri": "https://localhost:8080/"
    },
    "executionInfo": {
     "elapsed": 61,
     "status": "ok",
     "timestamp": 1622117951662,
     "user": {
      "displayName": "Nitin Kashyap",
      "photoUrl": "https://lh3.googleusercontent.com/a-/AOh14GgFOCildgKv2gQKYUy8uXlJ8VZbaTjL7CHxrcrRNbA=s64",
      "userId": "12536763568334316752"
     },
     "user_tz": -330
    },
    "id": "jYNwL8X0YHHB",
    "outputId": "6c089d17-2f9d-4b04-a8cd-88d1fae58284"
   },
   "outputs": [
    {
     "data": {
      "text/plain": [
       "Path('models/1epoch.pth')"
      ]
     },
     "execution_count": 38,
     "metadata": {
      "tags": []
     },
     "output_type": "execute_result"
    }
   ],
   "source": [
    "learn.save('1epoch')"
   ]
  },
  {
   "cell_type": "code",
   "execution_count": null,
   "metadata": {
    "id": "MFtN2okbYG_q"
   },
   "outputs": [],
   "source": [
    "learn2 = learn.load('1epoch')"
   ]
  },
  {
   "cell_type": "code",
   "execution_count": null,
   "metadata": {
    "colab": {
     "base_uri": "https://localhost:8080/",
     "height": 335
    },
    "executionInfo": {
     "elapsed": 2826586,
     "status": "ok",
     "timestamp": 1622120778806,
     "user": {
      "displayName": "Nitin Kashyap",
      "photoUrl": "https://lh3.googleusercontent.com/a-/AOh14GgFOCildgKv2gQKYUy8uXlJ8VZbaTjL7CHxrcrRNbA=s64",
      "userId": "12536763568334316752"
     },
     "user_tz": -330
    },
    "id": "26FHBneTYG3z",
    "outputId": "493afb76-03a5-404a-9f1c-04799f3a93a7"
   },
   "outputs": [
    {
     "data": {
      "text/html": [
       "<table border=\"1\" class=\"dataframe\">\n",
       "  <thead>\n",
       "    <tr style=\"text-align: left;\">\n",
       "      <th>epoch</th>\n",
       "      <th>train_loss</th>\n",
       "      <th>valid_loss</th>\n",
       "      <th>accuracy</th>\n",
       "      <th>perplexity</th>\n",
       "      <th>time</th>\n",
       "    </tr>\n",
       "  </thead>\n",
       "  <tbody>\n",
       "    <tr>\n",
       "      <td>0</td>\n",
       "      <td>3.146276</td>\n",
       "      <td>3.161818</td>\n",
       "      <td>0.407520</td>\n",
       "      <td>23.613493</td>\n",
       "      <td>04:41</td>\n",
       "    </tr>\n",
       "    <tr>\n",
       "      <td>1</td>\n",
       "      <td>3.027328</td>\n",
       "      <td>3.091640</td>\n",
       "      <td>0.413115</td>\n",
       "      <td>22.013161</td>\n",
       "      <td>04:41</td>\n",
       "    </tr>\n",
       "    <tr>\n",
       "      <td>2</td>\n",
       "      <td>2.860141</td>\n",
       "      <td>2.996219</td>\n",
       "      <td>0.428058</td>\n",
       "      <td>20.009731</td>\n",
       "      <td>04:41</td>\n",
       "    </tr>\n",
       "    <tr>\n",
       "      <td>3</td>\n",
       "      <td>2.672321</td>\n",
       "      <td>2.971200</td>\n",
       "      <td>0.434699</td>\n",
       "      <td>19.515320</td>\n",
       "      <td>04:44</td>\n",
       "    </tr>\n",
       "    <tr>\n",
       "      <td>4</td>\n",
       "      <td>2.484839</td>\n",
       "      <td>2.990189</td>\n",
       "      <td>0.435672</td>\n",
       "      <td>19.889442</td>\n",
       "      <td>04:43</td>\n",
       "    </tr>\n",
       "    <tr>\n",
       "      <td>5</td>\n",
       "      <td>2.283492</td>\n",
       "      <td>3.017854</td>\n",
       "      <td>0.437816</td>\n",
       "      <td>20.447374</td>\n",
       "      <td>04:43</td>\n",
       "    </tr>\n",
       "    <tr>\n",
       "      <td>6</td>\n",
       "      <td>2.119269</td>\n",
       "      <td>3.064309</td>\n",
       "      <td>0.437837</td>\n",
       "      <td>21.419664</td>\n",
       "      <td>04:43</td>\n",
       "    </tr>\n",
       "    <tr>\n",
       "      <td>7</td>\n",
       "      <td>1.970804</td>\n",
       "      <td>3.114613</td>\n",
       "      <td>0.436600</td>\n",
       "      <td>22.524717</td>\n",
       "      <td>04:42</td>\n",
       "    </tr>\n",
       "    <tr>\n",
       "      <td>8</td>\n",
       "      <td>1.879339</td>\n",
       "      <td>3.145345</td>\n",
       "      <td>0.435817</td>\n",
       "      <td>23.227682</td>\n",
       "      <td>04:41</td>\n",
       "    </tr>\n",
       "    <tr>\n",
       "      <td>9</td>\n",
       "      <td>1.818112</td>\n",
       "      <td>3.158783</td>\n",
       "      <td>0.435178</td>\n",
       "      <td>23.541933</td>\n",
       "      <td>04:42</td>\n",
       "    </tr>\n",
       "  </tbody>\n",
       "</table>"
      ],
      "text/plain": [
       "<IPython.core.display.HTML object>"
      ]
     },
     "metadata": {
      "tags": []
     },
     "output_type": "display_data"
    }
   ],
   "source": [
    "learn.unfreeze()\n",
    "learn.fit_one_cycle(10, 2e-3)"
   ]
  },
  {
   "cell_type": "code",
   "execution_count": null,
   "metadata": {
    "id": "lcvt-wAcb3JX"
   },
   "outputs": [],
   "source": [
    "learn.save_encoder('finetuned')\n"
   ]
  },
  {
   "cell_type": "code",
   "execution_count": null,
   "metadata": {
    "colab": {
     "base_uri": "https://localhost:8080/",
     "height": 17
    },
    "executionInfo": {
     "elapsed": 26,
     "status": "ok",
     "timestamp": 1622120779209,
     "user": {
      "displayName": "Nitin Kashyap",
      "photoUrl": "https://lh3.googleusercontent.com/a-/AOh14GgFOCildgKv2gQKYUy8uXlJ8VZbaTjL7CHxrcrRNbA=s64",
      "userId": "12536763568334316752"
     },
     "user_tz": -330
    },
    "id": "J_j8uY-Mb3GM",
    "outputId": "15a9f2bf-4cfe-4aba-95df-cf972a01a569"
   },
   "outputs": [
    {
     "data": {
      "text/html": [],
      "text/plain": [
       "<IPython.core.display.HTML object>"
      ]
     },
     "metadata": {
      "tags": []
     },
     "output_type": "display_data"
    }
   ],
   "source": [
    "TEXT = \"The Chinese virus and Sleepy Joe \"\n",
    "N_WORDS = 40\n",
    "\n",
    "\n",
    "preds = learn.predict(TEXT, N_WORDS, temperature=0.75)"
   ]
  },
  {
   "cell_type": "code",
   "execution_count": null,
   "metadata": {
    "colab": {
     "base_uri": "https://localhost:8080/"
    },
    "executionInfo": {
     "elapsed": 523,
     "status": "ok",
     "timestamp": 1622120917689,
     "user": {
      "displayName": "Nitin Kashyap",
      "photoUrl": "https://lh3.googleusercontent.com/a-/AOh14GgFOCildgKv2gQKYUy8uXlJ8VZbaTjL7CHxrcrRNbA=s64",
      "userId": "12536763568334316752"
     },
     "user_tz": -330
    },
    "id": "Z_66Cmjcb6xM",
    "outputId": "7ee039a4-b08d-4da5-b77d-585afc2b7e04"
   },
   "outputs": [
    {
     "name": "stdout",
     "output_type": "stream",
     "text": [
      "The Chinese virus needs to be started again because it was learned to be a disaster . RT @secretarysonny : The American economy is the best in the world . Our farmers and ranchers are working overtime to help us\n"
     ]
    }
   ],
   "source": [
    "print(preds)"
   ]
  },
  {
   "cell_type": "code",
   "execution_count": null,
   "metadata": {
    "colab": {
     "base_uri": "https://localhost:8080/",
     "height": 342
    },
    "executionInfo": {
     "elapsed": 11624,
     "status": "ok",
     "timestamp": 1622121101815,
     "user": {
      "displayName": "Nitin Kashyap",
      "photoUrl": "https://lh3.googleusercontent.com/a-/AOh14GgFOCildgKv2gQKYUy8uXlJ8VZbaTjL7CHxrcrRNbA=s64",
      "userId": "12536763568334316752"
     },
     "user_tz": -330
    },
    "id": "DexWQQSH8Vp4",
    "outputId": "8d3f00b8-4864-4365-b9b4-482b4233ad0d"
   },
   "outputs": [
    {
     "data": {
      "text/html": [],
      "text/plain": [
       "<IPython.core.display.HTML object>"
      ]
     },
     "metadata": {
      "tags": []
     },
     "output_type": "display_data"
    },
    {
     "data": {
      "text/html": [],
      "text/plain": [
       "<IPython.core.display.HTML object>"
      ]
     },
     "metadata": {
      "tags": []
     },
     "output_type": "display_data"
    },
    {
     "data": {
      "text/html": [],
      "text/plain": [
       "<IPython.core.display.HTML object>"
      ]
     },
     "metadata": {
      "tags": []
     },
     "output_type": "display_data"
    },
    {
     "data": {
      "text/html": [],
      "text/plain": [
       "<IPython.core.display.HTML object>"
      ]
     },
     "metadata": {
      "tags": []
     },
     "output_type": "display_data"
    },
    {
     "data": {
      "text/html": [],
      "text/plain": [
       "<IPython.core.display.HTML object>"
      ]
     },
     "metadata": {
      "tags": []
     },
     "output_type": "display_data"
    },
    {
     "data": {
      "text/html": [],
      "text/plain": [
       "<IPython.core.display.HTML object>"
      ]
     },
     "metadata": {
      "tags": []
     },
     "output_type": "display_data"
    },
    {
     "data": {
      "text/html": [],
      "text/plain": [
       "<IPython.core.display.HTML object>"
      ]
     },
     "metadata": {
      "tags": []
     },
     "output_type": "display_data"
    },
    {
     "data": {
      "text/html": [],
      "text/plain": [
       "<IPython.core.display.HTML object>"
      ]
     },
     "metadata": {
      "tags": []
     },
     "output_type": "display_data"
    },
    {
     "data": {
      "text/html": [],
      "text/plain": [
       "<IPython.core.display.HTML object>"
      ]
     },
     "metadata": {
      "tags": []
     },
     "output_type": "display_data"
    },
    {
     "data": {
      "text/html": [],
      "text/plain": [
       "<IPython.core.display.HTML object>"
      ]
     },
     "metadata": {
      "tags": []
     },
     "output_type": "display_data"
    },
    {
     "name": "stdout",
     "output_type": "stream",
     "text": [
      "The Chinese virus needs to be stronger than ever before . We are the reason we are so lucky to have our great country as China . China is their enemy , USA ! RT @whitehouse : LIVE\n",
      "\n",
      "The Chinese virus needs to again rise . We should be using our own power but we need to get our country back ! Thank you for your support ! # MAGA https : / / t.co / t6ucyapriy\n",
      "\n",
      "The Chinese virus needs to be lifted fast and it is time to move quickly . It is time to # construct a wall and bring our companies back to their country . Our military is finally getting stronger than ever ! #\n",
      "\n",
      "The Chinese virus needs to be approved . We need to do it the same way as the China Virus does . We have to start working together ( we have a vaccine to solve ) . This is fantastic\n",
      "\n",
      "The Chinese virus needs to be stronger than ever . We will be stronger than ever before . We will have no better leadership in China and more in favor of BAN - picking . \"\"\" What\n",
      "\n",
      "The Chinese virus needs to be redone http : / / t.co / vqhn0u1vgc We should be sending our troops out of the USA . RT @realdonaldtrump : It is really bad that Sleepy Joe Biden and\n",
      "\n",
      "The Chinese virus needs to stop going to further ease because we are not doing even well economically . We will get it done ! The Radical Left Democrats have been fighting Open Borders , which means\n",
      "\n",
      "The Chinese virus needs to be bigger than it is right now . If we do n’t get smart and smart , you ’d have to start treating the virus very hard ! We must build a Wall for our\n",
      "\n",
      "The Chinese virus needs to be eliminated from the China Trade Center because it is time to move back and quickly . We will soon see where our next Election day will be ! \"\"\" You\n",
      "\n",
      "The Chinese virus needs to be looked out , so do the USA . The USA is booming like never before , before it is too late ! RT @jim_jordan : Why did Democrats refuse to give us\n",
      "\n"
     ]
    }
   ],
   "source": [
    "preds10 = [learn.predict(TEXT, N_WORDS, temperature=0.75) + \"\\n\" for _ in range(10)]\n",
    "print(\"\\n\".join(preds10))"
   ]
  },
  {
   "cell_type": "code",
   "execution_count": null,
   "metadata": {
    "colab": {
     "base_uri": "https://localhost:8080/",
     "height": 375
    },
    "executionInfo": {
     "elapsed": 12386,
     "status": "ok",
     "timestamp": 1622121362865,
     "user": {
      "displayName": "Nitin Kashyap",
      "photoUrl": "https://lh3.googleusercontent.com/a-/AOh14GgFOCildgKv2gQKYUy8uXlJ8VZbaTjL7CHxrcrRNbA=s64",
      "userId": "12536763568334316752"
     },
     "user_tz": -330
    },
    "id": "j9YvCsF490mn",
    "outputId": "fde82fa6-1196-4148-bf7b-331b70d0179b"
   },
   "outputs": [
    {
     "data": {
      "text/html": [],
      "text/plain": [
       "<IPython.core.display.HTML object>"
      ]
     },
     "metadata": {
      "tags": []
     },
     "output_type": "display_data"
    },
    {
     "data": {
      "text/html": [],
      "text/plain": [
       "<IPython.core.display.HTML object>"
      ]
     },
     "metadata": {
      "tags": []
     },
     "output_type": "display_data"
    },
    {
     "data": {
      "text/html": [],
      "text/plain": [
       "<IPython.core.display.HTML object>"
      ]
     },
     "metadata": {
      "tags": []
     },
     "output_type": "display_data"
    },
    {
     "data": {
      "text/html": [],
      "text/plain": [
       "<IPython.core.display.HTML object>"
      ]
     },
     "metadata": {
      "tags": []
     },
     "output_type": "display_data"
    },
    {
     "data": {
      "text/html": [],
      "text/plain": [
       "<IPython.core.display.HTML object>"
      ]
     },
     "metadata": {
      "tags": []
     },
     "output_type": "display_data"
    },
    {
     "data": {
      "text/html": [],
      "text/plain": [
       "<IPython.core.display.HTML object>"
      ]
     },
     "metadata": {
      "tags": []
     },
     "output_type": "display_data"
    },
    {
     "data": {
      "text/html": [],
      "text/plain": [
       "<IPython.core.display.HTML object>"
      ]
     },
     "metadata": {
      "tags": []
     },
     "output_type": "display_data"
    },
    {
     "data": {
      "text/html": [],
      "text/plain": [
       "<IPython.core.display.HTML object>"
      ]
     },
     "metadata": {
      "tags": []
     },
     "output_type": "display_data"
    },
    {
     "data": {
      "text/html": [],
      "text/plain": [
       "<IPython.core.display.HTML object>"
      ]
     },
     "metadata": {
      "tags": []
     },
     "output_type": "display_data"
    },
    {
     "data": {
      "text/html": [],
      "text/plain": [
       "<IPython.core.display.HTML object>"
      ]
     },
     "metadata": {
      "tags": []
     },
     "output_type": "display_data"
    },
    {
     "name": "stdout",
     "output_type": "stream",
     "text": [
      "The Chinese virus and Sleepy Joe Biden , together with the Fake News Media , are looking to China . They are playing golf with us again , big time ! Happy BIRTHDAY to our great\n",
      "\n",
      "The Chinese virus and Sleepy Joe Biden are saying that our people are being forced to leave China for other countries . They believe they are bad . China is just behind us and our Country . China wants us\n",
      "\n",
      "The Chinese virus and Sleepy Joe Biden are doing a great job . People are living with them . The American people are sick and tired of it . They want safety & & security . i also want to\n",
      "\n",
      "The Chinese virus and Sleepy Joe Biden would not be able to make a deal on the Coronavirus ! RT @senategop : Democrats are trying to steal the 2020 election by what they have always accomplished . \n",
      "\n",
      " But the\n",
      "\n",
      "The Chinese virus and Sleepy Joe Biden why we wo n’t have jobs at home because of the Biden Administration . Biden is a phony Democrat candidate ! RT @senatemajldr : After President Trump ’s disastrous\n",
      "\n",
      "The Chinese virus and Sleepy Joe ’s RED Wave . We will have a massive economy losing healthcare , healthcare , healthcare , and much more . We need a new leader ! More importantly , $ 5 million has\n",
      "\n",
      "The Chinese virus and Sleepy Joe Biden are far more dangerous and , in fact , worse than the 2016 Election ! \"\"\" For President Obama , for those who want to take our country back from the\n",
      "\n",
      "The Chinese virus and Sleepy Joe Biden are far more different than the Fake News Media . They are viciously threatening the Chinese President , who gave them massive amounts of information , told them to do their job\n",
      "\n",
      "The Chinese virus and Sleepy Joe Biden are far bigger than everything else . They are working very hard to get their Country , and all , from doing the same thing , and “ it ’s a miracle . ” They\n",
      "\n",
      "The Chinese virus and Sleepy Joe Biden is very much in play . China , Asia , Iran , and many others are laughing at us . Too bad ! Obama 's handling of the H1N1 Swine\n",
      "\n"
     ]
    }
   ],
   "source": [
    "TEXT = \"The Chinese virus and Sleepy Joe \"\n",
    "N_WORDS = 40\n",
    "\n",
    "\n",
    "preds10 = [learn.predict(TEXT, N_WORDS, temperature=0.75) + \"\\n\" for _ in range(10)]\n",
    "print(\"\\n\".join(preds10))"
   ]
  },
  {
   "cell_type": "markdown",
   "metadata": {
    "id": "iQ1G9NfO4_AF"
   },
   "source": [
    "### pErplexity in Natural Language Processing\n",
    "\n",
    "[link](https://towardsdatascience.com/perplexity-in-language-models-87a196019a94)"
   ]
  },
  {
   "cell_type": "code",
   "execution_count": null,
   "metadata": {
    "colab": {
     "base_uri": "https://localhost:8080/",
     "height": 345
    },
    "executionInfo": {
     "elapsed": 3202,
     "status": "error",
     "timestamp": 1622115955473,
     "user": {
      "displayName": "Nitin Kashyap",
      "photoUrl": "https://lh3.googleusercontent.com/a-/AOh14GgFOCildgKv2gQKYUy8uXlJ8VZbaTjL7CHxrcrRNbA=s64",
      "userId": "12536763568334316752"
     },
     "user_tz": -330
    },
    "id": "st0bPuFj9TnC",
    "outputId": "d1627854-6f1b-4457-856a-d49138f117ee"
   },
   "outputs": [
    {
     "data": {
      "text/html": [],
      "text/plain": [
       "<IPython.core.display.HTML object>"
      ]
     },
     "metadata": {
      "tags": []
     },
     "output_type": "display_data"
    },
    {
     "ename": "KeyboardInterrupt",
     "evalue": "ignored",
     "output_type": "error",
     "traceback": [
      "\u001b[0;31m---------------------------------------------------------------------------\u001b[0m",
      "\u001b[0;31mKeyboardInterrupt\u001b[0m                         Traceback (most recent call last)",
      "\u001b[0;32m<ipython-input-23-7c5b7f1b4997>\u001b[0m in \u001b[0;36m<module>\u001b[0;34m()\u001b[0m\n\u001b[1;32m      1\u001b[0m \u001b[0;32mfrom\u001b[0m \u001b[0mfastai\u001b[0m\u001b[0;34m.\u001b[0m\u001b[0mtext\u001b[0m\u001b[0;34m.\u001b[0m\u001b[0mall\u001b[0m \u001b[0;32mimport\u001b[0m \u001b[0;34m*\u001b[0m\u001b[0;34m\u001b[0m\u001b[0;34m\u001b[0m\u001b[0m\n\u001b[0;32m----> 2\u001b[0;31m \u001b[0mpath\u001b[0m \u001b[0;34m=\u001b[0m \u001b[0muntar_data\u001b[0m\u001b[0;34m(\u001b[0m\u001b[0;34m\"http://qwone.com/~jason/20Newsgroups/20news-bydate.tar.gz\"\u001b[0m\u001b[0;34m)\u001b[0m\u001b[0;34m\u001b[0m\u001b[0;34m\u001b[0m\u001b[0m\n\u001b[0m\u001b[1;32m      3\u001b[0m \u001b[0mpath\u001b[0m \u001b[0;34m=\u001b[0m \u001b[0muntar_data\u001b[0m\u001b[0;34m(\u001b[0m\u001b[0;34m'http://qwone.com/~jason/20Newsgroups/20news-19997.tar.gz'\u001b[0m\u001b[0;34m)\u001b[0m\u001b[0;34m\u001b[0m\u001b[0;34m\u001b[0m\u001b[0m\n\u001b[1;32m      4\u001b[0m \u001b[0;31m# Using the Newsgroup dataset to collect the data\u001b[0m\u001b[0;34m\u001b[0m\u001b[0;34m\u001b[0m\u001b[0;34m\u001b[0m\u001b[0m\n",
      "\u001b[0;32m/usr/local/lib/python3.7/dist-packages/fastai/data/external.py\u001b[0m in \u001b[0;36muntar_data\u001b[0;34m(url, fname, dest, c_key, force_download, extract_func, timeout)\u001b[0m\n\u001b[1;32m    258\u001b[0m         \u001b[0;32mif\u001b[0m \u001b[0m_get_check\u001b[0m\u001b[0;34m(\u001b[0m\u001b[0murl\u001b[0m\u001b[0;34m)\u001b[0m \u001b[0;32mand\u001b[0m \u001b[0m_check_file\u001b[0m\u001b[0;34m(\u001b[0m\u001b[0mfname\u001b[0m\u001b[0;34m)\u001b[0m \u001b[0;34m!=\u001b[0m \u001b[0m_get_check\u001b[0m\u001b[0;34m(\u001b[0m\u001b[0murl\u001b[0m\u001b[0;34m)\u001b[0m\u001b[0;34m:\u001b[0m\u001b[0;34m\u001b[0m\u001b[0;34m\u001b[0m\u001b[0m\n\u001b[1;32m    259\u001b[0m             \u001b[0mprint\u001b[0m\u001b[0;34m(\u001b[0m\u001b[0;34mf\"File downloaded is broken. Remove {fname} and try again.\"\u001b[0m\u001b[0;34m)\u001b[0m\u001b[0;34m\u001b[0m\u001b[0;34m\u001b[0m\u001b[0m\n\u001b[0;32m--> 260\u001b[0;31m         \u001b[0mextract_func\u001b[0m\u001b[0;34m(\u001b[0m\u001b[0mfname\u001b[0m\u001b[0;34m,\u001b[0m \u001b[0mdest\u001b[0m\u001b[0;34m.\u001b[0m\u001b[0mparent\u001b[0m\u001b[0;34m)\u001b[0m\u001b[0;34m\u001b[0m\u001b[0;34m\u001b[0m\u001b[0m\n\u001b[0m\u001b[1;32m    261\u001b[0m         \u001b[0mrename_extracted\u001b[0m\u001b[0;34m(\u001b[0m\u001b[0mdest\u001b[0m\u001b[0;34m)\u001b[0m\u001b[0;34m\u001b[0m\u001b[0;34m\u001b[0m\u001b[0m\n\u001b[1;32m    262\u001b[0m     \u001b[0;32mreturn\u001b[0m \u001b[0mdest\u001b[0m\u001b[0;34m\u001b[0m\u001b[0;34m\u001b[0m\u001b[0m\n",
      "\u001b[0;32m/usr/local/lib/python3.7/dist-packages/fastai/data/external.py\u001b[0m in \u001b[0;36mfile_extract\u001b[0;34m(fname, dest)\u001b[0m\n\u001b[1;32m    218\u001b[0m     \u001b[0;32mif\u001b[0m \u001b[0mdest\u001b[0m \u001b[0;32mis\u001b[0m \u001b[0;32mNone\u001b[0m\u001b[0;34m:\u001b[0m \u001b[0mdest\u001b[0m \u001b[0;34m=\u001b[0m \u001b[0mPath\u001b[0m\u001b[0;34m(\u001b[0m\u001b[0mfname\u001b[0m\u001b[0;34m)\u001b[0m\u001b[0;34m.\u001b[0m\u001b[0mparent\u001b[0m\u001b[0;34m\u001b[0m\u001b[0;34m\u001b[0m\u001b[0m\n\u001b[1;32m    219\u001b[0m     \u001b[0mfname\u001b[0m \u001b[0;34m=\u001b[0m \u001b[0mstr\u001b[0m\u001b[0;34m(\u001b[0m\u001b[0mfname\u001b[0m\u001b[0;34m)\u001b[0m\u001b[0;34m\u001b[0m\u001b[0;34m\u001b[0m\u001b[0m\n\u001b[0;32m--> 220\u001b[0;31m     \u001b[0;32mif\u001b[0m   \u001b[0mfname\u001b[0m\u001b[0;34m.\u001b[0m\u001b[0mendswith\u001b[0m\u001b[0;34m(\u001b[0m\u001b[0;34m'gz'\u001b[0m\u001b[0;34m)\u001b[0m\u001b[0;34m:\u001b[0m  \u001b[0mtarfile\u001b[0m\u001b[0;34m.\u001b[0m\u001b[0mopen\u001b[0m\u001b[0;34m(\u001b[0m\u001b[0mfname\u001b[0m\u001b[0;34m,\u001b[0m \u001b[0;34m'r:gz'\u001b[0m\u001b[0;34m)\u001b[0m\u001b[0;34m.\u001b[0m\u001b[0mextractall\u001b[0m\u001b[0;34m(\u001b[0m\u001b[0mdest\u001b[0m\u001b[0;34m)\u001b[0m\u001b[0;34m\u001b[0m\u001b[0;34m\u001b[0m\u001b[0m\n\u001b[0m\u001b[1;32m    221\u001b[0m     \u001b[0;32melif\u001b[0m \u001b[0mfname\u001b[0m\u001b[0;34m.\u001b[0m\u001b[0mendswith\u001b[0m\u001b[0;34m(\u001b[0m\u001b[0;34m'zip'\u001b[0m\u001b[0;34m)\u001b[0m\u001b[0;34m:\u001b[0m \u001b[0mzipfile\u001b[0m\u001b[0;34m.\u001b[0m\u001b[0mZipFile\u001b[0m\u001b[0;34m(\u001b[0m\u001b[0mfname\u001b[0m     \u001b[0;34m)\u001b[0m\u001b[0;34m.\u001b[0m\u001b[0mextractall\u001b[0m\u001b[0;34m(\u001b[0m\u001b[0mdest\u001b[0m\u001b[0;34m)\u001b[0m\u001b[0;34m\u001b[0m\u001b[0;34m\u001b[0m\u001b[0m\n\u001b[1;32m    222\u001b[0m     \u001b[0;32melse\u001b[0m\u001b[0;34m:\u001b[0m \u001b[0;32mraise\u001b[0m \u001b[0mException\u001b[0m\u001b[0;34m(\u001b[0m\u001b[0;34mf'Unrecognized archive: {fname}'\u001b[0m\u001b[0;34m)\u001b[0m\u001b[0;34m\u001b[0m\u001b[0;34m\u001b[0m\u001b[0m\n",
      "\u001b[0;32m/usr/lib/python3.7/tarfile.py\u001b[0m in \u001b[0;36mextractall\u001b[0;34m(self, path, members, numeric_owner)\u001b[0m\n\u001b[1;32m   2000\u001b[0m             \u001b[0;31m# Do not set_attrs directories, as we will do that further down\u001b[0m\u001b[0;34m\u001b[0m\u001b[0;34m\u001b[0m\u001b[0;34m\u001b[0m\u001b[0m\n\u001b[1;32m   2001\u001b[0m             self.extract(tarinfo, path, set_attrs=not tarinfo.isdir(),\n\u001b[0;32m-> 2002\u001b[0;31m                          numeric_owner=numeric_owner)\n\u001b[0m\u001b[1;32m   2003\u001b[0m \u001b[0;34m\u001b[0m\u001b[0m\n\u001b[1;32m   2004\u001b[0m         \u001b[0;31m# Reverse sort directories.\u001b[0m\u001b[0;34m\u001b[0m\u001b[0;34m\u001b[0m\u001b[0;34m\u001b[0m\u001b[0m\n",
      "\u001b[0;32m/usr/lib/python3.7/tarfile.py\u001b[0m in \u001b[0;36mextract\u001b[0;34m(self, member, path, set_attrs, numeric_owner)\u001b[0m\n\u001b[1;32m   2042\u001b[0m             self._extract_member(tarinfo, os.path.join(path, tarinfo.name),\n\u001b[1;32m   2043\u001b[0m                                  \u001b[0mset_attrs\u001b[0m\u001b[0;34m=\u001b[0m\u001b[0mset_attrs\u001b[0m\u001b[0;34m,\u001b[0m\u001b[0;34m\u001b[0m\u001b[0;34m\u001b[0m\u001b[0m\n\u001b[0;32m-> 2044\u001b[0;31m                                  numeric_owner=numeric_owner)\n\u001b[0m\u001b[1;32m   2045\u001b[0m         \u001b[0;32mexcept\u001b[0m \u001b[0mOSError\u001b[0m \u001b[0;32mas\u001b[0m \u001b[0me\u001b[0m\u001b[0;34m:\u001b[0m\u001b[0;34m\u001b[0m\u001b[0;34m\u001b[0m\u001b[0m\n\u001b[1;32m   2046\u001b[0m             \u001b[0;32mif\u001b[0m \u001b[0mself\u001b[0m\u001b[0;34m.\u001b[0m\u001b[0merrorlevel\u001b[0m \u001b[0;34m>\u001b[0m \u001b[0;36m0\u001b[0m\u001b[0;34m:\u001b[0m\u001b[0;34m\u001b[0m\u001b[0;34m\u001b[0m\u001b[0m\n",
      "\u001b[0;32m/usr/lib/python3.7/tarfile.py\u001b[0m in \u001b[0;36m_extract_member\u001b[0;34m(self, tarinfo, targetpath, set_attrs, numeric_owner)\u001b[0m\n\u001b[1;32m   2127\u001b[0m \u001b[0;34m\u001b[0m\u001b[0m\n\u001b[1;32m   2128\u001b[0m         \u001b[0;32mif\u001b[0m \u001b[0mset_attrs\u001b[0m\u001b[0;34m:\u001b[0m\u001b[0;34m\u001b[0m\u001b[0;34m\u001b[0m\u001b[0m\n\u001b[0;32m-> 2129\u001b[0;31m             \u001b[0mself\u001b[0m\u001b[0;34m.\u001b[0m\u001b[0mchown\u001b[0m\u001b[0;34m(\u001b[0m\u001b[0mtarinfo\u001b[0m\u001b[0;34m,\u001b[0m \u001b[0mtargetpath\u001b[0m\u001b[0;34m,\u001b[0m \u001b[0mnumeric_owner\u001b[0m\u001b[0;34m)\u001b[0m\u001b[0;34m\u001b[0m\u001b[0;34m\u001b[0m\u001b[0m\n\u001b[0m\u001b[1;32m   2130\u001b[0m             \u001b[0;32mif\u001b[0m \u001b[0;32mnot\u001b[0m \u001b[0mtarinfo\u001b[0m\u001b[0;34m.\u001b[0m\u001b[0missym\u001b[0m\u001b[0;34m(\u001b[0m\u001b[0;34m)\u001b[0m\u001b[0;34m:\u001b[0m\u001b[0;34m\u001b[0m\u001b[0;34m\u001b[0m\u001b[0m\n\u001b[1;32m   2131\u001b[0m                 \u001b[0mself\u001b[0m\u001b[0;34m.\u001b[0m\u001b[0mchmod\u001b[0m\u001b[0;34m(\u001b[0m\u001b[0mtarinfo\u001b[0m\u001b[0;34m,\u001b[0m \u001b[0mtargetpath\u001b[0m\u001b[0;34m)\u001b[0m\u001b[0;34m\u001b[0m\u001b[0;34m\u001b[0m\u001b[0m\n",
      "\u001b[0;32m/usr/lib/python3.7/tarfile.py\u001b[0m in \u001b[0;36mchown\u001b[0;34m(self, tarinfo, targetpath, numeric_owner)\u001b[0m\n\u001b[1;32m   2242\u001b[0m                     \u001b[0mos\u001b[0m\u001b[0;34m.\u001b[0m\u001b[0mlchown\u001b[0m\u001b[0;34m(\u001b[0m\u001b[0mtargetpath\u001b[0m\u001b[0;34m,\u001b[0m \u001b[0mu\u001b[0m\u001b[0;34m,\u001b[0m \u001b[0mg\u001b[0m\u001b[0;34m)\u001b[0m\u001b[0;34m\u001b[0m\u001b[0;34m\u001b[0m\u001b[0m\n\u001b[1;32m   2243\u001b[0m                 \u001b[0;32melse\u001b[0m\u001b[0;34m:\u001b[0m\u001b[0;34m\u001b[0m\u001b[0;34m\u001b[0m\u001b[0m\n\u001b[0;32m-> 2244\u001b[0;31m                     \u001b[0mos\u001b[0m\u001b[0;34m.\u001b[0m\u001b[0mchown\u001b[0m\u001b[0;34m(\u001b[0m\u001b[0mtargetpath\u001b[0m\u001b[0;34m,\u001b[0m \u001b[0mu\u001b[0m\u001b[0;34m,\u001b[0m \u001b[0mg\u001b[0m\u001b[0;34m)\u001b[0m\u001b[0;34m\u001b[0m\u001b[0;34m\u001b[0m\u001b[0m\n\u001b[0m\u001b[1;32m   2245\u001b[0m             \u001b[0;32mexcept\u001b[0m \u001b[0mOSError\u001b[0m\u001b[0;34m:\u001b[0m\u001b[0;34m\u001b[0m\u001b[0;34m\u001b[0m\u001b[0m\n\u001b[1;32m   2246\u001b[0m                 \u001b[0;32mraise\u001b[0m \u001b[0mExtractError\u001b[0m\u001b[0;34m(\u001b[0m\u001b[0;34m\"could not change owner\"\u001b[0m\u001b[0;34m)\u001b[0m\u001b[0;34m\u001b[0m\u001b[0;34m\u001b[0m\u001b[0m\n",
      "\u001b[0;31mKeyboardInterrupt\u001b[0m: "
     ]
    }
   ],
   "source": [
    "from fastai.text.all import *\n",
    "path = untar_data(\"http://qwone.com/~jason/20Newsgroups/20news-bydate.tar.gz\")\n",
    "path = untar_data('http://qwone.com/~jason/20Newsgroups/20news-19997.tar.gz')\n",
    "# Using the Newsgroup dataset to collect the data"
   ]
  },
  {
   "cell_type": "code",
   "execution_count": null,
   "metadata": {
    "colab": {
     "base_uri": "https://localhost:8080/"
    },
    "executionInfo": {
     "elapsed": 334,
     "status": "ok",
     "timestamp": 1621939227831,
     "user": {
      "displayName": "Nitin Kashyap",
      "photoUrl": "https://lh3.googleusercontent.com/a-/AOh14GgFOCildgKv2gQKYUy8uXlJ8VZbaTjL7CHxrcrRNbA=s64",
      "userId": "12536763568334316752"
     },
     "user_tz": -330
    },
    "id": "flh1se6_9iyp",
    "outputId": "958141f4-8583-44d3-99b7-d0d07a92b632"
   },
   "outputs": [
    {
     "data": {
      "text/plain": [
       "Path('/root/.fastai/data/20news-19997.tar')"
      ]
     },
     "execution_count": 32,
     "metadata": {
      "tags": []
     },
     "output_type": "execute_result"
    }
   ],
   "source": [
    "path"
   ]
  },
  {
   "cell_type": "code",
   "execution_count": null,
   "metadata": {
    "id": "L6iaKwoy9t9a"
   },
   "outputs": [],
   "source": [
    "path2 = path/'talk.religion.misc/84127'\n"
   ]
  },
  {
   "cell_type": "code",
   "execution_count": null,
   "metadata": {
    "id": "4e5URHy19zKJ"
   },
   "outputs": [],
   "source": [
    "files = get_text_files(path, folders = ['talk.religion.misc', 'alt.atheism', 'soc.religion.christian'])"
   ]
  },
  {
   "cell_type": "code",
   "execution_count": null,
   "metadata": {
    "colab": {
     "base_uri": "https://localhost:8080/"
    },
    "executionInfo": {
     "elapsed": 349,
     "status": "ok",
     "timestamp": 1621939075699,
     "user": {
      "displayName": "Nitin Kashyap",
      "photoUrl": "https://lh3.googleusercontent.com/a-/AOh14GgFOCildgKv2gQKYUy8uXlJ8VZbaTjL7CHxrcrRNbA=s64",
      "userId": "12536763568334316752"
     },
     "user_tz": -330
    },
    "id": "pEPAo4OG97cp",
    "outputId": "c6d0d38a-674a-4300-909f-e20efb1cfa6d"
   },
   "outputs": [
    {
     "data": {
      "text/plain": [
       "(#0) []"
      ]
     },
     "execution_count": 25,
     "metadata": {
      "tags": []
     },
     "output_type": "execute_result"
    }
   ],
   "source": [
    "files\n",
    "txt = files[0].open().read(); txt"
   ]
  },
  {
   "cell_type": "code",
   "execution_count": null,
   "metadata": {
    "colab": {
     "base_uri": "https://localhost:8080/",
     "height": 278
    },
    "executionInfo": {
     "elapsed": 20,
     "status": "ok",
     "timestamp": 1621939238269,
     "user": {
      "displayName": "Nitin Kashyap",
      "photoUrl": "https://lh3.googleusercontent.com/a-/AOh14GgFOCildgKv2gQKYUy8uXlJ8VZbaTjL7CHxrcrRNbA=s64",
      "userId": "12536763568334316752"
     },
     "user_tz": -330
    },
    "id": "3SSFrx84-Nix",
    "outputId": "0e3f43e6-44a1-4b93-a6a9-624e613667ef"
   },
   "outputs": [
    {
     "data": {
      "application/vnd.google.colaboratory.intrinsic+json": {
       "type": "string"
      },
      "text/plain": [
       "'Xref: cantaloupe.srv.cs.cmu.edu talk.abortion:121245 talk.religion.misc:84127\\nPath: cantaloupe.srv.cs.cmu.edu!magnesium.club.cc.cmu.edu!news.sei.cmu.edu!cis.ohio-state.edu!zaphod.mps.ohio-state.edu!cs.utexas.edu!uunet!gatekeeper.us.oracle.com!barrnet.net!kyle.eitech.com!kyle.eitech.com!not-for-mail\\nFrom: ekr@kyle.eitech.com (Eric Rescorla)\\nNewsgroups: talk.abortion,talk.religion.misc\\nSubject: Re: What part of \"No\" don\\'t you understand?\\nDate: 24 Apr 1993 19:39:28 -0700\\nOrganization: EIT\\nLines: 37\\nMessage-ID: <1rctl0$ka3@kyle.eitech.com>\\nReferences: <1993Apr24.002509.4017@midway.uchicago.edu> <1rbh3n$hav@kyle.eitech.com> <1993Apr24.214843.10940@midway.uchicago.edu>\\nNNTP-Posting-Host: kyle.eitech.com\\n\\nIn article <1993Apr24.214843.10940@midway.uchicago.edu> eeb1@midway.uchicago.edu writes:\\n>In article <1rbh3n$hav@kyle.eitech.com>\\n>ekr@kyle.eitech.com (Eric Rescorla) writes:\\n>>In article <1993Apr24.002509.4017@midway.uchicago.edu>\\n>>eeb1@midway.uchicago.edu writes:\\n>\\n>>>A \"moment of silence\" doesn\\'t mean much unless *everyone*\\n>>>participates.  Otherwise it\\'s not silent, now is it?\\n>\\n>>>Non-religious reasons for having a \"moment of silence\" for a dead\\n>>>classmate: (1) to comfort the friends by showing respect to the\\n>>>deceased , (2) to give the classmates a moment to grieve together, (3)\\n>>>to give the friends a moment to remember their classmate *in the\\n>>>context of the school*, (4) to deal with the fact that the classmate\\n>>>is gone so that it\\'s not disruptive later.\\n>\\n>>Yeah, all well and good. The fact is, though, that the pro-school\\n>>prayer types have tried to use a moment of silence as a way\\n>>to get prayer back. At my high school for instance, our dear\\n>>principal ended the moment of silence with \"Amen.\"\\n>I can certainly see opposing the \"Amen\" -- but that doesn\\'t require \\n>opposing a moment of silence.\\nI see it as the camel\\'s nose.\\n\\n>>I\\'ll back off when they do.\\n>Does anybody else besides me see a vicious circle here?  I guarantee\\n>you the people who want school prayer aren\\'t going to back off when\\n>they can\\'t even manage to get a quiet moment for their kids to pray\\n>silently.\\nI\\'m willing to take my chances on winning the whole thing, personally.\\n-Ekr\\n\\n\\n-- \\nEric Rescorla                                     ekr@eitech.com\\n        \"What we\\'ve got here is failure to communicate.\"\\n        \\n'"
      ]
     },
     "execution_count": 34,
     "metadata": {
      "tags": []
     },
     "output_type": "execute_result"
    }
   ],
   "source": [
    "path2.open().read()"
   ]
  },
  {
   "cell_type": "markdown",
   "metadata": {
    "id": "td94ZmS8WoXx"
   },
   "source": [
    "### Other code\n"
   ]
  },
  {
   "cell_type": "code",
   "execution_count": null,
   "metadata": {
    "id": "f-sUJBQiBkZP"
   },
   "outputs": [],
   "source": [
    "### Other code\n"
   ]
  },
  {
   "cell_type": "code",
   "execution_count": null,
   "metadata": {
    "id": "9E7urMD2N1dO"
   },
   "outputs": [],
   "source": [
    "#hide\n",
    "api_key = \"rphUvMAMILFkJfJ6UxGXbboz2\"\n",
    "api_secret = \"4mk751YaruDe3A8H8xkXnfAW7BAQ9A0YxASX1SQBDfCQnGhWrW\"\n",
    "bearer_tkn = \"AAAAAAAAAAAAAAAAAAAAAHEoQAEAAAAAIMbrTFvtRNaV%2Fwsi9nw5tUzPZ%2Fg%3DJ9tE7Uys0QpS0b2Mpk7V38j82q3ogkRcajRxGACxidYEmW81aS\"\n",
    "\n",
    "auth = tweepy.AppAuthHandler(api_key, api_secret)\n",
    "\n",
    "\n"
   ]
  },
  {
   "cell_type": "code",
   "execution_count": null,
   "metadata": {
    "id": "S3HVKjeKP054"
   },
   "outputs": [],
   "source": [
    "api = tweepy.API(auth)\n",
    "for tweet in tweepy.Cursor(api.search, q='#space').items(10):\n",
    "    print\n",
    "    print(tweet.text)\n",
    "    print(\"***************************************************************\")"
   ]
  }
 ],
 "metadata": {
  "accelerator": "GPU",
  "colab": {
   "authorship_tag": "ABX9TyPeubWaLvYLyxdyzFn3mCUv",
   "collapsed_sections": [
    "iQ1G9NfO4_AF"
   ],
   "name": "2020-05-23-RNN.ipynb",
   "provenance": [],
   "toc_visible": true
  },
  "kernelspec": {
   "display_name": "Python 3",
   "name": "python3"
  },
  "language_info": {
   "name": "python"
  }
 },
 "nbformat": 4,
 "nbformat_minor": 2
}
