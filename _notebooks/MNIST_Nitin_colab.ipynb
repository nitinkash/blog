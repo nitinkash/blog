{
  "nbformat": 4,
  "nbformat_minor": 0,
  "metadata": {
    "colab": {
      "name": "MNIST_Nitin.ipynb",
      "provenance": [],
      "collapsed_sections": []
    },
    "kernelspec": {
      "name": "python3",
      "display_name": "Python 3"
    },
    "language_info": {
      "name": "python"
    },
    "accelerator": "GPU"
  },
  "cells": [
    {
      "cell_type": "markdown",
      "metadata": {
        "id": "A22o5mjoJeTV"
      },
      "source": [
        "As recommeneded by Jeremy, I am writing this blog to deepen my understanding of Deep Learning. Here I am hoping to expand on the material presented in the fastai course and create a full blown MNIST classifier using fastai."
      ]
    },
    {
      "cell_type": "code",
      "metadata": {
        "colab": {
          "base_uri": "https://localhost:8080/"
        },
        "id": "ZeCEvTjaMVz_",
        "outputId": "3cb0a1d7-aab2-4c07-9948-2a9c8a99a336"
      },
      "source": [
        "#hide\n",
        "!pip install -Uqq fastbook\n",
        "import fastbook\n",
        "fastbook.setup_book()"
      ],
      "execution_count": 1,
      "outputs": [
        {
          "output_type": "stream",
          "text": [
            "\u001b[K     |████████████████████████████████| 727kB 11.0MB/s \n",
            "\u001b[K     |████████████████████████████████| 194kB 22.4MB/s \n",
            "\u001b[K     |████████████████████████████████| 51kB 5.6MB/s \n",
            "\u001b[K     |████████████████████████████████| 1.2MB 39.1MB/s \n",
            "\u001b[K     |████████████████████████████████| 61kB 6.1MB/s \n",
            "\u001b[K     |████████████████████████████████| 12.8MB 222kB/s \n",
            "\u001b[K     |████████████████████████████████| 776.8MB 24kB/s \n",
            "\u001b[K     |████████████████████████████████| 51kB 5.5MB/s \n",
            "\u001b[31mERROR: torchtext 0.9.1 has requirement torch==1.8.1, but you'll have torch 1.7.1 which is incompatible.\u001b[0m\n",
            "\u001b[?25hMounted at /content/gdrive\n"
          ],
          "name": "stdout"
        }
      ]
    },
    {
      "cell_type": "code",
      "metadata": {
        "id": "EIA9ZKm7Jaew"
      },
      "source": [
        "from fastai.vision.all import *\n",
        "from fastbook import *\n",
        "\n",
        "matplotlib.rc('image', cmap='Greys')"
      ],
      "execution_count": 2,
      "outputs": []
    },
    {
      "cell_type": "markdown",
      "metadata": {
        "id": "pkbcSqeqMV9H"
      },
      "source": [
        "Quite pissed that I ran into some issues in the import statement itself. After some googling in the fastai forums, I found that apparently the fastai version (v2) needs to be explicitly defined. Somehow the notebooks used in the course circumvents this. Anyway glad to have found the answer within a few minutes of googling. If you have this error just follow this: https://forums.fast.ai/t/modulenotfounderror-no-module-named-fastai-vision-all-on-kaggle-notebook/77008/13?u=nitinkashyap\n",
        "\n",
        "EDIT: Wrote the above part and then Colab on Google chrome crashed for the umpteenth time. I moved to Brave Browser and the original code works perfectly. Guess there was some issue with Google Chrome."
      ]
    },
    {
      "cell_type": "code",
      "metadata": {
        "id": "fTQtjNoYMVKq"
      },
      "source": [
        "import fastbook\n",
        "fastbook.setup_book()\n",
        "from fastai.vision.all import *\n",
        "from fastbook import *\n",
        "\n",
        "matplotlib.rc('image', cmap='Greys')"
      ],
      "execution_count": 3,
      "outputs": []
    },
    {
      "cell_type": "code",
      "metadata": {
        "id": "XMgED4cFL3-P"
      },
      "source": [
        ""
      ],
      "execution_count": 3,
      "outputs": []
    },
    {
      "cell_type": "markdown",
      "metadata": {
        "id": "6y4-JcSxea2i"
      },
      "source": [
        "I absolutely love how fastai has managed to improve the readability of python and provide such small elegant functions that used to be a pain for me to create on python jupyter notebooks before. Usually had about three or four lines of code that just set the input and output paths before. Using the untar_data to basically download the data from fastai's AWS S3 on to the working directory and decompress this. this function returns the path of the extracted files. SO SO Elegant!"
      ]
    },
    {
      "cell_type": "code",
      "metadata": {
        "colab": {
          "base_uri": "https://localhost:8080/",
          "height": 17
        },
        "id": "4Hchd09FeDnQ",
        "outputId": "84df5fc5-9bda-41fa-fb6b-4edd8c2adcb1"
      },
      "source": [
        "path = untar_data(URLs.MNIST)\n",
        "Path.BASE_PATH = path"
      ],
      "execution_count": 4,
      "outputs": [
        {
          "output_type": "display_data",
          "data": {
            "text/html": [
              ""
            ],
            "text/plain": [
              "<IPython.core.display.HTML object>"
            ]
          },
          "metadata": {
            "tags": []
          }
        }
      ]
    },
    {
      "cell_type": "markdown",
      "metadata": {
        "id": "XDBQaDQQfxnx"
      },
      "source": [
        "Another nifty little thing fastai has provided is to access the working directory directly on jupyter books using path.ls(). \n",
        "\n",
        "```\n",
        "path.ls() \n",
        "```\n",
        "\n",
        "I remember toggling back and forth between the terminal and the jupyter notebook while working before. It's the little things like this that let you focus on the deep learning part of the process. \n",
        "\n",
        "Big thanks to the fastai team for including so many such features."
      ]
    },
    {
      "cell_type": "code",
      "metadata": {
        "colab": {
          "base_uri": "https://localhost:8080/"
        },
        "id": "I3lFaNlleDkj",
        "outputId": "1148b8ee-29e7-4995-8345-490c5191b842"
      },
      "source": [
        "path.ls()"
      ],
      "execution_count": 5,
      "outputs": [
        {
          "output_type": "execute_result",
          "data": {
            "text/plain": [
              "(#2) [Path('training'),Path('testing')]"
            ]
          },
          "metadata": {
            "tags": []
          },
          "execution_count": 5
        }
      ]
    },
    {
      "cell_type": "markdown",
      "metadata": {
        "id": "N68jColDhP0e"
      },
      "source": [
        "The MNIST dataset follows a common layout for machine learning datasets: separate folders for the training set and the validation set (and/or test set). Let's see what's inside the training set:"
      ]
    },
    {
      "cell_type": "code",
      "metadata": {
        "colab": {
          "base_uri": "https://localhost:8080/"
        },
        "id": "J_iGnVVSS0b6",
        "outputId": "17de659a-bbf5-4ab0-cda4-d2d569a300a9"
      },
      "source": [
        "(path/'testing').ls()"
      ],
      "execution_count": 6,
      "outputs": [
        {
          "output_type": "execute_result",
          "data": {
            "text/plain": [
              "(#10) [Path('testing/4'),Path('testing/3'),Path('testing/8'),Path('testing/7'),Path('testing/0'),Path('testing/1'),Path('testing/5'),Path('testing/2'),Path('testing/6'),Path('testing/9')]"
            ]
          },
          "metadata": {
            "tags": []
          },
          "execution_count": 6
        }
      ]
    },
    {
      "cell_type": "code",
      "metadata": {
        "colab": {
          "base_uri": "https://localhost:8080/"
        },
        "id": "UPEpwaXfeDhw",
        "outputId": "7bab37a2-670e-496f-8491-04d2ab9cd89f"
      },
      "source": [
        "(path/'training').ls()"
      ],
      "execution_count": 7,
      "outputs": [
        {
          "output_type": "execute_result",
          "data": {
            "text/plain": [
              "(#10) [Path('training/4'),Path('training/3'),Path('training/8'),Path('training/7'),Path('training/0'),Path('training/1'),Path('training/5'),Path('training/2'),Path('training/6'),Path('training/9')]"
            ]
          },
          "metadata": {
            "tags": []
          },
          "execution_count": 7
        }
      ]
    },
    {
      "cell_type": "markdown",
      "metadata": {
        "id": "kuD-g3YFhSzH"
      },
      "source": [
        "There are separate folders for inages of each of the 10 digits. Doing this part by brute force, I am sure fastai has some cool functions to make this better. Will explore and update here:"
      ]
    },
    {
      "cell_type": "code",
      "metadata": {
        "id": "8YUk6rZ6hUR5"
      },
      "source": [
        "ones = (path/'training'/'1').ls().sorted()\n",
        "twos = (path/'training'/'2').ls().sorted()\n",
        "threes = (path/'training'/'3').ls().sorted()\n",
        "fours = (path/'training'/'4').ls().sorted()\n",
        "fives = (path/'training'/'5').ls().sorted()\n",
        "sixes = (path/'training'/'6').ls().sorted()\n",
        "sevens = (path/'training'/'7').ls().sorted()\n",
        "eights = (path/'training'/'8').ls().sorted()\n",
        "nines = (path/'training'/'9').ls().sorted()\n",
        "zeros = (path/'training'/'0').ls().sorted()"
      ],
      "execution_count": 8,
      "outputs": []
    },
    {
      "cell_type": "code",
      "metadata": {
        "colab": {
          "base_uri": "https://localhost:8080/",
          "height": 45
        },
        "id": "Effv8E2CfvVd",
        "outputId": "cf37863d-b43f-4a66-e0aa-bfcef35ffdf9"
      },
      "source": [
        "im5 = Image.open(fives[0])\n",
        "im5"
      ],
      "execution_count": 9,
      "outputs": [
        {
          "output_type": "execute_result",
          "data": {
            "image/png": "[encoded data removed]",
            "text/plain": [
              "<PIL.PngImagePlugin.PngImageFile image mode=L size=28x28 at 0x7FE50C207190>"
            ]
          },
          "metadata": {
            "tags": []
          },
          "execution_count": 9
        }
      ]
    },
    {
      "cell_type": "code",
      "metadata": {
        "id": "a_fI0jUteDe-"
      },
      "source": [
        "Image??"
      ],
      "execution_count": 10,
      "outputs": []
    },
    {
      "cell_type": "markdown",
      "metadata": {
        "id": "VwPJxaN8iqVl"
      },
      "source": [
        "Here the `Image` class from the *Python Imaging Library* (PIL) is used. This is a Python package for opening, manipulating, and viewing images.\n",
        "\n",
        "Lets convert these Images to a Tensor so that we can create our model"
      ]
    },
    {
      "cell_type": "code",
      "metadata": {
        "id": "lLu5fI52ByWz"
      },
      "source": [
        "zero_tensors = [tensor(Image.open(o)) for o in zeros]\n",
        "one_tensors = [tensor(Image.open(o)) for o in ones]\n",
        "two_tensors = [tensor(Image.open(o)) for o in twos]\n",
        "three_tensors = [tensor(Image.open(o)) for o in threes]\n",
        "four_tensors = [tensor(Image.open(o)) for o in fours]\n",
        "five_tensors = [tensor(Image.open(o)) for o in fives]\n",
        "six_tensors = [tensor(Image.open(o)) for o in sixes]\n",
        "seven_tensors = [tensor(Image.open(o)) for o in sevens]\n",
        "eight_tensors = [tensor(Image.open(o)) for o in eights]\n",
        "nine_tensors = [tensor(Image.open(o)) for o in nines]\n"
      ],
      "execution_count": 11,
      "outputs": []
    },
    {
      "cell_type": "markdown",
      "metadata": {
        "id": "iJl8A6DGBymR"
      },
      "source": [
        "### Building the Baseline Model: KNN"
      ]
    },
    {
      "cell_type": "markdown",
      "metadata": {
        "id": "N88KDCaakLyE"
      },
      "source": [
        "One of the things emphasized in the fastai course is the need to first create a baseline model. Having an accuracy of over 90% means nothing if a simple arithmetic model has an accuracy of 95%. I have also created many fancy machine learning models only to find that using a simpler model performed far better. A model is useless if it fails to beat a simple benchmark. While it's tempting to rush in and start writing in some fancy code, it might be a good idea to create a simple baseline model to assess the quality of the model's accuracy. Here is the description of a Baseline model from the fastai course:\n",
        "\n",
        "> jargon: Baseline: A simple model which you are confident should perform reasonably well. It should be very simple to implement, and very easy to test, so that you can then test each of your improved ideas, and make sure they are always better than your baseline. Without starting with a sensible baseline, it is very difficult to know whether your super-fancy models are actually any good. One good approach to creating a baseline is doing what we have done here: think of a simple, easy-to-implement model. Another good approach is to search around to find other people that have solved similar problems to yours, and download and run their code on your dataset. Ideally, try both of these!\n",
        "\n",
        "As the MNSIT I am trying to do is a bit more complex than the sample MNSIT example in lesson 4 of the course. I am going to try and build a simple KNN Classifier and see how well this performs and hopefully should be able to get a better result using Deep Learning. This will also give me an opportunity of using Tensors to build a KNN\n",
        "\n"
      ]
    },
    {
      "cell_type": "markdown",
      "metadata": {
        "id": "MJenTdC0E3il"
      },
      "source": [
        ""
      ]
    },
    {
      "cell_type": "code",
      "metadata": {
        "id": "Xnci3MZReDcb"
      },
      "source": [
        "def euc_dist(x1, x2):\n",
        "  return torch.sqrt(torch.sum((x1-x2)**2))"
      ],
      "execution_count": 12,
      "outputs": []
    },
    {
      "cell_type": "code",
      "metadata": {
        "id": "N8N-h6jsmYSr"
      },
      "source": [
        "class KNN:\n",
        "    def __init__(self, K=3):\n",
        "        self.K=3\n",
        "  \n",
        "    def fit(self, x_train, y_train):\n",
        "        self.X_train = x_train\n",
        "        self.y_train = y_train\n",
        "  \n",
        "    def predict(self, X_test):\n",
        "        predictions = []\n",
        "        for i in range(len(X_test)):\n",
        "            dist = torch.tensor([euc_dist(X_test[i], x_t) for x_t in self.X_train])\n",
        "            dist_sorted = torch.argsort(dist)[:self.K]\n",
        "            neigh_count = {}\n",
        "            for idx in dist_sorted:\n",
        "                if self.y_train[idx] in neigh_count:\n",
        "                    neigh_count[self.y_train[idx]] += 1\n",
        "                else:\n",
        "                    neigh_count[self.y_train[idx]] = 1\n",
        "\n",
        "            sorted_neigh_count = sorted(neigh_count.items(), key=operator.itemgetter(1), reverse=True)\n",
        "            predictions.append(sorted_neigh_count[0][0]) \n",
        "        return predictions       "
      ],
      "execution_count": 20,
      "outputs": []
    },
    {
      "cell_type": "markdown",
      "metadata": {
        "id": "31dXw6k7RUir"
      },
      "source": [
        "This script will need a way to create X and Y datasets"
      ]
    },
    {
      "cell_type": "code",
      "metadata": {
        "id": "vQuMQrNiHHD8"
      },
      "source": [
        "flat_zeros = [o.flatten().float()/255 for o in zero_tensors]\n",
        "flat_ones = [o.flatten().float()/255 for o in one_tensors]\n",
        "flat_twos = [o.flatten().float()/255 for o in two_tensors]\n",
        "flat_threes = [o.flatten().float()/255 for o in three_tensors]\n",
        "flat_fours = [o.flatten().float()/255 for o in four_tensors]\n",
        "flat_fives = [o.flatten().float()/255 for o in five_tensors]\n",
        "flat_sixes = [o.flatten().float()/255 for o in six_tensors]\n",
        "flat_sevens = [o.flatten().float()/255 for o in seven_tensors]\n",
        "flat_eights = [o.flatten().float()/255 for o in eight_tensors]\n",
        "flat_nines = [o.flatten().float()/255 for o in nine_tensors]"
      ],
      "execution_count": 14,
      "outputs": []
    },
    {
      "cell_type": "code",
      "metadata": {
        "id": "fHCauHInSSLL"
      },
      "source": [
        "train_x = torch.cat([torch.stack(flat_zeros), \n",
        "                     torch.stack(flat_ones), \n",
        "                     torch.stack(flat_twos), \n",
        "                     torch.stack(flat_threes), \n",
        "                     torch.stack(flat_fours), \n",
        "                     torch.stack(flat_fives), \n",
        "                     torch.stack(flat_sixes), \n",
        "                     torch.stack(flat_sevens), \n",
        "                     torch.stack(flat_eights), \n",
        "                     torch.stack(flat_nines)])"
      ],
      "execution_count": 15,
      "outputs": []
    },
    {
      "cell_type": "code",
      "metadata": {
        "id": "B1qxK5N6SSIX"
      },
      "source": [
        "train_y = tensor([0]*len(zeros)+ \n",
        "                 [1]*len(ones)+\n",
        "                 [2]*len(twos)+\n",
        "                 [3]*len(threes)+\n",
        "                 [4]*len(fours)+\n",
        "                 [5]*len(fives)+\n",
        "                 [6]*len(sixes)+\n",
        "                 [7]*len(sevens)+\n",
        "                 [8]*len(eights)+\n",
        "                 [9]*len(nines))"
      ],
      "execution_count": 16,
      "outputs": []
    },
    {
      "cell_type": "markdown",
      "metadata": {
        "id": "2yq6SJlYwdX_"
      },
      "source": [
        "Doing the same for the testing data"
      ]
    },
    {
      "cell_type": "code",
      "metadata": {
        "id": "V683PXbfYB4G"
      },
      "source": [
        "ones_test = (path/'testing'/'1').ls().sorted()\n",
        "twos_test = (path/'testing'/'2').ls().sorted()\n",
        "threes_test = (path/'testing'/'3').ls().sorted()\n",
        "fours_test = (path/'testing'/'4').ls().sorted()\n",
        "fives_test = (path/'testing'/'5').ls().sorted()\n",
        "sixes_test = (path/'testing'/'6').ls().sorted()\n",
        "sevens_test = (path/'testing'/'7').ls().sorted()\n",
        "eights_test = (path/'testing'/'8').ls().sorted()\n",
        "nines_test = (path/'testing'/'9').ls().sorted()\n",
        "zeros_test = (path/'testing'/'0').ls().sorted()\n",
        "\n",
        "\n",
        "zero_tensors_test = [tensor(Image.open(o)) for o in zeros_test]\n",
        "one_tensors_test = [tensor(Image.open(o)) for o in ones_test]\n",
        "two_tensors_test = [tensor(Image.open(o)) for o in twos_test]\n",
        "three_tensors_test = [tensor(Image.open(o)) for o in threes_test]\n",
        "four_tensors_test = [tensor(Image.open(o)) for o in fours_test]\n",
        "five_tensors_test = [tensor(Image.open(o)) for o in fives_test]\n",
        "six_tensors_test = [tensor(Image.open(o)) for o in sixes_test]\n",
        "seven_tensors_test = [tensor(Image.open(o)) for o in sevens_test]\n",
        "eight_tensors_test = [tensor(Image.open(o)) for o in eights_test]\n",
        "nine_tensors_test = [tensor(Image.open(o)) for o in nines_test]\n",
        "\n",
        "flat_zeros_test = [o.flatten().float()/255 for o in zero_tensors_test]\n",
        "flat_ones_test = [o.flatten().float()/255 for o in one_tensors_test]\n",
        "flat_twos_test = [o.flatten().float()/255 for o in two_tensors_test]\n",
        "flat_threes_test = [o.flatten().float()/255 for o in three_tensors_test]\n",
        "flat_fours_test = [o.flatten().float()/255 for o in four_tensors_test]\n",
        "flat_fives_test = [o.flatten().float()/255 for o in five_tensors_test]\n",
        "flat_sixes_test = [o.flatten().float()/255 for o in six_tensors_test]\n",
        "flat_sevens_test = [o.flatten().float()/255 for o in seven_tensors_test]\n",
        "flat_eights_test = [o.flatten().float()/255 for o in eight_tensors_test]\n",
        "flat_nines_test = [o.flatten().float()/255 for o in nine_tensors_test]\n",
        "\n",
        "test_x = torch.cat([torch.stack(flat_zeros_test), \n",
        "                     torch.stack(flat_ones_test), \n",
        "                     torch.stack(flat_twos_test), \n",
        "                     torch.stack(flat_threes_test), \n",
        "                     torch.stack(flat_fours_test), \n",
        "                     torch.stack(flat_fives_test), \n",
        "                     torch.stack(flat_sixes_test), \n",
        "                     torch.stack(flat_sevens_test), \n",
        "                     torch.stack(flat_eights_test), \n",
        "                     torch.stack(flat_nines_test)])\n",
        "\n",
        "test_y = tensor([0]*len(zeros_test)+ \n",
        "                 [1]*len(ones_test)+\n",
        "                 [2]*len(twos_test)+\n",
        "                 [3]*len(threes_test)+\n",
        "                 [4]*len(fours_test)+\n",
        "                 [5]*len(fives_test)+\n",
        "                 [6]*len(sixes_test)+\n",
        "                 [7]*len(sevens_test)+\n",
        "                 [8]*len(eights_test)+\n",
        "                 [9]*len(nines_test))"
      ],
      "execution_count": 17,
      "outputs": []
    },
    {
      "cell_type": "markdown",
      "metadata": {
        "id": "3HaSnp7Dxb6o"
      },
      "source": [
        "Running the model to check the results. Got a first hand understanding of how slow the computation is because of the loops"
      ]
    },
    {
      "cell_type": "code",
      "metadata": {
        "id": "zehP8lmZKzJ8"
      },
      "source": [
        "model = KNN(K=3)\n",
        "model.fit(train_x, train_y)\n",
        "pred = model.predict(test_x)\n",
        "\n",
        "from sklearn.metrics import accuracy_score\n",
        "accuracy_score(test_y, pred)\n",
        "\n"
      ],
      "execution_count": null,
      "outputs": []
    },
    {
      "cell_type": "code",
      "metadata": {
        "colab": {
          "base_uri": "https://localhost:8080/"
        },
        "id": "I6scJQ4LYB1R",
        "outputId": "73c073e4-b271-4a4e-8480-04628ab33434"
      },
      "source": [
        ""
      ],
      "execution_count": 24,
      "outputs": [
        {
          "output_type": "execute_result",
          "data": {
            "text/plain": [
              "1.0"
            ]
          },
          "metadata": {
            "tags": []
          },
          "execution_count": 24
        }
      ]
    },
    {
      "cell_type": "code",
      "metadata": {
        "colab": {
          "base_uri": "https://localhost:8080/"
        },
        "id": "wXZJO_MJYBym",
        "outputId": "e62f3902-cdba-4e8d-da6b-19059427659b"
      },
      "source": [
        "test_y[:100]\n"
      ],
      "execution_count": 26,
      "outputs": [
        {
          "output_type": "execute_result",
          "data": {
            "text/plain": [
              "tensor([0, 0, 0, 0, 0, 0, 0, 0, 0, 0, 0, 0, 0, 0, 0, 0, 0, 0, 0, 0, 0, 0, 0, 0, 0, 0, 0, 0, 0, 0, 0, 0, 0, 0, 0, 0, 0, 0, 0, 0, 0, 0, 0, 0, 0, 0, 0, 0, 0, 0, 0, 0, 0, 0, 0, 0, 0, 0, 0, 0, 0, 0, 0, 0,\n",
              "        0, 0, 0, 0, 0, 0, 0, 0, 0, 0, 0, 0, 0, 0, 0, 0, 0, 0, 0, 0, 0, 0, 0, 0, 0, 0, 0, 0, 0, 0, 0, 0, 0, 0, 0, 0])"
            ]
          },
          "metadata": {
            "tags": []
          },
          "execution_count": 26
        }
      ]
    },
    {
      "cell_type": "code",
      "metadata": {
        "colab": {
          "base_uri": "https://localhost:8080/",
          "height": 128
        },
        "id": "zSXon99rYBvu",
        "outputId": "eefb6b69-b43f-447f-b9bb-f96398d77cef"
      },
      "source": [
        ""
      ],
      "execution_count": 30,
      "outputs": [
        {
          "output_type": "error",
          "ename": "SyntaxError",
          "evalue": "ignored",
          "traceback": [
            "\u001b[0;36m  File \u001b[0;32m\"<ipython-input-30-4f51867d11e8>\"\u001b[0;36m, line \u001b[0;32m1\u001b[0m\n\u001b[0;31m    test_x[,0:100].shape\u001b[0m\n\u001b[0m           ^\u001b[0m\n\u001b[0;31mSyntaxError\u001b[0m\u001b[0;31m:\u001b[0m invalid syntax\n"
          ]
        }
      ]
    },
    {
      "cell_type": "code",
      "metadata": {
        "id": "DSbkKtyLLSND"
      },
      "source": [
        "print(len(three_tensors))\n",
        "print(three_tensors[0].shape)"
      ],
      "execution_count": null,
      "outputs": []
    },
    {
      "cell_type": "code",
      "metadata": {
        "id": "uNq8Z6hNOiym"
      },
      "source": [
        "three_tensors[0]"
      ],
      "execution_count": null,
      "outputs": []
    },
    {
      "cell_type": "code",
      "metadata": {
        "id": "MDQrqvhhLbla"
      },
      "source": [
        "len(three_tensors[0].flatten())"
      ],
      "execution_count": null,
      "outputs": []
    },
    {
      "cell_type": "code",
      "metadata": {
        "id": "DDk3hMp7OnKa"
      },
      "source": [
        ""
      ],
      "execution_count": null,
      "outputs": []
    }
  ]
}