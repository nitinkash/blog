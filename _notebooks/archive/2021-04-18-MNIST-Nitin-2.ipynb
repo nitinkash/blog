{
 "cells": [
  {
   "cell_type": "markdown",
   "metadata": {},
   "source": []
  },
  {
   "cell_type": "markdown",
   "metadata": {
    "id": "A22o5mjoJeTV"
   },
   "source": [
    "As recommeneded by Jeremy, I am writing this blog to deepen my understanding of Deep Learning. Here I am hoping to expand on the material presented in the fastai course and create a full blown MNIST classifier using fastai."
   ]
  },
  {
   "cell_type": "code",
   "execution_count": 1,
   "metadata": {
    "id": "ZeCEvTjaMVz_"
   },
   "outputs": [],
   "source": [
    "#hide\n",
    "!pip install -Uqq fastbook\n",
    "import fastbook\n",
    "fastbook.setup_book()"
   ]
  },
  {
   "cell_type": "code",
   "execution_count": 2,
   "metadata": {
    "id": "EIA9ZKm7Jaew"
   },
   "outputs": [],
   "source": [
    "from fastai.vision.all import *\n",
    "from fastbook import *\n",
    "\n",
    "matplotlib.rc('image', cmap='Greys')"
   ]
  },
  {
   "cell_type": "markdown",
   "metadata": {
    "id": "pkbcSqeqMV9H"
   },
   "source": [
    "Quite pissed that I ran into some issues in the import statement itself. After some googling in the fastai forums, I found that apparently the fastai version (v2) needs to be explicitly defined. Somehow the notebooks used in the course circumvents this. Anyway glad to have found the answer within a few minutes of googling. If you have this error just follow this: https://forums.fast.ai/t/modulenotfounderror-no-module-named-fastai-vision-all-on-kaggle-notebook/77008/13?u=nitinkashyap\n",
    "\n",
    "EDIT: Wrote the above part and then Colab on Google chrome crashed for the umpteenth time. I moved to Brave Browser and the original code works perfectly. Guess there was some issue with Google Chrome."
   ]
  },
  {
   "cell_type": "code",
   "execution_count": 3,
   "metadata": {
    "id": "fTQtjNoYMVKq"
   },
   "outputs": [],
   "source": [
    "import fastbook\n",
    "fastbook.setup_book()\n",
    "from fastai.vision.all import *\n",
    "from fastbook import *\n",
    "\n",
    "matplotlib.rc('image', cmap='Greys')"
   ]
  },
  {
   "cell_type": "code",
   "execution_count": 3,
   "metadata": {
    "id": "XMgED4cFL3-P"
   },
   "outputs": [],
   "source": []
  },
  {
   "cell_type": "markdown",
   "metadata": {
    "id": "6y4-JcSxea2i"
   },
   "source": [
    "I absolutely love how fastai has managed to improve the readability of python and provide such small elegant functions that used to be a pain for me to create on python jupyter notebooks before. Usually had about three or four lines of code that just set the input and output paths before. Using the untar_data to basically download the data from fastai's AWS S3 on to the working directory and decompress this. this function returns the path of the extracted files. SO SO Elegant!"
   ]
  },
  {
   "cell_type": "code",
   "execution_count": 14,
   "metadata": {
    "colab": {
     "base_uri": "https://localhost:8080/",
     "height": 17
    },
    "id": "4Hchd09FeDnQ",
    "outputId": "e0e1b902-b9ee-43bd-e2cd-3f59cefa1228"
   },
   "outputs": [
    {
     "data": {
      "text/html": [],
      "text/plain": [
       "<IPython.core.display.HTML object>"
      ]
     },
     "metadata": {
      "tags": []
     },
     "output_type": "display_data"
    }
   ],
   "source": [
    "path = untar_data(URLs.MNIST)\n",
    "Path.BASE_PATH = path"
   ]
  },
  {
   "cell_type": "markdown",
   "metadata": {
    "id": "XDBQaDQQfxnx"
   },
   "source": [
    "Another nifty little thing fastai has provided is to access the working directory directly on jupyter books using path.ls() \n",
    "\n",
    "```\n",
    "path.ls() \n",
    "```\n",
    "\n",
    "I remember toggling back and forth between the terminal and the jupyter notebook while working before. It's the little things like this that let you focus on the deep learning part of the process. \n",
    "\n",
    "Big thanks to the fastai team for including so many such features."
   ]
  },
  {
   "cell_type": "code",
   "execution_count": 15,
   "metadata": {
    "colab": {
     "base_uri": "https://localhost:8080/"
    },
    "id": "I3lFaNlleDkj",
    "outputId": "3ff7ed77-c079-4caf-c4d4-0e631a9e1afe"
   },
   "outputs": [
    {
     "data": {
      "text/plain": [
       "(#6) [Path('valid'),Path('test'),Path('labels.csv'),Path('process.txt'),Path('train'),Path('models')]"
      ]
     },
     "execution_count": 15,
     "metadata": {
      "tags": []
     },
     "output_type": "execute_result"
    }
   ],
   "source": [
    "path.ls()"
   ]
  },
  {
   "cell_type": "markdown",
   "metadata": {
    "id": "N68jColDhP0e"
   },
   "source": [
    "The MNIST dataset follows a common layout for machine learning datasets: separate folders for the training set and the validation set (and/or test set). Let's see what's inside the training set:"
   ]
  },
  {
   "cell_type": "code",
   "execution_count": 17,
   "metadata": {
    "colab": {
     "base_uri": "https://localhost:8080/"
    },
    "id": "J_iGnVVSS0b6",
    "outputId": "5176bd0c-d1c7-4fe6-9f94-455b59d9e426"
   },
   "outputs": [
    {
     "data": {
      "text/plain": [
       "(#20) [Path('test/6517.png'),Path('test/6335.png'),Path('test/4654.png'),Path('test/3515.png'),Path('test/2642.png'),Path('test/617.png'),Path('test/3878.png'),Path('test/6736.png'),Path('test/2032.png'),Path('test/3848.png')...]"
      ]
     },
     "execution_count": 17,
     "metadata": {
      "tags": []
     },
     "output_type": "execute_result"
    }
   ],
   "source": [
    "(path/'test').ls()"
   ]
  },
  {
   "cell_type": "code",
   "execution_count": 18,
   "metadata": {
    "colab": {
     "base_uri": "https://localhost:8080/"
    },
    "id": "UPEpwaXfeDhw",
    "outputId": "feb9225b-f480-4284-c025-b64d5af58e78"
   },
   "outputs": [
    {
     "data": {
      "text/plain": [
       "(#2) [Path('train/3'),Path('train/7')]"
      ]
     },
     "execution_count": 18,
     "metadata": {
      "tags": []
     },
     "output_type": "execute_result"
    }
   ],
   "source": [
    "(path/'train').ls()"
   ]
  },
  {
   "cell_type": "markdown",
   "metadata": {
    "id": "kuD-g3YFhSzH"
   },
   "source": [
    "There are separate folders for inages of each of the 10 digits. Doing this part by brute force, I am sure fastai has some cool functions to make this better. Will explore and update here:"
   ]
  },
  {
   "cell_type": "code",
   "execution_count": 9,
   "metadata": {
    "colab": {
     "base_uri": "https://localhost:8080/",
     "height": 374
    },
    "id": "8YUk6rZ6hUR5",
    "outputId": "bf6874a8-bd63-4a3d-eba5-3d01173410eb"
   },
   "outputs": [
    {
     "ename": "FileNotFoundError",
     "evalue": "ignored",
     "output_type": "error",
     "traceback": [
      "\u001b[0;31m---------------------------------------------------------------------------\u001b[0m",
      "\u001b[0;31mFileNotFoundError\u001b[0m                         Traceback (most recent call last)",
      "\u001b[0;32m<ipython-input-9-c4945584a276>\u001b[0m in \u001b[0;36m<module>\u001b[0;34m()\u001b[0m\n\u001b[0;32m----> 1\u001b[0;31m \u001b[0mones\u001b[0m \u001b[0;34m=\u001b[0m \u001b[0;34m(\u001b[0m\u001b[0mpath\u001b[0m\u001b[0;34m/\u001b[0m\u001b[0;34m'train'\u001b[0m\u001b[0;34m/\u001b[0m\u001b[0;34m'1'\u001b[0m\u001b[0;34m)\u001b[0m\u001b[0;34m.\u001b[0m\u001b[0mls\u001b[0m\u001b[0;34m(\u001b[0m\u001b[0;34m)\u001b[0m\u001b[0;34m.\u001b[0m\u001b[0msorted\u001b[0m\u001b[0;34m(\u001b[0m\u001b[0;34m)\u001b[0m\u001b[0;34m\u001b[0m\u001b[0;34m\u001b[0m\u001b[0m\n\u001b[0m\u001b[1;32m      2\u001b[0m \u001b[0mtwos\u001b[0m \u001b[0;34m=\u001b[0m \u001b[0;34m(\u001b[0m\u001b[0mpath\u001b[0m\u001b[0;34m/\u001b[0m\u001b[0;34m'train'\u001b[0m\u001b[0;34m/\u001b[0m\u001b[0;34m'2'\u001b[0m\u001b[0;34m)\u001b[0m\u001b[0;34m.\u001b[0m\u001b[0mls\u001b[0m\u001b[0;34m(\u001b[0m\u001b[0;34m)\u001b[0m\u001b[0;34m.\u001b[0m\u001b[0msorted\u001b[0m\u001b[0;34m(\u001b[0m\u001b[0;34m)\u001b[0m\u001b[0;34m\u001b[0m\u001b[0;34m\u001b[0m\u001b[0m\n\u001b[1;32m      3\u001b[0m \u001b[0mthrees\u001b[0m \u001b[0;34m=\u001b[0m \u001b[0;34m(\u001b[0m\u001b[0mpath\u001b[0m\u001b[0;34m/\u001b[0m\u001b[0;34m'train'\u001b[0m\u001b[0;34m/\u001b[0m\u001b[0;34m'3'\u001b[0m\u001b[0;34m)\u001b[0m\u001b[0;34m.\u001b[0m\u001b[0mls\u001b[0m\u001b[0;34m(\u001b[0m\u001b[0;34m)\u001b[0m\u001b[0;34m.\u001b[0m\u001b[0msorted\u001b[0m\u001b[0;34m(\u001b[0m\u001b[0;34m)\u001b[0m\u001b[0;34m\u001b[0m\u001b[0;34m\u001b[0m\u001b[0m\n\u001b[1;32m      4\u001b[0m \u001b[0mfours\u001b[0m \u001b[0;34m=\u001b[0m \u001b[0;34m(\u001b[0m\u001b[0mpath\u001b[0m\u001b[0;34m/\u001b[0m\u001b[0;34m'train'\u001b[0m\u001b[0;34m/\u001b[0m\u001b[0;34m'4'\u001b[0m\u001b[0;34m)\u001b[0m\u001b[0;34m.\u001b[0m\u001b[0mls\u001b[0m\u001b[0;34m(\u001b[0m\u001b[0;34m)\u001b[0m\u001b[0;34m.\u001b[0m\u001b[0msorted\u001b[0m\u001b[0;34m(\u001b[0m\u001b[0;34m)\u001b[0m\u001b[0;34m\u001b[0m\u001b[0;34m\u001b[0m\u001b[0m\n\u001b[1;32m      5\u001b[0m \u001b[0mfives\u001b[0m \u001b[0;34m=\u001b[0m \u001b[0;34m(\u001b[0m\u001b[0mpath\u001b[0m\u001b[0;34m/\u001b[0m\u001b[0;34m'train'\u001b[0m\u001b[0;34m/\u001b[0m\u001b[0;34m'5'\u001b[0m\u001b[0;34m)\u001b[0m\u001b[0;34m.\u001b[0m\u001b[0mls\u001b[0m\u001b[0;34m(\u001b[0m\u001b[0;34m)\u001b[0m\u001b[0;34m.\u001b[0m\u001b[0msorted\u001b[0m\u001b[0;34m(\u001b[0m\u001b[0;34m)\u001b[0m\u001b[0;34m\u001b[0m\u001b[0;34m\u001b[0m\u001b[0m\n",
      "\u001b[0;32m/usr/local/lib/python3.7/dist-packages/fastcore/xtras.py\u001b[0m in \u001b[0;36mls\u001b[0;34m(self, n_max, file_type, file_exts)\u001b[0m\n\u001b[1;32m    223\u001b[0m     \u001b[0mres\u001b[0m \u001b[0;34m=\u001b[0m \u001b[0;34m(\u001b[0m\u001b[0mo\u001b[0m \u001b[0;32mfor\u001b[0m \u001b[0mo\u001b[0m \u001b[0;32min\u001b[0m \u001b[0mself\u001b[0m\u001b[0;34m.\u001b[0m\u001b[0miterdir\u001b[0m\u001b[0;34m(\u001b[0m\u001b[0;34m)\u001b[0m \u001b[0;32mif\u001b[0m \u001b[0mhas_extns\u001b[0m \u001b[0;32mor\u001b[0m \u001b[0mo\u001b[0m\u001b[0;34m.\u001b[0m\u001b[0msuffix\u001b[0m \u001b[0;32min\u001b[0m \u001b[0mextns\u001b[0m\u001b[0;34m)\u001b[0m\u001b[0;34m\u001b[0m\u001b[0;34m\u001b[0m\u001b[0m\n\u001b[1;32m    224\u001b[0m     \u001b[0;32mif\u001b[0m \u001b[0mn_max\u001b[0m \u001b[0;32mis\u001b[0m \u001b[0;32mnot\u001b[0m \u001b[0;32mNone\u001b[0m\u001b[0;34m:\u001b[0m \u001b[0mres\u001b[0m \u001b[0;34m=\u001b[0m \u001b[0mitertools\u001b[0m\u001b[0;34m.\u001b[0m\u001b[0mislice\u001b[0m\u001b[0;34m(\u001b[0m\u001b[0mres\u001b[0m\u001b[0;34m,\u001b[0m \u001b[0mn_max\u001b[0m\u001b[0;34m)\u001b[0m\u001b[0;34m\u001b[0m\u001b[0;34m\u001b[0m\u001b[0m\n\u001b[0;32m--> 225\u001b[0;31m     \u001b[0;32mreturn\u001b[0m \u001b[0mL\u001b[0m\u001b[0;34m(\u001b[0m\u001b[0mres\u001b[0m\u001b[0;34m)\u001b[0m\u001b[0;34m\u001b[0m\u001b[0;34m\u001b[0m\u001b[0m\n\u001b[0m\u001b[1;32m    226\u001b[0m \u001b[0;34m\u001b[0m\u001b[0m\n\u001b[1;32m    227\u001b[0m \u001b[0;31m# Cell\u001b[0m\u001b[0;34m\u001b[0m\u001b[0;34m\u001b[0m\u001b[0;34m\u001b[0m\u001b[0m\n",
      "\u001b[0;32m/usr/local/lib/python3.7/dist-packages/fastcore/foundation.py\u001b[0m in \u001b[0;36m__call__\u001b[0;34m(cls, x, *args, **kwargs)\u001b[0m\n\u001b[1;32m     95\u001b[0m     \u001b[0;32mdef\u001b[0m \u001b[0m__call__\u001b[0m\u001b[0;34m(\u001b[0m\u001b[0mcls\u001b[0m\u001b[0;34m,\u001b[0m \u001b[0mx\u001b[0m\u001b[0;34m=\u001b[0m\u001b[0;32mNone\u001b[0m\u001b[0;34m,\u001b[0m \u001b[0;34m*\u001b[0m\u001b[0margs\u001b[0m\u001b[0;34m,\u001b[0m \u001b[0;34m**\u001b[0m\u001b[0mkwargs\u001b[0m\u001b[0;34m)\u001b[0m\u001b[0;34m:\u001b[0m\u001b[0;34m\u001b[0m\u001b[0;34m\u001b[0m\u001b[0m\n\u001b[1;32m     96\u001b[0m         \u001b[0;32mif\u001b[0m \u001b[0;32mnot\u001b[0m \u001b[0margs\u001b[0m \u001b[0;32mand\u001b[0m \u001b[0;32mnot\u001b[0m \u001b[0mkwargs\u001b[0m \u001b[0;32mand\u001b[0m \u001b[0mx\u001b[0m \u001b[0;32mis\u001b[0m \u001b[0;32mnot\u001b[0m \u001b[0;32mNone\u001b[0m \u001b[0;32mand\u001b[0m \u001b[0misinstance\u001b[0m\u001b[0;34m(\u001b[0m\u001b[0mx\u001b[0m\u001b[0;34m,\u001b[0m\u001b[0mcls\u001b[0m\u001b[0;34m)\u001b[0m\u001b[0;34m:\u001b[0m \u001b[0;32mreturn\u001b[0m \u001b[0mx\u001b[0m\u001b[0;34m\u001b[0m\u001b[0;34m\u001b[0m\u001b[0m\n\u001b[0;32m---> 97\u001b[0;31m         \u001b[0;32mreturn\u001b[0m \u001b[0msuper\u001b[0m\u001b[0;34m(\u001b[0m\u001b[0;34m)\u001b[0m\u001b[0;34m.\u001b[0m\u001b[0m__call__\u001b[0m\u001b[0;34m(\u001b[0m\u001b[0mx\u001b[0m\u001b[0;34m,\u001b[0m \u001b[0;34m*\u001b[0m\u001b[0margs\u001b[0m\u001b[0;34m,\u001b[0m \u001b[0;34m**\u001b[0m\u001b[0mkwargs\u001b[0m\u001b[0;34m)\u001b[0m\u001b[0;34m\u001b[0m\u001b[0;34m\u001b[0m\u001b[0m\n\u001b[0m\u001b[1;32m     98\u001b[0m \u001b[0;34m\u001b[0m\u001b[0m\n\u001b[1;32m     99\u001b[0m \u001b[0;31m# Cell\u001b[0m\u001b[0;34m\u001b[0m\u001b[0;34m\u001b[0m\u001b[0;34m\u001b[0m\u001b[0m\n",
      "\u001b[0;32m/usr/local/lib/python3.7/dist-packages/fastcore/foundation.py\u001b[0m in \u001b[0;36m__init__\u001b[0;34m(self, items, use_list, match, *rest)\u001b[0m\n\u001b[1;32m    103\u001b[0m     \u001b[0;32mdef\u001b[0m \u001b[0m__init__\u001b[0m\u001b[0;34m(\u001b[0m\u001b[0mself\u001b[0m\u001b[0;34m,\u001b[0m \u001b[0mitems\u001b[0m\u001b[0;34m=\u001b[0m\u001b[0;32mNone\u001b[0m\u001b[0;34m,\u001b[0m \u001b[0;34m*\u001b[0m\u001b[0mrest\u001b[0m\u001b[0;34m,\u001b[0m \u001b[0muse_list\u001b[0m\u001b[0;34m=\u001b[0m\u001b[0;32mFalse\u001b[0m\u001b[0;34m,\u001b[0m \u001b[0mmatch\u001b[0m\u001b[0;34m=\u001b[0m\u001b[0;32mNone\u001b[0m\u001b[0;34m)\u001b[0m\u001b[0;34m:\u001b[0m\u001b[0;34m\u001b[0m\u001b[0;34m\u001b[0m\u001b[0m\n\u001b[1;32m    104\u001b[0m         \u001b[0;32mif\u001b[0m \u001b[0;34m(\u001b[0m\u001b[0muse_list\u001b[0m \u001b[0;32mis\u001b[0m \u001b[0;32mnot\u001b[0m \u001b[0;32mNone\u001b[0m\u001b[0;34m)\u001b[0m \u001b[0;32mor\u001b[0m \u001b[0;32mnot\u001b[0m \u001b[0mis_array\u001b[0m\u001b[0;34m(\u001b[0m\u001b[0mitems\u001b[0m\u001b[0;34m)\u001b[0m\u001b[0;34m:\u001b[0m\u001b[0;34m\u001b[0m\u001b[0;34m\u001b[0m\u001b[0m\n\u001b[0;32m--> 105\u001b[0;31m             \u001b[0mitems\u001b[0m \u001b[0;34m=\u001b[0m \u001b[0mlistify\u001b[0m\u001b[0;34m(\u001b[0m\u001b[0mitems\u001b[0m\u001b[0;34m,\u001b[0m \u001b[0;34m*\u001b[0m\u001b[0mrest\u001b[0m\u001b[0;34m,\u001b[0m \u001b[0muse_list\u001b[0m\u001b[0;34m=\u001b[0m\u001b[0muse_list\u001b[0m\u001b[0;34m,\u001b[0m \u001b[0mmatch\u001b[0m\u001b[0;34m=\u001b[0m\u001b[0mmatch\u001b[0m\u001b[0;34m)\u001b[0m\u001b[0;34m\u001b[0m\u001b[0;34m\u001b[0m\u001b[0m\n\u001b[0m\u001b[1;32m    106\u001b[0m         \u001b[0msuper\u001b[0m\u001b[0;34m(\u001b[0m\u001b[0;34m)\u001b[0m\u001b[0;34m.\u001b[0m\u001b[0m__init__\u001b[0m\u001b[0;34m(\u001b[0m\u001b[0mitems\u001b[0m\u001b[0;34m)\u001b[0m\u001b[0;34m\u001b[0m\u001b[0;34m\u001b[0m\u001b[0m\n\u001b[1;32m    107\u001b[0m \u001b[0;34m\u001b[0m\u001b[0m\n",
      "\u001b[0;32m/usr/local/lib/python3.7/dist-packages/fastcore/basics.py\u001b[0m in \u001b[0;36mlistify\u001b[0;34m(o, use_list, match, *rest)\u001b[0m\n\u001b[1;32m     54\u001b[0m     \u001b[0;32melif\u001b[0m \u001b[0misinstance\u001b[0m\u001b[0;34m(\u001b[0m\u001b[0mo\u001b[0m\u001b[0;34m,\u001b[0m \u001b[0mlist\u001b[0m\u001b[0;34m)\u001b[0m\u001b[0;34m:\u001b[0m \u001b[0mres\u001b[0m \u001b[0;34m=\u001b[0m \u001b[0mo\u001b[0m\u001b[0;34m\u001b[0m\u001b[0;34m\u001b[0m\u001b[0m\n\u001b[1;32m     55\u001b[0m     \u001b[0;32melif\u001b[0m \u001b[0misinstance\u001b[0m\u001b[0;34m(\u001b[0m\u001b[0mo\u001b[0m\u001b[0;34m,\u001b[0m \u001b[0mstr\u001b[0m\u001b[0;34m)\u001b[0m \u001b[0;32mor\u001b[0m \u001b[0mis_array\u001b[0m\u001b[0;34m(\u001b[0m\u001b[0mo\u001b[0m\u001b[0;34m)\u001b[0m\u001b[0;34m:\u001b[0m \u001b[0mres\u001b[0m \u001b[0;34m=\u001b[0m \u001b[0;34m[\u001b[0m\u001b[0mo\u001b[0m\u001b[0;34m]\u001b[0m\u001b[0;34m\u001b[0m\u001b[0;34m\u001b[0m\u001b[0m\n\u001b[0;32m---> 56\u001b[0;31m     \u001b[0;32melif\u001b[0m \u001b[0mis_iter\u001b[0m\u001b[0;34m(\u001b[0m\u001b[0mo\u001b[0m\u001b[0;34m)\u001b[0m\u001b[0;34m:\u001b[0m \u001b[0mres\u001b[0m \u001b[0;34m=\u001b[0m \u001b[0mlist\u001b[0m\u001b[0;34m(\u001b[0m\u001b[0mo\u001b[0m\u001b[0;34m)\u001b[0m\u001b[0;34m\u001b[0m\u001b[0;34m\u001b[0m\u001b[0m\n\u001b[0m\u001b[1;32m     57\u001b[0m     \u001b[0;32melse\u001b[0m\u001b[0;34m:\u001b[0m \u001b[0mres\u001b[0m \u001b[0;34m=\u001b[0m \u001b[0;34m[\u001b[0m\u001b[0mo\u001b[0m\u001b[0;34m]\u001b[0m\u001b[0;34m\u001b[0m\u001b[0;34m\u001b[0m\u001b[0m\n\u001b[1;32m     58\u001b[0m     \u001b[0;32mif\u001b[0m \u001b[0mmatch\u001b[0m \u001b[0;32mis\u001b[0m \u001b[0;32mnot\u001b[0m \u001b[0;32mNone\u001b[0m\u001b[0;34m:\u001b[0m\u001b[0;34m\u001b[0m\u001b[0;34m\u001b[0m\u001b[0m\n",
      "\u001b[0;32m/usr/local/lib/python3.7/dist-packages/fastcore/xtras.py\u001b[0m in \u001b[0;36m<genexpr>\u001b[0;34m(.0)\u001b[0m\n\u001b[1;32m    221\u001b[0m     \u001b[0;32mif\u001b[0m \u001b[0mfile_type\u001b[0m\u001b[0;34m:\u001b[0m \u001b[0mextns\u001b[0m \u001b[0;34m+=\u001b[0m \u001b[0mL\u001b[0m\u001b[0;34m(\u001b[0m\u001b[0mk\u001b[0m \u001b[0;32mfor\u001b[0m \u001b[0mk\u001b[0m\u001b[0;34m,\u001b[0m\u001b[0mv\u001b[0m \u001b[0;32min\u001b[0m \u001b[0mmimetypes\u001b[0m\u001b[0;34m.\u001b[0m\u001b[0mtypes_map\u001b[0m\u001b[0;34m.\u001b[0m\u001b[0mitems\u001b[0m\u001b[0;34m(\u001b[0m\u001b[0;34m)\u001b[0m \u001b[0;32mif\u001b[0m \u001b[0mv\u001b[0m\u001b[0;34m.\u001b[0m\u001b[0mstartswith\u001b[0m\u001b[0;34m(\u001b[0m\u001b[0mfile_type\u001b[0m\u001b[0;34m+\u001b[0m\u001b[0;34m'/'\u001b[0m\u001b[0;34m)\u001b[0m\u001b[0;34m)\u001b[0m\u001b[0;34m\u001b[0m\u001b[0;34m\u001b[0m\u001b[0m\n\u001b[1;32m    222\u001b[0m     \u001b[0mhas_extns\u001b[0m \u001b[0;34m=\u001b[0m \u001b[0mlen\u001b[0m\u001b[0;34m(\u001b[0m\u001b[0mextns\u001b[0m\u001b[0;34m)\u001b[0m\u001b[0;34m==\u001b[0m\u001b[0;36m0\u001b[0m\u001b[0;34m\u001b[0m\u001b[0;34m\u001b[0m\u001b[0m\n\u001b[0;32m--> 223\u001b[0;31m     \u001b[0mres\u001b[0m \u001b[0;34m=\u001b[0m \u001b[0;34m(\u001b[0m\u001b[0mo\u001b[0m \u001b[0;32mfor\u001b[0m \u001b[0mo\u001b[0m \u001b[0;32min\u001b[0m \u001b[0mself\u001b[0m\u001b[0;34m.\u001b[0m\u001b[0miterdir\u001b[0m\u001b[0;34m(\u001b[0m\u001b[0;34m)\u001b[0m \u001b[0;32mif\u001b[0m \u001b[0mhas_extns\u001b[0m \u001b[0;32mor\u001b[0m \u001b[0mo\u001b[0m\u001b[0;34m.\u001b[0m\u001b[0msuffix\u001b[0m \u001b[0;32min\u001b[0m \u001b[0mextns\u001b[0m\u001b[0;34m)\u001b[0m\u001b[0;34m\u001b[0m\u001b[0;34m\u001b[0m\u001b[0m\n\u001b[0m\u001b[1;32m    224\u001b[0m     \u001b[0;32mif\u001b[0m \u001b[0mn_max\u001b[0m \u001b[0;32mis\u001b[0m \u001b[0;32mnot\u001b[0m \u001b[0;32mNone\u001b[0m\u001b[0;34m:\u001b[0m \u001b[0mres\u001b[0m \u001b[0;34m=\u001b[0m \u001b[0mitertools\u001b[0m\u001b[0;34m.\u001b[0m\u001b[0mislice\u001b[0m\u001b[0;34m(\u001b[0m\u001b[0mres\u001b[0m\u001b[0;34m,\u001b[0m \u001b[0mn_max\u001b[0m\u001b[0;34m)\u001b[0m\u001b[0;34m\u001b[0m\u001b[0;34m\u001b[0m\u001b[0m\n\u001b[1;32m    225\u001b[0m     \u001b[0;32mreturn\u001b[0m \u001b[0mL\u001b[0m\u001b[0;34m(\u001b[0m\u001b[0mres\u001b[0m\u001b[0;34m)\u001b[0m\u001b[0;34m\u001b[0m\u001b[0;34m\u001b[0m\u001b[0m\n",
      "\u001b[0;32m/usr/lib/python3.7/pathlib.py\u001b[0m in \u001b[0;36miterdir\u001b[0;34m(self)\u001b[0m\n\u001b[1;32m   1105\u001b[0m         \u001b[0;32mif\u001b[0m \u001b[0mself\u001b[0m\u001b[0;34m.\u001b[0m\u001b[0m_closed\u001b[0m\u001b[0;34m:\u001b[0m\u001b[0;34m\u001b[0m\u001b[0;34m\u001b[0m\u001b[0m\n\u001b[1;32m   1106\u001b[0m             \u001b[0mself\u001b[0m\u001b[0;34m.\u001b[0m\u001b[0m_raise_closed\u001b[0m\u001b[0;34m(\u001b[0m\u001b[0;34m)\u001b[0m\u001b[0;34m\u001b[0m\u001b[0;34m\u001b[0m\u001b[0m\n\u001b[0;32m-> 1107\u001b[0;31m         \u001b[0;32mfor\u001b[0m \u001b[0mname\u001b[0m \u001b[0;32min\u001b[0m \u001b[0mself\u001b[0m\u001b[0;34m.\u001b[0m\u001b[0m_accessor\u001b[0m\u001b[0;34m.\u001b[0m\u001b[0mlistdir\u001b[0m\u001b[0;34m(\u001b[0m\u001b[0mself\u001b[0m\u001b[0;34m)\u001b[0m\u001b[0;34m:\u001b[0m\u001b[0;34m\u001b[0m\u001b[0;34m\u001b[0m\u001b[0m\n\u001b[0m\u001b[1;32m   1108\u001b[0m             \u001b[0;32mif\u001b[0m \u001b[0mname\u001b[0m \u001b[0;32min\u001b[0m \u001b[0;34m{\u001b[0m\u001b[0;34m'.'\u001b[0m\u001b[0;34m,\u001b[0m \u001b[0;34m'..'\u001b[0m\u001b[0;34m}\u001b[0m\u001b[0;34m:\u001b[0m\u001b[0;34m\u001b[0m\u001b[0;34m\u001b[0m\u001b[0m\n\u001b[1;32m   1109\u001b[0m                 \u001b[0;31m# Yielding a path object for these makes little sense\u001b[0m\u001b[0;34m\u001b[0m\u001b[0;34m\u001b[0m\u001b[0;34m\u001b[0m\u001b[0m\n",
      "\u001b[0;31mFileNotFoundError\u001b[0m: [Errno 2] No such file or directory: '/root/.fastai/data/mnist_tiny/train/1'"
     ]
    }
   ],
   "source": [
    "ones = (path/'train'/'1').ls().sorted()\n",
    "twos = (path/'train'/'2').ls().sorted()\n",
    "threes = (path/'train'/'3').ls().sorted()\n",
    "fours = (path/'train'/'4').ls().sorted()\n",
    "fives = (path/'train'/'5').ls().sorted()\n",
    "sixes = (path/'train'/'6').ls().sorted()\n",
    "sevens = (path/'train'/'7').ls().sorted()\n",
    "eights = (path/'train'/'8').ls().sorted()\n",
    "nines = (path/'train'/'9').ls().sorted()\n",
    "zeros = (path/'train'/'0').ls().sorted()"
   ]
  },
  {
   "cell_type": "code",
   "execution_count": null,
   "metadata": {
    "id": "Effv8E2CfvVd"
   },
   "outputs": [],
   "source": [
    "im5 = Image.open(fives[0])\n",
    "im5"
   ]
  },
  {
   "cell_type": "code",
   "execution_count": null,
   "metadata": {
    "id": "a_fI0jUteDe-"
   },
   "outputs": [],
   "source": [
    "Image??"
   ]
  },
  {
   "cell_type": "markdown",
   "metadata": {
    "id": "VwPJxaN8iqVl"
   },
   "source": [
    "Here the `Image` class from the *Python Imaging Library* (PIL) is used. This is a Python package for opening, manipulating, and viewing images.\n",
    "\n",
    "Lets convert these Images to a Tensor so that we can create our model"
   ]
  },
  {
   "cell_type": "code",
   "execution_count": null,
   "metadata": {
    "id": "lLu5fI52ByWz"
   },
   "outputs": [],
   "source": [
    "zero_tensors = [tensor(Image.open(o)) for o in zeros]\n",
    "one_tensors = [tensor(Image.open(o)) for o in ones]\n",
    "two_tensors = [tensor(Image.open(o)) for o in twos]\n",
    "three_tensors = [tensor(Image.open(o)) for o in threes]\n",
    "four_tensors = [tensor(Image.open(o)) for o in fours]\n",
    "five_tensors = [tensor(Image.open(o)) for o in fives]\n",
    "six_tensors = [tensor(Image.open(o)) for o in sixes]\n",
    "seven_tensors = [tensor(Image.open(o)) for o in sevens]\n",
    "eight_tensors = [tensor(Image.open(o)) for o in eights]\n",
    "nine_tensors = [tensor(Image.open(o)) for o in nines]\n"
   ]
  },
  {
   "cell_type": "markdown",
   "metadata": {
    "id": "iJl8A6DGBymR"
   },
   "source": [
    "### Building the Baseline Model: KNN"
   ]
  },
  {
   "cell_type": "markdown",
   "metadata": {
    "id": "N88KDCaakLyE"
   },
   "source": [
    "One of the things emphasized in the fastai course is the need to first create a baseline model. Having an accuracy of over 90% means nothing if a simple arithmetic model has an accuracy of 95%. I have also created many fancy machine learning models only to find that using a simpler model performed far better. A model is useless if it fails to beat a simple benchmark. While it's tempting to rush in and start writing in some fancy code, it might be a good idea to create a simple baseline model to assess the quality of the model's accuracy. Here is the description of a Baseline model from the fastai course:\n",
    "\n",
    "> jargon: Baseline: A simple model which you are confident should perform reasonably well. It should be very simple to implement, and very easy to test, so that you can then test each of your improved ideas, and make sure they are always better than your baseline. Without starting with a sensible baseline, it is very difficult to know whether your super-fancy models are actually any good. One good approach to creating a baseline is doing what we have done here: think of a simple, easy-to-implement model. Another good approach is to search around to find other people that have solved similar problems to yours, and download and run their code on your dataset. Ideally, try both of these!\n",
    "\n",
    "As the MNSIT I am trying to do is a bit more complex than the sample MNSIT example in lesson 4 of the course. I am going to try and build a simple KNN Classifier and see how well this performs and hopefully should be able to get a better result using Deep Learning. This will also give me an opportunity of using Tensors to build a KNN\n",
    "\n"
   ]
  },
  {
   "cell_type": "markdown",
   "metadata": {
    "id": "MJenTdC0E3il"
   },
   "source": []
  },
  {
   "cell_type": "code",
   "execution_count": null,
   "metadata": {
    "id": "Xnci3MZReDcb"
   },
   "outputs": [],
   "source": [
    "def euc_dist(x1, x2):\n",
    "  return torch.sqrt(torch.sum((x1-x2)**2))"
   ]
  },
  {
   "cell_type": "code",
   "execution_count": null,
   "metadata": {
    "id": "ygcJkUBgMo71"
   },
   "outputs": [],
   "source": []
  },
  {
   "cell_type": "code",
   "execution_count": null,
   "metadata": {
    "id": "gyuk6-P2Moxi"
   },
   "outputs": [],
   "source": []
  },
  {
   "cell_type": "markdown",
   "metadata": {
    "id": "31dXw6k7RUir"
   },
   "source": [
    "This script will need a way to create X and Y datasets"
   ]
  },
  {
   "cell_type": "code",
   "execution_count": null,
   "metadata": {
    "id": "vQuMQrNiHHD8"
   },
   "outputs": [],
   "source": [
    "flat_zeros = [o.flatten().float()/255 for o in zero_tensors]\n",
    "flat_ones = [o.flatten().float()/255 for o in one_tensors]\n",
    "flat_twos = [o.flatten().float()/255 for o in two_tensors]\n",
    "flat_threes = [o.flatten().float()/255 for o in three_tensors]\n",
    "flat_fours = [o.flatten().float()/255 for o in four_tensors]\n",
    "flat_fives = [o.flatten().float()/255 for o in five_tensors]\n",
    "flat_sixes = [o.flatten().float()/255 for o in six_tensors]\n",
    "flat_sevens = [o.flatten().float()/255 for o in seven_tensors]\n",
    "flat_eights = [o.flatten().float()/255 for o in eight_tensors]\n",
    "flat_nines = [o.flatten().float()/255 for o in nine_tensors]"
   ]
  },
  {
   "cell_type": "code",
   "execution_count": null,
   "metadata": {
    "id": "fHCauHInSSLL"
   },
   "outputs": [],
   "source": [
    "train_x = torch.cat([torch.stack(flat_zeros), \n",
    "                     torch.stack(flat_ones), \n",
    "                     torch.stack(flat_twos), \n",
    "                     torch.stack(flat_threes), \n",
    "                     torch.stack(flat_fours), \n",
    "                     torch.stack(flat_fives), \n",
    "                     torch.stack(flat_sixes), \n",
    "                     torch.stack(flat_sevens), \n",
    "                     torch.stack(flat_eights), \n",
    "                     torch.stack(flat_nines)])"
   ]
  },
  {
   "cell_type": "code",
   "execution_count": null,
   "metadata": {
    "id": "B1qxK5N6SSIX"
   },
   "outputs": [],
   "source": [
    "train_y = tensor([0]*len(zeros)+ \n",
    "                 [1]*len(ones)+\n",
    "                 [2]*len(twos)+\n",
    "                 [3]*len(threes)+\n",
    "                 [4]*len(fours)+\n",
    "                 [5]*len(fives)+\n",
    "                 [6]*len(sixes)+\n",
    "                 [7]*len(sevens)+\n",
    "                 [8]*len(eights)+\n",
    "                 [9]*len(nines))"
   ]
  },
  {
   "cell_type": "markdown",
   "metadata": {
    "id": "2yq6SJlYwdX_"
   },
   "source": [
    "Doing the same for the testing data"
   ]
  },
  {
   "cell_type": "code",
   "execution_count": null,
   "metadata": {
    "id": "V683PXbfYB4G"
   },
   "outputs": [],
   "source": [
    "ones_test = (path/'testing'/'1').ls().sorted()\n",
    "twos_test = (path/'testing'/'2').ls().sorted()\n",
    "threes_test = (path/'testing'/'3').ls().sorted()\n",
    "fours_test = (path/'testing'/'4').ls().sorted()\n",
    "fives_test = (path/'testing'/'5').ls().sorted()\n",
    "sixes_test = (path/'testing'/'6').ls().sorted()\n",
    "sevens_test = (path/'testing'/'7').ls().sorted()\n",
    "eights_test = (path/'testing'/'8').ls().sorted()\n",
    "nines_test = (path/'testing'/'9').ls().sorted()\n",
    "zeros_test = (path/'testing'/'0').ls().sorted()\n",
    "\n",
    "\n",
    "zero_tensors_test = [tensor(Image.open(o)) for o in zeros_test]\n",
    "one_tensors_test = [tensor(Image.open(o)) for o in ones_test]\n",
    "two_tensors_test = [tensor(Image.open(o)) for o in twos_test]\n",
    "three_tensors_test = [tensor(Image.open(o)) for o in threes_test]\n",
    "four_tensors_test = [tensor(Image.open(o)) for o in fours_test]\n",
    "five_tensors_test = [tensor(Image.open(o)) for o in fives_test]\n",
    "six_tensors_test = [tensor(Image.open(o)) for o in sixes_test]\n",
    "seven_tensors_test = [tensor(Image.open(o)) for o in sevens_test]\n",
    "eight_tensors_test = [tensor(Image.open(o)) for o in eights_test]\n",
    "nine_tensors_test = [tensor(Image.open(o)) for o in nines_test]\n",
    "\n",
    "flat_zeros_test = [o.flatten().float()/255 for o in zero_tensors_test]\n",
    "flat_ones_test = [o.flatten().float()/255 for o in one_tensors_test]\n",
    "flat_twos_test = [o.flatten().float()/255 for o in two_tensors_test]\n",
    "flat_threes_test = [o.flatten().float()/255 for o in three_tensors_test]\n",
    "flat_fours_test = [o.flatten().float()/255 for o in four_tensors_test]\n",
    "flat_fives_test = [o.flatten().float()/255 for o in five_tensors_test]\n",
    "flat_sixes_test = [o.flatten().float()/255 for o in six_tensors_test]\n",
    "flat_sevens_test = [o.flatten().float()/255 for o in seven_tensors_test]\n",
    "flat_eights_test = [o.flatten().float()/255 for o in eight_tensors_test]\n",
    "flat_nines_test = [o.flatten().float()/255 for o in nine_tensors_test]\n",
    "\n",
    "test_x = torch.cat([torch.stack(flat_zeros_test), \n",
    "                     torch.stack(flat_ones_test), \n",
    "                     torch.stack(flat_twos_test), \n",
    "                     torch.stack(flat_threes_test), \n",
    "                     torch.stack(flat_fours_test), \n",
    "                     torch.stack(flat_fives_test), \n",
    "                     torch.stack(flat_sixes_test), \n",
    "                     torch.stack(flat_sevens_test), \n",
    "                     torch.stack(flat_eights_test), \n",
    "                     torch.stack(flat_nines_test)])\n",
    "\n",
    "test_y = tensor([0]*len(zeros_test)+ \n",
    "                 [1]*len(ones_test)+\n",
    "                 [2]*len(twos_test)+\n",
    "                 [3]*len(threes_test)+\n",
    "                 [4]*len(fours_test)+\n",
    "                 [5]*len(fives_test)+\n",
    "                 [6]*len(sixes_test)+\n",
    "                 [7]*len(sevens_test)+\n",
    "                 [8]*len(eights_test)+\n",
    "                 [9]*len(nines_test))"
   ]
  },
  {
   "cell_type": "markdown",
   "metadata": {
    "id": "3HaSnp7Dxb6o"
   },
   "source": [
    "Running the model to check the results. Got a first hand understanding of how slow the computation is because of the loops"
   ]
  },
  {
   "cell_type": "code",
   "execution_count": null,
   "metadata": {
    "id": "N8N-h6jsmYSr"
   },
   "outputs": [],
   "source": [
    "class KNN:\n",
    "    def __init__(self, K=3):\n",
    "        self.K=3\n",
    "  \n",
    "    def fit(self, x_train, y_train):\n",
    "        self.X_train = x_train\n",
    "        self.y_train = y_train\n",
    "  \n",
    "    def old_predict(self, X_test):\n",
    "        predictions = []\n",
    "        for i in range(len(X_test)):\n",
    "            #dist = torch.tensor([euc_dist(X_test[i], x_t) for x_t in self.X_train])\n",
    "            dist = torch.tensor([torch.dist(X_test[i], x_t, p=2) for x_t in self.X_train])\n",
    "            dist_sorted = torch.argsort(dist)[:self.K]\n",
    "            neigh_count = {}\n",
    "            for idx in dist_sorted:\n",
    "                if self.y_train[idx] in neigh_count:\n",
    "                    neigh_count[self.y_train[idx]] += 1\n",
    "                else:\n",
    "                    neigh_count[self.y_train[idx]] = 1\n",
    "\n",
    "            sorted_neigh_count = sorted(neigh_count.items(), key=operator.itemgetter(1), reverse=True)\n",
    "            predictions.append(sorted_neigh_count[0][0]) \n",
    "        return predictions       \n",
    "\n",
    "        def predict(self, X_test):\n",
    "        predictions = []\n",
    "        for i in range(len(X_test)):\n",
    "            #dist = torch.tensor([euc_dist(X_test[i], x_t) for x_t in self.X_train])\n",
    "            dist = torch.tensor([torch.dist(X_test[i], x_t, p=2) for x_t in self.X_train])\n",
    "            dist_sorted = torch.argsort(dist)[:self.K]\n",
    "            neigh_count = {}\n",
    "            for idx in dist_sorted:\n",
    "                if self.y_train[idx] in neigh_count:\n",
    "                    neigh_count[self.y_train[idx]] += 1\n",
    "                else:\n",
    "                    neigh_count[self.y_train[idx]] = 1\n",
    "\n",
    "            sorted_neigh_count = sorted(neigh_count.items(), key=operator.itemgetter(1), reverse=True)\n",
    "            predictions.append(sorted_neigh_count[0][0]) \n",
    "        return predictions       "
   ]
  },
  {
   "cell_type": "code",
   "execution_count": null,
   "metadata": {
    "id": "zehP8lmZKzJ8"
   },
   "outputs": [],
   "source": [
    "model = KNN(K=3)\n",
    "model.fit(train_x, train_y)\n",
    "pred = model.predict(test_x)\n",
    "\n",
    "from sklearn.metrics import accuracy_score\n",
    "accuracy_score(test_y, pred)\n",
    "\n"
   ]
  },
  {
   "cell_type": "code",
   "execution_count": null,
   "metadata": {
    "id": "I6scJQ4LYB1R"
   },
   "outputs": [],
   "source": []
  },
  {
   "cell_type": "code",
   "execution_count": null,
   "metadata": {
    "id": "wXZJO_MJYBym"
   },
   "outputs": [],
   "source": [
    "test_y[:100]\n"
   ]
  },
  {
   "cell_type": "code",
   "execution_count": null,
   "metadata": {
    "id": "DSbkKtyLLSND"
   },
   "outputs": [],
   "source": [
    "print(len(three_tensors))\n",
    "print(three_tensors[0].shape)"
   ]
  },
  {
   "cell_type": "code",
   "execution_count": null,
   "metadata": {
    "id": "uNq8Z6hNOiym"
   },
   "outputs": [],
   "source": [
    "three_tensors[0]"
   ]
  },
  {
   "cell_type": "code",
   "execution_count": null,
   "metadata": {
    "id": "MDQrqvhhLbla"
   },
   "outputs": [],
   "source": [
    "len(three_tensors[0].flatten())"
   ]
  },
  {
   "cell_type": "code",
   "execution_count": null,
   "metadata": {
    "id": "DDk3hMp7OnKa"
   },
   "outputs": [],
   "source": []
  }
 ],
 "metadata": {
  "accelerator": "GPU",
  "colab": {
   "collapsed_sections": [],
   "name": "MNIST_Nitin.ipynb",
   "provenance": []
  },
  "kernelspec": {
   "display_name": "Python 3",
   "language": "python",
   "name": "python3"
  },
  "language_info": {
   "codemirror_mode": {
    "name": "ipython",
    "version": 3
   },
   "file_extension": ".py",
   "mimetype": "text/x-python",
   "name": "python",
   "nbconvert_exporter": "python",
   "pygments_lexer": "ipython3",
   "version": "3.8.0"
  }
 },
 "nbformat": 4,
 "nbformat_minor": 1
}
